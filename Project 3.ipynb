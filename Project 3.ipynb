{
 "cells": [
  {
   "cell_type": "markdown",
   "metadata": {},
   "source": [
    "# Project 3 INF264\n",
    "\n",
    "Author: Johanna Jøsang (fak006)"
   ]
  },
  {
   "cell_type": "code",
   "execution_count": 1,
   "metadata": {},
   "outputs": [],
   "source": [
    "# Imports\n",
    "import pandas as pd\n",
    "import numpy as np\n",
    "import collections\n",
    "from pprint import pprint\n",
    "import matplotlib.pyplot as plt\n",
    "import random\n",
    "import timeit\n",
    "from pprint import pprint\n",
    "from sklearn.model_selection import train_test_split, KFold, cross_val_score\n",
    "from sklearn.tree import DecisionTreeClassifier\n",
    "from sklearn.ensemble import RandomForestClassifier\n",
    "from sklearn.model_selection import RandomizedSearchCV\n",
    "from sklearn.model_selection import GridSearchCV\n",
    "from sklearn.neighbors import KNeighborsClassifier\n",
    "\n",
    "\n",
    "# LeNet-5 imports\n",
    "from keras.layers.convolutional import Conv2D\n",
    "from keras.layers.convolutional import AveragePooling2D\n",
    "from keras.layers.core import Activation\n",
    "from keras.layers.core import Flatten\n",
    "from keras.layers.core import Dense\n",
    "from keras.models import Sequential\n",
    "from keras.optimizers import SGD\n",
    "from keras.utils import np_utils"
   ]
  },
  {
   "cell_type": "code",
   "execution_count": 2,
   "metadata": {},
   "outputs": [],
   "source": [
    "# Load data\n",
    "label_data = np.genfromtxt('handwritten_digits_labels.csv', delimiter=',')\n",
    "image_data = np.genfromtxt('handwritten_digits_images.csv', delimiter=',')\n",
    "image_data = image_data.reshape(image_data.shape[0], 28, 28) # reshaping data"
   ]
  },
  {
   "cell_type": "markdown",
   "metadata": {},
   "source": [
    "## Visualisation and preprocessing\n",
    "\n",
    "In order to get a better understanding of the data I have been given, I start by gathering information about it.\n",
    "First I would like to get a look at the shape of the data."
   ]
  },
  {
   "cell_type": "code",
   "execution_count": 3,
   "metadata": {},
   "outputs": [
    {
     "name": "stdout",
     "output_type": "stream",
     "text": [
      "Label data shape: (70000,)\n",
      "Image data shape: (70000, 28, 28)\n"
     ]
    }
   ],
   "source": [
    "print(\"Label data shape:\", label_data.shape)\n",
    "print(\"Image data shape:\", image_data.shape)"
   ]
  },
  {
   "cell_type": "markdown",
   "metadata": {},
   "source": [
    "As expected, the label dataset is a simple array with 70000 values, while the image dataset has 70000 2d arrays represetning the digit image.\n",
    "\n",
    "Just to visalize the data for myself I print out a random image and its corresponding label."
   ]
  },
  {
   "cell_type": "code",
   "execution_count": 4,
   "metadata": {},
   "outputs": [
    {
     "name": "stdout",
     "output_type": "stream",
     "text": [
      "At index 35075 there is a 4.0\n"
     ]
    },
    {
     "data": {
      "image/png": "[encoded data removed]",
      "text/plain": [
       "<Figure size 432x288 with 1 Axes>"
      ]
     },
     "metadata": {
      "needs_background": "light"
     },
     "output_type": "display_data"
    }
   ],
   "source": [
    "data_index = random.randint(0, label_data.size)\n",
    "img = image_data[data_index]\n",
    "plt.imshow(img, cmap=\"Greys\")\n",
    "print(\"At index\", data_index, \"there is a\", label_data[data_index])"
   ]
  },
  {
   "cell_type": "markdown",
   "metadata": {},
   "source": [
    "### Digit distribution\n",
    "\n",
    "In order to find out how the data is distributed between the 10 digits, I print out the frequency, percentages and a histogram to see the distribution."
   ]
  },
  {
   "cell_type": "code",
   "execution_count": 5,
   "metadata": {},
   "outputs": [
    {
     "name": "stdout",
     "output_type": "stream",
     "text": [
      "Counter({1.0: 7877, 7.0: 7293, 3.0: 7141, 2.0: 6990, 9.0: 6958, 0.0: 6903, 6.0: 6876, 8.0: 6825, 4.0: 6824, 5.0: 6313})\n",
      "0 :  9.86 %\n",
      "1 :  11.25 %\n",
      "2 :  9.99 %\n",
      "3 :  10.20 %\n",
      "4 :  9.75 %\n",
      "5 :  9.02 %\n",
      "6 :  9.82 %\n",
      "7 :  10.42 %\n",
      "8 :  9.75 %\n",
      "9 :  9.94 %\n",
      "Min freq is 5 with 9.02 %\n",
      "Max freq is 1 with 11.25 %\n"
     ]
    }
   ],
   "source": [
    "# Count number of examples for each digit\n",
    "label_counter = collections.Counter(label_data)\n",
    "print(label_counter)\n",
    "\n",
    "# Print out the percentages for each digit\n",
    "label_data_size = label_data.size\n",
    "for i in range(10):\n",
    "    percentage = (label_counter[i] / label_data_size) * 100\n",
    "    print(i, \": \", \"%.2f\" % percentage, \"%\")\n",
    "    \n",
    "# Print min and max, which can easily be count ince label_counter is sorted by frequency\n",
    "print(\"Min freq is 5 with\", \"%.2f\" % ((label_counter[5] / label_data_size) * 100), \"%\")\n",
    "print(\"Max freq is 1 with\", \"%.2f\" % ((label_counter[1] / label_data_size) * 100), \"%\")"
   ]
  },
  {
   "cell_type": "code",
   "execution_count": 47,
   "metadata": {},
   "outputs": [
    {
     "data": {
      "image/png": "[encoded data removed]",
      "text/plain": [
       "<Figure size 1080x360 with 1 Axes>"
      ]
     },
     "metadata": {
      "needs_background": "light"
     },
     "output_type": "display_data"
    }
   ],
   "source": [
    "# Histogram\n",
    "names = list(label_counter.keys())\n",
    "values = list(label_counter.values())\n",
    "fig = plt.figure(figsize=(15,5))\n",
    "plt.bar(names, values, color=['red', 'grey', 'orange', 'green', 'purple', 'brown', 'blue', 'pink', 'olive', 'gold'])\n",
    "plt.xticks(np.arange(0, 10))\n",
    "plt.ylabel('Frequency')\n",
    "plt.xlabel('Label')\n",
    "plt.title(\"Digit frequency\");"
   ]
  },
  {
   "cell_type": "markdown",
   "metadata": {},
   "source": [
    "All digits have about 10% of the data, so it does not seem like the dataset needs to be balanced. The least frequent digit was 5 (9.02 %) and the most frequent was 1 (11.25 %). If our trained classifiers become much worse at categorizing 5s compared to 1s then we can perhaps go back and balance the data."
   ]
  },
  {
   "cell_type": "code",
   "execution_count": 7,
   "metadata": {},
   "outputs": [],
   "source": [
    "seed = 123\n",
    "X_train_val, X_test, y_train_val, y_test = train_test_split(image_data, label_data, test_size=0.1, shuffle=True, random_state=seed)\n",
    "X_train, X_val, y_train, y_val = train_test_split(X_train_val, y_train_val, test_size=0.2, shuffle=True, random_state=seed)\n"
   ]
  },
  {
   "cell_type": "code",
   "execution_count": 8,
   "metadata": {},
   "outputs": [],
   "source": [
    "def reshape_3d_to_2d(data_3d):\n",
    "    number_of_samples, x_dim, y_dim = data_3d.shape\n",
    "    dataset_2d = data_3d.reshape((number_of_samples,x_dim*y_dim))\n",
    "    return dataset_2d\n",
    "\n",
    "X_train_2d = reshape_3d_to_2d(X_train)\n",
    "X_val_2d = reshape_3d_to_2d(X_val)\n",
    "X_train_val_2d = reshape_3d_to_2d(X_train_val)"
   ]
  },
  {
   "cell_type": "markdown",
   "metadata": {},
   "source": [
    "## Baseline and evaluation methods\n",
    "Since we are creating classifiers, the evaluation method will be classification accuracy. For a more representative accuracy value, k-fold cross validation will be used, with k = 3. We will be using a simple decision tree classifier as a baseline."
   ]
  },
  {
   "cell_type": "code",
   "execution_count": 9,
   "metadata": {},
   "outputs": [],
   "source": [
    "kfold = KFold(n_splits=3) # initialize the kfold splitter with 3 splits"
   ]
  },
  {
   "cell_type": "code",
   "execution_count": 10,
   "metadata": {},
   "outputs": [],
   "source": [
    "dTree_clf = DecisionTreeClassifier(random_state= seed)\n",
    "scores = cross_val_score(dTree_clf, X_train_val_2d, y_train_val, cv=3)"
   ]
  },
  {
   "cell_type": "code",
   "execution_count": 11,
   "metadata": {},
   "outputs": [
    {
     "name": "stdout",
     "output_type": "stream",
     "text": [
      "Cross validation score for decision tree classifier is: 0.8635396825396825\n"
     ]
    }
   ],
   "source": [
    "print(\"Cross validation score for decision tree classifier is:\", np.mean(scores))"
   ]
  },
  {
   "cell_type": "markdown",
   "metadata": {},
   "source": [
    "## Random forest classifier\n",
    "The classifier being used is sklearn's Random Forest Classifier: https://scikit-learn.org/stable/modules/generated/sklearn.ensemble.RandomForestClassifier.html"
   ]
  },
  {
   "cell_type": "code",
   "execution_count": 12,
   "metadata": {},
   "outputs": [
    {
     "name": "stdout",
     "output_type": "stream",
     "text": [
      "Precision at depth 1 is val: 0.5152380952380953 train 0.5229563492063493\n",
      "Precision at depth 2 is val: 0.6278571428571429 train 0.6330357142857143\n",
      "Precision at depth 3 is val: 0.7661111111111111 train 0.7656944444444445\n",
      "Precision at depth 4 is val: 0.8117460317460318 train 0.8155357142857143\n",
      "Precision at depth 5 is val: 0.8587301587301587 train 0.8599404761904762\n",
      "Precision at depth 6 is val: 0.888968253968254 train 0.8955753968253968\n",
      "Precision at depth 7 is val: 0.9107936507936508 train 0.9173214285714286\n",
      "Precision at depth 8 is val: 0.9243650793650794 train 0.936686507936508\n",
      "Precision at depth 9 is val: 0.937063492063492 train 0.9524801587301587\n",
      "Precision at depth 10 is val: 0.943968253968254 train 0.9674603174603175\n",
      "Precision at depth 11 is val: 0.9521428571428572 train 0.9795833333333334\n",
      "Precision at depth 12 is val: 0.9568253968253968 train 0.9886111111111111\n",
      "Precision at depth 13 is val: 0.9604761904761905 train 0.9934325396825396\n",
      "Precision at depth 14 is val: 0.9627777777777777 train 0.996468253968254\n",
      "Precision at depth 15 is val: 0.9638888888888889 train 0.9977777777777778\n",
      "Precision at depth 16 is val: 0.9647619047619047 train 0.9984126984126984\n",
      "Precision at depth 17 is val: 0.9648412698412698 train 0.9986111111111111\n",
      "Precision at depth 18 is val: 0.9665079365079365 train 0.9990873015873016\n",
      "Precision at depth 19 is val: 0.9676190476190476 train 0.9991269841269841\n",
      "Precision at depth 20 is val: 0.9677777777777777 train 0.9992857142857143\n",
      "Precision at depth 21 is val: 0.9664285714285714 train 0.9994642857142857\n",
      "Precision at depth 22 is val: 0.9676984126984127 train 0.999484126984127\n",
      "Precision at depth 23 is val: 0.9677777777777777 train 0.9996230158730158\n",
      "Precision at depth 24 is val: 0.9663492063492064 train 0.9996626984126984\n",
      "Precision at depth 25 is val: 0.9666666666666667 train 0.9998412698412699\n",
      "Precision at depth 26 is val: 0.9675396825396826 train 0.9999007936507937\n",
      "Precision at depth 27 is val: 0.9668253968253968 train 0.9998809523809524\n",
      "Precision at depth 28 is val: 0.9671428571428572 train 0.9999801587301588\n",
      "Precision at depth 29 is val: 0.9684920634920635 train 0.9999603174603174\n"
     ]
    }
   ],
   "source": [
    "val_acc_at_depth = {} # Dictionary for keeping track of depth vs accuracy\n",
    "train_acc_at_depth = {} # Dictionary for keeping track of depth vs accuracy\n",
    "for i in range(1,30):\n",
    "    clf = RandomForestClassifier(max_depth = i)\n",
    "    #cross_val_scores = cross_val_score(clf, X_train_val_2d, y_train_val)\n",
    "    clf.fit(X_train_2d, y_train)\n",
    "    train_score = clf.score(X_train_2d, y_train)\n",
    "    val_score = clf.score(X_val_2d, y_val)\n",
    "    #mean_cross_val_score = np.mean(cross_val_scores)\n",
    "    print(\"Precision at depth\", i , \"is val:\", val_score, \"train\", train_score)\n",
    "    #acc_at_depth[i] = mean_cross_val_score \n",
    "    train_acc_at_depth[i] = train_score\n",
    "    val_acc_at_depth[i] = val_score"
   ]
  },
  {
   "cell_type": "code",
   "execution_count": 13,
   "metadata": {},
   "outputs": [
    {
     "data": {
      "image/png": "[encoded data removed]",
      "text/plain": [
       "<Figure size 1440x720 with 1 Axes>"
      ]
     },
     "metadata": {
      "needs_background": "light"
     },
     "output_type": "display_data"
    }
   ],
   "source": [
    "x = train_acc_at_depth.keys()\n",
    "train_y = train_acc_at_depth.values()\n",
    "val_y = val_acc_at_depth.values()\n",
    "fig = plt.figure(figsize=(20,10))\n",
    "plt.plot(x,train_y)\n",
    "plt.plot(x,val_y)\n",
    "plt.axvline(x=17, ymin=0, ymax=1, color = 'r', alpha = 0.4)\n",
    "plt.text(17.1, 0.96, \"Accuracy improvement after depth 17 is minimal\")\n",
    "plt.xlim(left=13)\n",
    "plt.ylim(bottom=0.5, top = 1)\n",
    "plt.title(\"Depth vs accuracy\")\n",
    "plt.xticks(np.arange(1, 30, 1))\n",
    "plt.ylabel('Accuracy')\n",
    "plt.xlabel('Depth')\n",
    "plt.show()"
   ]
  },
  {
   "cell_type": "markdown",
   "metadata": {},
   "source": [
    "While the accuracy did seem increase as max_depth was increased, the improvement was so marginal it did not justify the increased runtime. Hence max_depth was simply set to 30."
   ]
  },
  {
   "cell_type": "code",
   "execution_count": 14,
   "metadata": {},
   "outputs": [
    {
     "name": "stdout",
     "output_type": "stream",
     "text": [
      "Possible parameters for random forest:\n",
      "{'bootstrap': True,\n",
      " 'ccp_alpha': 0.0,\n",
      " 'class_weight': None,\n",
      " 'criterion': 'gini',\n",
      " 'max_depth': None,\n",
      " 'max_features': 'auto',\n",
      " 'max_leaf_nodes': None,\n",
      " 'max_samples': None,\n",
      " 'min_impurity_decrease': 0.0,\n",
      " 'min_impurity_split': None,\n",
      " 'min_samples_leaf': 1,\n",
      " 'min_samples_split': 2,\n",
      " 'min_weight_fraction_leaf': 0.0,\n",
      " 'n_estimators': 100,\n",
      " 'n_jobs': None,\n",
      " 'oob_score': False,\n",
      " 'random_state': 123,\n",
      " 'verbose': 0,\n",
      " 'warm_start': False}\n"
     ]
    }
   ],
   "source": [
    "rf = RandomForestClassifier(random_state = 123)\n",
    "print('Possible parameters for random forest:')\n",
    "pprint(rf.get_params())"
   ]
  },
  {
   "cell_type": "markdown",
   "metadata": {},
   "source": [
    "After maually testing out a couple of different hyperparameters to get an idea of how they impacted to accuracy, it became clear that only a small subset of the combinations would be able to be tested. Number of estimators, max_features, min_samples_leaf, and min_samples_split were chosen as they seemed to have the most effect on the accuracy rate."
   ]
  },
  {
   "cell_type": "code",
   "execution_count": 15,
   "metadata": {},
   "outputs": [
    {
     "name": "stdout",
     "output_type": "stream",
     "text": [
      "{'max_features': ['auto', 'sqrt'],\n",
      " 'min_samples_leaf': [1, 2, 4],\n",
      " 'min_samples_split': [2, 5, 10],\n",
      " 'n_estimators': range(50, 400, 50)}\n"
     ]
    }
   ],
   "source": [
    "n_estimators = range(50, 400, 50)\n",
    "max_features = ['auto', 'sqrt']\n",
    "#max_depth = range(10, 31, 5)\n",
    "min_samples_split = [2, 5, 10]\n",
    "min_samples_leaf = [1, 2, 4]\n",
    "random_grid = {'n_estimators': n_estimators,\n",
    "               'max_features': max_features,\n",
    "              # 'max_depth': max_depth,\n",
    "               'min_samples_split': min_samples_split,\n",
    "               'min_samples_leaf': min_samples_leaf}\n",
    "pprint(random_grid)"
   ]
  },
  {
   "cell_type": "code",
   "execution_count": 16,
   "metadata": {},
   "outputs": [
    {
     "name": "stdout",
     "output_type": "stream",
     "text": [
      "Hl\n"
     ]
    }
   ],
   "source": [
    "print(\"Hl\")"
   ]
  },
  {
   "cell_type": "code",
   "execution_count": 17,
   "metadata": {},
   "outputs": [
    {
     "name": "stdout",
     "output_type": "stream",
     "text": [
      "Started\n",
      "Fitting 3 folds for each of 100 candidates, totalling 300 fits\n"
     ]
    },
    {
     "name": "stderr",
     "output_type": "stream",
     "text": [
      "[Parallel(n_jobs=-1)]: Using backend LokyBackend with 8 concurrent workers.\n",
      "[Parallel(n_jobs=-1)]: Done  25 tasks      | elapsed: 11.8min\n",
      "[Parallel(n_jobs=-1)]: Done 146 tasks      | elapsed: 66.0min\n",
      "[Parallel(n_jobs=-1)]: Done 300 out of 300 | elapsed: 132.4min finished\n"
     ]
    },
    {
     "name": "stdout",
     "output_type": "stream",
     "text": [
      "Runtime was: 135.51 minutes\n"
     ]
    }
   ],
   "source": [
    "print(\"Started\")\n",
    "rf = RandomForestClassifier(max_depth = 30)\n",
    "start = timeit.default_timer()\n",
    "rf_random = RandomizedSearchCV(estimator = rf, param_distributions = random_grid, n_iter = 100, cv = 3, verbose=2, random_state=123, n_jobs = -1, return_train_score=True)\n",
    "rf_random.fit(X_train_val_2d, y_train_val)\n",
    "stop = timeit.default_timer()\n",
    "runtime = ((stop-start) / 60.0)\n",
    "print(\"Runtime was: %.2f\" %runtime, \"minutes\")    "
   ]
  },
  {
   "cell_type": "code",
   "execution_count": 18,
   "metadata": {},
   "outputs": [
    {
     "name": "stdout",
     "output_type": "stream",
     "text": [
      "The best hyperparameter values found are:\n"
     ]
    },
    {
     "data": {
      "text/plain": [
       "{'n_estimators': 350,\n",
       " 'min_samples_split': 2,\n",
       " 'min_samples_leaf': 1,\n",
       " 'max_features': 'sqrt'}"
      ]
     },
     "execution_count": 18,
     "metadata": {},
     "output_type": "execute_result"
    }
   ],
   "source": [
    "print(\"The best hyperparameter values found are:\")\n",
    "rf_random.best_params_"
   ]
  },
  {
   "cell_type": "code",
   "execution_count": 19,
   "metadata": {},
   "outputs": [
    {
     "name": "stdout",
     "output_type": "stream",
     "text": [
      "Accuracy for optimal random forest classifier is: 0.86\n"
     ]
    }
   ],
   "source": [
    "rf_clf = RandomForestClassifier(n_estimators =  300, max_depth = 30, min_samples_split = 2, min_samples_leaf = 1, max_features = 'auto')\n",
    "score = np.mean(cross_val_score(dTree_clf, X_train_val_2d, y_train_val, cv=3))\n",
    "print(\"Accuracy for optimal random forest classifier is: %.2f\" %score)"
   ]
  },
  {
   "cell_type": "markdown",
   "metadata": {},
   "source": [
    "## Convolutional Neural Network (LeNet-5)"
   ]
  },
  {
   "cell_type": "code",
   "execution_count": 20,
   "metadata": {},
   "outputs": [],
   "source": [
    "# Preprocessing\n",
    "\n",
    "# Make image data 4-dimensional\n",
    "X_train_val_4d = X_train_val.reshape(X_train_val.shape[0], 28, 28, 1)\n",
    "X_train_4d = X_train.reshape(X_train.shape[0], 28, 28, 1)\n",
    "X_val_4d = X_val.reshape(X_val.shape[0], 28, 28, 1)\n",
    "X_test_4d = X_test.reshape(X_test.shape[0], 28, 28, 1)\n",
    "\n",
    "# convert label data to one-hot encoding\n",
    "y_train_val_onehot = np_utils.to_categorical(y_train_val, 10)\n",
    "y_train_onehot = np_utils.to_categorical(y_train, 10)\n",
    "y_val_onehot = np_utils.to_categorical(y_val, 10)\n",
    "y_test_onehot = np_utils.to_categorical(y_test, 10)"
   ]
  },
  {
   "cell_type": "code",
   "execution_count": 21,
   "metadata": {},
   "outputs": [],
   "source": [
    "def leNet_5_setup(activation_function, learning_rate):    \n",
    "    # Initialize an empty sequential model\n",
    "    leNet_model = Sequential()\n",
    "    # Convolutional Layer\n",
    "    leNet_model.add(Conv2D(filters = 6, kernel_size=(3, 3), strides=(1, 1), activation= activation_function, input_shape=(28,28,1), padding= 'same'))\n",
    "    # Pooling\n",
    "    leNet_model.add(AveragePooling2D(pool_size=(2, 2), strides=(1, 1), padding= 'same'))\n",
    "    #Convolutional Layer\n",
    "    leNet_model.add(Conv2D(16, kernel_size=(3, 3), strides=(1, 1), activation= activation_function, padding= 'valid'))\n",
    "    # Pooling\n",
    "    leNet_model.add(AveragePooling2D(pool_size=(2, 2), strides=(1, 1), padding= 'valid'))\n",
    "    # Connected Convolutional Layer\n",
    "    leNet_model.add(Conv2D(120, kernel_size=(3, 3), strides=(1, 1), activation= activation_function, padding= 'valid'))\n",
    "    # Flattening\n",
    "    leNet_model.add(Flatten())\n",
    "    # Fully Connected Layer\n",
    "    leNet_model.add(Dense(84, activation= activation_function))\n",
    "    #Output layer\n",
    "    leNet_model.add(Dense(10, activation= 'softmax'))\n",
    "    # Compile the model\n",
    "    leNet_model.compile(loss= 'categorical_crossentropy', optimizer = SGD(lr = learning_rate), metrics=['accuracy']) \n",
    "\n",
    "    return leNet_model"
   ]
  },
  {
   "cell_type": "code",
   "execution_count": 22,
   "metadata": {},
   "outputs": [
    {
     "name": "stdout",
     "output_type": "stream",
     "text": [
      "Epoch 1/20\n",
      "1313/1313 [==============================] - 103s 78ms/step - loss: 0.5484 - accuracy: 0.8705 - val_loss: 0.3139 - val_accuracy: 0.9187\n",
      "Epoch 2/20\n",
      "1313/1313 [==============================] - 103s 78ms/step - loss: 0.2680 - accuracy: 0.9289 - val_loss: 0.2289 - val_accuracy: 0.9400\n",
      "Epoch 3/20\n",
      "1313/1313 [==============================] - 102s 78ms/step - loss: 0.2030 - accuracy: 0.9454 - val_loss: 0.1822 - val_accuracy: 0.9510\n",
      "Epoch 4/20\n",
      "1313/1313 [==============================] - 102s 78ms/step - loss: 0.1643 - accuracy: 0.9555 - val_loss: 0.1528 - val_accuracy: 0.9601\n",
      "Epoch 5/20\n",
      "1313/1313 [==============================] - 105s 80ms/step - loss: 0.1405 - accuracy: 0.9622 - val_loss: 0.1349 - val_accuracy: 0.9643\n",
      "Epoch 6/20\n",
      "1313/1313 [==============================] - 103s 79ms/step - loss: 0.1247 - accuracy: 0.9666 - val_loss: 0.1227 - val_accuracy: 0.9671\n",
      "Epoch 7/20\n",
      "1313/1313 [==============================] - 102s 78ms/step - loss: 0.1134 - accuracy: 0.9696 - val_loss: 0.1140 - val_accuracy: 0.9691\n",
      "Epoch 8/20\n",
      "1313/1313 [==============================] - 102s 78ms/step - loss: 0.1047 - accuracy: 0.9722 - val_loss: 0.1068 - val_accuracy: 0.9706\n",
      "Epoch 9/20\n",
      "1313/1313 [==============================] - 103s 78ms/step - loss: 0.0976 - accuracy: 0.9739 - val_loss: 0.1013 - val_accuracy: 0.9718\n",
      "Epoch 10/20\n",
      "1313/1313 [==============================] - 102s 78ms/step - loss: 0.0918 - accuracy: 0.9750 - val_loss: 0.0964 - val_accuracy: 0.9734\n",
      "Epoch 11/20\n",
      "1313/1313 [==============================] - 103s 79ms/step - loss: 0.0870 - accuracy: 0.9766 - val_loss: 0.0926 - val_accuracy: 0.9744\n",
      "Epoch 12/20\n",
      "1313/1313 [==============================] - 103s 78ms/step - loss: 0.0829 - accuracy: 0.9777 - val_loss: 0.0894 - val_accuracy: 0.9752\n",
      "Epoch 13/20\n",
      "1313/1313 [==============================] - 102s 78ms/step - loss: 0.0793 - accuracy: 0.9786 - val_loss: 0.0866 - val_accuracy: 0.9755\n",
      "Epoch 14/20\n",
      "1313/1313 [==============================] - 103s 78ms/step - loss: 0.0761 - accuracy: 0.9793 - val_loss: 0.0841 - val_accuracy: 0.9761\n",
      "Epoch 15/20\n",
      "1313/1313 [==============================] - 102s 78ms/step - loss: 0.0733 - accuracy: 0.9801 - val_loss: 0.0819 - val_accuracy: 0.9768\n",
      "Epoch 16/20\n",
      "1313/1313 [==============================] - 102s 78ms/step - loss: 0.0707 - accuracy: 0.9810 - val_loss: 0.0799 - val_accuracy: 0.9771\n",
      "Epoch 17/20\n",
      "1313/1313 [==============================] - 103s 78ms/step - loss: 0.0683 - accuracy: 0.9817 - val_loss: 0.0780 - val_accuracy: 0.9778\n",
      "Epoch 18/20\n",
      "1313/1313 [==============================] - 103s 78ms/step - loss: 0.0660 - accuracy: 0.9825 - val_loss: 0.0763 - val_accuracy: 0.9782\n",
      "Epoch 19/20\n",
      "1313/1313 [==============================] - 103s 79ms/step - loss: 0.0640 - accuracy: 0.9829 - val_loss: 0.0748 - val_accuracy: 0.9788\n",
      "Epoch 20/20\n",
      "1313/1313 [==============================] - 103s 79ms/step - loss: 0.0621 - accuracy: 0.9835 - val_loss: 0.0734 - val_accuracy: 0.9790\n",
      "Epoch 1/20\n",
      "1313/1313 [==============================] - 103s 78ms/step - loss: 0.0651 - accuracy: 0.9820 - val_loss: 0.0630 - val_accuracy: 0.9827\n",
      "Epoch 2/20\n",
      "1313/1313 [==============================] - 102s 78ms/step - loss: 0.0624 - accuracy: 0.9829 - val_loss: 0.0627 - val_accuracy: 0.9825\n",
      "Epoch 3/20\n",
      "1313/1313 [==============================] - 103s 79ms/step - loss: 0.0601 - accuracy: 0.9838 - val_loss: 0.0623 - val_accuracy: 0.9822\n",
      "Epoch 4/20\n",
      "1313/1313 [==============================] - 103s 78ms/step - loss: 0.0580 - accuracy: 0.9843 - val_loss: 0.0618 - val_accuracy: 0.9825\n",
      "Epoch 5/20\n",
      "1313/1313 [==============================] - 103s 78ms/step - loss: 0.0562 - accuracy: 0.9847 - val_loss: 0.0614 - val_accuracy: 0.9825\n",
      "Epoch 6/20\n",
      "1313/1313 [==============================] - 103s 78ms/step - loss: 0.0545 - accuracy: 0.9852 - val_loss: 0.0609 - val_accuracy: 0.9826\n",
      "Epoch 7/20\n",
      "1313/1313 [==============================] - 103s 78ms/step - loss: 0.0530 - accuracy: 0.9858 - val_loss: 0.0604 - val_accuracy: 0.9825\n",
      "Epoch 8/20\n",
      "1313/1313 [==============================] - 103s 78ms/step - loss: 0.0516 - accuracy: 0.9860 - val_loss: 0.0600 - val_accuracy: 0.9827\n",
      "Epoch 9/20\n",
      "1313/1313 [==============================] - 103s 78ms/step - loss: 0.0503 - accuracy: 0.9865 - val_loss: 0.0595 - val_accuracy: 0.9826\n",
      "Epoch 10/20\n",
      "1313/1313 [==============================] - 103s 78ms/step - loss: 0.0490 - accuracy: 0.9871 - val_loss: 0.0591 - val_accuracy: 0.9828\n",
      "Epoch 11/20\n",
      "1313/1313 [==============================] - 103s 78ms/step - loss: 0.0478 - accuracy: 0.9875 - val_loss: 0.0586 - val_accuracy: 0.9829\n",
      "Epoch 12/20\n",
      "1313/1313 [==============================] - 104s 79ms/step - loss: 0.0467 - accuracy: 0.9877 - val_loss: 0.0583 - val_accuracy: 0.9829\n",
      "Epoch 13/20\n",
      "1313/1313 [==============================] - 103s 78ms/step - loss: 0.0455 - accuracy: 0.9879 - val_loss: 0.0578 - val_accuracy: 0.9832\n",
      "Epoch 14/20\n",
      "1313/1313 [==============================] - 103s 79ms/step - loss: 0.0445 - accuracy: 0.9883 - val_loss: 0.0575 - val_accuracy: 0.9832\n",
      "Epoch 15/20\n",
      "1313/1313 [==============================] - 103s 78ms/step - loss: 0.0435 - accuracy: 0.9888 - val_loss: 0.0571 - val_accuracy: 0.9834\n",
      "Epoch 16/20\n",
      "1313/1313 [==============================] - 103s 78ms/step - loss: 0.0425 - accuracy: 0.9891 - val_loss: 0.0567 - val_accuracy: 0.9834\n",
      "Epoch 17/20\n",
      "1313/1313 [==============================] - 103s 79ms/step - loss: 0.0416 - accuracy: 0.9894 - val_loss: 0.0564 - val_accuracy: 0.9835\n",
      "Epoch 18/20\n",
      "1313/1313 [==============================] - 103s 78ms/step - loss: 0.0407 - accuracy: 0.9897 - val_loss: 0.0560 - val_accuracy: 0.9836\n",
      "Epoch 19/20\n",
      "1313/1313 [==============================] - 103s 78ms/step - loss: 0.0399 - accuracy: 0.9899 - val_loss: 0.0557 - val_accuracy: 0.9839\n",
      "Epoch 20/20\n",
      "1313/1313 [==============================] - 103s 78ms/step - loss: 0.0391 - accuracy: 0.9901 - val_loss: 0.0554 - val_accuracy: 0.9840\n",
      "Epoch 1/20\n",
      "1313/1313 [==============================] - 103s 79ms/step - loss: 0.0481 - accuracy: 0.9866 - val_loss: 0.0360 - val_accuracy: 0.9916\n",
      "Epoch 2/20\n",
      "1313/1313 [==============================] - 103s 78ms/step - loss: 0.0461 - accuracy: 0.9873 - val_loss: 0.0365 - val_accuracy: 0.9910\n",
      "Epoch 3/20\n",
      "1313/1313 [==============================] - 103s 78ms/step - loss: 0.0447 - accuracy: 0.9881 - val_loss: 0.0368 - val_accuracy: 0.9908\n",
      "Epoch 4/20\n",
      "1313/1313 [==============================] - 103s 79ms/step - loss: 0.0434 - accuracy: 0.9887 - val_loss: 0.0370 - val_accuracy: 0.9906\n",
      "Epoch 5/20\n",
      "1313/1313 [==============================] - 105s 80ms/step - loss: 0.0423 - accuracy: 0.9890 - val_loss: 0.0372 - val_accuracy: 0.9904\n",
      "Epoch 6/20\n",
      "1313/1313 [==============================] - 103s 79ms/step - loss: 0.0413 - accuracy: 0.9893 - val_loss: 0.0373 - val_accuracy: 0.9903\n",
      "Epoch 7/20\n",
      "1313/1313 [==============================] - 103s 78ms/step - loss: 0.0404 - accuracy: 0.9895 - val_loss: 0.0373 - val_accuracy: 0.9902\n",
      "Epoch 8/20\n",
      "1313/1313 [==============================] - 103s 79ms/step - loss: 0.0395 - accuracy: 0.9898 - val_loss: 0.0374 - val_accuracy: 0.9900\n",
      "Epoch 9/20\n",
      "1313/1313 [==============================] - 103s 79ms/step - loss: 0.0386 - accuracy: 0.9901 - val_loss: 0.0374 - val_accuracy: 0.9903\n",
      "Epoch 10/20\n",
      "1313/1313 [==============================] - 103s 79ms/step - loss: 0.0378 - accuracy: 0.9903 - val_loss: 0.0374 - val_accuracy: 0.9901\n",
      "Epoch 11/20\n",
      "1313/1313 [==============================] - 103s 79ms/step - loss: 0.0371 - accuracy: 0.9906 - val_loss: 0.0374 - val_accuracy: 0.9901\n",
      "Epoch 12/20\n",
      "1313/1313 [==============================] - 103s 79ms/step - loss: 0.0363 - accuracy: 0.9907 - val_loss: 0.0374 - val_accuracy: 0.9898\n",
      "Epoch 13/20\n",
      "1313/1313 [==============================] - 103s 79ms/step - loss: 0.0356 - accuracy: 0.9910 - val_loss: 0.0373 - val_accuracy: 0.9897\n",
      "Epoch 14/20\n",
      "1313/1313 [==============================] - 103s 79ms/step - loss: 0.0349 - accuracy: 0.9913 - val_loss: 0.0372 - val_accuracy: 0.9895\n",
      "Epoch 15/20\n",
      "1313/1313 [==============================] - 104s 79ms/step - loss: 0.0343 - accuracy: 0.9916 - val_loss: 0.0371 - val_accuracy: 0.9896\n",
      "Epoch 16/20\n",
      "1313/1313 [==============================] - 103s 79ms/step - loss: 0.0337 - accuracy: 0.9920 - val_loss: 0.0371 - val_accuracy: 0.9895\n",
      "Epoch 17/20\n",
      "1313/1313 [==============================] - 103s 78ms/step - loss: 0.0331 - accuracy: 0.9921 - val_loss: 0.0370 - val_accuracy: 0.9895\n",
      "Epoch 18/20\n",
      "1313/1313 [==============================] - 104s 79ms/step - loss: 0.0325 - accuracy: 0.9923 - val_loss: 0.0369 - val_accuracy: 0.9896\n",
      "Epoch 19/20\n",
      "1313/1313 [==============================] - 103s 79ms/step - loss: 0.0319 - accuracy: 0.9924 - val_loss: 0.0368 - val_accuracy: 0.9898\n",
      "Epoch 20/20\n",
      "1313/1313 [==============================] - 103s 79ms/step - loss: 0.0313 - accuracy: 0.9926 - val_loss: 0.0367 - val_accuracy: 0.9898\n",
      "Epoch 1/20\n",
      "1313/1313 [==============================] - 103s 79ms/step - loss: 0.2420 - accuracy: 0.9317 - val_loss: 0.1187 - val_accuracy: 0.9670\n",
      "Epoch 2/20\n",
      "1313/1313 [==============================] - 103s 78ms/step - loss: 0.0979 - accuracy: 0.9722 - val_loss: 0.0869 - val_accuracy: 0.9750\n",
      "Epoch 3/20\n",
      "1313/1313 [==============================] - 103s 79ms/step - loss: 0.0737 - accuracy: 0.9789 - val_loss: 0.0725 - val_accuracy: 0.9787\n",
      "Epoch 4/20\n",
      "1313/1313 [==============================] - 103s 79ms/step - loss: 0.0592 - accuracy: 0.9839 - val_loss: 0.0653 - val_accuracy: 0.9814\n",
      "Epoch 5/20\n",
      "1313/1313 [==============================] - 103s 78ms/step - loss: 0.0495 - accuracy: 0.9865 - val_loss: 0.0605 - val_accuracy: 0.9822\n",
      "Epoch 6/20\n",
      "1313/1313 [==============================] - 103s 78ms/step - loss: 0.0428 - accuracy: 0.9884 - val_loss: 0.0584 - val_accuracy: 0.9822\n",
      "Epoch 7/20\n",
      "1313/1313 [==============================] - 104s 79ms/step - loss: 0.0373 - accuracy: 0.9905 - val_loss: 0.0540 - val_accuracy: 0.9838\n",
      "Epoch 8/20\n",
      "1313/1313 [==============================] - 103s 79ms/step - loss: 0.0323 - accuracy: 0.9918 - val_loss: 0.0518 - val_accuracy: 0.9844\n",
      "Epoch 9/20\n",
      "1313/1313 [==============================] - 103s 79ms/step - loss: 0.0283 - accuracy: 0.9930 - val_loss: 0.0491 - val_accuracy: 0.9849\n",
      "Epoch 10/20\n",
      "1313/1313 [==============================] - 104s 79ms/step - loss: 0.0247 - accuracy: 0.9947 - val_loss: 0.0694 - val_accuracy: 0.9782\n",
      "Epoch 11/20\n",
      "1313/1313 [==============================] - 103s 79ms/step - loss: 0.0219 - accuracy: 0.9953 - val_loss: 0.0468 - val_accuracy: 0.9855\n",
      "Epoch 12/20\n",
      "1313/1313 [==============================] - 103s 79ms/step - loss: 0.0197 - accuracy: 0.9963 - val_loss: 0.0461 - val_accuracy: 0.9855\n",
      "Epoch 13/20\n",
      "1313/1313 [==============================] - 103s 78ms/step - loss: 0.0181 - accuracy: 0.9967 - val_loss: 0.0452 - val_accuracy: 0.9856\n",
      "Epoch 14/20\n",
      "1313/1313 [==============================] - 103s 79ms/step - loss: 0.0167 - accuracy: 0.9969 - val_loss: 0.0443 - val_accuracy: 0.9859\n",
      "Epoch 15/20\n",
      "1313/1313 [==============================] - 103s 78ms/step - loss: 0.0152 - accuracy: 0.9977 - val_loss: 0.0437 - val_accuracy: 0.9859\n",
      "Epoch 16/20\n",
      "1313/1313 [==============================] - 103s 79ms/step - loss: 0.0135 - accuracy: 0.9982 - val_loss: 0.0436 - val_accuracy: 0.9858\n",
      "Epoch 17/20\n",
      "1313/1313 [==============================] - 105s 80ms/step - loss: 0.0121 - accuracy: 0.9989 - val_loss: 0.0429 - val_accuracy: 0.9863\n",
      "Epoch 18/20\n",
      "1313/1313 [==============================] - 104s 79ms/step - loss: 0.0111 - accuracy: 0.9988 - val_loss: 0.0431 - val_accuracy: 0.9864\n",
      "Epoch 19/20\n",
      "1313/1313 [==============================] - 103s 79ms/step - loss: 0.0103 - accuracy: 0.9990 - val_loss: 0.0427 - val_accuracy: 0.9862\n",
      "Epoch 20/20\n",
      "1313/1313 [==============================] - 104s 79ms/step - loss: 0.0093 - accuracy: 0.9993 - val_loss: 0.0427 - val_accuracy: 0.9865\n",
      "Epoch 1/20\n",
      "1313/1313 [==============================] - 104s 79ms/step - loss: 0.0304 - accuracy: 0.9914 - val_loss: 0.0132 - val_accuracy: 0.9978\n",
      "Epoch 2/20\n",
      "1313/1313 [==============================] - 104s 79ms/step - loss: 0.0247 - accuracy: 0.9938 - val_loss: 0.0157 - val_accuracy: 0.9967\n",
      "Epoch 3/20\n",
      "1313/1313 [==============================] - 103s 79ms/step - loss: 0.0196 - accuracy: 0.9954 - val_loss: 0.0149 - val_accuracy: 0.9968\n",
      "Epoch 4/20\n",
      "1313/1313 [==============================] - 104s 79ms/step - loss: 0.0158 - accuracy: 0.9968 - val_loss: 0.0157 - val_accuracy: 0.9964\n",
      "Epoch 5/20\n",
      "1313/1313 [==============================] - 104s 79ms/step - loss: 0.0136 - accuracy: 0.9975 - val_loss: 0.0154 - val_accuracy: 0.9961\n",
      "Epoch 6/20\n",
      "1313/1313 [==============================] - 103s 79ms/step - loss: 0.0121 - accuracy: 0.9979 - val_loss: 0.0161 - val_accuracy: 0.9957\n",
      "Epoch 7/20\n",
      "1313/1313 [==============================] - 103s 79ms/step - loss: 0.0106 - accuracy: 0.9983 - val_loss: 0.0160 - val_accuracy: 0.9957\n",
      "Epoch 8/20\n",
      "1313/1313 [==============================] - 106s 81ms/step - loss: 0.0095 - accuracy: 0.9989 - val_loss: 0.0160 - val_accuracy: 0.9953\n",
      "Epoch 9/20\n",
      "1313/1313 [==============================] - 103s 79ms/step - loss: 0.0086 - accuracy: 0.9991 - val_loss: 0.0163 - val_accuracy: 0.9954\n",
      "Epoch 10/20\n",
      "1313/1313 [==============================] - 104s 79ms/step - loss: 0.0078 - accuracy: 0.9993 - val_loss: 0.0165 - val_accuracy: 0.9953\n",
      "Epoch 11/20\n",
      "1313/1313 [==============================] - 104s 79ms/step - loss: 0.0072 - accuracy: 0.9993 - val_loss: 0.0165 - val_accuracy: 0.9952\n",
      "Epoch 12/20\n",
      "1313/1313 [==============================] - 104s 79ms/step - loss: 0.0067 - accuracy: 0.9993 - val_loss: 0.0162 - val_accuracy: 0.9952\n",
      "Epoch 13/20\n",
      "1313/1313 [==============================] - 103s 79ms/step - loss: 0.0063 - accuracy: 0.9995 - val_loss: 0.0166 - val_accuracy: 0.9947\n",
      "Epoch 14/20\n",
      "1313/1313 [==============================] - 104s 79ms/step - loss: 0.0059 - accuracy: 0.9995 - val_loss: 0.0169 - val_accuracy: 0.9945\n",
      "Epoch 15/20\n",
      "1313/1313 [==============================] - 103s 79ms/step - loss: 0.0055 - accuracy: 0.9996 - val_loss: 0.0169 - val_accuracy: 0.9946\n",
      "Epoch 16/20\n",
      "1313/1313 [==============================] - 103s 79ms/step - loss: 0.0052 - accuracy: 0.9997 - val_loss: 0.0170 - val_accuracy: 0.9944\n",
      "Epoch 17/20\n",
      "1313/1313 [==============================] - 104s 79ms/step - loss: 0.0048 - accuracy: 0.9997 - val_loss: 0.0171 - val_accuracy: 0.9943\n",
      "Epoch 18/20\n",
      "1313/1313 [==============================] - 104s 79ms/step - loss: 0.0046 - accuracy: 0.9997 - val_loss: 0.0172 - val_accuracy: 0.9944\n",
      "Epoch 19/20\n",
      "1313/1313 [==============================] - 104s 79ms/step - loss: 0.0043 - accuracy: 0.9997 - val_loss: 0.0173 - val_accuracy: 0.9944\n",
      "Epoch 20/20\n",
      "1313/1313 [==============================] - 108s 82ms/step - loss: 0.0041 - accuracy: 0.9998 - val_loss: 0.0174 - val_accuracy: 0.9943\n",
      "Epoch 1/20\n",
      "1313/1313 [==============================] - 103s 78ms/step - loss: 0.0122 - accuracy: 0.9965 - val_loss: 0.0072 - val_accuracy: 0.9990\n",
      "Epoch 2/20\n",
      "1313/1313 [==============================] - 103s 79ms/step - loss: 0.0095 - accuracy: 0.9982 - val_loss: 0.0067 - val_accuracy: 0.9991\n",
      "Epoch 3/20\n",
      "1313/1313 [==============================] - 104s 79ms/step - loss: 0.0079 - accuracy: 0.9991 - val_loss: 0.0062 - val_accuracy: 0.9994\n",
      "Epoch 4/20\n",
      "1313/1313 [==============================] - 103s 79ms/step - loss: 0.0066 - accuracy: 0.9995 - val_loss: 0.0059 - val_accuracy: 0.9993\n",
      "Epoch 5/20\n",
      "1313/1313 [==============================] - 103s 78ms/step - loss: 0.0058 - accuracy: 0.9996 - val_loss: 0.0060 - val_accuracy: 0.9994\n",
      "Epoch 6/20\n",
      "1313/1313 [==============================] - 103s 79ms/step - loss: 0.0053 - accuracy: 0.9996 - val_loss: 0.0059 - val_accuracy: 0.9992\n",
      "Epoch 7/20\n",
      "1313/1313 [==============================] - 103s 78ms/step - loss: 0.0049 - accuracy: 0.9997 - val_loss: 0.0060 - val_accuracy: 0.9990\n",
      "Epoch 8/20\n",
      "1313/1313 [==============================] - 103s 78ms/step - loss: 0.0046 - accuracy: 0.9997 - val_loss: 0.0060 - val_accuracy: 0.9990\n",
      "Epoch 9/20\n",
      "1313/1313 [==============================] - 103s 78ms/step - loss: 0.0043 - accuracy: 0.9997 - val_loss: 0.0062 - val_accuracy: 0.9990\n",
      "Epoch 10/20\n",
      "1313/1313 [==============================] - 103s 78ms/step - loss: 0.0040 - accuracy: 0.9998 - val_loss: 0.0063 - val_accuracy: 0.9990\n",
      "Epoch 11/20\n",
      "1313/1313 [==============================] - 103s 78ms/step - loss: 0.0039 - accuracy: 0.9997 - val_loss: 0.0066 - val_accuracy: 0.9988\n",
      "Epoch 12/20\n",
      "1313/1313 [==============================] - 103s 79ms/step - loss: 0.0037 - accuracy: 0.9998 - val_loss: 0.0067 - val_accuracy: 0.9987\n",
      "Epoch 13/20\n",
      "1313/1313 [==============================] - 103s 79ms/step - loss: 0.0034 - accuracy: 0.9998 - val_loss: 0.0067 - val_accuracy: 0.9987\n",
      "Epoch 14/20\n",
      "1313/1313 [==============================] - 104s 79ms/step - loss: 0.0033 - accuracy: 0.9998 - val_loss: 0.0067 - val_accuracy: 0.9986\n",
      "Epoch 15/20\n",
      "1313/1313 [==============================] - 104s 79ms/step - loss: 0.0031 - accuracy: 0.9998 - val_loss: 0.0067 - val_accuracy: 0.9986\n",
      "Epoch 16/20\n",
      "1313/1313 [==============================] - 103s 79ms/step - loss: 0.0030 - accuracy: 0.9998 - val_loss: 0.0067 - val_accuracy: 0.9986\n",
      "Epoch 17/20\n",
      "1313/1313 [==============================] - 103s 78ms/step - loss: 0.0028 - accuracy: 0.9999 - val_loss: 0.0068 - val_accuracy: 0.9986\n",
      "Epoch 18/20\n",
      "1313/1313 [==============================] - 103s 78ms/step - loss: 0.0027 - accuracy: 0.9999 - val_loss: 0.0068 - val_accuracy: 0.9986\n",
      "Epoch 19/20\n",
      "1313/1313 [==============================] - 103s 78ms/step - loss: 0.0026 - accuracy: 0.9999 - val_loss: 0.0070 - val_accuracy: 0.9986\n",
      "Epoch 20/20\n",
      "1313/1313 [==============================] - 103s 78ms/step - loss: 0.0025 - accuracy: 0.9999 - val_loss: 0.0070 - val_accuracy: 0.9986\n",
      "Epoch 1/20\n",
      "1313/1313 [==============================] - 105s 80ms/step - loss: 0.1709 - accuracy: 0.9493 - val_loss: 0.1273 - val_accuracy: 0.9588\n",
      "Epoch 2/20\n",
      "1313/1313 [==============================] - 109s 83ms/step - loss: 0.0844 - accuracy: 0.9743 - val_loss: 0.0813 - val_accuracy: 0.9766\n",
      "Epoch 3/20\n",
      "1313/1313 [==============================] - 111s 85ms/step - loss: 0.0729 - accuracy: 0.9769 - val_loss: 0.0941 - val_accuracy: 0.9713\n",
      "Epoch 4/20\n",
      "1313/1313 [==============================] - 108s 82ms/step - loss: 0.0619 - accuracy: 0.9809 - val_loss: 0.0739 - val_accuracy: 0.9782\n",
      "Epoch 5/20\n",
      "1313/1313 [==============================] - 104s 79ms/step - loss: 0.0505 - accuracy: 0.9844 - val_loss: 0.0699 - val_accuracy: 0.9781\n",
      "Epoch 6/20\n",
      "1313/1313 [==============================] - 104s 79ms/step - loss: 0.0435 - accuracy: 0.9864 - val_loss: 0.0793 - val_accuracy: 0.9761\n",
      "Epoch 7/20\n",
      "1313/1313 [==============================] - 104s 79ms/step - loss: 0.0402 - accuracy: 0.9869 - val_loss: 0.0631 - val_accuracy: 0.9806\n",
      "Epoch 8/20\n",
      "1313/1313 [==============================] - 104s 79ms/step - loss: 0.0333 - accuracy: 0.9888 - val_loss: 0.0545 - val_accuracy: 0.9830\n",
      "Epoch 9/20\n",
      "1313/1313 [==============================] - 104s 79ms/step - loss: 0.0320 - accuracy: 0.9897 - val_loss: 0.0609 - val_accuracy: 0.9818\n",
      "Epoch 10/20\n",
      "1313/1313 [==============================] - 104s 79ms/step - loss: 0.0271 - accuracy: 0.9919 - val_loss: 0.0522 - val_accuracy: 0.9840\n",
      "Epoch 11/20\n",
      "1313/1313 [==============================] - 104s 79ms/step - loss: 0.0245 - accuracy: 0.9920 - val_loss: 0.0558 - val_accuracy: 0.9842\n",
      "Epoch 12/20\n",
      "1313/1313 [==============================] - 104s 79ms/step - loss: 0.0232 - accuracy: 0.9930 - val_loss: 0.0528 - val_accuracy: 0.9850\n",
      "Epoch 13/20\n",
      "1313/1313 [==============================] - 104s 79ms/step - loss: 0.0233 - accuracy: 0.9926 - val_loss: 0.0548 - val_accuracy: 0.9845\n",
      "Epoch 14/20\n",
      "1313/1313 [==============================] - 104s 79ms/step - loss: 0.0389 - accuracy: 0.9870 - val_loss: 0.0565 - val_accuracy: 0.9831\n",
      "Epoch 15/20\n",
      "1313/1313 [==============================] - 104s 79ms/step - loss: 0.0378 - accuracy: 0.9872 - val_loss: 0.0671 - val_accuracy: 0.9806\n",
      "Epoch 16/20\n",
      "1313/1313 [==============================] - 104s 79ms/step - loss: 0.0319 - accuracy: 0.9891 - val_loss: 0.0642 - val_accuracy: 0.9818\n",
      "Epoch 17/20\n",
      "1313/1313 [==============================] - 105s 80ms/step - loss: 0.0356 - accuracy: 0.9881 - val_loss: 0.0763 - val_accuracy: 0.9779\n",
      "Epoch 18/20\n",
      "1313/1313 [==============================] - 110s 84ms/step - loss: 0.0350 - accuracy: 0.9883 - val_loss: 0.0650 - val_accuracy: 0.9815\n",
      "Epoch 19/20\n",
      "1313/1313 [==============================] - 108s 82ms/step - loss: 0.0321 - accuracy: 0.9895 - val_loss: 0.0621 - val_accuracy: 0.9820\n",
      "Epoch 20/20\n",
      "1313/1313 [==============================] - 104s 79ms/step - loss: 0.0340 - accuracy: 0.9885 - val_loss: 0.0682 - val_accuracy: 0.9807\n",
      "Epoch 1/20\n",
      "1313/1313 [==============================] - 104s 79ms/step - loss: 0.0652 - accuracy: 0.9799 - val_loss: 0.0533 - val_accuracy: 0.9826\n",
      "Epoch 2/20\n",
      "1313/1313 [==============================] - 104s 79ms/step - loss: 0.0614 - accuracy: 0.9803 - val_loss: 0.0451 - val_accuracy: 0.9853\n",
      "Epoch 3/20\n",
      "1313/1313 [==============================] - 104s 79ms/step - loss: 0.0652 - accuracy: 0.9802 - val_loss: 0.0704 - val_accuracy: 0.9774\n",
      "Epoch 4/20\n",
      "1313/1313 [==============================] - 105s 80ms/step - loss: 0.0653 - accuracy: 0.9790 - val_loss: 0.0786 - val_accuracy: 0.9745\n",
      "Epoch 5/20\n",
      "1313/1313 [==============================] - 104s 79ms/step - loss: 0.0580 - accuracy: 0.9820 - val_loss: 0.0567 - val_accuracy: 0.9824\n",
      "Epoch 6/20\n",
      "1313/1313 [==============================] - 103s 79ms/step - loss: 0.0618 - accuracy: 0.9805 - val_loss: 0.0614 - val_accuracy: 0.9815\n",
      "Epoch 7/20\n",
      "1313/1313 [==============================] - 105s 80ms/step - loss: 0.0525 - accuracy: 0.9830 - val_loss: 0.0566 - val_accuracy: 0.9818\n",
      "Epoch 8/20\n",
      "1313/1313 [==============================] - 104s 79ms/step - loss: 0.0546 - accuracy: 0.9826 - val_loss: 0.0576 - val_accuracy: 0.9826\n",
      "Epoch 9/20\n",
      "1313/1313 [==============================] - 104s 79ms/step - loss: 0.0507 - accuracy: 0.9838 - val_loss: 0.0645 - val_accuracy: 0.9794\n",
      "Epoch 10/20\n",
      "1313/1313 [==============================] - 104s 79ms/step - loss: 0.0494 - accuracy: 0.9837 - val_loss: 0.0544 - val_accuracy: 0.9836\n",
      "Epoch 11/20\n",
      "1313/1313 [==============================] - 104s 79ms/step - loss: 0.0472 - accuracy: 0.9846 - val_loss: 0.0551 - val_accuracy: 0.9835\n",
      "Epoch 12/20\n",
      "1313/1313 [==============================] - 104s 79ms/step - loss: 0.0478 - accuracy: 0.9850 - val_loss: 0.0671 - val_accuracy: 0.9789\n",
      "Epoch 13/20\n",
      "1313/1313 [==============================] - 104s 79ms/step - loss: 0.0533 - accuracy: 0.9834 - val_loss: 0.0686 - val_accuracy: 0.9789\n",
      "Epoch 14/20\n",
      "1313/1313 [==============================] - 103s 78ms/step - loss: 0.0606 - accuracy: 0.9800 - val_loss: 0.0705 - val_accuracy: 0.9776\n",
      "Epoch 15/20\n",
      "1313/1313 [==============================] - 104s 79ms/step - loss: 0.0522 - accuracy: 0.9837 - val_loss: 0.0676 - val_accuracy: 0.9798\n",
      "Epoch 16/20\n",
      "1313/1313 [==============================] - 103s 78ms/step - loss: 0.0472 - accuracy: 0.9848 - val_loss: 0.0589 - val_accuracy: 0.9818\n",
      "Epoch 17/20\n",
      "1313/1313 [==============================] - 103s 79ms/step - loss: 0.0502 - accuracy: 0.9835 - val_loss: 0.0662 - val_accuracy: 0.9793\n",
      "Epoch 18/20\n",
      "1313/1313 [==============================] - 104s 79ms/step - loss: 0.0499 - accuracy: 0.9836 - val_loss: 0.0731 - val_accuracy: 0.9782\n",
      "Epoch 19/20\n",
      "1313/1313 [==============================] - 104s 79ms/step - loss: 0.0490 - accuracy: 0.9834 - val_loss: 0.0716 - val_accuracy: 0.9774\n",
      "Epoch 20/20\n",
      "1313/1313 [==============================] - 104s 79ms/step - loss: 0.0475 - accuracy: 0.9843 - val_loss: 0.0741 - val_accuracy: 0.9776\n",
      "Epoch 1/20\n",
      "1313/1313 [==============================] - 104s 79ms/step - loss: 0.0772 - accuracy: 0.9752 - val_loss: 0.0459 - val_accuracy: 0.9853\n",
      "Epoch 2/20\n",
      "1313/1313 [==============================] - 103s 79ms/step - loss: 0.0747 - accuracy: 0.9755 - val_loss: 0.0546 - val_accuracy: 0.9815\n",
      "Epoch 3/20\n",
      "1313/1313 [==============================] - 104s 79ms/step - loss: 0.0680 - accuracy: 0.9785 - val_loss: 0.0658 - val_accuracy: 0.9782\n",
      "Epoch 4/20\n",
      "1313/1313 [==============================] - 104s 79ms/step - loss: 0.0597 - accuracy: 0.9808 - val_loss: 0.0567 - val_accuracy: 0.9808\n",
      "Epoch 5/20\n",
      "1313/1313 [==============================] - 104s 79ms/step - loss: 0.0643 - accuracy: 0.9793 - val_loss: 0.0485 - val_accuracy: 0.9842\n",
      "Epoch 6/20\n",
      "1313/1313 [==============================] - 104s 79ms/step - loss: 0.0564 - accuracy: 0.9821 - val_loss: 0.0486 - val_accuracy: 0.9842\n",
      "Epoch 7/20\n",
      "1313/1313 [==============================] - 104s 79ms/step - loss: 0.0596 - accuracy: 0.9813 - val_loss: 0.0653 - val_accuracy: 0.9799\n",
      "Epoch 8/20\n",
      "1313/1313 [==============================] - 104s 79ms/step - loss: 0.0684 - accuracy: 0.9775 - val_loss: 0.0568 - val_accuracy: 0.9815\n",
      "Epoch 9/20\n",
      "1313/1313 [==============================] - 104s 79ms/step - loss: 0.0582 - accuracy: 0.9818 - val_loss: 0.0578 - val_accuracy: 0.9819\n",
      "Epoch 10/20\n",
      "1313/1313 [==============================] - 104s 79ms/step - loss: 0.0633 - accuracy: 0.9797 - val_loss: 0.0563 - val_accuracy: 0.9815\n",
      "Epoch 11/20\n",
      "1313/1313 [==============================] - 104s 79ms/step - loss: 0.0515 - accuracy: 0.9840 - val_loss: 0.0648 - val_accuracy: 0.9777\n",
      "Epoch 12/20\n",
      "1313/1313 [==============================] - 104s 79ms/step - loss: 0.0598 - accuracy: 0.9811 - val_loss: 0.0556 - val_accuracy: 0.9815\n",
      "Epoch 13/20\n",
      "1313/1313 [==============================] - 105s 80ms/step - loss: 0.0607 - accuracy: 0.9807 - val_loss: 0.0833 - val_accuracy: 0.9738\n",
      "Epoch 14/20\n",
      "1313/1313 [==============================] - 104s 79ms/step - loss: 0.0593 - accuracy: 0.9812 - val_loss: 0.0543 - val_accuracy: 0.9820\n",
      "Epoch 15/20\n",
      "1313/1313 [==============================] - 104s 79ms/step - loss: 0.0487 - accuracy: 0.9844 - val_loss: 0.0519 - val_accuracy: 0.9827\n",
      "Epoch 16/20\n",
      "1313/1313 [==============================] - 104s 79ms/step - loss: 0.0491 - accuracy: 0.9845 - val_loss: 0.0502 - val_accuracy: 0.9840\n",
      "Epoch 17/20\n",
      "1313/1313 [==============================] - 104s 79ms/step - loss: 0.0488 - accuracy: 0.9845 - val_loss: 0.0635 - val_accuracy: 0.9806\n",
      "Epoch 18/20\n",
      "1313/1313 [==============================] - 104s 79ms/step - loss: 0.0566 - accuracy: 0.9818 - val_loss: 0.0548 - val_accuracy: 0.9832\n",
      "Epoch 19/20\n",
      "1313/1313 [==============================] - 104s 79ms/step - loss: 0.0569 - accuracy: 0.9820 - val_loss: 0.0565 - val_accuracy: 0.9819\n",
      "Epoch 20/20\n",
      "1313/1313 [==============================] - 104s 79ms/step - loss: 0.0517 - accuracy: 0.9833 - val_loss: 0.0584 - val_accuracy: 0.9820\n",
      "Runtime was: 311.15 minutes\n"
     ]
    }
   ],
   "source": [
    "epochs = 20\n",
    "batch_size = 32\n",
    "learning_rates = [0.001, 0.01, 0.1]\n",
    "accuracies_dict = {}\n",
    "\n",
    "kfold = KFold(n_splits=3)\n",
    "acc_dict = {}\n",
    "start = timeit.default_timer()\n",
    "for l_rate in learning_rates:\n",
    "    leNet_model = leNet_5_setup(activation_function = 'tanh', learning_rate = l_rate)\n",
    "    train_acc_per_fold = []\n",
    "    val_acc_per_fold = []\n",
    "    for train_indices, test_indices in kfold.split(X_train_val_4d, y_train_val_onehot):\n",
    "        X_train_set = X_train_val_4d[train_indices]\n",
    "        y_train_set = y_train_val_onehot[train_indices]\n",
    "        X_test_set = X_train_val_4d[test_indices]\n",
    "        y_test_set = y_train_val_onehot[test_indices]\n",
    "        leNet_history = leNet_model.fit(X_train_set, y_train_set, validation_data=(X_test_set, y_test_set), shuffle=False, batch_size = batch_size, epochs = epochs, verbose = 1) \n",
    "        train_acc_per_fold.append(leNet_history.history['accuracy'][-1])\n",
    "        val_acc_per_fold.append(leNet_history.history['val_accuracy'][-1])\n",
    "    accuracies_dict[\"L-rate \" + str(l_rate) +' train acc'] = np.mean(train_acc_per_fold)\n",
    "    accuracies_dict[\"L-rate \" + str(l_rate) + ' val acc'] = np.mean(val_acc_per_fold)\n",
    "stop = timeit.default_timer()\n",
    "runtime = ((stop-start) / 60.0)\n",
    "print(\"Runtime was: %.2f\" %runtime, \"minutes\")    "
   ]
  },
  {
   "cell_type": "code",
   "execution_count": 42,
   "metadata": {},
   "outputs": [
    {
     "data": {
      "image/png": "[encoded data removed]",
      "text/plain": [
       "<Figure size 1080x360 with 1 Axes>"
      ]
     },
     "metadata": {
      "needs_background": "light"
     },
     "output_type": "display_data"
    }
   ],
   "source": [
    "# Histogram\n",
    "lr_names = list(accuracies_dict.keys())\n",
    "lr_values = list(accuracies_dict.values())\n",
    "fig = plt.figure(figsize=(15,5))\n",
    "plt.ylim(bottom=0.97, top = 1)\n",
    "plt.bar(lr_names, lr_values, color=['lightcoral', 'red', 'cornflowerblue', 'blue', 'mediumseagreen', 'green'])\n",
    "#plt.xticks(np.arange(0, 10))\n",
    "plt.ylabel('Accuracy')\n",
    "plt.xlabel('Label')\n",
    "plt.title(\"Train and val accuracy for learning rate\");"
   ]
  },
  {
   "cell_type": "code",
   "execution_count": 39,
   "metadata": {},
   "outputs": [
    {
     "name": "stdout",
     "output_type": "stream",
     "text": [
      "Accuracy for optimal learning rate is: 0.993\n"
     ]
    }
   ],
   "source": [
    "print(\"Accuracy for optimal learning rate is: %.3f\" %accuracies_dict['L-rate 0.01 val accuracy'])"
   ]
  },
  {
   "cell_type": "markdown",
   "metadata": {},
   "source": [
    "## K-nearest neighbour\n",
    "The classifier being used is sklearn's KNeiboursClassifier: https://scikit-learn.org/stable/modules/generated/sklearn.neighbors.KNeighborsClassifier.html\n",
    "\n",
    "\n",
    "First we check an initial round of training and validation to see how much time is required. Based on these results we can determine how many hypterparameters it would be feasible to test."
   ]
  },
  {
   "cell_type": "code",
   "execution_count": 29,
   "metadata": {},
   "outputs": [
    {
     "name": "stdout",
     "output_type": "stream",
     "text": [
      "Train runtime for is: 33.46 seconds\n",
      "Validation runtime  is: 284.68 seconds\n"
     ]
    }
   ],
   "source": [
    "KNN_clf = KNeighborsClassifier(n_neighbors=3, n_jobs = -1)\n",
    "start = timeit.default_timer()\n",
    "KNN_clf.fit(X_train_2d, y_train)\n",
    "stop = timeit.default_timer()\n",
    "print(\"Train runtime for is: %.2f\" %(stop-start), \"seconds\")\n",
    "start = timeit.default_timer()\n",
    "val_score2 = KNN_clf.score(X_val_2d, y_val)\n",
    "stop = timeit.default_timer()\n",
    "print(\"Validation runtime  is: %.2f\" %(stop-start), \"seconds\")"
   ]
  },
  {
   "cell_type": "markdown",
   "metadata": {},
   "source": [
    "It takes about half a minute to train the classifier, and about 5 minutes to get an accuracy score. With k-fold, and k = 3, this would be about 30 (once for train accc and once for train acc) minutes per hyperparameter combination. Since this is quite time consuming, we will only check different values for the \"number of neighbours\" hyperparameter."
   ]
  },
  {
   "cell_type": "code",
   "execution_count": 30,
   "metadata": {},
   "outputs": [
    {
     "name": "stdout",
     "output_type": "stream",
     "text": [
      "Possible parameters for KNN:\n",
      "{'algorithm': 'auto',\n",
      " 'leaf_size': 30,\n",
      " 'metric': 'minkowski',\n",
      " 'metric_params': None,\n",
      " 'n_jobs': -1,\n",
      " 'n_neighbors': 3,\n",
      " 'p': 2,\n",
      " 'weights': 'uniform'}\n"
     ]
    }
   ],
   "source": [
    "print('Possible parameters for KNN:')\n",
    "pprint(KNN_clf.get_params())"
   ]
  },
  {
   "cell_type": "code",
   "execution_count": 31,
   "metadata": {},
   "outputs": [
    {
     "name": "stdout",
     "output_type": "stream",
     "text": [
      "Checking no. neighbours =  5\n",
      "Fold number 1\n",
      "Fold number 2\n",
      "Fold number 3\n",
      "Checking no. neighbours =  9\n",
      "Fold number 1\n",
      "Fold number 2\n",
      "Fold number 3\n",
      "Checking no. neighbours =  15\n",
      "Fold number 1\n",
      "Fold number 2\n",
      "Fold number 3\n",
      "Runtime was: 216.86 minutes\n"
     ]
    }
   ],
   "source": [
    "n_neighbours = [5, 9, 15]\n",
    "KNN_acc_dict = {}\n",
    "\n",
    "start = timeit.default_timer()\n",
    "for n in n_neighbours:\n",
    "    print(\"Checking no. neighbours = \", n)\n",
    "    train_acc_per_fold = []\n",
    "    val_acc_per_fold = []\n",
    "    KNN_clf = KNeighborsClassifier(n_neighbors= n, n_jobs = -1)\n",
    "    fold_n = 1\n",
    "    for train_indices, test_indices in kfold.split(X_train_val_2d, y_train_val):\n",
    "        print(\"Fold number\", fold_n)\n",
    "        X_train_set = X_train_val_2d[train_indices]\n",
    "        y_train_set = y_train_val[train_indices]\n",
    "        X_test_set = X_train_val_2d[test_indices]\n",
    "        y_test_set = y_train_val[test_indices]\n",
    "        KNN_clf.fit(X_train_set, y_train_set)\n",
    "        train_acc = KNN_clf.score(X_train_set, y_train_set)\n",
    "        train_acc_per_fold.append(train_acc)\n",
    "        val_acc = KNN_clf.score(X_test_set, y_test_set)\n",
    "        val_acc_per_fold.append(val_acc)\n",
    "        fold_n += 1\n",
    "    KNN_acc_dict[\"No. neigh. \" + str(n) +' train acc'] = np.mean(train_acc_per_fold)\n",
    "    KNN_acc_dict[\"No. neigh. \" + str(n) + ' val acc'] = np.mean(val_acc_per_fold)\n",
    "    \n",
    "stop = timeit.default_timer()\n",
    "runtime = ((stop-start) / 60.0)\n",
    "print(\"Runtime was: %.2f\" %runtime, \"minutes\")"
   ]
  },
  {
   "cell_type": "code",
   "execution_count": 32,
   "metadata": {},
   "outputs": [
    {
     "data": {
      "image/png": "[encoded data removed]",
      "text/plain": [
       "<Figure size 1440x360 with 1 Axes>"
      ]
     },
     "metadata": {
      "needs_background": "light"
     },
     "output_type": "display_data"
    }
   ],
   "source": [
    "# Histogram\n",
    "KNN_names = list(KNN_acc_dict.keys())\n",
    "KNN_values = list(KNN_acc_dict.values())\n",
    "fig = plt.figure(figsize=(20,5))\n",
    "plt.ylim(bottom=0.95, top = 1)\n",
    "#plt.bar(names, values)\n",
    "plt.bar(KNN_names, KNN_values, width = 0.8, color=['lightcoral', 'red', 'cornflowerblue', 'blue', 'mediumseagreen', 'green'])\n",
    "#plt.xticks(np.arange(0, 10))\n",
    "plt.ylabel('Accuracy')\n",
    "plt.xlabel('Label')\n",
    "plt.title(\"Train and val accuracy number of neighbours\");"
   ]
  },
  {
   "cell_type": "code",
   "execution_count": 36,
   "metadata": {},
   "outputs": [
    {
     "name": "stdout",
     "output_type": "stream",
     "text": [
      "Accuracy for optimal number of neigbours, 15, is: 0.969\n"
     ]
    }
   ],
   "source": [
    "optimal_KNN_score = KNN_acc_dict['No. neigh. 5 val acc']\n",
    "print(\"Accuracy for optimal number of neigbours, 15, is: %.3f\" %optimal_KNN_score)"
   ]
  },
  {
   "cell_type": "markdown",
   "metadata": {},
   "source": [
    "Out of the ones tested, the optimal number of neighbours was __."
   ]
  },
  {
   "cell_type": "markdown",
   "metadata": {},
   "source": [
    "## Selection Results"
   ]
  },
  {
   "cell_type": "code",
   "execution_count": 37,
   "metadata": {},
   "outputs": [
    {
     "name": "stdout",
     "output_type": "stream",
     "text": [
      "Epoch 1/20\n",
      "1575/1575 [==============================] - 131s 83ms/step - loss: 0.1838 - accuracy: 0.9485 - val_loss: 0.0992 - val_accuracy: 0.9716\n",
      "Epoch 2/20\n",
      "1575/1575 [==============================] - 118s 75ms/step - loss: 0.0785 - accuracy: 0.9778 - val_loss: 0.0793 - val_accuracy: 0.9761\n",
      "Epoch 3/20\n",
      "1575/1575 [==============================] - 110s 70ms/step - loss: 0.0607 - accuracy: 0.9828 - val_loss: 0.0699 - val_accuracy: 0.9796\n",
      "Epoch 4/20\n",
      "1575/1575 [==============================] - 115s 73ms/step - loss: 0.0501 - accuracy: 0.9860 - val_loss: 0.0615 - val_accuracy: 0.9833\n",
      "Epoch 5/20\n",
      "1575/1575 [==============================] - 124s 79ms/step - loss: 0.0428 - accuracy: 0.9888 - val_loss: 0.0591 - val_accuracy: 0.9834\n",
      "Epoch 6/20\n",
      "1575/1575 [==============================] - 121s 77ms/step - loss: 0.0367 - accuracy: 0.9904 - val_loss: 0.0548 - val_accuracy: 0.9849\n",
      "Epoch 7/20\n",
      "1575/1575 [==============================] - 121s 77ms/step - loss: 0.0328 - accuracy: 0.9919 - val_loss: 0.0557 - val_accuracy: 0.9836\n",
      "Epoch 8/20\n",
      "1575/1575 [==============================] - 121s 77ms/step - loss: 0.0298 - accuracy: 0.9926 - val_loss: 0.0529 - val_accuracy: 0.9856\n",
      "Epoch 9/20\n",
      "1575/1575 [==============================] - 121s 77ms/step - loss: 0.0268 - accuracy: 0.9935 - val_loss: 0.0495 - val_accuracy: 0.9864\n",
      "Epoch 10/20\n",
      "1575/1575 [==============================] - 123s 78ms/step - loss: 0.0245 - accuracy: 0.9943 - val_loss: 0.0492 - val_accuracy: 0.9860\n",
      "Epoch 11/20\n",
      "1575/1575 [==============================] - 123s 78ms/step - loss: 0.0214 - accuracy: 0.9955 - val_loss: 0.0496 - val_accuracy: 0.9857\n",
      "Epoch 12/20\n",
      "1575/1575 [==============================] - 122s 78ms/step - loss: 0.0192 - accuracy: 0.9961 - val_loss: 0.0506 - val_accuracy: 0.9856\n",
      "Epoch 13/20\n",
      "1575/1575 [==============================] - 120s 76ms/step - loss: 0.0176 - accuracy: 0.9965 - val_loss: 0.0475 - val_accuracy: 0.9867\n",
      "Epoch 14/20\n",
      "1575/1575 [==============================] - 121s 77ms/step - loss: 0.0161 - accuracy: 0.9970 - val_loss: 0.0479 - val_accuracy: 0.9874\n",
      "Epoch 15/20\n",
      "1575/1575 [==============================] - 121s 77ms/step - loss: 0.0145 - accuracy: 0.9976 - val_loss: 0.0473 - val_accuracy: 0.9861\n",
      "Epoch 16/20\n",
      "1575/1575 [==============================] - 120s 76ms/step - loss: 0.0130 - accuracy: 0.9980 - val_loss: 0.0462 - val_accuracy: 0.9867\n",
      "Epoch 17/20\n",
      "1575/1575 [==============================] - 125s 79ms/step - loss: 0.0120 - accuracy: 0.9985 - val_loss: 0.0465 - val_accuracy: 0.9874\n",
      "Epoch 18/20\n",
      "1575/1575 [==============================] - 121s 77ms/step - loss: 0.0112 - accuracy: 0.9983 - val_loss: 0.0460 - val_accuracy: 0.9870\n",
      "Epoch 19/20\n",
      "1575/1575 [==============================] - 124s 78ms/step - loss: 0.0102 - accuracy: 0.9987 - val_loss: 0.0466 - val_accuracy: 0.9864\n",
      "Epoch 20/20\n",
      "1575/1575 [==============================] - 122s 77ms/step - loss: 0.0095 - accuracy: 0.9990 - val_loss: 0.0453 - val_accuracy: 0.9873\n"
     ]
    }
   ],
   "source": [
    "epochs = 20\n",
    "batch_size = 32\n",
    "leNet_optimal_model = leNet_5_setup(activation_function = 'tanh', learning_rate = 0.01)\n",
    "leNet_opt_history = leNet_optimal_model.fit(X_train_4d, y_train_onehot, validation_data=(X_test_4d, y_test_onehot), shuffle=False, batch_size = batch_size, epochs = epochs, verbose = 1) \n",
    "train_acc = leNet_opt_history.history['accuracy'][-1]\n",
    "test_acc = leNet_opt_history.history['val_accuracy'][-1]"
   ]
  },
  {
   "cell_type": "code",
   "execution_count": 38,
   "metadata": {},
   "outputs": [
    {
     "name": "stdout",
     "output_type": "stream",
     "text": [
      "Accuracy of LeNet-5 model on new unseen test data: 0.9872857332229614\n"
     ]
    }
   ],
   "source": [
    "print(\"Accuracy of LeNet-5 model on new unseen test data:\", test_acc)"
   ]
  },
  {
   "cell_type": "code",
   "execution_count": null,
   "metadata": {},
   "outputs": [],
   "source": []
  }
 ],
 "metadata": {
  "kernelspec": {
   "display_name": "Python 3",
   "language": "python",
   "name": "python3"
  },
  "language_info": {
   "codemirror_mode": {
    "name": "ipython",
    "version": 3
   },
   "file_extension": ".py",
   "mimetype": "text/x-python",
   "name": "python",
   "nbconvert_exporter": "python",
   "pygments_lexer": "ipython3",
   "version": "3.7.7"
  }
 },
 "nbformat": 4,
 "nbformat_minor": 4
}
