{
 "cells": [
  {
   "cell_type": "markdown",
   "metadata": {},
   "source": [
    "# Project 3 INF264\n",
    "\n",
    "Author: Johanna Jøsang (fak006)"
   ]
  },
  {
   "cell_type": "code",
   "execution_count": 72,
   "metadata": {},
   "outputs": [],
   "source": [
    "# Imports\n",
    "import pandas as pd\n",
    "import numpy as np\n",
    "import collections\n",
    "import matplotlib.pyplot as plt\n",
    "import random\n",
    "from sklearn.model_selection import train_test_split, KFold\n",
    "from sklearn.ensemble import RandomForestClassifier"
   ]
  },
  {
   "cell_type": "code",
   "execution_count": null,
   "metadata": {},
   "outputs": [],
   "source": [
    "# Load data\n",
    "label_data = np.genfromtxt('handwritten_digits_labels.csv', delimiter=',')\n",
    "image_data = np.genfromtxt('handwritten_digits_images.csv', delimiter=',')\n",
    "image_data = image_data.reshape(image_data.shape[0], 28, 28) # reshaping data"
   ]
  },
  {
   "cell_type": "markdown",
   "metadata": {},
   "source": [
    "## Visualisation and preprocessing\n",
    "\n",
    "In order to get a better understanding of the data I have been given, I start by gathering information about it.\n",
    "First I would like to get a look at the shape of the data."
   ]
  },
  {
   "cell_type": "code",
   "execution_count": 14,
   "metadata": {},
   "outputs": [
    {
     "name": "stdout",
     "output_type": "stream",
     "text": [
      "Label data shape: (70000,)\n",
      "Image data shape: (70000, 28, 28)\n"
     ]
    }
   ],
   "source": [
    "print(\"Label data shape:\", label_data.shape)\n",
    "print(\"Image data shape:\", image_data.shape)"
   ]
  },
  {
   "cell_type": "markdown",
   "metadata": {},
   "source": [
    "As expected, the label dataset is a simple array with 70000 values, while the image dataset has 70000 2d arrays represetning the digit image.\n",
    "\n",
    "Just to visalize the data for myself I print out a random image and its corresponding label."
   ]
  },
  {
   "cell_type": "code",
   "execution_count": 22,
   "metadata": {},
   "outputs": [
    {
     "name": "stdout",
     "output_type": "stream",
     "text": [
      "At index 29527 there is a 4.0\n"
     ]
    },
    {
     "data": {
      "image/png": "[encoded data removed]",
      "text/plain": [
       "<Figure size 432x288 with 1 Axes>"
      ]
     },
     "metadata": {
      "needs_background": "light"
     },
     "output_type": "display_data"
    }
   ],
   "source": [
    "data_index = random.randint(0, label_data.size)\n",
    "img = image_data[data_index]\n",
    "plt.imshow(img, cmap=\"Greys\")\n",
    "print(\"At index\", data_index, \"there is a\", label_data[data_index])"
   ]
  },
  {
   "cell_type": "markdown",
   "metadata": {},
   "source": [
    "### Digit distribution\n",
    "\n",
    "In order to find out how the data is distributed between the 10 digits, I print out the frequency, percentages and a histogram to see the distribution."
   ]
  },
  {
   "cell_type": "code",
   "execution_count": 63,
   "metadata": {},
   "outputs": [
    {
     "name": "stdout",
     "output_type": "stream",
     "text": [
      "Counter({1.0: 7877, 7.0: 7293, 3.0: 7141, 2.0: 6990, 9.0: 6958, 0.0: 6903, 6.0: 6876, 8.0: 6825, 4.0: 6824, 5.0: 6313})\n",
      "0 :  9.86 %\n",
      "1 :  11.25 %\n",
      "2 :  9.99 %\n",
      "3 :  10.20 %\n",
      "4 :  9.75 %\n",
      "5 :  9.02 %\n",
      "6 :  9.82 %\n",
      "7 :  10.42 %\n",
      "8 :  9.75 %\n",
      "9 :  9.94 %\n",
      "Min freq is 5 with 9.02 %\n",
      "Max freq is 1 with 11.25 %\n"
     ]
    }
   ],
   "source": [
    "# Count number of examples for each digit\n",
    "label_counter = collections.Counter(label_data)\n",
    "print(label_counter)\n",
    "\n",
    "# Print out the percentages for each digit\n",
    "label_data_size = label_data.size\n",
    "for i in range(10):\n",
    "    percentage = (label_counter[i] / label_data_size) * 100\n",
    "    print(i, \": \", \"%.2f\" % percentage, \"%\")\n",
    "    \n",
    "# Print min and max, which can easily be count ince label_counter is sorted by frequency\n",
    "print(\"Min freq is 5 with\", \"%.2f\" % ((label_counter[5] / label_data_size) * 100), \"%\")\n",
    "print(\"Max freq is 1 with\", \"%.2f\" % ((label_counter[1] / label_data_size) * 100), \"%\")"
   ]
  },
  {
   "cell_type": "code",
   "execution_count": 59,
   "metadata": {},
   "outputs": [
    {
     "data": {
      "image/png": "[encoded data removed]",
      "text/plain": [
       "<Figure size 1080x360 with 1 Axes>"
      ]
     },
     "metadata": {
      "needs_background": "light"
     },
     "output_type": "display_data"
    }
   ],
   "source": [
    "# Histogram\n",
    "names = list(label_counter.keys())\n",
    "values = list(label_counter.values())\n",
    "fig = plt.figure(figsize=(15,5))\n",
    "plt.bar(names, values)\n",
    "plt.xticks(np.arange(0, 10))\n",
    "plt.ylabel('Frequency')\n",
    "plt.xlabel('Label')\n",
    "plt.title(\"Digit frequency\");"
   ]
  },
  {
   "cell_type": "markdown",
   "metadata": {},
   "source": [
    "All digits have about 10% of the data, so it does not seem like the dataset needs to be balanced. The least frequent digit was 5 (9.02 %) and the most frequent was 1 (11.25 %). If our trained classifiers become much worse at categorizing 5s compared to 1s then we can perhaps go back and balance the data."
   ]
  },
  {
   "cell_type": "code",
   "execution_count": 69,
   "metadata": {},
   "outputs": [],
   "source": [
    "X_train_val, X_test, y_train_val, y_test = train_test_split(image_data, label_data, test_size=0.1, shuffle=True)\n",
    "X_train, X_val, y_train, y_val = train_test_split(X_train_val, y_train_val, test_size=0.1, shuffle=True)\n"
   ]
  },
  {
   "cell_type": "code",
   "execution_count": 85,
   "metadata": {},
   "outputs": [],
   "source": [
    "def reshape_3d_to_2d(data_3d):\n",
    "    number_of_samples, x_dim, y_dim = data_3d.shape\n",
    "    dataset_2d = data_3d.reshape((number_of_samples,x_dim*y_dim))\n",
    "    return dataset_2d\n",
    "\n",
    "X_train_2d = reshape_3d_to_2d(X_train)"
   ]
  },
  {
   "cell_type": "code",
   "execution_count": 83,
   "metadata": {},
   "outputs": [
    {
     "data": {
      "text/plain": [
       "RandomForestClassifier()"
      ]
     },
     "execution_count": 83,
     "metadata": {},
     "output_type": "execute_result"
    }
   ],
   "source": [
    "clf = RandomForestClassifier()\n",
    "clf.fit(X_train_2d, y_train)\n",
    "\n",
    "#print(clf.predict([[0, 0, 0, 0]]))"
   ]
  },
  {
   "cell_type": "code",
   "execution_count": 87,
   "metadata": {},
   "outputs": [
    {
     "name": "stdout",
     "output_type": "stream",
     "text": [
      "0.9680952380952381\n"
     ]
    }
   ],
   "source": [
    "X_val_2d = reshape_3d_to_2d(X_val)\n",
    "print(clf.score(X_val_2d, y_val))"
   ]
  },
  {
   "cell_type": "code",
   "execution_count": null,
   "metadata": {},
   "outputs": [],
   "source": []
  }
 ],
 "metadata": {
  "kernelspec": {
   "display_name": "Python 3",
   "language": "python",
   "name": "python3"
  },
  "language_info": {
   "codemirror_mode": {
    "name": "ipython",
    "version": 3
   },
   "file_extension": ".py",
   "mimetype": "text/x-python",
   "name": "python",
   "nbconvert_exporter": "python",
   "pygments_lexer": "ipython3",
   "version": "3.7.7"
  }
 },
 "nbformat": 4,
 "nbformat_minor": 4
}
