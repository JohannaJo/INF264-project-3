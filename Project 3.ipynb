{
 "cells": [
  {
   "cell_type": "markdown",
   "metadata": {},
   "source": [
    "# Project 3 INF264\n",
    "\n",
    "Author: Johanna Jøsang (fak006)"
   ]
  },
  {
   "cell_type": "code",
   "execution_count": 1,
   "metadata": {},
   "outputs": [],
   "source": [
    "# Imports\n",
    "import pandas as pd\n",
    "import numpy as np\n",
    "import collections\n",
    "from pprint import pprint\n",
    "import matplotlib.pyplot as plt\n",
    "import random\n",
    "import timeit\n",
    "from pprint import pprint\n",
    "from sklearn.model_selection import train_test_split, KFold, cross_val_score\n",
    "from sklearn.tree import DecisionTreeClassifier\n",
    "from sklearn.ensemble import RandomForestClassifier\n",
    "from sklearn.model_selection import RandomizedSearchCV\n",
    "from sklearn.model_selection import GridSearchCV\n",
    "from sklearn.neighbors import KNeighborsClassifier\n",
    "\n",
    "\n",
    "# LeNet-5 imports\n",
    "from keras.layers.convolutional import Conv2D\n",
    "from keras.layers.convolutional import AveragePooling2D\n",
    "from keras.layers.core import Activation\n",
    "from keras.layers.core import Flatten\n",
    "from keras.layers.core import Dense\n",
    "from keras.models import Sequential\n",
    "from keras.optimizers import SGD\n",
    "from keras.utils import np_utils"
   ]
  },
  {
   "cell_type": "code",
   "execution_count": 2,
   "metadata": {},
   "outputs": [],
   "source": [
    "# Load data\n",
    "label_data = np.genfromtxt('handwritten_digits_labels.csv', delimiter=',')\n",
    "image_data = np.genfromtxt('handwritten_digits_images.csv', delimiter=',')\n",
    "image_data = image_data.reshape(image_data.shape[0], 28, 28) # reshaping data"
   ]
  },
  {
   "cell_type": "markdown",
   "metadata": {},
   "source": [
    "## Visualisation and preprocessing\n",
    "\n",
    "In order to get a better understanding of the data I have been given, I start by gathering information about it.\n",
    "First I would like to get a look at the shape of the data."
   ]
  },
  {
   "cell_type": "code",
   "execution_count": 9,
   "metadata": {},
   "outputs": [
    {
     "name": "stdout",
     "output_type": "stream",
     "text": [
      "Label data shape: (70000,)\n",
      "Image data shape: (70000, 28, 28)\n"
     ]
    }
   ],
   "source": [
    "print(\"Label data shape:\", label_data.shape)\n",
    "print(\"Image data shape:\", image_data.shape)"
   ]
  },
  {
   "cell_type": "markdown",
   "metadata": {},
   "source": [
    "As expected, the label dataset is a simple array with 70000 values, while the image dataset has 70000 2d arrays represetning the digit image.\n",
    "\n",
    "Just to visalize the data for myself I print out a random image and its corresponding label."
   ]
  },
  {
   "cell_type": "code",
   "execution_count": 10,
   "metadata": {},
   "outputs": [
    {
     "name": "stdout",
     "output_type": "stream",
     "text": [
      "At index 46946 there is a 6.0\n"
     ]
    },
    {
     "data": {
      "image/png": "[encoded data removed]",
      "text/plain": [
       "<Figure size 432x288 with 1 Axes>"
      ]
     },
     "metadata": {
      "needs_background": "light"
     },
     "output_type": "display_data"
    }
   ],
   "source": [
    "data_index = random.randint(0, label_data.size)\n",
    "img = image_data[data_index]\n",
    "plt.imshow(img, cmap=\"Greys\")\n",
    "print(\"At index\", data_index, \"there is a\", label_data[data_index])"
   ]
  },
  {
   "cell_type": "markdown",
   "metadata": {},
   "source": [
    "### Digit distribution\n",
    "\n",
    "In order to find out how the data is distributed between the 10 digits, I print out the frequency, percentages and a histogram to see the distribution."
   ]
  },
  {
   "cell_type": "code",
   "execution_count": 11,
   "metadata": {},
   "outputs": [
    {
     "name": "stdout",
     "output_type": "stream",
     "text": [
      "Counter({1.0: 7877, 7.0: 7293, 3.0: 7141, 2.0: 6990, 9.0: 6958, 0.0: 6903, 6.0: 6876, 8.0: 6825, 4.0: 6824, 5.0: 6313})\n",
      "0 :  9.86 %\n",
      "1 :  11.25 %\n",
      "2 :  9.99 %\n",
      "3 :  10.20 %\n",
      "4 :  9.75 %\n",
      "5 :  9.02 %\n",
      "6 :  9.82 %\n",
      "7 :  10.42 %\n",
      "8 :  9.75 %\n",
      "9 :  9.94 %\n",
      "Min freq is 5 with 9.02 %\n",
      "Max freq is 1 with 11.25 %\n"
     ]
    }
   ],
   "source": [
    "# Count number of examples for each digit\n",
    "label_counter = collections.Counter(label_data)\n",
    "print(label_counter)\n",
    "\n",
    "# Print out the percentages for each digit\n",
    "label_data_size = label_data.size\n",
    "for i in range(10):\n",
    "    percentage = (label_counter[i] / label_data_size) * 100\n",
    "    print(i, \": \", \"%.2f\" % percentage, \"%\")\n",
    "    \n",
    "# Print min and max, which can easily be count ince label_counter is sorted by frequency\n",
    "print(\"Min freq is 5 with\", \"%.2f\" % ((label_counter[5] / label_data_size) * 100), \"%\")\n",
    "print(\"Max freq is 1 with\", \"%.2f\" % ((label_counter[1] / label_data_size) * 100), \"%\")"
   ]
  },
  {
   "cell_type": "code",
   "execution_count": 12,
   "metadata": {},
   "outputs": [
    {
     "data": {
      "image/png": "[encoded data removed]",
      "text/plain": [
       "<Figure size 1080x360 with 1 Axes>"
      ]
     },
     "metadata": {
      "needs_background": "light"
     },
     "output_type": "display_data"
    }
   ],
   "source": [
    "# Histogram\n",
    "names = list(label_counter.keys())\n",
    "values = list(label_counter.values())\n",
    "fig = plt.figure(figsize=(15,5))\n",
    "plt.bar(names, values)\n",
    "plt.xticks(np.arange(0, 10))\n",
    "plt.ylabel('Frequency')\n",
    "plt.xlabel('Label')\n",
    "plt.title(\"Digit frequency\");"
   ]
  },
  {
   "cell_type": "markdown",
   "metadata": {},
   "source": [
    "All digits have about 10% of the data, so it does not seem like the dataset needs to be balanced. The least frequent digit was 5 (9.02 %) and the most frequent was 1 (11.25 %). If our trained classifiers become much worse at categorizing 5s compared to 1s then we can perhaps go back and balance the data."
   ]
  },
  {
   "cell_type": "code",
   "execution_count": 3,
   "metadata": {},
   "outputs": [],
   "source": [
    "seed = 123\n",
    "X_train_val, X_test, y_train_val, y_test = train_test_split(image_data, label_data, test_size=0.1, shuffle=True, random_state=seed)\n",
    "X_train, X_val, y_train, y_val = train_test_split(X_train_val, y_train_val, test_size=0.2, shuffle=True, random_state=seed)\n"
   ]
  },
  {
   "cell_type": "code",
   "execution_count": 4,
   "metadata": {},
   "outputs": [],
   "source": [
    "def reshape_3d_to_2d(data_3d):\n",
    "    number_of_samples, x_dim, y_dim = data_3d.shape\n",
    "    dataset_2d = data_3d.reshape((number_of_samples,x_dim*y_dim))\n",
    "    return dataset_2d\n",
    "\n",
    "X_train_2d = reshape_3d_to_2d(X_train)\n",
    "X_val_2d = reshape_3d_to_2d(X_val)\n",
    "X_train_val_2d = reshape_3d_to_2d(X_train_val)"
   ]
  },
  {
   "cell_type": "markdown",
   "metadata": {},
   "source": [
    "## Baseline and evaluation methods\n",
    "Since we are creating classifiers, the evaluation method will be classification accuracy. For a more representative accuracy value, k-fold cross validation will be used, with k = 3. We will be using a simple decision tree classifier as a baseline."
   ]
  },
  {
   "cell_type": "code",
   "execution_count": 5,
   "metadata": {},
   "outputs": [],
   "source": [
    "kfold = KFold(n_splits=3) # initialize the kfold splitter with 3 splits"
   ]
  },
  {
   "cell_type": "code",
   "execution_count": 28,
   "metadata": {},
   "outputs": [],
   "source": [
    "dTree_clf = DecisionTreeClassifier(random_state= seed)\n",
    "scores = cross_val_score(dTree_clf, X_train_val_2d, y_train_val, cv=3)"
   ]
  },
  {
   "cell_type": "code",
   "execution_count": 29,
   "metadata": {},
   "outputs": [
    {
     "name": "stdout",
     "output_type": "stream",
     "text": [
      "Cross validation score for decision tree classifier is: 0.8635396825396825\n"
     ]
    }
   ],
   "source": [
    "print(\"Cross validation score for decision tree classifier is:\", np.mean(scores))"
   ]
  },
  {
   "cell_type": "markdown",
   "metadata": {},
   "source": [
    "## Random forest classifier\n",
    "The classifier being used is sklearn's Random Forest Classifier: https://scikit-learn.org/stable/modules/generated/sklearn.ensemble.RandomForestClassifier.html"
   ]
  },
  {
   "cell_type": "code",
   "execution_count": 30,
   "metadata": {},
   "outputs": [
    {
     "name": "stdout",
     "output_type": "stream",
     "text": [
      "Precision at depth 1 is val: 0.5097619047619047 train 0.5129761904761905\n",
      "Precision at depth 2 is val: 0.6461111111111111 train 0.6521428571428571\n",
      "Precision at depth 3 is val: 0.7437301587301587 train 0.7462896825396825\n",
      "Precision at depth 4 is val: 0.8202380952380952 train 0.8253968253968254\n",
      "Precision at depth 5 is val: 0.8587301587301587 train 0.8609722222222222\n",
      "Precision at depth 6 is val: 0.8864285714285715 train 0.8931150793650794\n",
      "Precision at depth 7 is val: 0.905079365079365 train 0.9142460317460317\n",
      "Precision at depth 8 is val: 0.9236507936507936 train 0.9358531746031746\n",
      "Precision at depth 9 is val: 0.9351587301587302 train 0.9517063492063492\n",
      "Precision at depth 10 is val: 0.9441269841269841 train 0.9668055555555556\n",
      "Precision at depth 11 is val: 0.952936507936508 train 0.9803174603174604\n",
      "Precision at depth 12 is val: 0.9565873015873015 train 0.9886507936507937\n",
      "Precision at depth 13 is val: 0.9602380952380952 train 0.9936507936507937\n",
      "Precision at depth 14 is val: 0.9635714285714285 train 0.9963888888888889\n",
      "Precision at depth 15 is val: 0.9628571428571429 train 0.9975396825396825\n",
      "Precision at depth 16 is val: 0.9650793650793651 train 0.9981944444444445\n",
      "Precision at depth 17 is val: 0.9653968253968254 train 0.9986507936507937\n",
      "Precision at depth 18 is val: 0.9673015873015873 train 0.998968253968254\n",
      "Precision at depth 19 is val: 0.9661904761904762 train 0.9991666666666666\n",
      "Precision at depth 20 is val: 0.9667460317460318 train 0.9993849206349207\n",
      "Precision at depth 21 is val: 0.9662698412698413 train 0.9994642857142857\n",
      "Precision at depth 22 is val: 0.966984126984127 train 0.9995436507936508\n",
      "Precision at depth 23 is val: 0.9673809523809523 train 0.9997222222222222\n",
      "Precision at depth 24 is val: 0.969047619047619 train 0.9998015873015873\n",
      "Precision at depth 25 is val: 0.9675396825396826 train 0.9998015873015873\n",
      "Precision at depth 26 is val: 0.9671428571428572 train 0.9998412698412699\n",
      "Precision at depth 27 is val: 0.9667460317460318 train 0.9998611111111111\n",
      "Precision at depth 28 is val: 0.967936507936508 train 0.9998809523809524\n",
      "Precision at depth 29 is val: 0.9663492063492064 train 0.9999603174603174\n"
     ]
    }
   ],
   "source": [
    "val_acc_at_depth = {} # Dictionary for keeping track of depth vs accuracy\n",
    "train_acc_at_depth = {} # Dictionary for keeping track of depth vs accuracy\n",
    "for i in range(1,30):\n",
    "    clf = RandomForestClassifier(max_depth = i)\n",
    "    #cross_val_scores = cross_val_score(clf, X_train_val_2d, y_train_val)\n",
    "    clf.fit(X_train_2d, y_train)\n",
    "    train_score = clf.score(X_train_2d, y_train)\n",
    "    val_score = clf.score(X_val_2d, y_val)\n",
    "    #mean_cross_val_score = np.mean(cross_val_scores)\n",
    "    print(\"Precision at depth\", i , \"is val:\", val_score, \"train\", train_score)\n",
    "    #acc_at_depth[i] = mean_cross_val_score \n",
    "    train_acc_at_depth[i] = train_score\n",
    "    val_acc_at_depth[i] = val_score"
   ]
  },
  {
   "cell_type": "code",
   "execution_count": 31,
   "metadata": {},
   "outputs": [
    {
     "data": {
      "image/png": "[encoded data removed]",
      "text/plain": [
       "<Figure size 1440x720 with 1 Axes>"
      ]
     },
     "metadata": {
      "needs_background": "light"
     },
     "output_type": "display_data"
    }
   ],
   "source": [
    "x = train_acc_at_depth.keys()\n",
    "train_y = train_acc_at_depth.values()\n",
    "val_y = val_acc_at_depth.values()\n",
    "fig = plt.figure(figsize=(20,10))\n",
    "plt.plot(x,train_y)\n",
    "plt.plot(x,val_y)\n",
    "plt.axvline(x=17, ymin=0, ymax=1, color = 'r', alpha = 0.4)\n",
    "plt.text(17.1, 0.96, \"Accuracy improvement after depth 17 is minimal\")\n",
    "plt.xlim(left=13)\n",
    "plt.ylim(bottom=0.5, top = 1)\n",
    "plt.title(\"Depth vs accuracy\")\n",
    "plt.xticks(np.arange(1, 30, 1))\n",
    "plt.ylabel('Accuracy')\n",
    "plt.xlabel('Depth')\n",
    "plt.show()"
   ]
  },
  {
   "cell_type": "markdown",
   "metadata": {},
   "source": [
    "While the accuracy did seem increase as max_depth was increased, the improvement was so marginal it did not justify the increased runtime. Hence max_depth was simply set to 30."
   ]
  },
  {
   "cell_type": "code",
   "execution_count": 32,
   "metadata": {},
   "outputs": [
    {
     "name": "stdout",
     "output_type": "stream",
     "text": [
      "Possible parameters for random forest:\n",
      "{'bootstrap': True,\n",
      " 'ccp_alpha': 0.0,\n",
      " 'class_weight': None,\n",
      " 'criterion': 'gini',\n",
      " 'max_depth': None,\n",
      " 'max_features': 'auto',\n",
      " 'max_leaf_nodes': None,\n",
      " 'max_samples': None,\n",
      " 'min_impurity_decrease': 0.0,\n",
      " 'min_impurity_split': None,\n",
      " 'min_samples_leaf': 1,\n",
      " 'min_samples_split': 2,\n",
      " 'min_weight_fraction_leaf': 0.0,\n",
      " 'n_estimators': 100,\n",
      " 'n_jobs': None,\n",
      " 'oob_score': False,\n",
      " 'random_state': 123,\n",
      " 'verbose': 0,\n",
      " 'warm_start': False}\n"
     ]
    }
   ],
   "source": [
    "rf = RandomForestClassifier(random_state = 123)\n",
    "print('Possible parameters for random forest:')\n",
    "pprint(rf.get_params())"
   ]
  },
  {
   "cell_type": "markdown",
   "metadata": {},
   "source": [
    "After maually testing out a couple of different hyperparameters to get an idea of how they impacted to accuracy, it became clear that only a small subset of the combinations would be able to be tested. Number of estimators, max_features, min_samples_leaf, and min_samples_split were chosen as they seemed to have the most effect on the accuracy rate."
   ]
  },
  {
   "cell_type": "code",
   "execution_count": 33,
   "metadata": {},
   "outputs": [
    {
     "name": "stdout",
     "output_type": "stream",
     "text": [
      "{'max_features': ['auto', 'sqrt'],\n",
      " 'min_samples_leaf': [1, 2, 4],\n",
      " 'min_samples_split': [2, 5, 10],\n",
      " 'n_estimators': range(50, 400, 50)}\n"
     ]
    }
   ],
   "source": [
    "n_estimators = range(50, 400, 50)\n",
    "max_features = ['auto', 'sqrt']\n",
    "#max_depth = range(10, 31, 5)\n",
    "min_samples_split = [2, 5, 10]\n",
    "min_samples_leaf = [1, 2, 4]\n",
    "random_grid = {'n_estimators': n_estimators,\n",
    "               'max_features': max_features,\n",
    "              # 'max_depth': max_depth,\n",
    "               'min_samples_split': min_samples_split,\n",
    "               'min_samples_leaf': min_samples_leaf}\n",
    "pprint(random_grid)"
   ]
  },
  {
   "cell_type": "code",
   "execution_count": 34,
   "metadata": {},
   "outputs": [
    {
     "name": "stdout",
     "output_type": "stream",
     "text": [
      "Fitting 3 folds for each of 100 candidates, totalling 300 fits\n"
     ]
    },
    {
     "name": "stderr",
     "output_type": "stream",
     "text": [
      "[Parallel(n_jobs=-1)]: Using backend LokyBackend with 8 concurrent workers.\n",
      "[Parallel(n_jobs=-1)]: Done  25 tasks      | elapsed: 11.8min\n",
      "[Parallel(n_jobs=-1)]: Done 146 tasks      | elapsed: 65.3min\n",
      "[Parallel(n_jobs=-1)]: Done 300 out of 300 | elapsed: 132.2min finished\n"
     ]
    },
    {
     "name": "stdout",
     "output_type": "stream",
     "text": [
      "Started\n"
     ]
    }
   ],
   "source": [
    "rf = RandomForestClassifier(max_depth = 30)\n",
    "start = timeit.default_timer()\n",
    "rf_random = RandomizedSearchCV(estimator = rf, param_distributions = random_grid, n_iter = 100, cv = 3, verbose=2, random_state=123, n_jobs = -1, return_train_score=True)\n",
    "rf_random.fit(X_train_val_2d, y_train_val)\n",
    "stop = timeit.default_timer()\n",
    "runtime = ((stop-start) / 60.0)\n",
    "print(\"Runtime was: %.2f\" %runtime, \"minutes\")    "
   ]
  },
  {
   "cell_type": "code",
   "execution_count": 35,
   "metadata": {},
   "outputs": [
    {
     "name": "stdout",
     "output_type": "stream",
     "text": [
      "The best hyperparameter values found are:\n"
     ]
    },
    {
     "data": {
      "text/plain": [
       "{'n_estimators': 350,\n",
       " 'min_samples_split': 2,\n",
       " 'min_samples_leaf': 1,\n",
       " 'max_features': 'sqrt'}"
      ]
     },
     "execution_count": 35,
     "metadata": {},
     "output_type": "execute_result"
    }
   ],
   "source": [
    "print(\"The best hyperparameter values found are:\")\n",
    "rf_random.best_params_"
   ]
  },
  {
   "cell_type": "code",
   "execution_count": 39,
   "metadata": {},
   "outputs": [
    {
     "name": "stdout",
     "output_type": "stream",
     "text": [
      "Accuracy for optimal random forest classifier is: 0.86\n"
     ]
    }
   ],
   "source": [
    "rf_clf = RandomForestClassifier(n_estimators =  300, max_depth = 30, min_samples_split = 2, min_samples_leaf = 1, max_features = 'auto')\n",
    "score = np.mean(cross_val_score(dTree_clf, X_train_val_2d, y_train_val, cv=3))\n",
    "print(\"Accuracy for optimal random forest classifier is: %.2f\" %score)"
   ]
  },
  {
   "cell_type": "markdown",
   "metadata": {},
   "source": [
    "## Convolutional Neural Network (LeNet-5)"
   ]
  },
  {
   "cell_type": "code",
   "execution_count": 12,
   "metadata": {},
   "outputs": [],
   "source": [
    "# Preprocessing\n",
    "\n",
    "# Make image data 4-dimensional\n",
    "X_train_val_4d = X_train_val.reshape(X_train_val.shape[0], 28, 28, 1)\n",
    "X_train_4d = X_train.reshape(X_train.shape[0], 28, 28, 1)\n",
    "X_val_4d = X_val.reshape(X_val.shape[0], 28, 28, 1)\n",
    "X_test_4d = X_test.reshape(X_test.shape[0], 28, 28, 1)\n",
    "\n",
    "# convert label data to one-hot encoding\n",
    "y_train_val_onehot = np_utils.to_categorical(y_train_val, 10)\n",
    "y_train_onehot = np_utils.to_categorical(y_train, 10)\n",
    "y_val_onehot = np_utils.to_categorical(y_val, 10)\n",
    "y_test_onehot = np_utils.to_categorical(y_test, 10)"
   ]
  },
  {
   "cell_type": "code",
   "execution_count": 22,
   "metadata": {},
   "outputs": [],
   "source": [
    "def leNet_5_setup(activation_function, learning_rate):    \n",
    "    # Initialize an empty sequential model\n",
    "    leNet_model = Sequential()\n",
    "    # Convolutional Layer\n",
    "    leNet_model.add(Conv2D(filters = 6, kernel_size=(3, 3), strides=(1, 1), activation= activation_function, input_shape=(28,28,1), padding= 'same'))\n",
    "    # Pooling\n",
    "    leNet_model.add(AveragePooling2D(pool_size=(2, 2), strides=(1, 1), padding= 'same'))\n",
    "    #Convolutional Layer\n",
    "    leNet_model.add(Conv2D(16, kernel_size=(3, 3), strides=(1, 1), activation= activation_function, padding= 'valid'))\n",
    "    # Pooling\n",
    "    leNet_model.add(AveragePooling2D(pool_size=(2, 2), strides=(1, 1), padding= 'valid'))\n",
    "    # Connected Convolutional Layer\n",
    "    leNet_model.add(Conv2D(120, kernel_size=(3, 3), strides=(1, 1), activation= activation_function, padding= 'valid'))\n",
    "    # Flattening\n",
    "    leNet_model.add(Flatten())\n",
    "    # Fully Connected Layer\n",
    "    leNet_model.add(Dense(84, activation= activation_function))\n",
    "    #Output layer\n",
    "    leNet_model.add(Dense(10, activation= 'softmax'))\n",
    "    # Compile the model\n",
    "    leNet_model.compile(loss= 'categorical_crossentropy', optimizer = SGD(lr = learning_rate), metrics=['accuracy']) \n",
    "\n",
    "    return leNet_model"
   ]
  },
  {
   "cell_type": "code",
   "execution_count": 92,
   "metadata": {},
   "outputs": [
    {
     "name": "stdout",
     "output_type": "stream",
     "text": [
      "Epoch 1/20\n",
      "1313/1313 [==============================] - 146s 111ms/step - loss: 0.5005 - accuracy: 0.8823 - val_loss: 0.2995 - val_accuracy: 0.9236\n",
      "Epoch 2/20\n",
      "1313/1313 [==============================] - 145s 110ms/step - loss: 0.2582 - accuracy: 0.9319 - val_loss: 0.2225 - val_accuracy: 0.9425\n",
      "Epoch 3/20\n",
      "1313/1313 [==============================] - 137s 104ms/step - loss: 0.1990 - accuracy: 0.9467 - val_loss: 0.1793 - val_accuracy: 0.9528\n",
      "Epoch 4/20\n",
      "1313/1313 [==============================] - 138s 105ms/step - loss: 0.1627 - accuracy: 0.9563 - val_loss: 0.1508 - val_accuracy: 0.9609\n",
      "Epoch 5/20\n",
      "1313/1313 [==============================] - 134s 102ms/step - loss: 0.1390 - accuracy: 0.9630 - val_loss: 0.1330 - val_accuracy: 0.9659\n",
      "Epoch 6/20\n",
      "1313/1313 [==============================] - 134s 102ms/step - loss: 0.1232 - accuracy: 0.9675 - val_loss: 0.1210 - val_accuracy: 0.9680\n",
      "Epoch 7/20\n",
      "1313/1313 [==============================] - 135s 103ms/step - loss: 0.1121 - accuracy: 0.9705 - val_loss: 0.1123 - val_accuracy: 0.9696\n",
      "Epoch 8/20\n",
      "1313/1313 [==============================] - 134s 102ms/step - loss: 0.1038 - accuracy: 0.9725 - val_loss: 0.1059 - val_accuracy: 0.9716\n",
      "Epoch 9/20\n",
      "1313/1313 [==============================] - 134s 102ms/step - loss: 0.0970 - accuracy: 0.9746 - val_loss: 0.1001 - val_accuracy: 0.9728\n",
      "Epoch 10/20\n",
      "1313/1313 [==============================] - 137s 105ms/step - loss: 0.0915 - accuracy: 0.9759 - val_loss: 0.0958 - val_accuracy: 0.9737\n",
      "Epoch 11/20\n",
      "1313/1313 [==============================] - 136s 103ms/step - loss: 0.0869 - accuracy: 0.9767 - val_loss: 0.0922 - val_accuracy: 0.9748\n",
      "Epoch 12/20\n",
      "1313/1313 [==============================] - 148s 113ms/step - loss: 0.0828 - accuracy: 0.9777 - val_loss: 0.0890 - val_accuracy: 0.9761\n",
      "Epoch 13/20\n",
      "1313/1313 [==============================] - 148s 113ms/step - loss: 0.0793 - accuracy: 0.9787 - val_loss: 0.0864 - val_accuracy: 0.9768\n",
      "Epoch 14/20\n",
      "1313/1313 [==============================] - 139s 106ms/step - loss: 0.0762 - accuracy: 0.9794 - val_loss: 0.0841 - val_accuracy: 0.9777\n",
      "Epoch 15/20\n",
      "1313/1313 [==============================] - 136s 103ms/step - loss: 0.0733 - accuracy: 0.9803 - val_loss: 0.0820 - val_accuracy: 0.9781\n",
      "Epoch 16/20\n",
      "1313/1313 [==============================] - 136s 104ms/step - loss: 0.0707 - accuracy: 0.9807 - val_loss: 0.0801 - val_accuracy: 0.9783\n",
      "Epoch 17/20\n",
      "1313/1313 [==============================] - 135s 103ms/step - loss: 0.0683 - accuracy: 0.9815 - val_loss: 0.0783 - val_accuracy: 0.9785\n",
      "Epoch 18/20\n",
      "1313/1313 [==============================] - 133s 101ms/step - loss: 0.0661 - accuracy: 0.9822 - val_loss: 0.0766 - val_accuracy: 0.9790\n",
      "Epoch 19/20\n",
      "1313/1313 [==============================] - 134s 102ms/step - loss: 0.0641 - accuracy: 0.9828 - val_loss: 0.0753 - val_accuracy: 0.9794\n",
      "Epoch 20/20\n",
      "1313/1313 [==============================] - 133s 101ms/step - loss: 0.0622 - accuracy: 0.9833 - val_loss: 0.0740 - val_accuracy: 0.97972 - accuracy: 0.\n",
      "Epoch 1/20\n",
      "1313/1313 [==============================] - 137s 104ms/step - loss: 0.0653 - accuracy: 0.9825 - val_loss: 0.0630 - val_accuracy: 0.9825\n",
      "Epoch 2/20\n",
      "1313/1313 [==============================] - 146s 111ms/step - loss: 0.0627 - accuracy: 0.9834 - val_loss: 0.0626 - val_accuracy: 0.9821\n",
      "Epoch 3/20\n",
      "1313/1313 [==============================] - 144s 109ms/step - loss: 0.0607 - accuracy: 0.9841 - val_loss: 0.0622 - val_accuracy: 0.9825\n",
      "Epoch 4/20\n",
      "1313/1313 [==============================] - 138s 105ms/step - loss: 0.0588 - accuracy: 0.9848 - val_loss: 0.0617 - val_accuracy: 0.9822\n",
      "Epoch 5/20\n",
      "1313/1313 [==============================] - 136s 103ms/step - loss: 0.0571 - accuracy: 0.9852 - val_loss: 0.0611 - val_accuracy: 0.9827\n",
      "Epoch 6/20\n",
      "1313/1313 [==============================] - 136s 104ms/step - loss: 0.0555 - accuracy: 0.9859 - val_loss: 0.0606 - val_accuracy: 0.9827\n",
      "Epoch 7/20\n",
      "1313/1313 [==============================] - 137s 104ms/step - loss: 0.0540 - accuracy: 0.9863 - val_loss: 0.0601 - val_accuracy: 0.9829\n",
      "Epoch 8/20\n",
      "1313/1313 [==============================] - 136s 104ms/step - loss: 0.0527 - accuracy: 0.9869 - val_loss: 0.0596 - val_accuracy: 0.9828\n",
      "Epoch 9/20\n",
      "1313/1313 [==============================] - 134s 102ms/step - loss: 0.0513 - accuracy: 0.9871 - val_loss: 0.0591 - val_accuracy: 0.9825\n",
      "Epoch 10/20\n",
      "1313/1313 [==============================] - 134s 102ms/step - loss: 0.0501 - accuracy: 0.9877 - val_loss: 0.0586 - val_accuracy: 0.9827\n",
      "Epoch 11/20\n",
      "1313/1313 [==============================] - 130s 99ms/step - loss: 0.0489 - accuracy: 0.9878 - val_loss: 0.0582 - val_accuracy: 0.9827\n",
      "Epoch 12/20\n",
      "1313/1313 [==============================] - 129s 99ms/step - loss: 0.0478 - accuracy: 0.9882 - val_loss: 0.0578 - val_accuracy: 0.9829\n",
      "Epoch 13/20\n",
      "1313/1313 [==============================] - 132s 101ms/step - loss: 0.0468 - accuracy: 0.9885 - val_loss: 0.0572 - val_accuracy: 0.9831\n",
      "Epoch 14/20\n",
      "1313/1313 [==============================] - 123s 94ms/step - loss: 0.0458 - accuracy: 0.9887 - val_loss: 0.0569 - val_accuracy: 0.9834\n",
      "Epoch 15/20\n",
      "1313/1313 [==============================] - 135s 103ms/step - loss: 0.0448 - accuracy: 0.9891 - val_loss: 0.0565 - val_accuracy: 0.9833\n",
      "Epoch 16/20\n",
      "1313/1313 [==============================] - 130s 99ms/step - loss: 0.0439 - accuracy: 0.9894 - val_loss: 0.0562 - val_accuracy: 0.9838\n",
      "Epoch 17/20\n",
      "1313/1313 [==============================] - 131s 99ms/step - loss: 0.0433 - accuracy: 0.9895 - val_loss: 0.0557 - val_accuracy: 0.9835\n",
      "Epoch 18/20\n",
      "1313/1313 [==============================] - 133s 101ms/step - loss: 0.0423 - accuracy: 0.9897 - val_loss: 0.0553 - val_accuracy: 0.9837\n",
      "Epoch 19/20\n",
      "1313/1313 [==============================] - 129s 98ms/step - loss: 0.0415 - accuracy: 0.9899 - val_loss: 0.0552 - val_accuracy: 0.9836\n",
      "Epoch 20/20\n",
      "1313/1313 [==============================] - 133s 102ms/step - loss: 0.0408 - accuracy: 0.9902 - val_loss: 0.0549 - val_accuracy: 0.9836\n",
      "Epoch 1/20\n",
      "1313/1313 [==============================] - 124s 94ms/step - loss: 0.0491 - accuracy: 0.9862 - val_loss: 0.0371 - val_accuracy: 0.9917\n",
      "Epoch 2/20\n",
      "1313/1313 [==============================] - 116s 88ms/step - loss: 0.0472 - accuracy: 0.9870 - val_loss: 0.0376 - val_accuracy: 0.9913\n",
      "Epoch 3/20\n",
      "1313/1313 [==============================] - 115s 87ms/step - loss: 0.0458 - accuracy: 0.9873 - val_loss: 0.0379 - val_accuracy: 0.9910\n",
      "Epoch 4/20\n",
      "1313/1313 [==============================] - 114s 87ms/step - loss: 0.0447 - accuracy: 0.9875 - val_loss: 0.0380 - val_accuracy: 0.9908\n",
      "Epoch 5/20\n",
      "1313/1313 [==============================] - 114s 87ms/step - loss: 0.0435 - accuracy: 0.9881 - val_loss: 0.0381 - val_accuracy: 0.9902\n",
      "Epoch 6/20\n",
      "1313/1313 [==============================] - 114s 87ms/step - loss: 0.0426 - accuracy: 0.9886 - val_loss: 0.0382 - val_accuracy: 0.9901\n",
      "Epoch 7/20\n",
      "1313/1313 [==============================] - 113s 86ms/step - loss: 0.0416 - accuracy: 0.9891 - val_loss: 0.0383 - val_accuracy: 0.9899\n",
      "Epoch 8/20\n",
      "1313/1313 [==============================] - 113s 86ms/step - loss: 0.0408 - accuracy: 0.9893 - val_loss: 0.0384 - val_accuracy: 0.9898\n",
      "Epoch 9/20\n",
      "1313/1313 [==============================] - 114s 87ms/step - loss: 0.0400 - accuracy: 0.9897 - val_loss: 0.0384 - val_accuracy: 0.9897\n",
      "Epoch 10/20\n",
      "1313/1313 [==============================] - 114s 87ms/step - loss: 0.0393 - accuracy: 0.9899 - val_loss: 0.0384 - val_accuracy: 0.9898\n",
      "Epoch 11/20\n",
      "1313/1313 [==============================] - 114s 87ms/step - loss: 0.0385 - accuracy: 0.9902 - val_loss: 0.0385 - val_accuracy: 0.9899\n",
      "Epoch 12/20\n",
      "1313/1313 [==============================] - 113s 86ms/step - loss: 0.0378 - accuracy: 0.9906 - val_loss: 0.0384 - val_accuracy: 0.9898\n",
      "Epoch 13/20\n",
      "1313/1313 [==============================] - 113s 86ms/step - loss: 0.0371 - accuracy: 0.9909 - val_loss: 0.0385 - val_accuracy: 0.9897\n",
      "Epoch 14/20\n",
      "1313/1313 [==============================] - 114s 87ms/step - loss: 0.0364 - accuracy: 0.9910 - val_loss: 0.0384 - val_accuracy: 0.9897\n",
      "Epoch 15/20\n",
      "1313/1313 [==============================] - 115s 88ms/step - loss: 0.0358 - accuracy: 0.9913 - val_loss: 0.0384 - val_accuracy: 0.9896\n",
      "Epoch 16/20\n",
      "1313/1313 [==============================] - 116s 88ms/step - loss: 0.0352 - accuracy: 0.9915 - val_loss: 0.0383 - val_accuracy: 0.9894\n",
      "Epoch 17/20\n",
      "1313/1313 [==============================] - 115s 88ms/step - loss: 0.0346 - accuracy: 0.9918 - val_loss: 0.0383 - val_accuracy: 0.9892\n",
      "Epoch 18/20\n",
      "1313/1313 [==============================] - 113s 86ms/step - loss: 0.0340 - accuracy: 0.9920 - val_loss: 0.0382 - val_accuracy: 0.9894\n",
      "Epoch 19/20\n",
      "1313/1313 [==============================] - 116s 88ms/step - loss: 0.0334 - accuracy: 0.9920 - val_loss: 0.0382 - val_accuracy: 0.9893\n",
      "Epoch 20/20\n",
      "1313/1313 [==============================] - 113s 86ms/step - loss: 0.0329 - accuracy: 0.9923 - val_loss: 0.0381 - val_accuracy: 0.9891\n",
      "Epoch 1/20\n",
      "1313/1313 [==============================] - 114s 87ms/step - loss: 0.2355 - accuracy: 0.9332 - val_loss: 0.1140 - val_accuracy: 0.9690\n",
      "Epoch 2/20\n",
      "1313/1313 [==============================] - 114s 87ms/step - loss: 0.0933 - accuracy: 0.9740 - val_loss: 0.0814 - val_accuracy: 0.9763\n",
      "Epoch 3/20\n",
      "1313/1313 [==============================] - 114s 87ms/step - loss: 0.0688 - accuracy: 0.9805 - val_loss: 0.0688 - val_accuracy: 0.9808\n",
      "Epoch 4/20\n",
      "1313/1313 [==============================] - 114s 87ms/step - loss: 0.0553 - accuracy: 0.9852 - val_loss: 0.0626 - val_accuracy: 0.9819\n",
      "Epoch 5/20\n",
      "1313/1313 [==============================] - 114s 87ms/step - loss: 0.0470 - accuracy: 0.9870 - val_loss: 0.0581 - val_accuracy: 0.9832\n",
      "Epoch 6/20\n",
      "1313/1313 [==============================] - 114s 87ms/step - loss: 0.0404 - accuracy: 0.9892 - val_loss: 0.0551 - val_accuracy: 0.9844\n",
      "Epoch 7/20\n",
      "1313/1313 [==============================] - 114s 87ms/step - loss: 0.0356 - accuracy: 0.9910 - val_loss: 0.0505 - val_accuracy: 0.9854\n",
      "Epoch 8/20\n",
      "1313/1313 [==============================] - 113s 86ms/step - loss: 0.0320 - accuracy: 0.9920 - val_loss: 0.0485 - val_accuracy: 0.9859\n",
      "Epoch 9/20\n",
      "1313/1313 [==============================] - 113s 86ms/step - loss: 0.0282 - accuracy: 0.9936 - val_loss: 0.0465 - val_accuracy: 0.9866\n",
      "Epoch 10/20\n",
      "1313/1313 [==============================] - 113s 86ms/step - loss: 0.0251 - accuracy: 0.9942 - val_loss: 0.0459 - val_accuracy: 0.9866\n",
      "Epoch 11/20\n",
      "1313/1313 [==============================] - 112s 86ms/step - loss: 0.0227 - accuracy: 0.9952 - val_loss: 0.0449 - val_accuracy: 0.9869\n",
      "Epoch 12/20\n",
      "1313/1313 [==============================] - 113s 86ms/step - loss: 0.0205 - accuracy: 0.9960 - val_loss: 0.0434 - val_accuracy: 0.9871\n",
      "Epoch 13/20\n",
      "1313/1313 [==============================] - 113s 86ms/step - loss: 0.0183 - accuracy: 0.9966 - val_loss: 0.0422 - val_accuracy: 0.9873\n",
      "Epoch 14/20\n",
      "1313/1313 [==============================] - 113s 86ms/step - loss: 0.0166 - accuracy: 0.9970 - val_loss: 0.0426 - val_accuracy: 0.9876\n",
      "Epoch 15/20\n",
      "1313/1313 [==============================] - 113s 86ms/step - loss: 0.0153 - accuracy: 0.9974 - val_loss: 0.0422 - val_accuracy: 0.9875\n",
      "Epoch 16/20\n",
      "1313/1313 [==============================] - 112s 86ms/step - loss: 0.0137 - accuracy: 0.9980 - val_loss: 0.0415 - val_accuracy: 0.9876\n",
      "Epoch 17/20\n",
      "1313/1313 [==============================] - 112s 86ms/step - loss: 0.0126 - accuracy: 0.9984 - val_loss: 0.0415 - val_accuracy: 0.9874\n",
      "Epoch 18/20\n",
      "1313/1313 [==============================] - 114s 87ms/step - loss: 0.0114 - accuracy: 0.9985 - val_loss: 0.0402 - val_accuracy: 0.9879\n",
      "Epoch 19/20\n",
      "1313/1313 [==============================] - 112s 86ms/step - loss: 0.0107 - accuracy: 0.9986 - val_loss: 0.0400 - val_accuracy: 0.9884\n",
      "Epoch 20/20\n",
      "1313/1313 [==============================] - 112s 85ms/step - loss: 0.0098 - accuracy: 0.9989 - val_loss: 0.0403 - val_accuracy: 0.9876\n",
      "Epoch 1/20\n",
      "1313/1313 [==============================] - 113s 86ms/step - loss: 0.0305 - accuracy: 0.9917 - val_loss: 0.0133 - val_accuracy: 0.9973\n",
      "Epoch 2/20\n",
      "1313/1313 [==============================] - 113s 86ms/step - loss: 0.0232 - accuracy: 0.9938 - val_loss: 0.0146 - val_accuracy: 0.9972\n",
      "Epoch 3/20\n",
      "1313/1313 [==============================] - 113s 86ms/step - loss: 0.0182 - accuracy: 0.9960 - val_loss: 0.0148 - val_accuracy: 0.9968\n",
      "Epoch 4/20\n",
      "1313/1313 [==============================] - 112s 85ms/step - loss: 0.0148 - accuracy: 0.9971 - val_loss: 0.0147 - val_accuracy: 0.9966\n",
      "Epoch 5/20\n",
      "1313/1313 [==============================] - 113s 86ms/step - loss: 0.0126 - accuracy: 0.9979 - val_loss: 0.0157 - val_accuracy: 0.9962\n",
      "Epoch 6/20\n",
      "1313/1313 [==============================] - 116s 88ms/step - loss: 0.0112 - accuracy: 0.9984 - val_loss: 0.0164 - val_accuracy: 0.9958\n",
      "Epoch 7/20\n",
      "1313/1313 [==============================] - 112s 86ms/step - loss: 0.0100 - accuracy: 0.9986 - val_loss: 0.0164 - val_accuracy: 0.9959\n",
      "Epoch 8/20\n",
      "1313/1313 [==============================] - 112s 85ms/step - loss: 0.0089 - accuracy: 0.9989 - val_loss: 0.0166 - val_accuracy: 0.9956\n",
      "Epoch 9/20\n",
      "1313/1313 [==============================] - 112s 86ms/step - loss: 0.0081 - accuracy: 0.9990 - val_loss: 0.0170 - val_accuracy: 0.9952\n",
      "Epoch 10/20\n",
      "1313/1313 [==============================] - 116s 89ms/step - loss: 0.0075 - accuracy: 0.9992 - val_loss: 0.0166 - val_accuracy: 0.9953\n",
      "Epoch 11/20\n",
      "1313/1313 [==============================] - 114s 87ms/step - loss: 0.0068 - accuracy: 0.9994 - val_loss: 0.0170 - val_accuracy: 0.9950\n",
      "Epoch 12/20\n",
      "1313/1313 [==============================] - 115s 88ms/step - loss: 0.0064 - accuracy: 0.9995 - val_loss: 0.0172 - val_accuracy: 0.9950\n",
      "Epoch 13/20\n",
      "1313/1313 [==============================] - 114s 87ms/step - loss: 0.0058 - accuracy: 0.9996 - val_loss: 0.0173 - val_accuracy: 0.9947\n",
      "Epoch 14/20\n",
      "1313/1313 [==============================] - 115s 87ms/step - loss: 0.0054 - accuracy: 0.9996 - val_loss: 0.0174 - val_accuracy: 0.9947\n",
      "Epoch 15/20\n",
      "1313/1313 [==============================] - 116s 88ms/step - loss: 0.0052 - accuracy: 0.9996 - val_loss: 0.0175 - val_accuracy: 0.9948\n",
      "Epoch 16/20\n",
      "1313/1313 [==============================] - 114s 87ms/step - loss: 0.0049 - accuracy: 0.9997 - val_loss: 0.0177 - val_accuracy: 0.9946\n",
      "Epoch 17/20\n",
      "1313/1313 [==============================] - 120s 91ms/step - loss: 0.0046 - accuracy: 0.9997 - val_loss: 0.0178 - val_accuracy: 0.9946\n",
      "Epoch 18/20\n",
      "1313/1313 [==============================] - 115s 87ms/step - loss: 0.0043 - accuracy: 0.9998 - val_loss: 0.0178 - val_accuracy: 0.9945\n",
      "Epoch 19/20\n",
      "1313/1313 [==============================] - 114s 87ms/step - loss: 0.0041 - accuracy: 0.9997 - val_loss: 0.0179 - val_accuracy: 0.9945\n",
      "Epoch 20/20\n",
      "1313/1313 [==============================] - 115s 88ms/step - loss: 0.0039 - accuracy: 0.9997 - val_loss: 0.0180 - val_accuracy: 0.9944\n",
      "Epoch 1/20\n",
      "1313/1313 [==============================] - 115s 87ms/step - loss: 0.0132 - accuracy: 0.9962 - val_loss: 0.0073 - val_accuracy: 0.9988\n",
      "Epoch 2/20\n",
      "1313/1313 [==============================] - 120s 91ms/step - loss: 0.0101 - accuracy: 0.9979 - val_loss: 0.0077 - val_accuracy: 0.9984\n",
      "Epoch 3/20\n",
      "1313/1313 [==============================] - 114s 87ms/step - loss: 0.0080 - accuracy: 0.9987 - val_loss: 0.0066 - val_accuracy: 0.9988\n",
      "Epoch 4/20\n",
      "1313/1313 [==============================] - 114s 87ms/step - loss: 0.0068 - accuracy: 0.9991 - val_loss: 0.0066 - val_accuracy: 0.9990\n",
      "Epoch 5/20\n",
      "1313/1313 [==============================] - 113s 86ms/step - loss: 0.0058 - accuracy: 0.9994 - val_loss: 0.0065 - val_accuracy: 0.9989\n",
      "Epoch 6/20\n",
      "1313/1313 [==============================] - 114s 87ms/step - loss: 0.0053 - accuracy: 0.9996 - val_loss: 0.0066 - val_accuracy: 0.9987\n",
      "Epoch 7/20\n",
      "1313/1313 [==============================] - 113s 86ms/step - loss: 0.0048 - accuracy: 0.9997 - val_loss: 0.0064 - val_accuracy: 0.9988\n",
      "Epoch 8/20\n",
      "1313/1313 [==============================] - 114s 87ms/step - loss: 0.0044 - accuracy: 0.9997 - val_loss: 0.0064 - val_accuracy: 0.9986\n",
      "Epoch 9/20\n",
      "1313/1313 [==============================] - 114s 87ms/step - loss: 0.0041 - accuracy: 0.9998 - val_loss: 0.0064 - val_accuracy: 0.9987\n",
      "Epoch 10/20\n",
      "1313/1313 [==============================] - 114s 87ms/step - loss: 0.0039 - accuracy: 0.9998 - val_loss: 0.0066 - val_accuracy: 0.9986\n",
      "Epoch 11/20\n",
      "1313/1313 [==============================] - 113s 86ms/step - loss: 0.0037 - accuracy: 0.9998 - val_loss: 0.0065 - val_accuracy: 0.9987\n",
      "Epoch 12/20\n",
      "1313/1313 [==============================] - 114s 87ms/step - loss: 0.0035 - accuracy: 0.9998 - val_loss: 0.0066 - val_accuracy: 0.9986\n",
      "Epoch 13/20\n",
      "1313/1313 [==============================] - 113s 86ms/step - loss: 0.0033 - accuracy: 0.9999 - val_loss: 0.0066 - val_accuracy: 0.9986\n",
      "Epoch 14/20\n",
      "1313/1313 [==============================] - 114s 87ms/step - loss: 0.0032 - accuracy: 0.9999 - val_loss: 0.0067 - val_accuracy: 0.9986\n",
      "Epoch 15/20\n",
      "1313/1313 [==============================] - 114s 87ms/step - loss: 0.0030 - accuracy: 0.9999 - val_loss: 0.0068 - val_accuracy: 0.9985\n",
      "Epoch 16/20\n",
      "1313/1313 [==============================] - 114s 87ms/step - loss: 0.0029 - accuracy: 0.9999 - val_loss: 0.0068 - val_accuracy: 0.9985\n",
      "Epoch 17/20\n",
      "1313/1313 [==============================] - 114s 86ms/step - loss: 0.0028 - accuracy: 0.9999 - val_loss: 0.0069 - val_accuracy: 0.9986\n",
      "Epoch 18/20\n",
      "1313/1313 [==============================] - 116s 89ms/step - loss: 0.0027 - accuracy: 0.9999 - val_loss: 0.0069 - val_accuracy: 0.9986\n",
      "Epoch 19/20\n",
      "1313/1313 [==============================] - 113s 86ms/step - loss: 0.0026 - accuracy: 0.9999 - val_loss: 0.0070 - val_accuracy: 0.9985\n",
      "Epoch 20/20\n",
      "1313/1313 [==============================] - 112s 86ms/step - loss: 0.0025 - accuracy: 0.9999 - val_loss: 0.0071 - val_accuracy: 0.9984\n",
      "Epoch 1/20\n",
      "1313/1313 [==============================] - 113s 86ms/step - loss: 0.1999 - accuracy: 0.9409 - val_loss: 0.1005 - val_accuracy: 0.9694\n",
      "Epoch 2/20\n",
      "1313/1313 [==============================] - 113s 86ms/step - loss: 0.0934 - accuracy: 0.9724 - val_loss: 0.0951 - val_accuracy: 0.9708\n",
      "Epoch 3/20\n",
      "1313/1313 [==============================] - 113s 86ms/step - loss: 0.0700 - accuracy: 0.9784 - val_loss: 0.0632 - val_accuracy: 0.9810\n",
      "Epoch 4/20\n",
      "1313/1313 [==============================] - 114s 87ms/step - loss: 0.0589 - accuracy: 0.9813 - val_loss: 0.0626 - val_accuracy: 0.9808\n",
      "Epoch 5/20\n",
      "1313/1313 [==============================] - 112s 85ms/step - loss: 0.0495 - accuracy: 0.9846 - val_loss: 0.0633 - val_accuracy: 0.9811\n",
      "Epoch 6/20\n",
      "1313/1313 [==============================] - 113s 86ms/step - loss: 0.0539 - accuracy: 0.9831 - val_loss: 0.0698 - val_accuracy: 0.9771\n",
      "Epoch 7/20\n",
      "1313/1313 [==============================] - 113s 86ms/step - loss: 0.0460 - accuracy: 0.9853 - val_loss: 0.0559 - val_accuracy: 0.9828\n",
      "Epoch 8/20\n",
      "1313/1313 [==============================] - 114s 87ms/step - loss: 0.0394 - accuracy: 0.9869 - val_loss: 0.0574 - val_accuracy: 0.9834\n",
      "Epoch 9/20\n",
      "1313/1313 [==============================] - 113s 86ms/step - loss: 0.0356 - accuracy: 0.9885 - val_loss: 0.0532 - val_accuracy: 0.9842\n",
      "Epoch 10/20\n",
      "1313/1313 [==============================] - 114s 87ms/step - loss: 0.0360 - accuracy: 0.9883 - val_loss: 0.0653 - val_accuracy: 0.9798\n",
      "Epoch 11/20\n",
      "1313/1313 [==============================] - 115s 88ms/step - loss: 0.0353 - accuracy: 0.9881 - val_loss: 0.0633 - val_accuracy: 0.9811\n",
      "Epoch 12/20\n",
      "1313/1313 [==============================] - 112s 85ms/step - loss: 0.0351 - accuracy: 0.9884 - val_loss: 0.0690 - val_accuracy: 0.9784\n",
      "Epoch 13/20\n",
      "1313/1313 [==============================] - 112s 85ms/step - loss: 0.0344 - accuracy: 0.9887 - val_loss: 0.0630 - val_accuracy: 0.9809\n",
      "Epoch 14/20\n",
      "1313/1313 [==============================] - 113s 86ms/step - loss: 0.0338 - accuracy: 0.9890 - val_loss: 0.0665 - val_accuracy: 0.9796\n",
      "Epoch 15/20\n",
      "1313/1313 [==============================] - 113s 86ms/step - loss: 0.0434 - accuracy: 0.9857 - val_loss: 0.0688 - val_accuracy: 0.9803\n",
      "Epoch 16/20\n",
      "1313/1313 [==============================] - 113s 86ms/step - loss: 0.0370 - accuracy: 0.9884 - val_loss: 0.0566 - val_accuracy: 0.9832\n",
      "Epoch 17/20\n",
      "1313/1313 [==============================] - 112s 85ms/step - loss: 0.0366 - accuracy: 0.9879 - val_loss: 0.0700 - val_accuracy: 0.9798\n",
      "Epoch 18/20\n",
      "1313/1313 [==============================] - 112s 85ms/step - loss: 0.0357 - accuracy: 0.9879 - val_loss: 0.0629 - val_accuracy: 0.9817\n",
      "Epoch 19/20\n",
      "1313/1313 [==============================] - 112s 85ms/step - loss: 0.0378 - accuracy: 0.9878 - val_loss: 0.0732 - val_accuracy: 0.9774\n",
      "Epoch 20/20\n",
      "1313/1313 [==============================] - 111s 85ms/step - loss: 0.0323 - accuracy: 0.9891 - val_loss: 0.0684 - val_accuracy: 0.9798\n",
      "Epoch 1/20\n",
      "1313/1313 [==============================] - 113s 86ms/step - loss: 0.0568 - accuracy: 0.9825 - val_loss: 0.0401 - val_accuracy: 0.9867\n",
      "Epoch 2/20\n",
      "1313/1313 [==============================] - 113s 86ms/step - loss: 0.0629 - accuracy: 0.9803 - val_loss: 0.0592 - val_accuracy: 0.9821\n",
      "Epoch 3/20\n",
      "1313/1313 [==============================] - 113s 86ms/step - loss: 0.0553 - accuracy: 0.9824 - val_loss: 0.0516 - val_accuracy: 0.9829\n",
      "Epoch 4/20\n",
      "1313/1313 [==============================] - 113s 86ms/step - loss: 0.0588 - accuracy: 0.9812 - val_loss: 0.0570 - val_accuracy: 0.9812\n",
      "Epoch 5/20\n",
      "1313/1313 [==============================] - 112s 85ms/step - loss: 0.0572 - accuracy: 0.9814 - val_loss: 0.0602 - val_accuracy: 0.9811\n",
      "Epoch 6/20\n",
      "1313/1313 [==============================] - 111s 85ms/step - loss: 0.0582 - accuracy: 0.9810 - val_loss: 0.0606 - val_accuracy: 0.9809\n",
      "Epoch 7/20\n",
      "1313/1313 [==============================] - 112s 85ms/step - loss: 0.0574 - accuracy: 0.9808 - val_loss: 0.0610 - val_accuracy: 0.9805\n",
      "Epoch 8/20\n",
      "1313/1313 [==============================] - 112s 85ms/step - loss: 0.0500 - accuracy: 0.9840 - val_loss: 0.0522 - val_accuracy: 0.9841\n",
      "Epoch 9/20\n",
      "1313/1313 [==============================] - 112s 86ms/step - loss: 0.0493 - accuracy: 0.9842 - val_loss: 0.0537 - val_accuracy: 0.9820\n",
      "Epoch 10/20\n",
      "1313/1313 [==============================] - 113s 86ms/step - loss: 0.0497 - accuracy: 0.9841 - val_loss: 0.0555 - val_accuracy: 0.9829\n",
      "Epoch 11/20\n",
      "1313/1313 [==============================] - 113s 86ms/step - loss: 0.0486 - accuracy: 0.9845 - val_loss: 0.0796 - val_accuracy: 0.9753\n",
      "Epoch 12/20\n",
      "1313/1313 [==============================] - 112s 85ms/step - loss: 0.0507 - accuracy: 0.9838 - val_loss: 0.0657 - val_accuracy: 0.9794\n",
      "Epoch 13/20\n",
      "1313/1313 [==============================] - 111s 85ms/step - loss: 0.0469 - accuracy: 0.9854 - val_loss: 0.0593 - val_accuracy: 0.9818\n",
      "Epoch 14/20\n",
      "1313/1313 [==============================] - 111s 85ms/step - loss: 0.0495 - accuracy: 0.9836 - val_loss: 0.0718 - val_accuracy: 0.9776\n",
      "Epoch 15/20\n",
      "1313/1313 [==============================] - 111s 84ms/step - loss: 0.0524 - accuracy: 0.9826 - val_loss: 0.0584 - val_accuracy: 0.9819\n",
      "Epoch 16/20\n",
      "1313/1313 [==============================] - 113s 86ms/step - loss: 0.0459 - accuracy: 0.9847 - val_loss: 0.0623 - val_accuracy: 0.9809\n",
      "Epoch 17/20\n",
      "1313/1313 [==============================] - 112s 85ms/step - loss: 0.0500 - accuracy: 0.9831 - val_loss: 0.0594 - val_accuracy: 0.9806\n",
      "Epoch 18/20\n",
      "1313/1313 [==============================] - 111s 85ms/step - loss: 0.0500 - accuracy: 0.9839 - val_loss: 0.0689 - val_accuracy: 0.9791\n",
      "Epoch 19/20\n",
      "1313/1313 [==============================] - 112s 85ms/step - loss: 0.0492 - accuracy: 0.9838 - val_loss: 0.0763 - val_accuracy: 0.9772\n",
      "Epoch 20/20\n",
      "1313/1313 [==============================] - 111s 85ms/step - loss: 0.0479 - accuracy: 0.9837 - val_loss: 0.0595 - val_accuracy: 0.9817\n",
      "Epoch 1/20\n",
      "1313/1313 [==============================] - 112s 85ms/step - loss: 0.0714 - accuracy: 0.9774 - val_loss: 0.0887 - val_accuracy: 0.9709\n",
      "Epoch 2/20\n",
      "1313/1313 [==============================] - 111s 84ms/step - loss: 0.0825 - accuracy: 0.9738 - val_loss: 0.0568 - val_accuracy: 0.9802\n",
      "Epoch 3/20\n",
      "1313/1313 [==============================] - 111s 84ms/step - loss: 0.0795 - accuracy: 0.9763 - val_loss: 0.0844 - val_accuracy: 0.9729\n",
      "Epoch 4/20\n",
      "1313/1313 [==============================] - 111s 85ms/step - loss: 0.0738 - accuracy: 0.9760 - val_loss: 0.0695 - val_accuracy: 0.9776\n",
      "Epoch 5/20\n",
      "1313/1313 [==============================] - 112s 85ms/step - loss: 0.0700 - accuracy: 0.9777 - val_loss: 0.0761 - val_accuracy: 0.9753\n",
      "Epoch 6/20\n",
      "1313/1313 [==============================] - 113s 86ms/step - loss: 0.0615 - accuracy: 0.9801 - val_loss: 0.0517 - val_accuracy: 0.9832\n",
      "Epoch 7/20\n",
      "1313/1313 [==============================] - 114s 87ms/step - loss: 0.0628 - accuracy: 0.9802 - val_loss: 0.0536 - val_accuracy: 0.9828\n",
      "Epoch 8/20\n",
      "1313/1313 [==============================] - 112s 85ms/step - loss: 0.0603 - accuracy: 0.9808 - val_loss: 0.0496 - val_accuracy: 0.9843\n",
      "Epoch 9/20\n",
      "1313/1313 [==============================] - 112s 85ms/step - loss: 0.0578 - accuracy: 0.9819 - val_loss: 0.0536 - val_accuracy: 0.9830\n",
      "Epoch 10/20\n",
      "1313/1313 [==============================] - 111s 84ms/step - loss: 0.0638 - accuracy: 0.9797 - val_loss: 0.0557 - val_accuracy: 0.9817\n",
      "Epoch 11/20\n",
      "1313/1313 [==============================] - 109s 83ms/step - loss: 0.0705 - accuracy: 0.9782 - val_loss: 0.0659 - val_accuracy: 0.9780\n",
      "Epoch 12/20\n",
      "1313/1313 [==============================] - 111s 84ms/step - loss: 0.0677 - accuracy: 0.9789 - val_loss: 0.0656 - val_accuracy: 0.9786\n",
      "Epoch 13/20\n",
      "1313/1313 [==============================] - 109s 83ms/step - loss: 0.0624 - accuracy: 0.9802 - val_loss: 0.0483 - val_accuracy: 0.9847\n",
      "Epoch 14/20\n",
      "1313/1313 [==============================] - 111s 84ms/step - loss: 0.0578 - accuracy: 0.9818 - val_loss: 0.1017 - val_accuracy: 0.9680\n",
      "Epoch 15/20\n",
      "1313/1313 [==============================] - 112s 85ms/step - loss: 0.0624 - accuracy: 0.9804 - val_loss: 0.0569 - val_accuracy: 0.9818\n",
      "Epoch 16/20\n",
      "1313/1313 [==============================] - 110s 84ms/step - loss: 0.0601 - accuracy: 0.9800 - val_loss: 0.0586 - val_accuracy: 0.9818\n",
      "Epoch 17/20\n",
      "1313/1313 [==============================] - 110s 84ms/step - loss: 0.0661 - accuracy: 0.9785 - val_loss: 0.0498 - val_accuracy: 0.9833\n",
      "Epoch 18/20\n",
      "1313/1313 [==============================] - 110s 84ms/step - loss: 0.0565 - accuracy: 0.9815 - val_loss: 0.0571 - val_accuracy: 0.9819\n",
      "Epoch 19/20\n",
      "1313/1313 [==============================] - 110s 84ms/step - loss: 0.0585 - accuracy: 0.9809 - val_loss: 0.0606 - val_accuracy: 0.9803\n",
      "Epoch 20/20\n",
      "1313/1313 [==============================] - 110s 84ms/step - loss: 0.0627 - accuracy: 0.9800 - val_loss: 0.0660 - val_accuracy: 0.9784\n"
     ]
    }
   ],
   "source": [
    "epochs = 20\n",
    "batch_size = 32\n",
    "learning_rates = [0.001, 0.01, 0.1]\n",
    "accuracies_dict = {}\n",
    "\n",
    "kfold = KFold(n_splits=3)\n",
    "acc_dict = {}\n",
    "start = timeit.default_timer()\n",
    "for l_rate in learning_rates:\n",
    "    leNet_model = leNet_5_setup(activation_function = 'tanh', learning_rate = l_rate)\n",
    "    train_acc_per_fold = []\n",
    "    val_acc_per_fold = []\n",
    "    for train_indices, test_indices in kfold.split(X_train_val_4d, y_train_val_onehot):\n",
    "        X_train_set = X_train_val_4d[train_indices]\n",
    "        y_train_set = y_train_val_onehot[train_indices]\n",
    "        X_test_set = X_train_val_4d[test_indices]\n",
    "        y_test_set = y_train_val_onehot[test_indices]\n",
    "        leNet_history = leNet_model.fit(X_train_set, y_train_set, validation_data=(X_test_set, y_test_set), shuffle=False, batch_size = batch_size, epochs = epochs, verbose = 1) \n",
    "        train_acc_per_fold.append(leNet_history.history['accuracy'][-1])\n",
    "        val_acc_per_fold.append(leNet_history.history['val_accuracy'][-1])\n",
    "    accuracies_dict[\"L-rate \" + str(l_rate) +' train accuracy'] = np.mean(train_acc_per_fold)\n",
    "    accuracies_dict[\"L-rate \" + str(l_rate) + ' val accuracy'] = np.mean(val_acc_per_fold)\n",
    "stop = timeit.default_timer()\n",
    "runtime = ((stop-start) / 60.0)\n",
    "print(\"Runtime was: %.2f\" %runtime, \"minutes\")    "
   ]
  },
  {
   "cell_type": "code",
   "execution_count": 95,
   "metadata": {},
   "outputs": [
    {
     "data": {
      "image/png": "[encoded data removed]",
      "text/plain": [
       "<Figure size 1080x360 with 1 Axes>"
      ]
     },
     "metadata": {
      "needs_background": "light"
     },
     "output_type": "display_data"
    }
   ],
   "source": [
    "# Histogram\n",
    "lr_names = list(accuracies_dict.keys())\n",
    "lr_values = list(accuracies_dict.values())\n",
    "fig = plt.figure(figsize=(15,5))\n",
    "plt.ylim(bottom=0.97, top = 1)\n",
    "plt.bar(lr_names, lr_values)\n",
    "#plt.xticks(np.arange(0, 10))\n",
    "plt.ylabel('Accuracy')\n",
    "plt.xlabel('Label')\n",
    "plt.title(\"Train and val accuracy for learning rate\");"
   ]
  },
  {
   "cell_type": "code",
   "execution_count": 45,
   "metadata": {},
   "outputs": [
    {
     "ename": "KeyError",
     "evalue": "'L-rate 0.01 val accuracy'",
     "output_type": "error",
     "traceback": [
      "\u001b[1;31m---------------------------------------------------------------------------\u001b[0m",
      "\u001b[1;31mKeyError\u001b[0m                                  Traceback (most recent call last)",
      "\u001b[1;32m<ipython-input-45-49de6ebece43>\u001b[0m in \u001b[0;36m<module>\u001b[1;34m\u001b[0m\n\u001b[1;32m----> 1\u001b[1;33m \u001b[0mprint\u001b[0m\u001b[1;33m(\u001b[0m\u001b[1;34m\"Accuracy for optimal learning rate is: %.2f\"\u001b[0m \u001b[1;33m%\u001b[0m\u001b[0maccuracies_dict\u001b[0m\u001b[1;33m[\u001b[0m\u001b[1;34m'L-rate 0.01 val accuracy'\u001b[0m\u001b[1;33m]\u001b[0m\u001b[1;33m)\u001b[0m\u001b[1;33m\u001b[0m\u001b[1;33m\u001b[0m\u001b[0m\n\u001b[0m",
      "\u001b[1;31mKeyError\u001b[0m: 'L-rate 0.01 val accuracy'"
     ]
    }
   ],
   "source": [
    "print(\"Accuracy for optimal learning rate is: %.2f\" %accuracies_dict['L-rate 0.01 val accuracy'])"
   ]
  },
  {
   "cell_type": "code",
   "execution_count": 60,
   "metadata": {},
   "outputs": [
    {
     "data": {
      "image/png": "[encoded data removed]",
      "text/plain": [
       "<Figure size 1080x360 with 1 Axes>"
      ]
     },
     "metadata": {
      "needs_background": "light"
     },
     "output_type": "display_data"
    }
   ],
   "source": [
    "train_one = np.mean(train_acc_per_fold[:3])\n",
    "train_two = np.mean(train_acc_per_fold[3:6])\n",
    "train_three = np.mean(train_acc_per_fold[6:9])\n",
    "val_one = np.mean(val_acc_per_fold[:3])\n",
    "val_two = np.mean(val_acc_per_fold[3:6])\n",
    "val_three = np.mean(val_acc_per_fold[6:9])\n",
    "names = ['t1 0.001', 'v1', 't2 0.01', 'v2', 't3 0.1', 'v3']\n",
    "values = [train_one, val_one, train_two, val_two, train_three, val_three]\n",
    "fig = plt.figure(figsize=(15,5))\n",
    "plt.ylim(bottom=0.90, top = 1)\n",
    "plt.bar(names, values)\n",
    "#plt.xticks(np.arange(0, 10))\n",
    "plt.ylabel('Accuracy')\n",
    "plt.xlabel('Label')\n",
    "plt.title(\"Train and val accuracy for learning rate\");"
   ]
  },
  {
   "cell_type": "markdown",
   "metadata": {},
   "source": [
    "## K-nearest neighbour\n",
    "The classifier being used is sklearn's KNeiboursClassifier: https://scikit-learn.org/stable/modules/generated/sklearn.neighbors.KNeighborsClassifier.html\n",
    "\n",
    "\n",
    "First we check an initial round of training and validation to see how much time is required. Based on these results we can determine how many hypterparameters it would be feasible to test."
   ]
  },
  {
   "cell_type": "code",
   "execution_count": 13,
   "metadata": {},
   "outputs": [
    {
     "name": "stdout",
     "output_type": "stream",
     "text": [
      "Train runtime for onehot is: 26.335255900000448\n",
      "Val runtime for onehot is: 302.27646749999985\n",
      "0.9691269841269842\n"
     ]
    }
   ],
   "source": [
    "KNN_clf = KNeighborsClassifier(n_neighbors=3, n_jobs = -1)\n",
    "start = timeit.default_timer()\n",
    "KNN_clf.fit(X_train_2d, y_train)\n",
    "stop = timeit.default_timer()\n",
    "print(\"Train runtime for is: %.2f\", %stop-start, \"seconds\")\n",
    "start = timeit.default_timer()\n",
    "val_score2 = KNN_clf.score(X_val_2d, y_val)\n",
    "stop = timeit.default_timer()\n",
    "print(\"Validation runtime  is: %.2f\", %stop-start, \"seconds\")"
   ]
  },
  {
   "cell_type": "markdown",
   "metadata": {},
   "source": [
    "It takes about half a minute to train the classifier, and about 5 minutes to get a validation score. With k-fold, and k = 3, this would be about 15 minutes per hyperparameter combination. Since this is quite time consuming, we will only check different values for the \"number of neighbours\" hyperparameter."
   ]
  },
  {
   "cell_type": "code",
   "execution_count": 6,
   "metadata": {},
   "outputs": [
    {
     "name": "stdout",
     "output_type": "stream",
     "text": [
      "Possible parameters:\n",
      "{'algorithm': 'auto',\n",
      " 'leaf_size': 30,\n",
      " 'metric': 'minkowski',\n",
      " 'metric_params': None,\n",
      " 'n_jobs': None,\n",
      " 'n_neighbors': 3,\n",
      " 'p': 2,\n",
      " 'weights': 'uniform'}\n"
     ]
    }
   ],
   "source": [
    "print('Possible parameters for KNN:')\n",
    "pprint(KNN_clf.get_params())"
   ]
  },
  {
   "cell_type": "code",
   "execution_count": 6,
   "metadata": {},
   "outputs": [
    {
     "name": "stdout",
     "output_type": "stream",
     "text": [
      "Checking no. neighbours =  5\n",
      "Checking no. neighbours =  9\n",
      "Checking no. neighbours =  15\n",
      "Runtime was: 187.60 minutes\n"
     ]
    }
   ],
   "source": [
    "n_neighbours = [5, 9, 15]\n",
    "KNN_acc_dict = {}\n",
    "\n",
    "start = timeit.default_timer()\n",
    "for n in n_neighbours:\n",
    "    print(\"Checking no. neighbours = \", n)\n",
    "    train_acc_per_fold = []\n",
    "    val_acc_per_fold = []\n",
    "    KNN_clf = KNeighborsClassifier(n_neighbors= n, n_jobs = -1)\n",
    "    fold_n = 1\n",
    "    for train_indices, test_indices in kfold.split(X_train_val_2d, y_train_val):\n",
    "        print(\"Fold number\", fold_n)\n",
    "        X_train_set = X_train_val_2d[train_indices]\n",
    "        y_train_set = y_train_val[train_indices]\n",
    "        X_test_set = X_train_val_2d[test_indices]\n",
    "        y_test_set = y_train_val[test_indices]\n",
    "        KNN_clf.fit(X_train_set, y_train_set)\n",
    "        train_acc = KNN_clf.score(X_train_set, y_train_set)\n",
    "        train_acc_per_fold.append(train_acc)\n",
    "        val_acc = KNN_clf.score(X_test_set, y_test_set)\n",
    "        val_acc_per_fold.append(val_acc)\n",
    "        fold_n += 1\n",
    "    KNN_acc_dict[\"No. neigh. \" + str(n) +' train acc'] = np.mean(train_acc_per_fold)\n",
    "    KNN_acc_dict[\"No. neigh. \" + str(n) + ' val acc'] = np.mean(val_acc_per_fold)\n",
    "    \n",
    "stop = timeit.default_timer()\n",
    "runtime = ((stop-start) / 60.0)\n",
    "print(\"Runtime was: %.2f\" %runtime, \"minutes\")"
   ]
  },
  {
   "cell_type": "code",
   "execution_count": 58,
   "metadata": {},
   "outputs": [
    {
     "data": {
      "image/png": "[encoded data removed]",
      "text/plain": [
       "<Figure size 1440x360 with 1 Axes>"
      ]
     },
     "metadata": {
      "needs_background": "light"
     },
     "output_type": "display_data"
    }
   ],
   "source": [
    "# Histogram\n",
    "KNN_names = list(KNN_acc_dict.keys())\n",
    "KNN_values = list(KNN_acc_dict.values())\n",
    "fig = plt.figure(figsize=(20,5))\n",
    "plt.ylim(bottom=0.95, top = 1)\n",
    "#plt.bar(names, values)\n",
    "plt.bar(KNN_names, KNN_values, width = 0.8, color=['lightcoral', 'red', 'cornflowerblue', 'blue', 'mediumseagreen', 'green'])\n",
    "#plt.xticks(np.arange(0, 10))\n",
    "plt.ylabel('Accuracy')\n",
    "plt.xlabel('Label')\n",
    "plt.title(\"Train and val accuracy number of neighbours\");"
   ]
  },
  {
   "cell_type": "code",
   "execution_count": 53,
   "metadata": {},
   "outputs": [
    {
     "name": "stdout",
     "output_type": "stream",
     "text": [
      "Accuracy for optimal number of neigbours, 15, is: 0.969\n"
     ]
    }
   ],
   "source": [
    "optimal_KNN_score = accuracies_dict['No. neighbours 5 val accuracy']\n",
    "print(\"Accuracy for optimal number of neigbours, 15, is: %.3f\" %optimal_KNN_score)"
   ]
  },
  {
   "cell_type": "code",
   "execution_count": 49,
   "metadata": {},
   "outputs": [
    {
     "name": "stdout",
     "output_type": "stream",
     "text": [
      "0.9690952380952381\n"
     ]
    }
   ],
   "source": []
  },
  {
   "cell_type": "markdown",
   "metadata": {},
   "source": [
    "Out of the ones tested, the optimal number of neighbours was __."
   ]
  },
  {
   "cell_type": "markdown",
   "metadata": {},
   "source": [
    "## Selection Results"
   ]
  },
  {
   "cell_type": "code",
   "execution_count": 30,
   "metadata": {},
   "outputs": [
    {
     "name": "stdout",
     "output_type": "stream",
     "text": [
      "Epoch 1/20\n",
      "1575/1575 [==============================] - 126s 80ms/step - loss: 0.1678 - accuracy: 0.9545 - val_loss: 0.1032 - val_accuracy: 0.9700\n",
      "Epoch 2/20\n",
      "1575/1575 [==============================] - 124s 79ms/step - loss: 0.0789 - accuracy: 0.9780 - val_loss: 0.0838 - val_accuracy: 0.9754\n",
      "Epoch 3/20\n",
      "1575/1575 [==============================] - 119s 76ms/step - loss: 0.0609 - accuracy: 0.9837 - val_loss: 0.0740 - val_accuracy: 0.9779\n",
      "Epoch 4/20\n",
      "1575/1575 [==============================] - 119s 76ms/step - loss: 0.0496 - accuracy: 0.9862 - val_loss: 0.0718 - val_accuracy: 0.9793\n",
      "Epoch 5/20\n",
      "1575/1575 [==============================] - 125s 79ms/step - loss: 0.0431 - accuracy: 0.9882 - val_loss: 0.0642 - val_accuracy: 0.9810\n",
      "Epoch 6/20\n",
      "1575/1575 [==============================] - 123s 78ms/step - loss: 0.0371 - accuracy: 0.9907 - val_loss: 0.0628 - val_accuracy: 0.9811\n",
      "Epoch 7/20\n",
      "1575/1575 [==============================] - 120s 76ms/step - loss: 0.0335 - accuracy: 0.9912 - val_loss: 0.0655 - val_accuracy: 0.9801\n",
      "Epoch 8/20\n",
      "1575/1575 [==============================] - 120s 76ms/step - loss: 0.0289 - accuracy: 0.9931 - val_loss: 0.0604 - val_accuracy: 0.9814\n",
      "Epoch 9/20\n",
      "1575/1575 [==============================] - 119s 76ms/step - loss: 0.0260 - accuracy: 0.9939 - val_loss: 0.0586 - val_accuracy: 0.9839\n",
      "Epoch 10/20\n",
      "1575/1575 [==============================] - 127s 81ms/step - loss: 0.0237 - accuracy: 0.9948 - val_loss: 0.0570 - val_accuracy: 0.9837\n",
      "Epoch 11/20\n",
      "1575/1575 [==============================] - 126s 80ms/step - loss: 0.0213 - accuracy: 0.9954 - val_loss: 0.0565 - val_accuracy: 0.9839\n",
      "Epoch 12/20\n",
      "1575/1575 [==============================] - 130s 82ms/step - loss: 0.0189 - accuracy: 0.9960 - val_loss: 0.0556 - val_accuracy: 0.9834\n",
      "Epoch 13/20\n",
      "1575/1575 [==============================] - 127s 81ms/step - loss: 0.0178 - accuracy: 0.9967 - val_loss: 0.0535 - val_accuracy: 0.9837\n",
      "Epoch 14/20\n",
      "1575/1575 [==============================] - 119s 75ms/step - loss: 0.0159 - accuracy: 0.9972 - val_loss: 0.0521 - val_accuracy: 0.9846\n",
      "Epoch 15/20\n",
      "1575/1575 [==============================] - 128s 81ms/step - loss: 0.0143 - accuracy: 0.9976 - val_loss: 0.0524 - val_accuracy: 0.9843\n",
      "Epoch 16/20\n",
      "1575/1575 [==============================] - 130s 82ms/step - loss: 0.0132 - accuracy: 0.9981 - val_loss: 0.0535 - val_accuracy: 0.9849\n",
      "Epoch 17/20\n",
      "1575/1575 [==============================] - 118s 75ms/step - loss: 0.0120 - accuracy: 0.9983 - val_loss: 0.0532 - val_accuracy: 0.9849\n",
      "Epoch 18/20\n",
      "1575/1575 [==============================] - 117s 74ms/step - loss: 0.0110 - accuracy: 0.9986 - val_loss: 0.0525 - val_accuracy: 0.9843\n",
      "Epoch 19/20\n",
      "1575/1575 [==============================] - 122s 77ms/step - loss: 0.0100 - accuracy: 0.9988 - val_loss: 0.0524 - val_accuracy: 0.9839\n",
      "Epoch 20/20\n",
      "1575/1575 [==============================] - 124s 79ms/step - loss: 0.0093 - accuracy: 0.9989 - val_loss: 0.0519 - val_accuracy: 0.9844\n"
     ]
    }
   ],
   "source": [
    "epochs = 20\n",
    "batch_size = 32\n",
    "leNet_optimal_model = leNet_5_setup(activation_function = 'tanh', learning_rate = 0.01)\n",
    "leNet_opt_history = leNet_optimal_model.fit(X_train_4d, y_train_onehot, validation_data=(X_test_4d, y_test_onehot), shuffle=False, batch_size = batch_size, epochs = epochs, verbose = 1) \n",
    "train_acc = leNet_opt_history.history['accuracy'][-1]\n",
    "test_acc = leNet_opt_history.history['val_accuracy'][-1]"
   ]
  },
  {
   "cell_type": "code",
   "execution_count": 31,
   "metadata": {},
   "outputs": [
    {
     "name": "stdout",
     "output_type": "stream",
     "text": [
      "Accuracy of LeNet-5 model on new unseen test data: 0.9844285845756531\n"
     ]
    }
   ],
   "source": [
    "print(\"Accuracy of LeNet-5 model on new unseen test data:\", test_acc)"
   ]
  },
  {
   "cell_type": "code",
   "execution_count": null,
   "metadata": {},
   "outputs": [],
   "source": []
  }
 ],
 "metadata": {
  "kernelspec": {
   "display_name": "Python 3",
   "language": "python",
   "name": "python3"
  },
  "language_info": {
   "codemirror_mode": {
    "name": "ipython",
    "version": 3
   },
   "file_extension": ".py",
   "mimetype": "text/x-python",
   "name": "python",
   "nbconvert_exporter": "python",
   "pygments_lexer": "ipython3",
   "version": "3.7.7"
  }
 },
 "nbformat": 4,
 "nbformat_minor": 4
}
