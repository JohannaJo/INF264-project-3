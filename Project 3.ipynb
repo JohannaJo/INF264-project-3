{
 "cells": [
  {
   "cell_type": "markdown",
   "metadata": {},
   "source": [
    "# Project 3 INF264\n",
    "\n",
    "Author: Johanna Jøsang (fak006)"
   ]
  },
  {
   "cell_type": "code",
   "execution_count": 1,
   "metadata": {},
   "outputs": [],
   "source": [
    "# Imports\n",
    "import pandas as pd\n",
    "import numpy as np\n",
    "import collections\n",
    "import matplotlib.pyplot as plt\n",
    "import random\n",
    "import timeit\n",
    "from pprint import pprint\n",
    "from sklearn.model_selection import train_test_split, KFold, cross_val_score\n",
    "from sklearn.ensemble import RandomForestClassifier\n",
    "from sklearn.model_selection import RandomizedSearchCV\n",
    "from sklearn.model_selection import GridSearchCV\n",
    "\n",
    "# LeNet-5 imports\n",
    "from keras.layers.convolutional import Conv2D\n",
    "from keras.layers.convolutional import AveragePooling2D\n",
    "from keras.layers.core import Activation\n",
    "from keras.layers.core import Flatten\n",
    "from keras.layers.core import Dense\n",
    "from keras.models import Sequential\n",
    "from keras.optimizers import SGD\n",
    "from keras.utils import np_utils"
   ]
  },
  {
   "cell_type": "code",
   "execution_count": 2,
   "metadata": {},
   "outputs": [],
   "source": [
    "# Load data\n",
    "label_data = np.genfromtxt('handwritten_digits_labels.csv', delimiter=',')\n",
    "image_data = np.genfromtxt('handwritten_digits_images.csv', delimiter=',')\n",
    "image_data = image_data.reshape(image_data.shape[0], 28, 28) # reshaping data"
   ]
  },
  {
   "cell_type": "markdown",
   "metadata": {},
   "source": [
    "## Visualisation and preprocessing\n",
    "\n",
    "In order to get a better understanding of the data I have been given, I start by gathering information about it.\n",
    "First I would like to get a look at the shape of the data."
   ]
  },
  {
   "cell_type": "code",
   "execution_count": 3,
   "metadata": {},
   "outputs": [
    {
     "name": "stdout",
     "output_type": "stream",
     "text": [
      "Label data shape: (70000,)\n",
      "Image data shape: (70000, 28, 28)\n"
     ]
    }
   ],
   "source": [
    "print(\"Label data shape:\", label_data.shape)\n",
    "print(\"Image data shape:\", image_data.shape)"
   ]
  },
  {
   "cell_type": "markdown",
   "metadata": {},
   "source": [
    "As expected, the label dataset is a simple array with 70000 values, while the image dataset has 70000 2d arrays represetning the digit image.\n",
    "\n",
    "Just to visalize the data for myself I print out a random image and its corresponding label."
   ]
  },
  {
   "cell_type": "code",
   "execution_count": 4,
   "metadata": {},
   "outputs": [
    {
     "name": "stdout",
     "output_type": "stream",
     "text": [
      "At index 66473 there is a 9.0\n"
     ]
    },
    {
     "data": {
      "image/png": "[encoded data removed]",
      "text/plain": [
       "<Figure size 432x288 with 1 Axes>"
      ]
     },
     "metadata": {
      "needs_background": "light"
     },
     "output_type": "display_data"
    }
   ],
   "source": [
    "data_index = random.randint(0, label_data.size)\n",
    "img = image_data[data_index]\n",
    "plt.imshow(img, cmap=\"Greys\")\n",
    "print(\"At index\", data_index, \"there is a\", label_data[data_index])"
   ]
  },
  {
   "cell_type": "markdown",
   "metadata": {},
   "source": [
    "### Digit distribution\n",
    "\n",
    "In order to find out how the data is distributed between the 10 digits, I print out the frequency, percentages and a histogram to see the distribution."
   ]
  },
  {
   "cell_type": "code",
   "execution_count": 5,
   "metadata": {},
   "outputs": [
    {
     "name": "stdout",
     "output_type": "stream",
     "text": [
      "Counter({1.0: 7877, 7.0: 7293, 3.0: 7141, 2.0: 6990, 9.0: 6958, 0.0: 6903, 6.0: 6876, 8.0: 6825, 4.0: 6824, 5.0: 6313})\n",
      "0 :  9.86 %\n",
      "1 :  11.25 %\n",
      "2 :  9.99 %\n",
      "3 :  10.20 %\n",
      "4 :  9.75 %\n",
      "5 :  9.02 %\n",
      "6 :  9.82 %\n",
      "7 :  10.42 %\n",
      "8 :  9.75 %\n",
      "9 :  9.94 %\n",
      "Min freq is 5 with 9.02 %\n",
      "Max freq is 1 with 11.25 %\n"
     ]
    }
   ],
   "source": [
    "# Count number of examples for each digit\n",
    "label_counter = collections.Counter(label_data)\n",
    "print(label_counter)\n",
    "\n",
    "# Print out the percentages for each digit\n",
    "label_data_size = label_data.size\n",
    "for i in range(10):\n",
    "    percentage = (label_counter[i] / label_data_size) * 100\n",
    "    print(i, \": \", \"%.2f\" % percentage, \"%\")\n",
    "    \n",
    "# Print min and max, which can easily be count ince label_counter is sorted by frequency\n",
    "print(\"Min freq is 5 with\", \"%.2f\" % ((label_counter[5] / label_data_size) * 100), \"%\")\n",
    "print(\"Max freq is 1 with\", \"%.2f\" % ((label_counter[1] / label_data_size) * 100), \"%\")"
   ]
  },
  {
   "cell_type": "code",
   "execution_count": 6,
   "metadata": {},
   "outputs": [
    {
     "data": {
      "image/png": "[encoded data removed]",
      "text/plain": [
       "<Figure size 1080x360 with 1 Axes>"
      ]
     },
     "metadata": {
      "needs_background": "light"
     },
     "output_type": "display_data"
    }
   ],
   "source": [
    "# Histogram\n",
    "names = list(label_counter.keys())\n",
    "values = list(label_counter.values())\n",
    "fig = plt.figure(figsize=(15,5))\n",
    "plt.bar(names, values)\n",
    "plt.xticks(np.arange(0, 10))\n",
    "plt.ylabel('Frequency')\n",
    "plt.xlabel('Label')\n",
    "plt.title(\"Digit frequency\");"
   ]
  },
  {
   "cell_type": "markdown",
   "metadata": {},
   "source": [
    "All digits have about 10% of the data, so it does not seem like the dataset needs to be balanced. The least frequent digit was 5 (9.02 %) and the most frequent was 1 (11.25 %). If our trained classifiers become much worse at categorizing 5s compared to 1s then we can perhaps go back and balance the data."
   ]
  },
  {
   "cell_type": "code",
   "execution_count": 3,
   "metadata": {},
   "outputs": [],
   "source": [
    "seed = 123\n",
    "X_train_val, X_test, y_train_val, y_test = train_test_split(image_data, label_data, test_size=0.1, shuffle=True, random_state=seed)\n",
    "X_train, X_val, y_train, y_val = train_test_split(X_train_val, y_train_val, test_size=0.2, shuffle=True, random_state=seed)\n"
   ]
  },
  {
   "cell_type": "code",
   "execution_count": 4,
   "metadata": {},
   "outputs": [],
   "source": [
    "def reshape_3d_to_2d(data_3d):\n",
    "    number_of_samples, x_dim, y_dim = data_3d.shape\n",
    "    dataset_2d = data_3d.reshape((number_of_samples,x_dim*y_dim))\n",
    "    return dataset_2d\n",
    "\n",
    "X_train_2d = reshape_3d_to_2d(X_train)\n",
    "X_val_2d = reshape_3d_to_2d(X_val)\n",
    "X_train_val_2d = reshape_3d_to_2d(X_train_val)"
   ]
  },
  {
   "cell_type": "code",
   "execution_count": 9,
   "metadata": {},
   "outputs": [
    {
     "data": {
      "text/plain": [
       "RandomForestClassifier()"
      ]
     },
     "execution_count": 9,
     "metadata": {},
     "output_type": "execute_result"
    }
   ],
   "source": [
    "clf = RandomForestClassifier()\n",
    "clf.fit(X_train_2d, y_train)\n",
    "\n",
    "#print(clf.predict([[0, 0, 0, 0]]))"
   ]
  },
  {
   "cell_type": "code",
   "execution_count": 10,
   "metadata": {},
   "outputs": [
    {
     "name": "stdout",
     "output_type": "stream",
     "text": [
      "0.9662698412698413\n"
     ]
    }
   ],
   "source": [
    "X_val_2d = reshape_3d_to_2d(X_val)\n",
    "print(clf.score(X_val_2d, y_val))"
   ]
  },
  {
   "cell_type": "code",
   "execution_count": 11,
   "metadata": {},
   "outputs": [],
   "source": [
    "def kFold_cross_validation(X_train_val, y_train_val):\n",
    "    kf = KFold(n_splits=5)\n",
    "    score_count = []\n",
    "    iteration_counter = 1\n",
    "    for train_index, test_index in kf.split(X_train_val):\n",
    "        X_train, X_val = X_train_val[train_index], X_train_val[test_index]\n",
    "        y_train, y_val = y_train_val[train_index], y_train_val[test_index]\n",
    "        clf.fit(X_train, y_train)\n",
    "        iteration_score = clf.score(X_val, y_val)\n",
    "        print(\"Iteration\", iteration_counter, \"score:\", iteration_score)\n",
    "        score_count.append(iteration_score)\n",
    "    mean_score = np.mean(score_count)\n",
    "    print(\"Mean score:\", mean_score)\n",
    "    return mean_score"
   ]
  },
  {
   "cell_type": "code",
   "execution_count": 12,
   "metadata": {},
   "outputs": [
    {
     "name": "stdout",
     "output_type": "stream",
     "text": [
      "Iteration 1 score: 0.9705555555555555\n",
      "Iteration 1 score: 0.9667460317460318\n",
      "Iteration 1 score: 0.9646031746031746\n",
      "Iteration 1 score: 0.9673809523809523\n",
      "Iteration 1 score: 0.9696031746031746\n",
      "Mean score: 0.9677777777777777\n"
     ]
    }
   ],
   "source": [
    "X_train_val_2d = reshape_3d_to_2d(X_train_val)\n",
    "\n",
    "mean_1 = kFold_cross_validation(X_train_val_2d, y_train_val)"
   ]
  },
  {
   "cell_type": "code",
   "execution_count": 13,
   "metadata": {},
   "outputs": [
    {
     "name": "stdout",
     "output_type": "stream",
     "text": [
      "[0.97015873 0.96492063 0.96730159 0.96706349 0.96809524]\n"
     ]
    }
   ],
   "source": [
    "print(cross_val_score(clf, X_train_val_2d, y_train_val))"
   ]
  },
  {
   "cell_type": "code",
   "execution_count": 14,
   "metadata": {},
   "outputs": [
    {
     "name": "stdout",
     "output_type": "stream",
     "text": [
      "0.96753968\n"
     ]
    }
   ],
   "source": [
    "print(np.mean([0.965, 0.96865079, 0.9681746, 0.96801587, 0.96785714]))"
   ]
  },
  {
   "cell_type": "code",
   "execution_count": 15,
   "metadata": {},
   "outputs": [
    {
     "name": "stdout",
     "output_type": "stream",
     "text": [
      "{'bootstrap': True, 'ccp_alpha': 0.0, 'class_weight': None, 'criterion': 'gini', 'max_depth': None, 'max_features': 'auto', 'max_leaf_nodes': None, 'max_samples': None, 'min_impurity_decrease': 0.0, 'min_impurity_split': None, 'min_samples_leaf': 1, 'min_samples_split': 2, 'min_weight_fraction_leaf': 0.0, 'n_estimators': 100, 'n_jobs': None, 'oob_score': False, 'random_state': None, 'verbose': 0, 'warm_start': False}\n"
     ]
    }
   ],
   "source": [
    "print(clf.get_params())"
   ]
  },
  {
   "cell_type": "code",
   "execution_count": 20,
   "metadata": {},
   "outputs": [
    {
     "name": "stdout",
     "output_type": "stream",
     "text": [
      "Precision at depth 1 is val: 0.5082539682539683 train 0.5174603174603175\n",
      "Precision at depth 2 is val: 0.6359523809523809 train 0.6353968253968254\n",
      "Precision at depth 3 is val: 0.7478571428571429 train 0.7492063492063492\n",
      "Precision at depth 4 is val: 0.8105555555555556 train 0.8116666666666666\n",
      "Precision at depth 5 is val: 0.858015873015873 train 0.8636904761904762\n",
      "Precision at depth 6 is val: 0.8861904761904762 train 0.8919444444444444\n",
      "Precision at depth 7 is val: 0.9075396825396825 train 0.9176587301587301\n",
      "Precision at depth 8 is val: 0.9245238095238095 train 0.9349206349206349\n",
      "Precision at depth 9 is val: 0.9367460317460318 train 0.9515277777777778\n",
      "Precision at depth 10 is val: 0.9449206349206349 train 0.966468253968254\n",
      "Precision at depth 11 is val: 0.9523015873015873 train 0.9789285714285715\n",
      "Precision at depth 12 is val: 0.9565079365079365 train 0.9888492063492064\n",
      "Precision at depth 13 is val: 0.9602380952380952 train 0.993452380952381\n",
      "Precision at depth 14 is val: 0.9619047619047619 train 0.9962698412698413\n",
      "Precision at depth 15 is val: 0.9635714285714285 train 0.9976785714285714\n",
      "Precision at depth 16 is val: 0.964920634920635 train 0.9983333333333333\n",
      "Precision at depth 17 is val: 0.9643650793650793 train 0.9986904761904762\n",
      "Precision at depth 18 is val: 0.9656349206349206 train 0.9988095238095238\n",
      "Precision at depth 19 is val: 0.965952380952381 train 0.9989880952380953\n",
      "Precision at depth 20 is val: 0.9661904761904762 train 0.9993055555555556\n",
      "Precision at depth 21 is val: 0.9682539682539683 train 0.9995039682539683\n",
      "Precision at depth 22 is val: 0.9672222222222222 train 0.999702380952381\n",
      "Precision at depth 23 is val: 0.9676190476190476 train 0.9996031746031746\n",
      "Precision at depth 24 is val: 0.9671428571428572 train 0.9997420634920635\n",
      "Precision at depth 25 is val: 0.9667460317460318 train 0.9997817460317461\n",
      "Precision at depth 26 is val: 0.9677777777777777 train 0.9998809523809524\n",
      "Precision at depth 27 is val: 0.9675396825396826 train 0.9999603174603174\n",
      "Precision at depth 28 is val: 0.9677777777777777 train 0.9999603174603174\n",
      "Precision at depth 29 is val: 0.9666666666666667 train 0.9999801587301588\n"
     ]
    }
   ],
   "source": [
    "val_acc_at_depth = {} # Dictionary for keeping track of depth vs accuracy\n",
    "train_acc_at_depth = {} # Dictionary for keeping track of depth vs accuracy\n",
    "for i in range(1,30):\n",
    "    clf = RandomForestClassifier(max_depth = i)\n",
    "    #cross_val_scores = cross_val_score(clf, X_train_val_2d, y_train_val)\n",
    "    clf.fit(X_train_2d, y_train)\n",
    "    train_score = clf.score(X_train_2d, y_train)\n",
    "    val_score = clf.score(X_val_2d, y_val)\n",
    "    #mean_cross_val_score = np.mean(cross_val_scores)\n",
    "    print(\"Precision at depth\", i , \"is val:\", val_score, \"train\", train_score)\n",
    "    #acc_at_depth[i] = mean_cross_val_score \n",
    "    train_acc_at_depth[i] = train_score\n",
    "    val_acc_at_depth[i] = val_score"
   ]
  },
  {
   "cell_type": "code",
   "execution_count": 26,
   "metadata": {},
   "outputs": [
    {
     "data": {
      "image/png": "[encoded data removed]",
      "text/plain": [
       "<Figure size 1440x720 with 1 Axes>"
      ]
     },
     "metadata": {
      "needs_background": "light"
     },
     "output_type": "display_data"
    }
   ],
   "source": [
    "x = train_acc_at_depth.keys()\n",
    "train_y = train_acc_at_depth.values()\n",
    "val_y = val_acc_at_depth.values()\n",
    "fig = plt.figure(figsize=(20,10))\n",
    "plt.plot(x,train_y)\n",
    "plt.plot(x,val_y)\n",
    "plt.axvline(x=17, ymin=0, ymax=1, color = 'r', alpha = 0.4)\n",
    "plt.text(17.1, 0.96, \"Accuracy improvement after depth 17 is minimal\")\n",
    "plt.xlim(left=13)\n",
    "plt.ylim(bottom=0.5, top = 1)\n",
    "plt.title(\"Depth vs accuracy\")\n",
    "plt.xticks(np.arange(1, 30, 1))\n",
    "plt.ylabel('Accuracy')\n",
    "plt.xlabel('Depth')\n",
    "plt.show()"
   ]
  },
  {
   "cell_type": "markdown",
   "metadata": {},
   "source": [
    "The graph above only examines the range between acciracies 0.9-0.97. We can now see that after depth 17, the accuracy of the classifier does not really improve by much. Hence, we chose depth = 17 for our random forest classifier.\n",
    "\n",
    "### Impurity measure\n",
    "We will use k-fold cross valudation to check if gini or entropy is best as impurity measure."
   ]
  },
  {
   "cell_type": "code",
   "execution_count": 25,
   "metadata": {},
   "outputs": [
    {
     "name": "stdout",
     "output_type": "stream",
     "text": [
      "0.9657460317460318\n"
     ]
    },
    {
     "ename": "KeyboardInterrupt",
     "evalue": "",
     "output_type": "error",
     "traceback": [
      "\u001b[1;31m---------------------------------------------------------------------------\u001b[0m",
      "\u001b[1;31mKeyboardInterrupt\u001b[0m                         Traceback (most recent call last)",
      "\u001b[1;32m<ipython-input-25-211db5a42227>\u001b[0m in \u001b[0;36m<module>\u001b[1;34m\u001b[0m\n\u001b[0;32m      3\u001b[0m \u001b[0mprint\u001b[0m\u001b[1;33m(\u001b[0m\u001b[0mcross_val_score_gini\u001b[0m\u001b[1;33m)\u001b[0m\u001b[1;33m\u001b[0m\u001b[1;33m\u001b[0m\u001b[0m\n\u001b[0;32m      4\u001b[0m \u001b[0mclf\u001b[0m \u001b[1;33m=\u001b[0m \u001b[0mRandomForestClassifier\u001b[0m\u001b[1;33m(\u001b[0m\u001b[0mcriterion\u001b[0m \u001b[1;33m=\u001b[0m \u001b[1;34m'entropy'\u001b[0m\u001b[1;33m,\u001b[0m \u001b[0mmax_depth\u001b[0m \u001b[1;33m=\u001b[0m \u001b[1;36m17\u001b[0m\u001b[1;33m)\u001b[0m\u001b[1;33m\u001b[0m\u001b[1;33m\u001b[0m\u001b[0m\n\u001b[1;32m----> 5\u001b[1;33m \u001b[0mcross_val_score_entropy\u001b[0m \u001b[1;33m=\u001b[0m \u001b[0mnp\u001b[0m\u001b[1;33m.\u001b[0m\u001b[0mmean\u001b[0m\u001b[1;33m(\u001b[0m\u001b[0mcross_val_score\u001b[0m\u001b[1;33m(\u001b[0m\u001b[0mclf\u001b[0m\u001b[1;33m,\u001b[0m \u001b[0mX_train_val_2d\u001b[0m\u001b[1;33m,\u001b[0m \u001b[0my_train_val\u001b[0m\u001b[1;33m)\u001b[0m\u001b[1;33m)\u001b[0m\u001b[1;33m\u001b[0m\u001b[1;33m\u001b[0m\u001b[0m\n\u001b[0m\u001b[0;32m      6\u001b[0m \u001b[0mprint\u001b[0m\u001b[1;33m(\u001b[0m\u001b[0mcross_val_score_entropy\u001b[0m\u001b[1;33m)\u001b[0m\u001b[1;33m\u001b[0m\u001b[1;33m\u001b[0m\u001b[0m\n",
      "\u001b[1;32mc:\\users\\johan\\appdata\\local\\programs\\python\\python37\\lib\\site-packages\\sklearn\\utils\\validation.py\u001b[0m in \u001b[0;36minner_f\u001b[1;34m(*args, **kwargs)\u001b[0m\n\u001b[0;32m     70\u001b[0m                           FutureWarning)\n\u001b[0;32m     71\u001b[0m         \u001b[0mkwargs\u001b[0m\u001b[1;33m.\u001b[0m\u001b[0mupdate\u001b[0m\u001b[1;33m(\u001b[0m\u001b[1;33m{\u001b[0m\u001b[0mk\u001b[0m\u001b[1;33m:\u001b[0m \u001b[0marg\u001b[0m \u001b[1;32mfor\u001b[0m \u001b[0mk\u001b[0m\u001b[1;33m,\u001b[0m \u001b[0marg\u001b[0m \u001b[1;32min\u001b[0m \u001b[0mzip\u001b[0m\u001b[1;33m(\u001b[0m\u001b[0msig\u001b[0m\u001b[1;33m.\u001b[0m\u001b[0mparameters\u001b[0m\u001b[1;33m,\u001b[0m \u001b[0margs\u001b[0m\u001b[1;33m)\u001b[0m\u001b[1;33m}\u001b[0m\u001b[1;33m)\u001b[0m\u001b[1;33m\u001b[0m\u001b[1;33m\u001b[0m\u001b[0m\n\u001b[1;32m---> 72\u001b[1;33m         \u001b[1;32mreturn\u001b[0m \u001b[0mf\u001b[0m\u001b[1;33m(\u001b[0m\u001b[1;33m**\u001b[0m\u001b[0mkwargs\u001b[0m\u001b[1;33m)\u001b[0m\u001b[1;33m\u001b[0m\u001b[1;33m\u001b[0m\u001b[0m\n\u001b[0m\u001b[0;32m     73\u001b[0m     \u001b[1;32mreturn\u001b[0m \u001b[0minner_f\u001b[0m\u001b[1;33m\u001b[0m\u001b[1;33m\u001b[0m\u001b[0m\n\u001b[0;32m     74\u001b[0m \u001b[1;33m\u001b[0m\u001b[0m\n",
      "\u001b[1;32mc:\\users\\johan\\appdata\\local\\programs\\python\\python37\\lib\\site-packages\\sklearn\\model_selection\\_validation.py\u001b[0m in \u001b[0;36mcross_val_score\u001b[1;34m(estimator, X, y, groups, scoring, cv, n_jobs, verbose, fit_params, pre_dispatch, error_score)\u001b[0m\n\u001b[0;32m    404\u001b[0m                                 \u001b[0mfit_params\u001b[0m\u001b[1;33m=\u001b[0m\u001b[0mfit_params\u001b[0m\u001b[1;33m,\u001b[0m\u001b[1;33m\u001b[0m\u001b[1;33m\u001b[0m\u001b[0m\n\u001b[0;32m    405\u001b[0m                                 \u001b[0mpre_dispatch\u001b[0m\u001b[1;33m=\u001b[0m\u001b[0mpre_dispatch\u001b[0m\u001b[1;33m,\u001b[0m\u001b[1;33m\u001b[0m\u001b[1;33m\u001b[0m\u001b[0m\n\u001b[1;32m--> 406\u001b[1;33m                                 error_score=error_score)\n\u001b[0m\u001b[0;32m    407\u001b[0m     \u001b[1;32mreturn\u001b[0m \u001b[0mcv_results\u001b[0m\u001b[1;33m[\u001b[0m\u001b[1;34m'test_score'\u001b[0m\u001b[1;33m]\u001b[0m\u001b[1;33m\u001b[0m\u001b[1;33m\u001b[0m\u001b[0m\n\u001b[0;32m    408\u001b[0m \u001b[1;33m\u001b[0m\u001b[0m\n",
      "\u001b[1;32mc:\\users\\johan\\appdata\\local\\programs\\python\\python37\\lib\\site-packages\\sklearn\\utils\\validation.py\u001b[0m in \u001b[0;36minner_f\u001b[1;34m(*args, **kwargs)\u001b[0m\n\u001b[0;32m     70\u001b[0m                           FutureWarning)\n\u001b[0;32m     71\u001b[0m         \u001b[0mkwargs\u001b[0m\u001b[1;33m.\u001b[0m\u001b[0mupdate\u001b[0m\u001b[1;33m(\u001b[0m\u001b[1;33m{\u001b[0m\u001b[0mk\u001b[0m\u001b[1;33m:\u001b[0m \u001b[0marg\u001b[0m \u001b[1;32mfor\u001b[0m \u001b[0mk\u001b[0m\u001b[1;33m,\u001b[0m \u001b[0marg\u001b[0m \u001b[1;32min\u001b[0m \u001b[0mzip\u001b[0m\u001b[1;33m(\u001b[0m\u001b[0msig\u001b[0m\u001b[1;33m.\u001b[0m\u001b[0mparameters\u001b[0m\u001b[1;33m,\u001b[0m \u001b[0margs\u001b[0m\u001b[1;33m)\u001b[0m\u001b[1;33m}\u001b[0m\u001b[1;33m)\u001b[0m\u001b[1;33m\u001b[0m\u001b[1;33m\u001b[0m\u001b[0m\n\u001b[1;32m---> 72\u001b[1;33m         \u001b[1;32mreturn\u001b[0m \u001b[0mf\u001b[0m\u001b[1;33m(\u001b[0m\u001b[1;33m**\u001b[0m\u001b[0mkwargs\u001b[0m\u001b[1;33m)\u001b[0m\u001b[1;33m\u001b[0m\u001b[1;33m\u001b[0m\u001b[0m\n\u001b[0m\u001b[0;32m     73\u001b[0m     \u001b[1;32mreturn\u001b[0m \u001b[0minner_f\u001b[0m\u001b[1;33m\u001b[0m\u001b[1;33m\u001b[0m\u001b[0m\n\u001b[0;32m     74\u001b[0m \u001b[1;33m\u001b[0m\u001b[0m\n",
      "\u001b[1;32mc:\\users\\johan\\appdata\\local\\programs\\python\\python37\\lib\\site-packages\\sklearn\\model_selection\\_validation.py\u001b[0m in \u001b[0;36mcross_validate\u001b[1;34m(estimator, X, y, groups, scoring, cv, n_jobs, verbose, fit_params, pre_dispatch, return_train_score, return_estimator, error_score)\u001b[0m\n\u001b[0;32m    246\u001b[0m             \u001b[0mreturn_times\u001b[0m\u001b[1;33m=\u001b[0m\u001b[1;32mTrue\u001b[0m\u001b[1;33m,\u001b[0m \u001b[0mreturn_estimator\u001b[0m\u001b[1;33m=\u001b[0m\u001b[0mreturn_estimator\u001b[0m\u001b[1;33m,\u001b[0m\u001b[1;33m\u001b[0m\u001b[1;33m\u001b[0m\u001b[0m\n\u001b[0;32m    247\u001b[0m             error_score=error_score)\n\u001b[1;32m--> 248\u001b[1;33m         for train, test in cv.split(X, y, groups))\n\u001b[0m\u001b[0;32m    249\u001b[0m \u001b[1;33m\u001b[0m\u001b[0m\n\u001b[0;32m    250\u001b[0m     \u001b[0mzipped_scores\u001b[0m \u001b[1;33m=\u001b[0m \u001b[0mlist\u001b[0m\u001b[1;33m(\u001b[0m\u001b[0mzip\u001b[0m\u001b[1;33m(\u001b[0m\u001b[1;33m*\u001b[0m\u001b[0mscores\u001b[0m\u001b[1;33m)\u001b[0m\u001b[1;33m)\u001b[0m\u001b[1;33m\u001b[0m\u001b[1;33m\u001b[0m\u001b[0m\n",
      "\u001b[1;32mc:\\users\\johan\\appdata\\local\\programs\\python\\python37\\lib\\site-packages\\joblib\\parallel.py\u001b[0m in \u001b[0;36m__call__\u001b[1;34m(self, iterable)\u001b[0m\n\u001b[0;32m   1030\u001b[0m                 \u001b[0mself\u001b[0m\u001b[1;33m.\u001b[0m\u001b[0m_iterating\u001b[0m \u001b[1;33m=\u001b[0m \u001b[0mself\u001b[0m\u001b[1;33m.\u001b[0m\u001b[0m_original_iterator\u001b[0m \u001b[1;32mis\u001b[0m \u001b[1;32mnot\u001b[0m \u001b[1;32mNone\u001b[0m\u001b[1;33m\u001b[0m\u001b[1;33m\u001b[0m\u001b[0m\n\u001b[0;32m   1031\u001b[0m \u001b[1;33m\u001b[0m\u001b[0m\n\u001b[1;32m-> 1032\u001b[1;33m             \u001b[1;32mwhile\u001b[0m \u001b[0mself\u001b[0m\u001b[1;33m.\u001b[0m\u001b[0mdispatch_one_batch\u001b[0m\u001b[1;33m(\u001b[0m\u001b[0miterator\u001b[0m\u001b[1;33m)\u001b[0m\u001b[1;33m:\u001b[0m\u001b[1;33m\u001b[0m\u001b[1;33m\u001b[0m\u001b[0m\n\u001b[0m\u001b[0;32m   1033\u001b[0m                 \u001b[1;32mpass\u001b[0m\u001b[1;33m\u001b[0m\u001b[1;33m\u001b[0m\u001b[0m\n\u001b[0;32m   1034\u001b[0m \u001b[1;33m\u001b[0m\u001b[0m\n",
      "\u001b[1;32mc:\\users\\johan\\appdata\\local\\programs\\python\\python37\\lib\\site-packages\\joblib\\parallel.py\u001b[0m in \u001b[0;36mdispatch_one_batch\u001b[1;34m(self, iterator)\u001b[0m\n\u001b[0;32m    845\u001b[0m                 \u001b[1;32mreturn\u001b[0m \u001b[1;32mFalse\u001b[0m\u001b[1;33m\u001b[0m\u001b[1;33m\u001b[0m\u001b[0m\n\u001b[0;32m    846\u001b[0m             \u001b[1;32melse\u001b[0m\u001b[1;33m:\u001b[0m\u001b[1;33m\u001b[0m\u001b[1;33m\u001b[0m\u001b[0m\n\u001b[1;32m--> 847\u001b[1;33m                 \u001b[0mself\u001b[0m\u001b[1;33m.\u001b[0m\u001b[0m_dispatch\u001b[0m\u001b[1;33m(\u001b[0m\u001b[0mtasks\u001b[0m\u001b[1;33m)\u001b[0m\u001b[1;33m\u001b[0m\u001b[1;33m\u001b[0m\u001b[0m\n\u001b[0m\u001b[0;32m    848\u001b[0m                 \u001b[1;32mreturn\u001b[0m \u001b[1;32mTrue\u001b[0m\u001b[1;33m\u001b[0m\u001b[1;33m\u001b[0m\u001b[0m\n\u001b[0;32m    849\u001b[0m \u001b[1;33m\u001b[0m\u001b[0m\n",
      "\u001b[1;32mc:\\users\\johan\\appdata\\local\\programs\\python\\python37\\lib\\site-packages\\joblib\\parallel.py\u001b[0m in \u001b[0;36m_dispatch\u001b[1;34m(self, batch)\u001b[0m\n\u001b[0;32m    763\u001b[0m         \u001b[1;32mwith\u001b[0m \u001b[0mself\u001b[0m\u001b[1;33m.\u001b[0m\u001b[0m_lock\u001b[0m\u001b[1;33m:\u001b[0m\u001b[1;33m\u001b[0m\u001b[1;33m\u001b[0m\u001b[0m\n\u001b[0;32m    764\u001b[0m             \u001b[0mjob_idx\u001b[0m \u001b[1;33m=\u001b[0m \u001b[0mlen\u001b[0m\u001b[1;33m(\u001b[0m\u001b[0mself\u001b[0m\u001b[1;33m.\u001b[0m\u001b[0m_jobs\u001b[0m\u001b[1;33m)\u001b[0m\u001b[1;33m\u001b[0m\u001b[1;33m\u001b[0m\u001b[0m\n\u001b[1;32m--> 765\u001b[1;33m             \u001b[0mjob\u001b[0m \u001b[1;33m=\u001b[0m \u001b[0mself\u001b[0m\u001b[1;33m.\u001b[0m\u001b[0m_backend\u001b[0m\u001b[1;33m.\u001b[0m\u001b[0mapply_async\u001b[0m\u001b[1;33m(\u001b[0m\u001b[0mbatch\u001b[0m\u001b[1;33m,\u001b[0m \u001b[0mcallback\u001b[0m\u001b[1;33m=\u001b[0m\u001b[0mcb\u001b[0m\u001b[1;33m)\u001b[0m\u001b[1;33m\u001b[0m\u001b[1;33m\u001b[0m\u001b[0m\n\u001b[0m\u001b[0;32m    766\u001b[0m             \u001b[1;31m# A job can complete so quickly than its callback is\u001b[0m\u001b[1;33m\u001b[0m\u001b[1;33m\u001b[0m\u001b[1;33m\u001b[0m\u001b[0m\n\u001b[0;32m    767\u001b[0m             \u001b[1;31m# called before we get here, causing self._jobs to\u001b[0m\u001b[1;33m\u001b[0m\u001b[1;33m\u001b[0m\u001b[1;33m\u001b[0m\u001b[0m\n",
      "\u001b[1;32mc:\\users\\johan\\appdata\\local\\programs\\python\\python37\\lib\\site-packages\\joblib\\_parallel_backends.py\u001b[0m in \u001b[0;36mapply_async\u001b[1;34m(self, func, callback)\u001b[0m\n\u001b[0;32m    206\u001b[0m     \u001b[1;32mdef\u001b[0m \u001b[0mapply_async\u001b[0m\u001b[1;33m(\u001b[0m\u001b[0mself\u001b[0m\u001b[1;33m,\u001b[0m \u001b[0mfunc\u001b[0m\u001b[1;33m,\u001b[0m \u001b[0mcallback\u001b[0m\u001b[1;33m=\u001b[0m\u001b[1;32mNone\u001b[0m\u001b[1;33m)\u001b[0m\u001b[1;33m:\u001b[0m\u001b[1;33m\u001b[0m\u001b[1;33m\u001b[0m\u001b[0m\n\u001b[0;32m    207\u001b[0m         \u001b[1;34m\"\"\"Schedule a func to be run\"\"\"\u001b[0m\u001b[1;33m\u001b[0m\u001b[1;33m\u001b[0m\u001b[0m\n\u001b[1;32m--> 208\u001b[1;33m         \u001b[0mresult\u001b[0m \u001b[1;33m=\u001b[0m \u001b[0mImmediateResult\u001b[0m\u001b[1;33m(\u001b[0m\u001b[0mfunc\u001b[0m\u001b[1;33m)\u001b[0m\u001b[1;33m\u001b[0m\u001b[1;33m\u001b[0m\u001b[0m\n\u001b[0m\u001b[0;32m    209\u001b[0m         \u001b[1;32mif\u001b[0m \u001b[0mcallback\u001b[0m\u001b[1;33m:\u001b[0m\u001b[1;33m\u001b[0m\u001b[1;33m\u001b[0m\u001b[0m\n\u001b[0;32m    210\u001b[0m             \u001b[0mcallback\u001b[0m\u001b[1;33m(\u001b[0m\u001b[0mresult\u001b[0m\u001b[1;33m)\u001b[0m\u001b[1;33m\u001b[0m\u001b[1;33m\u001b[0m\u001b[0m\n",
      "\u001b[1;32mc:\\users\\johan\\appdata\\local\\programs\\python\\python37\\lib\\site-packages\\joblib\\_parallel_backends.py\u001b[0m in \u001b[0;36m__init__\u001b[1;34m(self, batch)\u001b[0m\n\u001b[0;32m    570\u001b[0m         \u001b[1;31m# Don't delay the application, to avoid keeping the input\u001b[0m\u001b[1;33m\u001b[0m\u001b[1;33m\u001b[0m\u001b[1;33m\u001b[0m\u001b[0m\n\u001b[0;32m    571\u001b[0m         \u001b[1;31m# arguments in memory\u001b[0m\u001b[1;33m\u001b[0m\u001b[1;33m\u001b[0m\u001b[1;33m\u001b[0m\u001b[0m\n\u001b[1;32m--> 572\u001b[1;33m         \u001b[0mself\u001b[0m\u001b[1;33m.\u001b[0m\u001b[0mresults\u001b[0m \u001b[1;33m=\u001b[0m \u001b[0mbatch\u001b[0m\u001b[1;33m(\u001b[0m\u001b[1;33m)\u001b[0m\u001b[1;33m\u001b[0m\u001b[1;33m\u001b[0m\u001b[0m\n\u001b[0m\u001b[0;32m    573\u001b[0m \u001b[1;33m\u001b[0m\u001b[0m\n\u001b[0;32m    574\u001b[0m     \u001b[1;32mdef\u001b[0m \u001b[0mget\u001b[0m\u001b[1;33m(\u001b[0m\u001b[0mself\u001b[0m\u001b[1;33m)\u001b[0m\u001b[1;33m:\u001b[0m\u001b[1;33m\u001b[0m\u001b[1;33m\u001b[0m\u001b[0m\n",
      "\u001b[1;32mc:\\users\\johan\\appdata\\local\\programs\\python\\python37\\lib\\site-packages\\joblib\\parallel.py\u001b[0m in \u001b[0;36m__call__\u001b[1;34m(self)\u001b[0m\n\u001b[0;32m    251\u001b[0m         \u001b[1;32mwith\u001b[0m \u001b[0mparallel_backend\u001b[0m\u001b[1;33m(\u001b[0m\u001b[0mself\u001b[0m\u001b[1;33m.\u001b[0m\u001b[0m_backend\u001b[0m\u001b[1;33m,\u001b[0m \u001b[0mn_jobs\u001b[0m\u001b[1;33m=\u001b[0m\u001b[0mself\u001b[0m\u001b[1;33m.\u001b[0m\u001b[0m_n_jobs\u001b[0m\u001b[1;33m)\u001b[0m\u001b[1;33m:\u001b[0m\u001b[1;33m\u001b[0m\u001b[1;33m\u001b[0m\u001b[0m\n\u001b[0;32m    252\u001b[0m             return [func(*args, **kwargs)\n\u001b[1;32m--> 253\u001b[1;33m                     for func, args, kwargs in self.items]\n\u001b[0m\u001b[0;32m    254\u001b[0m \u001b[1;33m\u001b[0m\u001b[0m\n\u001b[0;32m    255\u001b[0m     \u001b[1;32mdef\u001b[0m \u001b[0m__reduce__\u001b[0m\u001b[1;33m(\u001b[0m\u001b[0mself\u001b[0m\u001b[1;33m)\u001b[0m\u001b[1;33m:\u001b[0m\u001b[1;33m\u001b[0m\u001b[1;33m\u001b[0m\u001b[0m\n",
      "\u001b[1;32mc:\\users\\johan\\appdata\\local\\programs\\python\\python37\\lib\\site-packages\\joblib\\parallel.py\u001b[0m in \u001b[0;36m<listcomp>\u001b[1;34m(.0)\u001b[0m\n\u001b[0;32m    251\u001b[0m         \u001b[1;32mwith\u001b[0m \u001b[0mparallel_backend\u001b[0m\u001b[1;33m(\u001b[0m\u001b[0mself\u001b[0m\u001b[1;33m.\u001b[0m\u001b[0m_backend\u001b[0m\u001b[1;33m,\u001b[0m \u001b[0mn_jobs\u001b[0m\u001b[1;33m=\u001b[0m\u001b[0mself\u001b[0m\u001b[1;33m.\u001b[0m\u001b[0m_n_jobs\u001b[0m\u001b[1;33m)\u001b[0m\u001b[1;33m:\u001b[0m\u001b[1;33m\u001b[0m\u001b[1;33m\u001b[0m\u001b[0m\n\u001b[0;32m    252\u001b[0m             return [func(*args, **kwargs)\n\u001b[1;32m--> 253\u001b[1;33m                     for func, args, kwargs in self.items]\n\u001b[0m\u001b[0;32m    254\u001b[0m \u001b[1;33m\u001b[0m\u001b[0m\n\u001b[0;32m    255\u001b[0m     \u001b[1;32mdef\u001b[0m \u001b[0m__reduce__\u001b[0m\u001b[1;33m(\u001b[0m\u001b[0mself\u001b[0m\u001b[1;33m)\u001b[0m\u001b[1;33m:\u001b[0m\u001b[1;33m\u001b[0m\u001b[1;33m\u001b[0m\u001b[0m\n",
      "\u001b[1;32mc:\\users\\johan\\appdata\\local\\programs\\python\\python37\\lib\\site-packages\\sklearn\\model_selection\\_validation.py\u001b[0m in \u001b[0;36m_fit_and_score\u001b[1;34m(estimator, X, y, scorer, train, test, verbose, parameters, fit_params, return_train_score, return_parameters, return_n_test_samples, return_times, return_estimator, error_score)\u001b[0m\n\u001b[0;32m    529\u001b[0m             \u001b[0mestimator\u001b[0m\u001b[1;33m.\u001b[0m\u001b[0mfit\u001b[0m\u001b[1;33m(\u001b[0m\u001b[0mX_train\u001b[0m\u001b[1;33m,\u001b[0m \u001b[1;33m**\u001b[0m\u001b[0mfit_params\u001b[0m\u001b[1;33m)\u001b[0m\u001b[1;33m\u001b[0m\u001b[1;33m\u001b[0m\u001b[0m\n\u001b[0;32m    530\u001b[0m         \u001b[1;32melse\u001b[0m\u001b[1;33m:\u001b[0m\u001b[1;33m\u001b[0m\u001b[1;33m\u001b[0m\u001b[0m\n\u001b[1;32m--> 531\u001b[1;33m             \u001b[0mestimator\u001b[0m\u001b[1;33m.\u001b[0m\u001b[0mfit\u001b[0m\u001b[1;33m(\u001b[0m\u001b[0mX_train\u001b[0m\u001b[1;33m,\u001b[0m \u001b[0my_train\u001b[0m\u001b[1;33m,\u001b[0m \u001b[1;33m**\u001b[0m\u001b[0mfit_params\u001b[0m\u001b[1;33m)\u001b[0m\u001b[1;33m\u001b[0m\u001b[1;33m\u001b[0m\u001b[0m\n\u001b[0m\u001b[0;32m    532\u001b[0m \u001b[1;33m\u001b[0m\u001b[0m\n\u001b[0;32m    533\u001b[0m     \u001b[1;32mexcept\u001b[0m \u001b[0mException\u001b[0m \u001b[1;32mas\u001b[0m \u001b[0me\u001b[0m\u001b[1;33m:\u001b[0m\u001b[1;33m\u001b[0m\u001b[1;33m\u001b[0m\u001b[0m\n",
      "\u001b[1;32mc:\\users\\johan\\appdata\\local\\programs\\python\\python37\\lib\\site-packages\\sklearn\\ensemble\\_forest.py\u001b[0m in \u001b[0;36mfit\u001b[1;34m(self, X, y, sample_weight)\u001b[0m\n\u001b[0;32m    390\u001b[0m                     \u001b[0mverbose\u001b[0m\u001b[1;33m=\u001b[0m\u001b[0mself\u001b[0m\u001b[1;33m.\u001b[0m\u001b[0mverbose\u001b[0m\u001b[1;33m,\u001b[0m \u001b[0mclass_weight\u001b[0m\u001b[1;33m=\u001b[0m\u001b[0mself\u001b[0m\u001b[1;33m.\u001b[0m\u001b[0mclass_weight\u001b[0m\u001b[1;33m,\u001b[0m\u001b[1;33m\u001b[0m\u001b[1;33m\u001b[0m\u001b[0m\n\u001b[0;32m    391\u001b[0m                     n_samples_bootstrap=n_samples_bootstrap)\n\u001b[1;32m--> 392\u001b[1;33m                 for i, t in enumerate(trees))\n\u001b[0m\u001b[0;32m    393\u001b[0m \u001b[1;33m\u001b[0m\u001b[0m\n\u001b[0;32m    394\u001b[0m             \u001b[1;31m# Collect newly grown trees\u001b[0m\u001b[1;33m\u001b[0m\u001b[1;33m\u001b[0m\u001b[1;33m\u001b[0m\u001b[0m\n",
      "\u001b[1;32mc:\\users\\johan\\appdata\\local\\programs\\python\\python37\\lib\\site-packages\\joblib\\parallel.py\u001b[0m in \u001b[0;36m__call__\u001b[1;34m(self, iterable)\u001b[0m\n\u001b[0;32m   1030\u001b[0m                 \u001b[0mself\u001b[0m\u001b[1;33m.\u001b[0m\u001b[0m_iterating\u001b[0m \u001b[1;33m=\u001b[0m \u001b[0mself\u001b[0m\u001b[1;33m.\u001b[0m\u001b[0m_original_iterator\u001b[0m \u001b[1;32mis\u001b[0m \u001b[1;32mnot\u001b[0m \u001b[1;32mNone\u001b[0m\u001b[1;33m\u001b[0m\u001b[1;33m\u001b[0m\u001b[0m\n\u001b[0;32m   1031\u001b[0m \u001b[1;33m\u001b[0m\u001b[0m\n\u001b[1;32m-> 1032\u001b[1;33m             \u001b[1;32mwhile\u001b[0m \u001b[0mself\u001b[0m\u001b[1;33m.\u001b[0m\u001b[0mdispatch_one_batch\u001b[0m\u001b[1;33m(\u001b[0m\u001b[0miterator\u001b[0m\u001b[1;33m)\u001b[0m\u001b[1;33m:\u001b[0m\u001b[1;33m\u001b[0m\u001b[1;33m\u001b[0m\u001b[0m\n\u001b[0m\u001b[0;32m   1033\u001b[0m                 \u001b[1;32mpass\u001b[0m\u001b[1;33m\u001b[0m\u001b[1;33m\u001b[0m\u001b[0m\n\u001b[0;32m   1034\u001b[0m \u001b[1;33m\u001b[0m\u001b[0m\n",
      "\u001b[1;32mc:\\users\\johan\\appdata\\local\\programs\\python\\python37\\lib\\site-packages\\joblib\\parallel.py\u001b[0m in \u001b[0;36mdispatch_one_batch\u001b[1;34m(self, iterator)\u001b[0m\n\u001b[0;32m    845\u001b[0m                 \u001b[1;32mreturn\u001b[0m \u001b[1;32mFalse\u001b[0m\u001b[1;33m\u001b[0m\u001b[1;33m\u001b[0m\u001b[0m\n\u001b[0;32m    846\u001b[0m             \u001b[1;32melse\u001b[0m\u001b[1;33m:\u001b[0m\u001b[1;33m\u001b[0m\u001b[1;33m\u001b[0m\u001b[0m\n\u001b[1;32m--> 847\u001b[1;33m                 \u001b[0mself\u001b[0m\u001b[1;33m.\u001b[0m\u001b[0m_dispatch\u001b[0m\u001b[1;33m(\u001b[0m\u001b[0mtasks\u001b[0m\u001b[1;33m)\u001b[0m\u001b[1;33m\u001b[0m\u001b[1;33m\u001b[0m\u001b[0m\n\u001b[0m\u001b[0;32m    848\u001b[0m                 \u001b[1;32mreturn\u001b[0m \u001b[1;32mTrue\u001b[0m\u001b[1;33m\u001b[0m\u001b[1;33m\u001b[0m\u001b[0m\n\u001b[0;32m    849\u001b[0m \u001b[1;33m\u001b[0m\u001b[0m\n",
      "\u001b[1;32mc:\\users\\johan\\appdata\\local\\programs\\python\\python37\\lib\\site-packages\\joblib\\parallel.py\u001b[0m in \u001b[0;36m_dispatch\u001b[1;34m(self, batch)\u001b[0m\n\u001b[0;32m    763\u001b[0m         \u001b[1;32mwith\u001b[0m \u001b[0mself\u001b[0m\u001b[1;33m.\u001b[0m\u001b[0m_lock\u001b[0m\u001b[1;33m:\u001b[0m\u001b[1;33m\u001b[0m\u001b[1;33m\u001b[0m\u001b[0m\n\u001b[0;32m    764\u001b[0m             \u001b[0mjob_idx\u001b[0m \u001b[1;33m=\u001b[0m \u001b[0mlen\u001b[0m\u001b[1;33m(\u001b[0m\u001b[0mself\u001b[0m\u001b[1;33m.\u001b[0m\u001b[0m_jobs\u001b[0m\u001b[1;33m)\u001b[0m\u001b[1;33m\u001b[0m\u001b[1;33m\u001b[0m\u001b[0m\n\u001b[1;32m--> 765\u001b[1;33m             \u001b[0mjob\u001b[0m \u001b[1;33m=\u001b[0m \u001b[0mself\u001b[0m\u001b[1;33m.\u001b[0m\u001b[0m_backend\u001b[0m\u001b[1;33m.\u001b[0m\u001b[0mapply_async\u001b[0m\u001b[1;33m(\u001b[0m\u001b[0mbatch\u001b[0m\u001b[1;33m,\u001b[0m \u001b[0mcallback\u001b[0m\u001b[1;33m=\u001b[0m\u001b[0mcb\u001b[0m\u001b[1;33m)\u001b[0m\u001b[1;33m\u001b[0m\u001b[1;33m\u001b[0m\u001b[0m\n\u001b[0m\u001b[0;32m    766\u001b[0m             \u001b[1;31m# A job can complete so quickly than its callback is\u001b[0m\u001b[1;33m\u001b[0m\u001b[1;33m\u001b[0m\u001b[1;33m\u001b[0m\u001b[0m\n\u001b[0;32m    767\u001b[0m             \u001b[1;31m# called before we get here, causing self._jobs to\u001b[0m\u001b[1;33m\u001b[0m\u001b[1;33m\u001b[0m\u001b[1;33m\u001b[0m\u001b[0m\n",
      "\u001b[1;32mc:\\users\\johan\\appdata\\local\\programs\\python\\python37\\lib\\site-packages\\joblib\\_parallel_backends.py\u001b[0m in \u001b[0;36mapply_async\u001b[1;34m(self, func, callback)\u001b[0m\n\u001b[0;32m    206\u001b[0m     \u001b[1;32mdef\u001b[0m \u001b[0mapply_async\u001b[0m\u001b[1;33m(\u001b[0m\u001b[0mself\u001b[0m\u001b[1;33m,\u001b[0m \u001b[0mfunc\u001b[0m\u001b[1;33m,\u001b[0m \u001b[0mcallback\u001b[0m\u001b[1;33m=\u001b[0m\u001b[1;32mNone\u001b[0m\u001b[1;33m)\u001b[0m\u001b[1;33m:\u001b[0m\u001b[1;33m\u001b[0m\u001b[1;33m\u001b[0m\u001b[0m\n\u001b[0;32m    207\u001b[0m         \u001b[1;34m\"\"\"Schedule a func to be run\"\"\"\u001b[0m\u001b[1;33m\u001b[0m\u001b[1;33m\u001b[0m\u001b[0m\n\u001b[1;32m--> 208\u001b[1;33m         \u001b[0mresult\u001b[0m \u001b[1;33m=\u001b[0m \u001b[0mImmediateResult\u001b[0m\u001b[1;33m(\u001b[0m\u001b[0mfunc\u001b[0m\u001b[1;33m)\u001b[0m\u001b[1;33m\u001b[0m\u001b[1;33m\u001b[0m\u001b[0m\n\u001b[0m\u001b[0;32m    209\u001b[0m         \u001b[1;32mif\u001b[0m \u001b[0mcallback\u001b[0m\u001b[1;33m:\u001b[0m\u001b[1;33m\u001b[0m\u001b[1;33m\u001b[0m\u001b[0m\n\u001b[0;32m    210\u001b[0m             \u001b[0mcallback\u001b[0m\u001b[1;33m(\u001b[0m\u001b[0mresult\u001b[0m\u001b[1;33m)\u001b[0m\u001b[1;33m\u001b[0m\u001b[1;33m\u001b[0m\u001b[0m\n",
      "\u001b[1;32mc:\\users\\johan\\appdata\\local\\programs\\python\\python37\\lib\\site-packages\\joblib\\_parallel_backends.py\u001b[0m in \u001b[0;36m__init__\u001b[1;34m(self, batch)\u001b[0m\n\u001b[0;32m    570\u001b[0m         \u001b[1;31m# Don't delay the application, to avoid keeping the input\u001b[0m\u001b[1;33m\u001b[0m\u001b[1;33m\u001b[0m\u001b[1;33m\u001b[0m\u001b[0m\n\u001b[0;32m    571\u001b[0m         \u001b[1;31m# arguments in memory\u001b[0m\u001b[1;33m\u001b[0m\u001b[1;33m\u001b[0m\u001b[1;33m\u001b[0m\u001b[0m\n\u001b[1;32m--> 572\u001b[1;33m         \u001b[0mself\u001b[0m\u001b[1;33m.\u001b[0m\u001b[0mresults\u001b[0m \u001b[1;33m=\u001b[0m \u001b[0mbatch\u001b[0m\u001b[1;33m(\u001b[0m\u001b[1;33m)\u001b[0m\u001b[1;33m\u001b[0m\u001b[1;33m\u001b[0m\u001b[0m\n\u001b[0m\u001b[0;32m    573\u001b[0m \u001b[1;33m\u001b[0m\u001b[0m\n\u001b[0;32m    574\u001b[0m     \u001b[1;32mdef\u001b[0m \u001b[0mget\u001b[0m\u001b[1;33m(\u001b[0m\u001b[0mself\u001b[0m\u001b[1;33m)\u001b[0m\u001b[1;33m:\u001b[0m\u001b[1;33m\u001b[0m\u001b[1;33m\u001b[0m\u001b[0m\n",
      "\u001b[1;32mc:\\users\\johan\\appdata\\local\\programs\\python\\python37\\lib\\site-packages\\joblib\\parallel.py\u001b[0m in \u001b[0;36m__call__\u001b[1;34m(self)\u001b[0m\n\u001b[0;32m    251\u001b[0m         \u001b[1;32mwith\u001b[0m \u001b[0mparallel_backend\u001b[0m\u001b[1;33m(\u001b[0m\u001b[0mself\u001b[0m\u001b[1;33m.\u001b[0m\u001b[0m_backend\u001b[0m\u001b[1;33m,\u001b[0m \u001b[0mn_jobs\u001b[0m\u001b[1;33m=\u001b[0m\u001b[0mself\u001b[0m\u001b[1;33m.\u001b[0m\u001b[0m_n_jobs\u001b[0m\u001b[1;33m)\u001b[0m\u001b[1;33m:\u001b[0m\u001b[1;33m\u001b[0m\u001b[1;33m\u001b[0m\u001b[0m\n\u001b[0;32m    252\u001b[0m             return [func(*args, **kwargs)\n\u001b[1;32m--> 253\u001b[1;33m                     for func, args, kwargs in self.items]\n\u001b[0m\u001b[0;32m    254\u001b[0m \u001b[1;33m\u001b[0m\u001b[0m\n\u001b[0;32m    255\u001b[0m     \u001b[1;32mdef\u001b[0m \u001b[0m__reduce__\u001b[0m\u001b[1;33m(\u001b[0m\u001b[0mself\u001b[0m\u001b[1;33m)\u001b[0m\u001b[1;33m:\u001b[0m\u001b[1;33m\u001b[0m\u001b[1;33m\u001b[0m\u001b[0m\n",
      "\u001b[1;32mc:\\users\\johan\\appdata\\local\\programs\\python\\python37\\lib\\site-packages\\joblib\\parallel.py\u001b[0m in \u001b[0;36m<listcomp>\u001b[1;34m(.0)\u001b[0m\n\u001b[0;32m    251\u001b[0m         \u001b[1;32mwith\u001b[0m \u001b[0mparallel_backend\u001b[0m\u001b[1;33m(\u001b[0m\u001b[0mself\u001b[0m\u001b[1;33m.\u001b[0m\u001b[0m_backend\u001b[0m\u001b[1;33m,\u001b[0m \u001b[0mn_jobs\u001b[0m\u001b[1;33m=\u001b[0m\u001b[0mself\u001b[0m\u001b[1;33m.\u001b[0m\u001b[0m_n_jobs\u001b[0m\u001b[1;33m)\u001b[0m\u001b[1;33m:\u001b[0m\u001b[1;33m\u001b[0m\u001b[1;33m\u001b[0m\u001b[0m\n\u001b[0;32m    252\u001b[0m             return [func(*args, **kwargs)\n\u001b[1;32m--> 253\u001b[1;33m                     for func, args, kwargs in self.items]\n\u001b[0m\u001b[0;32m    254\u001b[0m \u001b[1;33m\u001b[0m\u001b[0m\n\u001b[0;32m    255\u001b[0m     \u001b[1;32mdef\u001b[0m \u001b[0m__reduce__\u001b[0m\u001b[1;33m(\u001b[0m\u001b[0mself\u001b[0m\u001b[1;33m)\u001b[0m\u001b[1;33m:\u001b[0m\u001b[1;33m\u001b[0m\u001b[1;33m\u001b[0m\u001b[0m\n",
      "\u001b[1;32mc:\\users\\johan\\appdata\\local\\programs\\python\\python37\\lib\\site-packages\\sklearn\\ensemble\\_forest.py\u001b[0m in \u001b[0;36m_parallel_build_trees\u001b[1;34m(tree, forest, X, y, sample_weight, tree_idx, n_trees, verbose, class_weight, n_samples_bootstrap)\u001b[0m\n\u001b[0;32m    166\u001b[0m                                                         indices=indices)\n\u001b[0;32m    167\u001b[0m \u001b[1;33m\u001b[0m\u001b[0m\n\u001b[1;32m--> 168\u001b[1;33m         \u001b[0mtree\u001b[0m\u001b[1;33m.\u001b[0m\u001b[0mfit\u001b[0m\u001b[1;33m(\u001b[0m\u001b[0mX\u001b[0m\u001b[1;33m,\u001b[0m \u001b[0my\u001b[0m\u001b[1;33m,\u001b[0m \u001b[0msample_weight\u001b[0m\u001b[1;33m=\u001b[0m\u001b[0mcurr_sample_weight\u001b[0m\u001b[1;33m,\u001b[0m \u001b[0mcheck_input\u001b[0m\u001b[1;33m=\u001b[0m\u001b[1;32mFalse\u001b[0m\u001b[1;33m)\u001b[0m\u001b[1;33m\u001b[0m\u001b[1;33m\u001b[0m\u001b[0m\n\u001b[0m\u001b[0;32m    169\u001b[0m     \u001b[1;32melse\u001b[0m\u001b[1;33m:\u001b[0m\u001b[1;33m\u001b[0m\u001b[1;33m\u001b[0m\u001b[0m\n\u001b[0;32m    170\u001b[0m         \u001b[0mtree\u001b[0m\u001b[1;33m.\u001b[0m\u001b[0mfit\u001b[0m\u001b[1;33m(\u001b[0m\u001b[0mX\u001b[0m\u001b[1;33m,\u001b[0m \u001b[0my\u001b[0m\u001b[1;33m,\u001b[0m \u001b[0msample_weight\u001b[0m\u001b[1;33m=\u001b[0m\u001b[0msample_weight\u001b[0m\u001b[1;33m,\u001b[0m \u001b[0mcheck_input\u001b[0m\u001b[1;33m=\u001b[0m\u001b[1;32mFalse\u001b[0m\u001b[1;33m)\u001b[0m\u001b[1;33m\u001b[0m\u001b[1;33m\u001b[0m\u001b[0m\n",
      "\u001b[1;32mc:\\users\\johan\\appdata\\local\\programs\\python\\python37\\lib\\site-packages\\sklearn\\tree\\_classes.py\u001b[0m in \u001b[0;36mfit\u001b[1;34m(self, X, y, sample_weight, check_input, X_idx_sorted)\u001b[0m\n\u001b[0;32m    892\u001b[0m             \u001b[0msample_weight\u001b[0m\u001b[1;33m=\u001b[0m\u001b[0msample_weight\u001b[0m\u001b[1;33m,\u001b[0m\u001b[1;33m\u001b[0m\u001b[1;33m\u001b[0m\u001b[0m\n\u001b[0;32m    893\u001b[0m             \u001b[0mcheck_input\u001b[0m\u001b[1;33m=\u001b[0m\u001b[0mcheck_input\u001b[0m\u001b[1;33m,\u001b[0m\u001b[1;33m\u001b[0m\u001b[1;33m\u001b[0m\u001b[0m\n\u001b[1;32m--> 894\u001b[1;33m             X_idx_sorted=X_idx_sorted)\n\u001b[0m\u001b[0;32m    895\u001b[0m         \u001b[1;32mreturn\u001b[0m \u001b[0mself\u001b[0m\u001b[1;33m\u001b[0m\u001b[1;33m\u001b[0m\u001b[0m\n\u001b[0;32m    896\u001b[0m \u001b[1;33m\u001b[0m\u001b[0m\n",
      "\u001b[1;32mc:\\users\\johan\\appdata\\local\\programs\\python\\python37\\lib\\site-packages\\sklearn\\tree\\_classes.py\u001b[0m in \u001b[0;36mfit\u001b[1;34m(self, X, y, sample_weight, check_input, X_idx_sorted)\u001b[0m\n\u001b[0;32m    373\u001b[0m                                            min_impurity_split)\n\u001b[0;32m    374\u001b[0m \u001b[1;33m\u001b[0m\u001b[0m\n\u001b[1;32m--> 375\u001b[1;33m         \u001b[0mbuilder\u001b[0m\u001b[1;33m.\u001b[0m\u001b[0mbuild\u001b[0m\u001b[1;33m(\u001b[0m\u001b[0mself\u001b[0m\u001b[1;33m.\u001b[0m\u001b[0mtree_\u001b[0m\u001b[1;33m,\u001b[0m \u001b[0mX\u001b[0m\u001b[1;33m,\u001b[0m \u001b[0my\u001b[0m\u001b[1;33m,\u001b[0m \u001b[0msample_weight\u001b[0m\u001b[1;33m,\u001b[0m \u001b[0mX_idx_sorted\u001b[0m\u001b[1;33m)\u001b[0m\u001b[1;33m\u001b[0m\u001b[1;33m\u001b[0m\u001b[0m\n\u001b[0m\u001b[0;32m    376\u001b[0m \u001b[1;33m\u001b[0m\u001b[0m\n\u001b[0;32m    377\u001b[0m         \u001b[1;32mif\u001b[0m \u001b[0mself\u001b[0m\u001b[1;33m.\u001b[0m\u001b[0mn_outputs_\u001b[0m \u001b[1;33m==\u001b[0m \u001b[1;36m1\u001b[0m \u001b[1;32mand\u001b[0m \u001b[0mis_classifier\u001b[0m\u001b[1;33m(\u001b[0m\u001b[0mself\u001b[0m\u001b[1;33m)\u001b[0m\u001b[1;33m:\u001b[0m\u001b[1;33m\u001b[0m\u001b[1;33m\u001b[0m\u001b[0m\n",
      "\u001b[1;31mKeyboardInterrupt\u001b[0m: "
     ]
    }
   ],
   "source": [
    "clf = RandomForestClassifier(criterion = 'gini', max_depth = 17)\n",
    "cross_val_score_gini = np.mean(cross_val_score(clf, X_train_val_2d, y_train_val))\n",
    "print(cross_val_score_gini)\n",
    "clf = RandomForestClassifier(criterion = 'entropy', max_depth = 17)\n",
    "cross_val_score_entropy = np.mean(cross_val_score(clf, X_train_val_2d, y_train_val))\n",
    "print(cross_val_score_entropy)"
   ]
  },
  {
   "cell_type": "code",
   "execution_count": null,
   "metadata": {},
   "outputs": [],
   "source": [
    "diff_percentage = (np.abs(cross_val_score_gini-cross_val_score_entropy)/ ((cross_val_score_entropy+cross_val_score_gini)/2)) *100\n",
    "print(\"Accuracy difference between gini and entropy:\", \"%.2f\" % diff_percentage, \"%\")"
   ]
  },
  {
   "cell_type": "markdown",
   "metadata": {},
   "source": [
    "While entropy has slightly higher accuracy than gini, the difference is only 0.05%. Since gini requires less computation than entropy, it will be chosen as impurity measure.\n",
    "\n",
    "\n",
    "### Number of trees\n",
    "Now we will take a look at the optimal number of trees required. First we will iterate over 10 segments of 50, to get a rough idea of where the optimal number of trees lies."
   ]
  },
  {
   "cell_type": "code",
   "execution_count": 27,
   "metadata": {},
   "outputs": [
    {
     "name": "stdout",
     "output_type": "stream",
     "text": [
      "Precision at tree number 50 is: 0.964047619047619\n",
      "Precision at tree number 100 is: 0.9646031746031746\n",
      "Precision at tree number 150 is: 0.9665873015873016\n",
      "Precision at tree number 200 is: 0.966031746031746\n",
      "Precision at tree number 250 is: 0.9665873015873016\n",
      "Precision at tree number 300 is: 0.9676190476190476\n",
      "Precision at tree number 350 is: 0.9665079365079365\n"
     ]
    }
   ],
   "source": [
    "val_acc_ntrees = {} # Dictionary for keeping track of number of trees and accuracy\n",
    "train_acc_ntrees = {} # Dictionary for keeping track of number of trees and accuracy\n",
    "\n",
    "for i in range(50, 400, 50):\n",
    "    clf = RandomForestClassifier(n_estimators = i, criterion = 'gini', max_depth = 17)\n",
    "    clf.fit(X_train_2d, y_train)\n",
    "    train_score = clf.score(X_train_2d, y_train)\n",
    "    val_score = clf.score(X_val_2d, y_val)\n",
    "    print(\"Precision at tree number\", i , \"is val:\", val_score, \" train:\", train_score)\n",
    "    val_acc_ntrees[i] = val_score\n",
    "    train_acc_ntrees[i] = train_score "
   ]
  },
  {
   "cell_type": "code",
   "execution_count": 28,
   "metadata": {},
   "outputs": [
    {
     "name": "stdout",
     "output_type": "stream",
     "text": [
      "dict_keys([50, 100, 150, 200, 250, 300, 350])\n",
      "dict_values([0.964047619047619, 0.9646031746031746, 0.9665873015873016, 0.966031746031746, 0.9665873015873016, 0.9676190476190476, 0.9665079365079365])\n"
     ]
    },
    {
     "data": {
      "image/png": "[encoded data removed]",
      "text/plain": [
       "<Figure size 432x288 with 1 Axes>"
      ]
     },
     "metadata": {
      "needs_background": "light"
     },
     "output_type": "display_data"
    }
   ],
   "source": [
    "x = val_acc_ntrees.keys()\n",
    "val_y = val_acc_ntrees.values()\n",
    "train_y train_acc_ntrees.values()\n",
    "print(x)\n",
    "print(val_y)\n",
    "print(train_y)\n",
    "#fig = plt.figure(figsize=(20,10))\n",
    "plt.plot(x,y)\n",
    "#plt.axvline(x=17, ymin=0, ymax=1, color = 'r', alpha = 0.4)\n",
    "#plt.text(17.1, 0.96, \"Accuracy improvement after depth 17 is minimal\")\n",
    "#plt.xlim(left=13)\n",
    "#plt.ylim(bottom=0.9, top = 0.97)\n",
    "plt.title(\"Depth vs accuracy\")\n",
    "#plt.xticks(np.arange(1, 30, 1))\n",
    "plt.ylabel('Accuracy')\n",
    "plt.xlabel('Depth')\n",
    "plt.show()"
   ]
  },
  {
   "cell_type": "code",
   "execution_count": 29,
   "metadata": {},
   "outputs": [
    {
     "name": "stdout",
     "output_type": "stream",
     "text": [
      "Precision at tree number 25 is: 0.9581746031746031\n",
      "Precision at tree number 50 is: 0.964047619047619\n",
      "Precision at tree number 75 is: 0.9648412698412698\n",
      "Precision at tree number 100 is: 0.964047619047619\n",
      "Precision at tree number 125 is: 0.966031746031746\n",
      "Precision at tree number 150 is: 0.9665873015873016\n",
      "Precision at tree number 175 is: 0.9673809523809523\n",
      "Precision at tree number 200 is: 0.967936507936508\n",
      "Precision at tree number 225 is: 0.9673015873015873\n",
      "Precision at tree number 250 is: 0.9669047619047619\n",
      "Precision at tree number 275 is: 0.9661111111111111\n",
      "Precision at tree number 300 is: 0.9671428571428572\n",
      "Precision at tree number 325 is: 0.9676984126984127\n",
      "Precision at tree number 350 is: 0.9673015873015873\n",
      "Precision at tree number 375 is: 0.9669047619047619\n"
     ]
    }
   ],
   "source": [
    "val_acc_ntrees2 = {} # Dictionary for keeping track of number of trees and accuracy\n",
    "train_acc_ntrees2 = {} # Dictionary for keeping track of number of trees and accuracy\n",
    "runtime_ntrees = {}\n",
    "for i in range(25, 400, 25):\n",
    "    clf = RandomForestClassifier(n_estimators = i, criterion = 'gini', max_depth = 17)\n",
    "    start = timeit.default_timer()\n",
    "    clf.fit(X_train_2d, y_train)\n",
    "    stop = timeit.default_timer()\n",
    "    #print('Runtime for trees', i, \" is:\", stop - start, \"seconds\")  \n",
    "    runtime_ntrees[i] = stop - start\n",
    "    val_score = clf.score(X_val_2d, y_val)\n",
    "    train_score = clf.score(X_train_2d, y_train)\n",
    "    print(\"Precision at tree number\", i , \"is val:\", val_score, \" train:\", train_score)\n",
    "    val_acc_ntrees2[i] = val_score \n",
    "    train_acc_ntrees2[i] = train_score"
   ]
  },
  {
   "cell_type": "code",
   "execution_count": 30,
   "metadata": {},
   "outputs": [
    {
     "data": {
      "image/png": "[encoded data removed]",
      "text/plain": [
       "<Figure size 432x288 with 1 Axes>"
      ]
     },
     "metadata": {
      "needs_background": "light"
     },
     "output_type": "display_data"
    }
   ],
   "source": [
    "x = val_acc_ntrees2.keys()\n",
    "val_y = val_acc_ntrees2.values()\n",
    "train_y = train_acc_ntrees2.values()\n",
    "plt.plot(x,val_y)\n",
    "plt.plot(x,train_y)\n",
    "plt.title(\"Number of trees vs accuracy\")\n",
    "plt.ylabel('Accuracy')\n",
    "plt.xlabel('Number of trees')\n",
    "plt.show()"
   ]
  },
  {
   "cell_type": "code",
   "execution_count": 31,
   "metadata": {},
   "outputs": [
    {
     "data": {
      "image/png": "[encoded data removed]",
      "text/plain": [
       "<Figure size 432x288 with 1 Axes>"
      ]
     },
     "metadata": {
      "needs_background": "light"
     },
     "output_type": "display_data"
    }
   ],
   "source": [
    "r_x = runtime_ntrees.keys()\n",
    "r_y = runtime_ntrees.values()\n",
    "plt.plot(x,y)\n",
    "plt.title(\"Number of trees vs runtime\")\n",
    "plt.ylabel('Runtime in seconds')\n",
    "plt.xlabel('Number of trees')\n",
    "plt.show()"
   ]
  },
  {
   "cell_type": "markdown",
   "metadata": {},
   "source": [
    "### Maximum features"
   ]
  },
  {
   "cell_type": "code",
   "execution_count": 32,
   "metadata": {},
   "outputs": [
    {
     "name": "stdout",
     "output_type": "stream",
     "text": [
      "Precision at 1 features is val: 0.9288888888888889  train: 0.9735119047619047\n",
      "Precision at 2 features is val: 0.943015873015873  train: 0.9890873015873016\n",
      "Precision at 4 features is val: 0.954047619047619  train: 0.9970039682539683\n",
      "Precision at 8 features is val: 0.9614285714285714  train: 0.9986309523809523\n",
      "Precision at 16 features is val: 0.9653174603174604  train: 0.9989484126984127\n",
      "Precision at 32 features is val: 0.966984126984127  train: 0.9987698412698413\n",
      "Precision at 64 features is val: 0.9661904761904762  train: 0.9980357142857142\n",
      "Precision at 128 features is val: 0.9653174603174604  train: 0.9973015873015874\n",
      "Precision at 256 features is val: 0.9632539682539683  train: 0.9966071428571428\n",
      "Precision at 512 features is val: 0.9608730158730159  train: 0.9964087301587301\n"
     ]
    }
   ],
   "source": [
    "val_nfeatures_acc = {}\n",
    "train_nfeatures_acc = {}\n",
    "runtime_nfeatures = {}\n",
    "for i in [1, 2, 4, 8, 16, 32, 64, 128, 256, 512]:\n",
    "    clf = RandomForestClassifier(n_estimators = 125, criterion = 'gini', max_depth = 17, max_features = i)\n",
    "    start = timeit.default_timer()\n",
    "    clf.fit(X_train_2d, y_train)\n",
    "    stop = timeit.default_timer()\n",
    "    runtime_nfeatures[i] = stop - start\n",
    "    val_score = clf.score(X_val_2d, y_val)\n",
    "    train_score = clf.score(X_train_2d, y_train)\n",
    "    print(\"Precision at\", i , \"features is val:\", val_score, \" train:\", train_score)\n",
    "    val_nfeatures_acc[i] = val_score\n",
    "    train_nfeatures_acc[i] = train_score "
   ]
  },
  {
   "cell_type": "code",
   "execution_count": 33,
   "metadata": {},
   "outputs": [
    {
     "data": {
      "image/png": "[encoded data removed]",
      "text/plain": [
       "<Figure size 1440x720 with 1 Axes>"
      ]
     },
     "metadata": {
      "needs_background": "light"
     },
     "output_type": "display_data"
    }
   ],
   "source": [
    "nfeatures_x = val_nfeatures_acc.keys()\n",
    "val_nfeatures_y = val_nfeatures_acc.values()\n",
    "train_nfeatures_y = train_nfeatures_acc.values()\n",
    "fig = plt.figure(figsize=(20,10))\n",
    "plt.plot(nfeatures_x,val_nfeatures_y)\n",
    "plt.plot(nfeatures_x,train_nfeatures_y)\n",
    "plt.title(\"Number of features vs accuracy\")\n",
    "plt.ylabel('Accuracy')\n",
    "plt.xlabel('Number of features')\n",
    "plt.ylim(bottom=0.5, top = 1)\n",
    "plt.axvline(x=32, ymin=0, ymax=1, color = 'r', alpha = 0.4)\n",
    "plt.text(34, 0.96, \"Accuracy declines after 32 features\")\n",
    "plt.xticks(np.arange(0, 782, 32))\n",
    "plt.show()"
   ]
  },
  {
   "cell_type": "code",
   "execution_count": 34,
   "metadata": {},
   "outputs": [
    {
     "data": {
      "image/png": "[encoded data removed]",
      "text/plain": [
       "<Figure size 432x288 with 1 Axes>"
      ]
     },
     "metadata": {
      "needs_background": "light"
     },
     "output_type": "display_data"
    }
   ],
   "source": [
    "r_x = runtime_nfeatures.keys()\n",
    "r_y = runtime_nfeatures.values()\n",
    "plt.plot(r_x,r_y)\n",
    "plt.title(\"Number of features vs runtime\")\n",
    "plt.ylabel('Runtime in seconds')\n",
    "plt.xlabel('Number of features')\n",
    "plt.show()"
   ]
  },
  {
   "cell_type": "code",
   "execution_count": 36,
   "metadata": {},
   "outputs": [
    {
     "name": "stdout",
     "output_type": "stream",
     "text": [
      "Precision at 16 features is val: 0.9639682539682539  train: 0.998968253968254\n",
      "Precision at 20 features is val: 0.9654761904761905  train: 0.9988690476190476\n",
      "Precision at 24 features is val: 0.9664285714285714  train: 0.9987698412698413\n",
      "Precision at 28 features is val: 0.9647619047619047  train: 0.998829365079365\n",
      "Precision at 32 features is val: 0.966031746031746  train: 0.9985912698412699\n",
      "Precision at 36 features is val: 0.9670634920634921  train: 0.9984722222222222\n",
      "Precision at 40 features is val: 0.9668253968253968  train: 0.9985515873015873\n",
      "Precision at 44 features is val: 0.9663492063492064  train: 0.9984920634920635\n",
      "Precision at 48 features is val: 0.9653174603174604  train: 0.998234126984127\n",
      "Precision at 52 features is val: 0.9656349206349206  train: 0.9982142857142857\n",
      "Precision at 56 features is val: 0.9657936507936508  train: 0.998234126984127\n",
      "Precision at 60 features is val: 0.9661111111111111  train: 0.9980357142857142\n"
     ]
    }
   ],
   "source": [
    "val_nfeatures2_acc = {}\n",
    "train_nfeatures2_acc = {}\n",
    "for i in range(16, 64, 4):\n",
    "    clf = RandomForestClassifier(n_estimators = 125, criterion = 'gini', max_depth = 17, max_features = i)\n",
    "    clf.fit(X_train_2d, y_train)\n",
    "    val_score = clf.score(X_val_2d, y_val)\n",
    "    train_score = clf.score(X_train_2d, y_train)\n",
    "    print(\"Precision at\", i , \"features is val:\", val_score, \" train:\", train_score)\n",
    "    val_nfeatures2_acc[i] = val_score \n",
    "    train_nfeatures2_acc[i] = train_score "
   ]
  },
  {
   "cell_type": "code",
   "execution_count": 41,
   "metadata": {},
   "outputs": [
    {
     "data": {
      "image/png": "[encoded data removed]",
      "text/plain": [
       "<Figure size 1440x720 with 1 Axes>"
      ]
     },
     "metadata": {
      "needs_background": "light"
     },
     "output_type": "display_data"
    }
   ],
   "source": [
    "nfeatures2_x = val_nfeatures2_acc.keys()\n",
    "val_nfeatures2_y = val_nfeatures2_acc.values()\n",
    "train_nfeatures2_y = train_nfeatures2_acc.values()\n",
    "fig = plt.figure(figsize=(20,10))\n",
    "plt.plot(nfeatures2_x,val_nfeatures2_y)\n",
    "plt.plot(nfeatures2_x,train_nfeatures2_y)\n",
    "plt.title(\"Number of features vs accuracy\")\n",
    "plt.ylabel('Accuracy')\n",
    "plt.xlabel('Number of features')\n",
    "plt.ylim(bottom=0.96, top = 1)\n",
    "plt.axvline(x=28, ymin=0, ymax=1, color = 'r', alpha = 0.4)\n",
    "plt.text(28.3, 0.9688, \"Accuracy peaks at 28 features\")\n",
    "plt.xticks(np.arange(16, 64, 4))\n",
    "plt.show()"
   ]
  },
  {
   "cell_type": "markdown",
   "metadata": {},
   "source": [
    "# Fak det shit I'm doing gridsearch"
   ]
  },
  {
   "cell_type": "code",
   "execution_count": 5,
   "metadata": {},
   "outputs": [
    {
     "name": "stdout",
     "output_type": "stream",
     "text": [
      "Possible parameters:\n",
      "{'bootstrap': True,\n",
      " 'ccp_alpha': 0.0,\n",
      " 'class_weight': None,\n",
      " 'criterion': 'gini',\n",
      " 'max_depth': None,\n",
      " 'max_features': 'auto',\n",
      " 'max_leaf_nodes': None,\n",
      " 'max_samples': None,\n",
      " 'min_impurity_decrease': 0.0,\n",
      " 'min_impurity_split': None,\n",
      " 'min_samples_leaf': 1,\n",
      " 'min_samples_split': 2,\n",
      " 'min_weight_fraction_leaf': 0.0,\n",
      " 'n_estimators': 100,\n",
      " 'n_jobs': None,\n",
      " 'oob_score': False,\n",
      " 'random_state': 123,\n",
      " 'verbose': 0,\n",
      " 'warm_start': False}\n"
     ]
    }
   ],
   "source": [
    "rf = RandomForestClassifier(random_state = 123)\n",
    "from pprint import pprint\n",
    "print('Possible parameters:')\n",
    "pprint(rf.get_params())"
   ]
  },
  {
   "cell_type": "code",
   "execution_count": 6,
   "metadata": {},
   "outputs": [
    {
     "name": "stdout",
     "output_type": "stream",
     "text": [
      "{'max_depth': range(10, 31, 5),\n",
      " 'max_features': ['auto', 'sqrt'],\n",
      " 'min_samples_leaf': [1, 2, 4],\n",
      " 'min_samples_split': [2, 5, 10],\n",
      " 'n_estimators': range(50, 400, 50)}\n"
     ]
    }
   ],
   "source": [
    "n_estimators = range(50, 400, 50)\n",
    "max_features = ['auto', 'sqrt']\n",
    "max_depth = range(10, 31, 5)\n",
    "min_samples_split = [2, 5, 10]\n",
    "min_samples_leaf = [1, 2, 4]\n",
    "random_grid = {'n_estimators': n_estimators,\n",
    "               'max_features': max_features,\n",
    "               'max_depth': max_depth,\n",
    "               'min_samples_split': min_samples_split,\n",
    "               'min_samples_leaf': min_samples_leaf}\n",
    "pprint(random_grid)"
   ]
  },
  {
   "cell_type": "code",
   "execution_count": 7,
   "metadata": {},
   "outputs": [
    {
     "name": "stdout",
     "output_type": "stream",
     "text": [
      "Fitting 3 folds for each of 100 candidates, totalling 300 fits\n"
     ]
    },
    {
     "name": "stderr",
     "output_type": "stream",
     "text": [
      "[Parallel(n_jobs=-1)]: Using backend LokyBackend with 8 concurrent workers.\n",
      "[Parallel(n_jobs=-1)]: Done  25 tasks      | elapsed: 12.1min\n",
      "[Parallel(n_jobs=-1)]: Done 146 tasks      | elapsed: 63.5min\n",
      "[Parallel(n_jobs=-1)]: Done 300 out of 300 | elapsed: 123.1min finished\n"
     ]
    },
    {
     "name": "stdout",
     "output_type": "stream",
     "text": [
      "Started\n"
     ]
    }
   ],
   "source": [
    "rf = RandomForestClassifier()\n",
    "rf_random = RandomizedSearchCV(estimator = rf, param_distributions = random_grid, n_iter = 100, cv = 3, verbose=2, random_state=123, n_jobs = -1, return_train_score=True)\n",
    "rf_random.fit(X_train_val_2d, y_train_val)\n",
    "print(\"Started\")"
   ]
  },
  {
   "cell_type": "code",
   "execution_count": 8,
   "metadata": {},
   "outputs": [
    {
     "data": {
      "text/plain": [
       "{'n_estimators': 300,\n",
       " 'min_samples_split': 2,\n",
       " 'min_samples_leaf': 1,\n",
       " 'max_features': 'auto',\n",
       " 'max_depth': 30}"
      ]
     },
     "execution_count": 8,
     "metadata": {},
     "output_type": "execute_result"
    }
   ],
   "source": [
    "rf_random.best_params_"
   ]
  },
  {
   "cell_type": "markdown",
   "metadata": {},
   "source": [
    "## Convolutional Neural Network (LeNet-5)"
   ]
  },
  {
   "cell_type": "code",
   "execution_count": 64,
   "metadata": {},
   "outputs": [],
   "source": [
    "# Preprocessing\n",
    "\n",
    "# Make image data 4-dimensional\n",
    "X_train_val_4d = X_train_val.reshape(X_train_val.shape[0], 28, 28, 1)\n",
    "X_train_4d = X_train.reshape(X_train.shape[0], 28, 28, 1)\n",
    "X_val_4d = X_val.reshape(X_val.shape[0], 28, 28, 1)\n",
    "\n",
    "# convert label data to one-hot encoding\n",
    "y_train_val_onehot = np_utils.to_categorical(y_train_val, 10)\n",
    "y_train_onehot = np_utils.to_categorical(y_train, 10)\n",
    "y_val_onehot = np_utils.to_categorical(y_val, 10)"
   ]
  },
  {
   "cell_type": "code",
   "execution_count": 70,
   "metadata": {},
   "outputs": [],
   "source": [
    "def leNet_5_setup(activation_function, learning_rate):    \n",
    "    # Initialize an empty sequential model\n",
    "    leNet_model = Sequential()\n",
    "    # Convolutional Layer\n",
    "    leNet_model.add(Conv2D(filters = 6, kernel_size=(3, 3), strides=(1, 1), activation= activation_function, input_shape=(28,28,1), padding= 'same'))\n",
    "    # Pooling\n",
    "    leNet_model.add(AveragePooling2D(pool_size=(2, 2), strides=(1, 1), padding= 'same'))\n",
    "    #Convolutional Layer\n",
    "    leNet_model.add(Conv2D(16, kernel_size=(3, 3), strides=(1, 1), activation= activation_function, padding= 'valid'))\n",
    "    # Pooling\n",
    "    leNet_model.add(AveragePooling2D(pool_size=(2, 2), strides=(1, 1), padding= 'valid'))\n",
    "    # Connected Convolutional Layer\n",
    "    leNet_model.add(Conv2D(120, kernel_size=(3, 3), strides=(1, 1), activation= activation_function, padding= 'valid'))\n",
    "    # Flattening\n",
    "    leNet_model.add(Flatten())\n",
    "    # Fully Connected Layer\n",
    "    leNet_model.add(Dense(84, activation= activation_function))\n",
    "    #Output Layer with softmax activation\n",
    "    leNet_model.add(Dense(10, activation= 'softmax'))\n",
    "    # Compile the model\n",
    "    #leNet_model.compile(loss= 'categorical_crossentropy', optimizer= 'SGD', metrics=['accuracy']) \n",
    "    # learning rate has to be increased to 0.01, otherwise the CNN sometimes ends in a local minimum\n",
    "    leNet_model.compile(loss= 'categorical_crossentropy', optimizer = SGD(lr = learning_rate), metrics=['accuracy']) \n",
    "    #leNet_model.compile(loss= 'categorical_crossentropy', optimizer = SGD(lr = 0.01, momentum = 0.9), metrics=['accuracy']) \n",
    "\n",
    "    return leNet_model"
   ]
  },
  {
   "cell_type": "code",
   "execution_count": null,
   "metadata": {},
   "outputs": [],
   "source": [
    "# Test run of LeNet-5 model\n",
    "batch_size = 32\n",
    "epocs = 8"
   ]
  },
  {
   "cell_type": "code",
   "execution_count": 13,
   "metadata": {},
   "outputs": [
    {
     "name": "stdout",
     "output_type": "stream",
     "text": [
      "Epoch 1/8\n",
      "1575/1575 [==============================] - 107s 68ms/step - loss: 0.1910 - accuracy: 0.9466 - val_loss: 0.0942 - val_accuracy: 0.9744\n",
      "Epoch 2/8\n",
      "1575/1575 [==============================] - 108s 68ms/step - loss: 0.0734 - accuracy: 0.9795 - val_loss: 0.0697 - val_accuracy: 0.9798\n",
      "Epoch 3/8\n",
      "1575/1575 [==============================] - 108s 68ms/step - loss: 0.0556 - accuracy: 0.9848 - val_loss: 0.0606 - val_accuracy: 0.9825\n",
      "Epoch 4/8\n",
      "1575/1575 [==============================] - 106s 67ms/step - loss: 0.0453 - accuracy: 0.9880 - val_loss: 0.0554 - val_accuracy: 0.9842\n",
      "Epoch 5/8\n",
      "1575/1575 [==============================] - 106s 67ms/step - loss: 0.0388 - accuracy: 0.9898 - val_loss: 0.0523 - val_accuracy: 0.9848\n",
      "Epoch 6/8\n",
      "1575/1575 [==============================] - 107s 68ms/step - loss: 0.0339 - accuracy: 0.9913 - val_loss: 0.0496 - val_accuracy: 0.9855\n",
      "Epoch 7/8\n",
      "1575/1575 [==============================] - 106s 67ms/step - loss: 0.0303 - accuracy: 0.9922 - val_loss: 0.0486 - val_accuracy: 0.9858\n",
      "Epoch 8/8\n",
      "1575/1575 [==============================] - 106s 67ms/step - loss: 0.0263 - accuracy: 0.9936 - val_loss: 0.0467 - val_accuracy: 0.9861\n"
     ]
    }
   ],
   "source": [
    "leNet_model_tanh = leNet_5_setup(activation_function = 'tanh')\n",
    "tanh_leNet_history = leNet_model_tanh.fit(X_train_4d, y_train_onehot, validation_data=(X_val_4d, y_val_onehot),  shuffle=False, batch_size = batch_size, epochs = epocs)"
   ]
  },
  {
   "cell_type": "code",
   "execution_count": 14,
   "metadata": {},
   "outputs": [
    {
     "name": "stdout",
     "output_type": "stream",
     "text": [
      "Epoch 1/8\n",
      "1575/1575 [==============================] - 103s 65ms/step - loss: 0.4580 - accuracy: 0.9085 - val_loss: 0.0868 - val_accuracy: 0.9729\n",
      "Epoch 2/8\n",
      "1575/1575 [==============================] - 116s 73ms/step - loss: 0.0681 - accuracy: 0.9793 - val_loss: 0.0593 - val_accuracy: 0.9821\n",
      "Epoch 3/8\n",
      "1575/1575 [==============================] - 117s 74ms/step - loss: 0.0425 - accuracy: 0.9874 - val_loss: 0.0624 - val_accuracy: 0.9813\n",
      "Epoch 4/8\n",
      "1575/1575 [==============================] - 116s 74ms/step - loss: 0.0284 - accuracy: 0.9908 - val_loss: 0.0604 - val_accuracy: 0.9822\n",
      "Epoch 5/8\n",
      "1575/1575 [==============================] - 116s 73ms/step - loss: 0.0204 - accuracy: 0.9930 - val_loss: 0.0730 - val_accuracy: 0.9796\n",
      "Epoch 6/8\n",
      "1575/1575 [==============================] - 116s 73ms/step - loss: 0.0153 - accuracy: 0.9955 - val_loss: 0.0668 - val_accuracy: 0.9825\n",
      "Epoch 7/8\n",
      "1575/1575 [==============================] - 115s 73ms/step - loss: 0.0119 - accuracy: 0.9961 - val_loss: 0.0695 - val_accuracy: 0.9834\n",
      "Epoch 8/8\n",
      "1575/1575 [==============================] - 115s 73ms/step - loss: 0.0099 - accuracy: 0.9965 - val_loss: 0.0801 - val_accuracy: 0.9808\n"
     ]
    }
   ],
   "source": [
    "leNet_model_relu = leNet_5_setup(activation_function = 'relu')\n",
    "relu_leNet_history = leNet_model_relu.fit(X_train_4d, y_train_onehot, validation_data=(X_val_4d, y_val_onehot), shuffle=False, batch_size = batch_size, epochs = epocs, verbose = 1)"
   ]
  },
  {
   "cell_type": "code",
   "execution_count": 21,
   "metadata": {},
   "outputs": [
    {
     "name": "stdout",
     "output_type": "stream",
     "text": [
      "Epoch 1/8\n",
      "1575/1575 [==============================] - 156s 99ms/step - loss: 2.3055 - accuracy: 0.1053 - val_loss: 2.3027 - val_accuracy: 0.1138\n",
      "Epoch 2/8\n",
      "1575/1575 [==============================] - 172s 109ms/step - loss: 2.3037 - accuracy: 0.1063 - val_loss: 2.3026 - val_accuracy: 0.1138\n",
      "Epoch 3/8\n",
      "1575/1575 [==============================] - 176s 112ms/step - loss: 2.3037 - accuracy: 0.1066 - val_loss: 2.3025 - val_accuracy: 0.1138\n",
      "Epoch 4/8\n",
      "1575/1575 [==============================] - 172s 109ms/step - loss: 2.3035 - accuracy: 0.1069 - val_loss: 2.3022 - val_accuracy: 0.1138\n",
      "Epoch 5/8\n",
      "1575/1575 [==============================] - 134s 85ms/step - loss: 2.3034 - accuracy: 0.1085 - val_loss: 2.3013 - val_accuracy: 0.1138\n",
      "Epoch 6/8\n",
      "1575/1575 [==============================] - 170s 108ms/step - loss: 2.3023 - accuracy: 0.1108 - val_loss: 2.3007 - val_accuracy: 0.1140\n",
      "Epoch 7/8\n",
      "1575/1575 [==============================] - 129s 82ms/step - loss: 2.2957 - accuracy: 0.1235 - val_loss: 2.2823 - val_accuracy: 0.1002\n",
      "Epoch 8/8\n",
      "1575/1575 [==============================] - 168s 107ms/step - loss: 1.6923 - accuracy: 0.4316 - val_loss: 0.6974 - val_accuracy: 0.8225\n"
     ]
    }
   ],
   "source": [
    "leNet_model_sigmoid = leNet_5_setup(activation_function = 'sigmoid')\n",
    "sigmoid_leNet_history = leNet_model_sigmoid.fit(X_train_4d, y_train_onehot, validation_data=(X_val_4d, y_val_onehot), shuffle=False, batch_size = batch_size, epochs = epocs, verbose = 1)"
   ]
  },
  {
   "cell_type": "code",
   "execution_count": 24,
   "metadata": {},
   "outputs": [
    {
     "name": "stdout",
     "output_type": "stream",
     "text": [
      "Epoch 1/8\n",
      "1575/1575 [==============================] - 227s 144ms/step - loss: 2.3016 - accuracy: 0.1114 - val_loss: 2.3012 - val_accuracy: 0.1138\n",
      "Epoch 2/8\n",
      "1575/1575 [==============================] - 268s 170ms/step - loss: 2.3013 - accuracy: 0.1123 - val_loss: 2.3012 - val_accuracy: 0.1138\n",
      "Epoch 3/8\n",
      "1575/1575 [==============================] - 272s 172ms/step - loss: 2.3013 - accuracy: 0.1123 - val_loss: 2.3012 - val_accuracy: 0.1138\n",
      "Epoch 4/8\n",
      "1575/1575 [==============================] - 253s 161ms/step - loss: 2.3013 - accuracy: 0.1123 - val_loss: 2.3012 - val_accuracy: 0.1138\n",
      "Epoch 5/8\n",
      "1575/1575 [==============================] - 192s 122ms/step - loss: 2.3013 - accuracy: 0.1123 - val_loss: 2.3012 - val_accuracy: 0.1138\n",
      "Epoch 6/8\n",
      "1575/1575 [==============================] - 195s 124ms/step - loss: 2.3013 - accuracy: 0.1123 - val_loss: 2.3012 - val_accuracy: 0.1138\n",
      "Epoch 7/8\n",
      "1575/1575 [==============================] - 280s 178ms/step - loss: 2.3013 - accuracy: 0.1123 - val_loss: 2.3012 - val_accuracy: 0.1138\n",
      "Epoch 8/8\n",
      "1575/1575 [==============================] - 236s 150ms/step - loss: 2.3013 - accuracy: 0.1123 - val_loss: 2.3012 - val_accuracy: 0.1138\n"
     ]
    }
   ],
   "source": [
    "leNet_model_softmax = leNet_5_setup(activation_function = 'softmax')\n",
    "softmax_leNet_history = leNet_model_softmax.fit(X_train_4d, y_train_onehot, validation_data=(X_val_4d, y_val_onehot), shuffle=False, batch_size = batch_size, epochs = epocs, verbose = 1)"
   ]
  },
  {
   "cell_type": "code",
   "execution_count": 33,
   "metadata": {},
   "outputs": [
    {
     "name": "stdout",
     "output_type": "stream",
     "text": [
      "Epoch 1/8\n",
      "1575/1575 [==============================] - 156s 99ms/step - loss: 0.1805 - accuracy: 0.9560 - val_loss: 0.0783 - val_accuracy: 0.9767\n",
      "Epoch 2/8\n",
      "1575/1575 [==============================] - 150s 95ms/step - loss: 0.0540 - accuracy: 0.9837 - val_loss: 0.0600 - val_accuracy: 0.9826\n",
      "Epoch 3/8\n",
      "1575/1575 [==============================] - 166s 105ms/step - loss: 0.0353 - accuracy: 0.9900 - val_loss: 0.0550 - val_accuracy: 0.9843\n",
      "Epoch 4/8\n",
      "1575/1575 [==============================] - 162s 103ms/step - loss: 0.0245 - accuracy: 0.9932 - val_loss: 0.0525 - val_accuracy: 0.9859\n",
      "Epoch 5/8\n",
      "1575/1575 [==============================] - 163s 104ms/step - loss: 0.0174 - accuracy: 0.9959 - val_loss: 0.0526 - val_accuracy: 0.9860\n",
      "Epoch 6/8\n",
      "1575/1575 [==============================] - 159s 101ms/step - loss: 0.0124 - accuracy: 0.9973 - val_loss: 0.0540 - val_accuracy: 0.9850\n",
      "Epoch 7/8\n",
      "1575/1575 [==============================] - 153s 97ms/step - loss: 0.0087 - accuracy: 0.9982 - val_loss: 0.0565 - val_accuracy: 0.9842\n",
      "Epoch 8/8\n",
      "1575/1575 [==============================] - 158s 100ms/step - loss: 0.0061 - accuracy: 0.9989 - val_loss: 0.0573 - val_accuracy: 0.9847\n"
     ]
    }
   ],
   "source": [
    "epocs = 8\n",
    "leNet_model_elu2 = leNet_5_setup(activation_function = 'elu')\n",
    "elu_leNet_history2 = leNet_model_elu2.fit(X_train_4d, y_train_onehot, validation_data=(X_val_4d, y_val_onehot), shuffle=False, batch_size = batch_size, epochs = epocs, verbose = 1)"
   ]
  },
  {
   "cell_type": "code",
   "execution_count": 16,
   "metadata": {},
   "outputs": [
    {
     "name": "stdout",
     "output_type": "stream",
     "text": [
      "Epoch 1/8\n",
      "1575/1575 [==============================] - 1495s 949ms/step - loss: 0.1969 - accuracy: 0.9485 - val_loss: 0.0796 - val_accuracy: 0.9740\n",
      "Epoch 2/8\n",
      "1575/1575 [==============================] - 144s 91ms/step - loss: 0.0491 - accuracy: 0.9849 - val_loss: 0.0627 - val_accuracy: 0.9813\n",
      "Epoch 3/8\n",
      "1575/1575 [==============================] - 138s 88ms/step - loss: 0.0259 - accuracy: 0.9920 - val_loss: 0.0627 - val_accuracy: 0.9829\n",
      "Epoch 4/8\n",
      "1575/1575 [==============================] - 135s 86ms/step - loss: 0.0133 - accuracy: 0.9965 - val_loss: 0.0624 - val_accuracy: 0.9852\n",
      "Epoch 5/8\n",
      "1575/1575 [==============================] - 123s 78ms/step - loss: 0.0078 - accuracy: 0.9981 - val_loss: 0.0622 - val_accuracy: 0.9847\n",
      "Epoch 6/8\n",
      "1575/1575 [==============================] - 128s 81ms/step - loss: 0.0036 - accuracy: 0.9992 - val_loss: 0.0598 - val_accuracy: 0.9853\n",
      "Epoch 7/8\n",
      "1575/1575 [==============================] - 134s 85ms/step - loss: 0.0017 - accuracy: 0.9998 - val_loss: 0.0581 - val_accuracy: 0.9864\n",
      "Epoch 8/8\n",
      "1575/1575 [==============================] - 137s 87ms/step - loss: 9.1429e-04 - accuracy: 1.0000 - val_loss: 0.0582 - val_accuracy: 0.9872\n"
     ]
    }
   ],
   "source": [
    "leNet_model_elu = leNet_5_setup(activation_function = 'elu')\n",
    "elu_leNet_history = leNet_model_elu.fit(X_train_4d, y_train_onehot, validation_data=(X_val_4d, y_val_onehot), shuffle=False, batch_size = batch_size, epochs = epocs, verbose = 1)"
   ]
  },
  {
   "cell_type": "code",
   "execution_count": 22,
   "metadata": {},
   "outputs": [],
   "source": [
    "acc_dict = {}\n",
    "acc_dict['tanh train accuracy'] = tanh_leNet_history.history['accuracy'][0]\n",
    "acc_dict['tanh val accuracy'] = tanh_leNet_history.history['val_accuracy'][0]\n",
    "acc_dict['relu train accuracy'] = relu_leNet_history.history['accuracy'][0]\n",
    "acc_dict['relu val accuracy'] = relu_leNet_history.history['val_accuracy'][0]\n",
    "acc_dict['sigmoid train accuracy'] = sigmoid_leNet_history.history['accuracy'][0]\n",
    "acc_dict['sigmoid val accuracy'] = sigmoid_leNet_history.history['val_accuracy'][0]\n",
    "acc_dict['elu train accuracy'] = elu_leNet_history.history['accuracy'][0]\n",
    "acc_dict['elu val accuracy'] = elu_leNet_history.history['val_accuracy'][0]"
   ]
  },
  {
   "cell_type": "code",
   "execution_count": 23,
   "metadata": {},
   "outputs": [
    {
     "data": {
      "image/png": "[encoded data removed]",
      "text/plain": [
       "<Figure size 1080x360 with 1 Axes>"
      ]
     },
     "metadata": {
      "needs_background": "light"
     },
     "output_type": "display_data"
    }
   ],
   "source": [
    "# Histogram\n",
    "names = list(acc_dict.keys())\n",
    "values = list(acc_dict.values())\n",
    "fig = plt.figure(figsize=(15,5))\n",
    "plt.bar(names, values)\n",
    "#plt.xticks(np.arange(0, 10))\n",
    "plt.ylabel('Accuracy')\n",
    "plt.xlabel('Label')\n",
    "plt.title(\"Train and val accuracy for activation hyperparameter\");"
   ]
  },
  {
   "cell_type": "markdown",
   "metadata": {},
   "source": [
    "## Lets try grid search again eh?"
   ]
  },
  {
   "cell_type": "code",
   "execution_count": 41,
   "metadata": {},
   "outputs": [
    {
     "name": "stdout",
     "output_type": "stream",
     "text": [
      "Epoch 1/10\n",
      "1575/1575 [==============================] - 173s 110ms/step - loss: 0.1442 - accuracy: 0.9554 - val_loss: 0.0919 - val_accuracy: 0.9722\n",
      "Epoch 2/10\n",
      "1575/1575 [==============================] - 125s 79ms/step - loss: 0.0811 - accuracy: 0.9751 - val_loss: 0.0870 - val_accuracy: 0.9736\n",
      "Epoch 3/10\n",
      "1575/1575 [==============================] - 153s 97ms/step - loss: 0.0744 - accuracy: 0.9770 - val_loss: 0.0850 - val_accuracy: 0.9744\n",
      "Epoch 4/10\n",
      "1575/1575 [==============================] - 152s 97ms/step - loss: 0.0669 - accuracy: 0.9792 - val_loss: 0.0804 - val_accuracy: 0.9762\n",
      "Epoch 5/10\n",
      "1575/1575 [==============================] - 150s 95ms/step - loss: 0.0541 - accuracy: 0.9837 - val_loss: 0.0759 - val_accuracy: 0.9771\n",
      "Epoch 6/10\n",
      "1575/1575 [==============================] - 149s 94ms/step - loss: 0.0629 - accuracy: 0.9801 - val_loss: 0.0664 - val_accuracy: 0.9796\n",
      "Epoch 7/10\n",
      "1575/1575 [==============================] - 142s 90ms/step - loss: 0.0555 - accuracy: 0.9822 - val_loss: 0.0826 - val_accuracy: 0.9736\n",
      "Epoch 8/10\n",
      " 155/1575 [=>............................] - ETA: 2:00 - loss: 0.0603 - accuracy: 0.9819 ETA: 2:00 - loss: 0.0605 - accuracy: 0."
     ]
    },
    {
     "ename": "KeyboardInterrupt",
     "evalue": "",
     "output_type": "error",
     "traceback": [
      "\u001b[1;31m---------------------------------------------------------------------------\u001b[0m",
      "\u001b[1;31mKeyboardInterrupt\u001b[0m                         Traceback (most recent call last)",
      "\u001b[1;32m<ipython-input-41-db4a2564e10c>\u001b[0m in \u001b[0;36m<module>\u001b[1;34m\u001b[0m\n\u001b[0;32m      5\u001b[0m \u001b[1;32mfor\u001b[0m \u001b[0mfunc\u001b[0m \u001b[1;32min\u001b[0m \u001b[0mactivation_function\u001b[0m\u001b[1;33m:\u001b[0m\u001b[1;33m\u001b[0m\u001b[1;33m\u001b[0m\u001b[0m\n\u001b[0;32m      6\u001b[0m     \u001b[0mleNet_model\u001b[0m \u001b[1;33m=\u001b[0m \u001b[0mleNet_5_setup\u001b[0m\u001b[1;33m(\u001b[0m\u001b[0mactivation_function\u001b[0m \u001b[1;33m=\u001b[0m \u001b[0mfunc\u001b[0m\u001b[1;33m)\u001b[0m\u001b[1;33m\u001b[0m\u001b[1;33m\u001b[0m\u001b[0m\n\u001b[1;32m----> 7\u001b[1;33m     \u001b[0mleNet_history\u001b[0m \u001b[1;33m=\u001b[0m \u001b[0mleNet_model\u001b[0m\u001b[1;33m.\u001b[0m\u001b[0mfit\u001b[0m\u001b[1;33m(\u001b[0m\u001b[0mX_train_4d\u001b[0m\u001b[1;33m,\u001b[0m \u001b[0my_train_onehot\u001b[0m\u001b[1;33m,\u001b[0m \u001b[0mvalidation_data\u001b[0m\u001b[1;33m=\u001b[0m\u001b[1;33m(\u001b[0m\u001b[0mX_val_4d\u001b[0m\u001b[1;33m,\u001b[0m \u001b[0my_val_onehot\u001b[0m\u001b[1;33m)\u001b[0m\u001b[1;33m,\u001b[0m \u001b[0mshuffle\u001b[0m\u001b[1;33m=\u001b[0m\u001b[1;32mFalse\u001b[0m\u001b[1;33m,\u001b[0m \u001b[0mbatch_size\u001b[0m \u001b[1;33m=\u001b[0m \u001b[0mbatch_size\u001b[0m\u001b[1;33m,\u001b[0m \u001b[0mepochs\u001b[0m \u001b[1;33m=\u001b[0m \u001b[0mepochs\u001b[0m\u001b[1;33m,\u001b[0m \u001b[0mverbose\u001b[0m \u001b[1;33m=\u001b[0m \u001b[1;36m1\u001b[0m\u001b[1;33m)\u001b[0m\u001b[1;33m\u001b[0m\u001b[1;33m\u001b[0m\u001b[0m\n\u001b[0m\u001b[0;32m      8\u001b[0m     \u001b[0maccuracies_dict\u001b[0m\u001b[1;33m[\u001b[0m\u001b[0mfunc\u001b[0m \u001b[1;33m+\u001b[0m\u001b[1;34m' train accuracy'\u001b[0m\u001b[1;33m]\u001b[0m \u001b[1;33m=\u001b[0m \u001b[0mleNet_history\u001b[0m\u001b[1;33m.\u001b[0m\u001b[0mhistory\u001b[0m\u001b[1;33m[\u001b[0m\u001b[1;34m'accuracy'\u001b[0m\u001b[1;33m]\u001b[0m\u001b[1;33m[\u001b[0m\u001b[1;36m0\u001b[0m\u001b[1;33m]\u001b[0m\u001b[1;33m\u001b[0m\u001b[1;33m\u001b[0m\u001b[0m\n\u001b[0;32m      9\u001b[0m     \u001b[0maccuracies_dict\u001b[0m\u001b[1;33m[\u001b[0m\u001b[0mfunc\u001b[0m \u001b[1;33m+\u001b[0m \u001b[1;34m'val accuracy'\u001b[0m\u001b[1;33m]\u001b[0m \u001b[1;33m=\u001b[0m \u001b[0mleNet_history\u001b[0m\u001b[1;33m.\u001b[0m\u001b[0mhistory\u001b[0m\u001b[1;33m[\u001b[0m\u001b[1;34m'val_accuracy'\u001b[0m\u001b[1;33m]\u001b[0m\u001b[1;33m[\u001b[0m\u001b[1;36m0\u001b[0m\u001b[1;33m]\u001b[0m\u001b[1;33m\u001b[0m\u001b[1;33m\u001b[0m\u001b[0m\n",
      "\u001b[1;32mc:\\users\\johan\\appdata\\local\\programs\\python\\python37\\lib\\site-packages\\tensorflow\\python\\keras\\engine\\training.py\u001b[0m in \u001b[0;36m_method_wrapper\u001b[1;34m(self, *args, **kwargs)\u001b[0m\n\u001b[0;32m     64\u001b[0m   \u001b[1;32mdef\u001b[0m \u001b[0m_method_wrapper\u001b[0m\u001b[1;33m(\u001b[0m\u001b[0mself\u001b[0m\u001b[1;33m,\u001b[0m \u001b[1;33m*\u001b[0m\u001b[0margs\u001b[0m\u001b[1;33m,\u001b[0m \u001b[1;33m**\u001b[0m\u001b[0mkwargs\u001b[0m\u001b[1;33m)\u001b[0m\u001b[1;33m:\u001b[0m\u001b[1;33m\u001b[0m\u001b[1;33m\u001b[0m\u001b[0m\n\u001b[0;32m     65\u001b[0m     \u001b[1;32mif\u001b[0m \u001b[1;32mnot\u001b[0m \u001b[0mself\u001b[0m\u001b[1;33m.\u001b[0m\u001b[0m_in_multi_worker_mode\u001b[0m\u001b[1;33m(\u001b[0m\u001b[1;33m)\u001b[0m\u001b[1;33m:\u001b[0m  \u001b[1;31m# pylint: disable=protected-access\u001b[0m\u001b[1;33m\u001b[0m\u001b[1;33m\u001b[0m\u001b[0m\n\u001b[1;32m---> 66\u001b[1;33m       \u001b[1;32mreturn\u001b[0m \u001b[0mmethod\u001b[0m\u001b[1;33m(\u001b[0m\u001b[0mself\u001b[0m\u001b[1;33m,\u001b[0m \u001b[1;33m*\u001b[0m\u001b[0margs\u001b[0m\u001b[1;33m,\u001b[0m \u001b[1;33m**\u001b[0m\u001b[0mkwargs\u001b[0m\u001b[1;33m)\u001b[0m\u001b[1;33m\u001b[0m\u001b[1;33m\u001b[0m\u001b[0m\n\u001b[0m\u001b[0;32m     67\u001b[0m \u001b[1;33m\u001b[0m\u001b[0m\n\u001b[0;32m     68\u001b[0m     \u001b[1;31m# Running inside `run_distribute_coordinator` already.\u001b[0m\u001b[1;33m\u001b[0m\u001b[1;33m\u001b[0m\u001b[1;33m\u001b[0m\u001b[0m\n",
      "\u001b[1;32mc:\\users\\johan\\appdata\\local\\programs\\python\\python37\\lib\\site-packages\\tensorflow\\python\\keras\\engine\\training.py\u001b[0m in \u001b[0;36mfit\u001b[1;34m(self, x, y, batch_size, epochs, verbose, callbacks, validation_split, validation_data, shuffle, class_weight, sample_weight, initial_epoch, steps_per_epoch, validation_steps, validation_batch_size, validation_freq, max_queue_size, workers, use_multiprocessing)\u001b[0m\n\u001b[0;32m    846\u001b[0m                 batch_size=batch_size):\n\u001b[0;32m    847\u001b[0m               \u001b[0mcallbacks\u001b[0m\u001b[1;33m.\u001b[0m\u001b[0mon_train_batch_begin\u001b[0m\u001b[1;33m(\u001b[0m\u001b[0mstep\u001b[0m\u001b[1;33m)\u001b[0m\u001b[1;33m\u001b[0m\u001b[1;33m\u001b[0m\u001b[0m\n\u001b[1;32m--> 848\u001b[1;33m               \u001b[0mtmp_logs\u001b[0m \u001b[1;33m=\u001b[0m \u001b[0mtrain_function\u001b[0m\u001b[1;33m(\u001b[0m\u001b[0miterator\u001b[0m\u001b[1;33m)\u001b[0m\u001b[1;33m\u001b[0m\u001b[1;33m\u001b[0m\u001b[0m\n\u001b[0m\u001b[0;32m    849\u001b[0m               \u001b[1;31m# Catch OutOfRangeError for Datasets of unknown size.\u001b[0m\u001b[1;33m\u001b[0m\u001b[1;33m\u001b[0m\u001b[1;33m\u001b[0m\u001b[0m\n\u001b[0;32m    850\u001b[0m               \u001b[1;31m# This blocks until the batch has finished executing.\u001b[0m\u001b[1;33m\u001b[0m\u001b[1;33m\u001b[0m\u001b[1;33m\u001b[0m\u001b[0m\n",
      "\u001b[1;32mc:\\users\\johan\\appdata\\local\\programs\\python\\python37\\lib\\site-packages\\tensorflow\\python\\eager\\def_function.py\u001b[0m in \u001b[0;36m__call__\u001b[1;34m(self, *args, **kwds)\u001b[0m\n\u001b[0;32m    578\u001b[0m         \u001b[0mxla_context\u001b[0m\u001b[1;33m.\u001b[0m\u001b[0mExit\u001b[0m\u001b[1;33m(\u001b[0m\u001b[1;33m)\u001b[0m\u001b[1;33m\u001b[0m\u001b[1;33m\u001b[0m\u001b[0m\n\u001b[0;32m    579\u001b[0m     \u001b[1;32melse\u001b[0m\u001b[1;33m:\u001b[0m\u001b[1;33m\u001b[0m\u001b[1;33m\u001b[0m\u001b[0m\n\u001b[1;32m--> 580\u001b[1;33m       \u001b[0mresult\u001b[0m \u001b[1;33m=\u001b[0m \u001b[0mself\u001b[0m\u001b[1;33m.\u001b[0m\u001b[0m_call\u001b[0m\u001b[1;33m(\u001b[0m\u001b[1;33m*\u001b[0m\u001b[0margs\u001b[0m\u001b[1;33m,\u001b[0m \u001b[1;33m**\u001b[0m\u001b[0mkwds\u001b[0m\u001b[1;33m)\u001b[0m\u001b[1;33m\u001b[0m\u001b[1;33m\u001b[0m\u001b[0m\n\u001b[0m\u001b[0;32m    581\u001b[0m \u001b[1;33m\u001b[0m\u001b[0m\n\u001b[0;32m    582\u001b[0m     \u001b[1;32mif\u001b[0m \u001b[0mtracing_count\u001b[0m \u001b[1;33m==\u001b[0m \u001b[0mself\u001b[0m\u001b[1;33m.\u001b[0m\u001b[0m_get_tracing_count\u001b[0m\u001b[1;33m(\u001b[0m\u001b[1;33m)\u001b[0m\u001b[1;33m:\u001b[0m\u001b[1;33m\u001b[0m\u001b[1;33m\u001b[0m\u001b[0m\n",
      "\u001b[1;32mc:\\users\\johan\\appdata\\local\\programs\\python\\python37\\lib\\site-packages\\tensorflow\\python\\eager\\def_function.py\u001b[0m in \u001b[0;36m_call\u001b[1;34m(self, *args, **kwds)\u001b[0m\n\u001b[0;32m    609\u001b[0m       \u001b[1;31m# In this case we have created variables on the first call, so we run the\u001b[0m\u001b[1;33m\u001b[0m\u001b[1;33m\u001b[0m\u001b[1;33m\u001b[0m\u001b[0m\n\u001b[0;32m    610\u001b[0m       \u001b[1;31m# defunned version which is guaranteed to never create variables.\u001b[0m\u001b[1;33m\u001b[0m\u001b[1;33m\u001b[0m\u001b[1;33m\u001b[0m\u001b[0m\n\u001b[1;32m--> 611\u001b[1;33m       \u001b[1;32mreturn\u001b[0m \u001b[0mself\u001b[0m\u001b[1;33m.\u001b[0m\u001b[0m_stateless_fn\u001b[0m\u001b[1;33m(\u001b[0m\u001b[1;33m*\u001b[0m\u001b[0margs\u001b[0m\u001b[1;33m,\u001b[0m \u001b[1;33m**\u001b[0m\u001b[0mkwds\u001b[0m\u001b[1;33m)\u001b[0m  \u001b[1;31m# pylint: disable=not-callable\u001b[0m\u001b[1;33m\u001b[0m\u001b[1;33m\u001b[0m\u001b[0m\n\u001b[0m\u001b[0;32m    612\u001b[0m     \u001b[1;32melif\u001b[0m \u001b[0mself\u001b[0m\u001b[1;33m.\u001b[0m\u001b[0m_stateful_fn\u001b[0m \u001b[1;32mis\u001b[0m \u001b[1;32mnot\u001b[0m \u001b[1;32mNone\u001b[0m\u001b[1;33m:\u001b[0m\u001b[1;33m\u001b[0m\u001b[1;33m\u001b[0m\u001b[0m\n\u001b[0;32m    613\u001b[0m       \u001b[1;31m# Release the lock early so that multiple threads can perform the call\u001b[0m\u001b[1;33m\u001b[0m\u001b[1;33m\u001b[0m\u001b[1;33m\u001b[0m\u001b[0m\n",
      "\u001b[1;32mc:\\users\\johan\\appdata\\local\\programs\\python\\python37\\lib\\site-packages\\tensorflow\\python\\eager\\function.py\u001b[0m in \u001b[0;36m__call__\u001b[1;34m(self, *args, **kwargs)\u001b[0m\n\u001b[0;32m   2418\u001b[0m     \u001b[1;32mwith\u001b[0m \u001b[0mself\u001b[0m\u001b[1;33m.\u001b[0m\u001b[0m_lock\u001b[0m\u001b[1;33m:\u001b[0m\u001b[1;33m\u001b[0m\u001b[1;33m\u001b[0m\u001b[0m\n\u001b[0;32m   2419\u001b[0m       \u001b[0mgraph_function\u001b[0m\u001b[1;33m,\u001b[0m \u001b[0margs\u001b[0m\u001b[1;33m,\u001b[0m \u001b[0mkwargs\u001b[0m \u001b[1;33m=\u001b[0m \u001b[0mself\u001b[0m\u001b[1;33m.\u001b[0m\u001b[0m_maybe_define_function\u001b[0m\u001b[1;33m(\u001b[0m\u001b[0margs\u001b[0m\u001b[1;33m,\u001b[0m \u001b[0mkwargs\u001b[0m\u001b[1;33m)\u001b[0m\u001b[1;33m\u001b[0m\u001b[1;33m\u001b[0m\u001b[0m\n\u001b[1;32m-> 2420\u001b[1;33m     \u001b[1;32mreturn\u001b[0m \u001b[0mgraph_function\u001b[0m\u001b[1;33m.\u001b[0m\u001b[0m_filtered_call\u001b[0m\u001b[1;33m(\u001b[0m\u001b[0margs\u001b[0m\u001b[1;33m,\u001b[0m \u001b[0mkwargs\u001b[0m\u001b[1;33m)\u001b[0m  \u001b[1;31m# pylint: disable=protected-access\u001b[0m\u001b[1;33m\u001b[0m\u001b[1;33m\u001b[0m\u001b[0m\n\u001b[0m\u001b[0;32m   2421\u001b[0m \u001b[1;33m\u001b[0m\u001b[0m\n\u001b[0;32m   2422\u001b[0m   \u001b[1;33m@\u001b[0m\u001b[0mproperty\u001b[0m\u001b[1;33m\u001b[0m\u001b[1;33m\u001b[0m\u001b[0m\n",
      "\u001b[1;32mc:\\users\\johan\\appdata\\local\\programs\\python\\python37\\lib\\site-packages\\tensorflow\\python\\eager\\function.py\u001b[0m in \u001b[0;36m_filtered_call\u001b[1;34m(self, args, kwargs)\u001b[0m\n\u001b[0;32m   1663\u001b[0m          if isinstance(t, (ops.Tensor,\n\u001b[0;32m   1664\u001b[0m                            resource_variable_ops.BaseResourceVariable))),\n\u001b[1;32m-> 1665\u001b[1;33m         self.captured_inputs)\n\u001b[0m\u001b[0;32m   1666\u001b[0m \u001b[1;33m\u001b[0m\u001b[0m\n\u001b[0;32m   1667\u001b[0m   \u001b[1;32mdef\u001b[0m \u001b[0m_call_flat\u001b[0m\u001b[1;33m(\u001b[0m\u001b[0mself\u001b[0m\u001b[1;33m,\u001b[0m \u001b[0margs\u001b[0m\u001b[1;33m,\u001b[0m \u001b[0mcaptured_inputs\u001b[0m\u001b[1;33m,\u001b[0m \u001b[0mcancellation_manager\u001b[0m\u001b[1;33m=\u001b[0m\u001b[1;32mNone\u001b[0m\u001b[1;33m)\u001b[0m\u001b[1;33m:\u001b[0m\u001b[1;33m\u001b[0m\u001b[1;33m\u001b[0m\u001b[0m\n",
      "\u001b[1;32mc:\\users\\johan\\appdata\\local\\programs\\python\\python37\\lib\\site-packages\\tensorflow\\python\\eager\\function.py\u001b[0m in \u001b[0;36m_call_flat\u001b[1;34m(self, args, captured_inputs, cancellation_manager)\u001b[0m\n\u001b[0;32m   1744\u001b[0m       \u001b[1;31m# No tape is watching; skip to running the function.\u001b[0m\u001b[1;33m\u001b[0m\u001b[1;33m\u001b[0m\u001b[1;33m\u001b[0m\u001b[0m\n\u001b[0;32m   1745\u001b[0m       return self._build_call_outputs(self._inference_function.call(\n\u001b[1;32m-> 1746\u001b[1;33m           ctx, args, cancellation_manager=cancellation_manager))\n\u001b[0m\u001b[0;32m   1747\u001b[0m     forward_backward = self._select_forward_and_backward_functions(\n\u001b[0;32m   1748\u001b[0m         \u001b[0margs\u001b[0m\u001b[1;33m,\u001b[0m\u001b[1;33m\u001b[0m\u001b[1;33m\u001b[0m\u001b[0m\n",
      "\u001b[1;32mc:\\users\\johan\\appdata\\local\\programs\\python\\python37\\lib\\site-packages\\tensorflow\\python\\eager\\function.py\u001b[0m in \u001b[0;36mcall\u001b[1;34m(self, ctx, args, cancellation_manager)\u001b[0m\n\u001b[0;32m    596\u001b[0m               \u001b[0minputs\u001b[0m\u001b[1;33m=\u001b[0m\u001b[0margs\u001b[0m\u001b[1;33m,\u001b[0m\u001b[1;33m\u001b[0m\u001b[1;33m\u001b[0m\u001b[0m\n\u001b[0;32m    597\u001b[0m               \u001b[0mattrs\u001b[0m\u001b[1;33m=\u001b[0m\u001b[0mattrs\u001b[0m\u001b[1;33m,\u001b[0m\u001b[1;33m\u001b[0m\u001b[1;33m\u001b[0m\u001b[0m\n\u001b[1;32m--> 598\u001b[1;33m               ctx=ctx)\n\u001b[0m\u001b[0;32m    599\u001b[0m         \u001b[1;32melse\u001b[0m\u001b[1;33m:\u001b[0m\u001b[1;33m\u001b[0m\u001b[1;33m\u001b[0m\u001b[0m\n\u001b[0;32m    600\u001b[0m           outputs = execute.execute_with_cancellation(\n",
      "\u001b[1;32mc:\\users\\johan\\appdata\\local\\programs\\python\\python37\\lib\\site-packages\\tensorflow\\python\\eager\\execute.py\u001b[0m in \u001b[0;36mquick_execute\u001b[1;34m(op_name, num_outputs, inputs, attrs, ctx, name)\u001b[0m\n\u001b[0;32m     58\u001b[0m     \u001b[0mctx\u001b[0m\u001b[1;33m.\u001b[0m\u001b[0mensure_initialized\u001b[0m\u001b[1;33m(\u001b[0m\u001b[1;33m)\u001b[0m\u001b[1;33m\u001b[0m\u001b[1;33m\u001b[0m\u001b[0m\n\u001b[0;32m     59\u001b[0m     tensors = pywrap_tfe.TFE_Py_Execute(ctx._handle, device_name, op_name,\n\u001b[1;32m---> 60\u001b[1;33m                                         inputs, attrs, num_outputs)\n\u001b[0m\u001b[0;32m     61\u001b[0m   \u001b[1;32mexcept\u001b[0m \u001b[0mcore\u001b[0m\u001b[1;33m.\u001b[0m\u001b[0m_NotOkStatusException\u001b[0m \u001b[1;32mas\u001b[0m \u001b[0me\u001b[0m\u001b[1;33m:\u001b[0m\u001b[1;33m\u001b[0m\u001b[1;33m\u001b[0m\u001b[0m\n\u001b[0;32m     62\u001b[0m     \u001b[1;32mif\u001b[0m \u001b[0mname\u001b[0m \u001b[1;32mis\u001b[0m \u001b[1;32mnot\u001b[0m \u001b[1;32mNone\u001b[0m\u001b[1;33m:\u001b[0m\u001b[1;33m\u001b[0m\u001b[1;33m\u001b[0m\u001b[0m\n",
      "\u001b[1;31mKeyboardInterrupt\u001b[0m: "
     ]
    }
   ],
   "source": [
    "epochs = 10 \n",
    "batch_size = 32\n",
    "activation_function = ['tanh', 'relu', 'elu', 'softmax', 'sigmoid']\n",
    "accuracies_dict = {}\n",
    "for func in activation_function:\n",
    "    leNet_model = leNet_5_setup(activation_function = func)\n",
    "    leNet_history = leNet_model.fit(X_train_4d, y_train_onehot, validation_data=(X_val_4d, y_val_onehot), shuffle=False, batch_size = batch_size, epochs = epochs, verbose = 1) \n",
    "    accuracies_dict[func +' train accuracy'] = leNet_history.history['accuracy'][0]\n",
    "    accuracies_dict[func + 'val accuracy'] = leNet_history.history['val_accuracy'][0]"
   ]
  },
  {
   "cell_type": "code",
   "execution_count": null,
   "metadata": {},
   "outputs": [],
   "source": [
    "# Histogram\n",
    "names = list(accuracies_dict.keys())\n",
    "values = list(accuracies_dict.values())\n",
    "fig = plt.figure(figsize=(15,5))\n",
    "plt.bar(names, values)\n",
    "#plt.xticks(np.arange(0, 10))\n",
    "plt.ylabel('Accuracy')\n",
    "plt.xlabel('Label')\n",
    "plt.title(\"Train and val accuracy for activation hyperparameter\");"
   ]
  },
  {
   "cell_type": "code",
   "execution_count": 60,
   "metadata": {},
   "outputs": [
    {
     "name": "stdout",
     "output_type": "stream",
     "text": [
      "(50400, 28, 28, 1)\n",
      "(50400, 10)\n",
      "Epoch 1/8\n",
      "1575/1575 [==============================] - 142s 90ms/step - loss: nan - accuracy: 0.0999 - val_loss: nan - val_accuracy: 0.0952\n",
      "Epoch 2/8\n",
      " 946/1575 [=================>............] - ETA: 49s - loss: nan - accuracy: 0.0994"
     ]
    },
    {
     "ename": "KeyboardInterrupt",
     "evalue": "",
     "output_type": "error",
     "traceback": [
      "\u001b[1;31m---------------------------------------------------------------------------\u001b[0m",
      "\u001b[1;31mKeyboardInterrupt\u001b[0m                         Traceback (most recent call last)",
      "\u001b[1;32m<ipython-input-60-e3bbc423eba5>\u001b[0m in \u001b[0;36m<module>\u001b[1;34m\u001b[0m\n\u001b[0;32m      4\u001b[0m \u001b[0mprint\u001b[0m\u001b[1;33m(\u001b[0m\u001b[0my_train_onehot\u001b[0m\u001b[1;33m.\u001b[0m\u001b[0mshape\u001b[0m\u001b[1;33m)\u001b[0m\u001b[1;33m\u001b[0m\u001b[1;33m\u001b[0m\u001b[0m\n\u001b[0;32m      5\u001b[0m \u001b[0mleNet_model_elu\u001b[0m \u001b[1;33m=\u001b[0m \u001b[0mleNet_5_setup\u001b[0m\u001b[1;33m(\u001b[0m\u001b[0mactivation_function\u001b[0m \u001b[1;33m=\u001b[0m \u001b[1;34m'elu'\u001b[0m\u001b[1;33m)\u001b[0m\u001b[1;33m\u001b[0m\u001b[1;33m\u001b[0m\u001b[0m\n\u001b[1;32m----> 6\u001b[1;33m \u001b[0melu_leNet_history\u001b[0m \u001b[1;33m=\u001b[0m \u001b[0mleNet_model_elu\u001b[0m\u001b[1;33m.\u001b[0m\u001b[0mfit\u001b[0m\u001b[1;33m(\u001b[0m\u001b[0mX_train_4d\u001b[0m\u001b[1;33m,\u001b[0m \u001b[0my_train_onehot\u001b[0m\u001b[1;33m,\u001b[0m \u001b[0mvalidation_data\u001b[0m\u001b[1;33m=\u001b[0m\u001b[1;33m(\u001b[0m\u001b[0mX_val_4d\u001b[0m\u001b[1;33m,\u001b[0m \u001b[0my_val_onehot\u001b[0m\u001b[1;33m)\u001b[0m\u001b[1;33m,\u001b[0m \u001b[0mshuffle\u001b[0m\u001b[1;33m=\u001b[0m\u001b[1;32mFalse\u001b[0m\u001b[1;33m,\u001b[0m \u001b[0mbatch_size\u001b[0m \u001b[1;33m=\u001b[0m \u001b[0mbatch_size\u001b[0m\u001b[1;33m,\u001b[0m \u001b[0mepochs\u001b[0m \u001b[1;33m=\u001b[0m \u001b[0mepocs\u001b[0m\u001b[1;33m,\u001b[0m \u001b[0mverbose\u001b[0m \u001b[1;33m=\u001b[0m \u001b[1;36m1\u001b[0m\u001b[1;33m)\u001b[0m\u001b[1;33m\u001b[0m\u001b[1;33m\u001b[0m\u001b[0m\n\u001b[0m",
      "\u001b[1;32mc:\\users\\johan\\appdata\\local\\programs\\python\\python37\\lib\\site-packages\\tensorflow\\python\\keras\\engine\\training.py\u001b[0m in \u001b[0;36m_method_wrapper\u001b[1;34m(self, *args, **kwargs)\u001b[0m\n\u001b[0;32m     64\u001b[0m   \u001b[1;32mdef\u001b[0m \u001b[0m_method_wrapper\u001b[0m\u001b[1;33m(\u001b[0m\u001b[0mself\u001b[0m\u001b[1;33m,\u001b[0m \u001b[1;33m*\u001b[0m\u001b[0margs\u001b[0m\u001b[1;33m,\u001b[0m \u001b[1;33m**\u001b[0m\u001b[0mkwargs\u001b[0m\u001b[1;33m)\u001b[0m\u001b[1;33m:\u001b[0m\u001b[1;33m\u001b[0m\u001b[1;33m\u001b[0m\u001b[0m\n\u001b[0;32m     65\u001b[0m     \u001b[1;32mif\u001b[0m \u001b[1;32mnot\u001b[0m \u001b[0mself\u001b[0m\u001b[1;33m.\u001b[0m\u001b[0m_in_multi_worker_mode\u001b[0m\u001b[1;33m(\u001b[0m\u001b[1;33m)\u001b[0m\u001b[1;33m:\u001b[0m  \u001b[1;31m# pylint: disable=protected-access\u001b[0m\u001b[1;33m\u001b[0m\u001b[1;33m\u001b[0m\u001b[0m\n\u001b[1;32m---> 66\u001b[1;33m       \u001b[1;32mreturn\u001b[0m \u001b[0mmethod\u001b[0m\u001b[1;33m(\u001b[0m\u001b[0mself\u001b[0m\u001b[1;33m,\u001b[0m \u001b[1;33m*\u001b[0m\u001b[0margs\u001b[0m\u001b[1;33m,\u001b[0m \u001b[1;33m**\u001b[0m\u001b[0mkwargs\u001b[0m\u001b[1;33m)\u001b[0m\u001b[1;33m\u001b[0m\u001b[1;33m\u001b[0m\u001b[0m\n\u001b[0m\u001b[0;32m     67\u001b[0m \u001b[1;33m\u001b[0m\u001b[0m\n\u001b[0;32m     68\u001b[0m     \u001b[1;31m# Running inside `run_distribute_coordinator` already.\u001b[0m\u001b[1;33m\u001b[0m\u001b[1;33m\u001b[0m\u001b[1;33m\u001b[0m\u001b[0m\n",
      "\u001b[1;32mc:\\users\\johan\\appdata\\local\\programs\\python\\python37\\lib\\site-packages\\tensorflow\\python\\keras\\engine\\training.py\u001b[0m in \u001b[0;36mfit\u001b[1;34m(self, x, y, batch_size, epochs, verbose, callbacks, validation_split, validation_data, shuffle, class_weight, sample_weight, initial_epoch, steps_per_epoch, validation_steps, validation_batch_size, validation_freq, max_queue_size, workers, use_multiprocessing)\u001b[0m\n\u001b[0;32m    846\u001b[0m                 batch_size=batch_size):\n\u001b[0;32m    847\u001b[0m               \u001b[0mcallbacks\u001b[0m\u001b[1;33m.\u001b[0m\u001b[0mon_train_batch_begin\u001b[0m\u001b[1;33m(\u001b[0m\u001b[0mstep\u001b[0m\u001b[1;33m)\u001b[0m\u001b[1;33m\u001b[0m\u001b[1;33m\u001b[0m\u001b[0m\n\u001b[1;32m--> 848\u001b[1;33m               \u001b[0mtmp_logs\u001b[0m \u001b[1;33m=\u001b[0m \u001b[0mtrain_function\u001b[0m\u001b[1;33m(\u001b[0m\u001b[0miterator\u001b[0m\u001b[1;33m)\u001b[0m\u001b[1;33m\u001b[0m\u001b[1;33m\u001b[0m\u001b[0m\n\u001b[0m\u001b[0;32m    849\u001b[0m               \u001b[1;31m# Catch OutOfRangeError for Datasets of unknown size.\u001b[0m\u001b[1;33m\u001b[0m\u001b[1;33m\u001b[0m\u001b[1;33m\u001b[0m\u001b[0m\n\u001b[0;32m    850\u001b[0m               \u001b[1;31m# This blocks until the batch has finished executing.\u001b[0m\u001b[1;33m\u001b[0m\u001b[1;33m\u001b[0m\u001b[1;33m\u001b[0m\u001b[0m\n",
      "\u001b[1;32mc:\\users\\johan\\appdata\\local\\programs\\python\\python37\\lib\\site-packages\\tensorflow\\python\\eager\\def_function.py\u001b[0m in \u001b[0;36m__call__\u001b[1;34m(self, *args, **kwds)\u001b[0m\n\u001b[0;32m    578\u001b[0m         \u001b[0mxla_context\u001b[0m\u001b[1;33m.\u001b[0m\u001b[0mExit\u001b[0m\u001b[1;33m(\u001b[0m\u001b[1;33m)\u001b[0m\u001b[1;33m\u001b[0m\u001b[1;33m\u001b[0m\u001b[0m\n\u001b[0;32m    579\u001b[0m     \u001b[1;32melse\u001b[0m\u001b[1;33m:\u001b[0m\u001b[1;33m\u001b[0m\u001b[1;33m\u001b[0m\u001b[0m\n\u001b[1;32m--> 580\u001b[1;33m       \u001b[0mresult\u001b[0m \u001b[1;33m=\u001b[0m \u001b[0mself\u001b[0m\u001b[1;33m.\u001b[0m\u001b[0m_call\u001b[0m\u001b[1;33m(\u001b[0m\u001b[1;33m*\u001b[0m\u001b[0margs\u001b[0m\u001b[1;33m,\u001b[0m \u001b[1;33m**\u001b[0m\u001b[0mkwds\u001b[0m\u001b[1;33m)\u001b[0m\u001b[1;33m\u001b[0m\u001b[1;33m\u001b[0m\u001b[0m\n\u001b[0m\u001b[0;32m    581\u001b[0m \u001b[1;33m\u001b[0m\u001b[0m\n\u001b[0;32m    582\u001b[0m     \u001b[1;32mif\u001b[0m \u001b[0mtracing_count\u001b[0m \u001b[1;33m==\u001b[0m \u001b[0mself\u001b[0m\u001b[1;33m.\u001b[0m\u001b[0m_get_tracing_count\u001b[0m\u001b[1;33m(\u001b[0m\u001b[1;33m)\u001b[0m\u001b[1;33m:\u001b[0m\u001b[1;33m\u001b[0m\u001b[1;33m\u001b[0m\u001b[0m\n",
      "\u001b[1;32mc:\\users\\johan\\appdata\\local\\programs\\python\\python37\\lib\\site-packages\\tensorflow\\python\\eager\\def_function.py\u001b[0m in \u001b[0;36m_call\u001b[1;34m(self, *args, **kwds)\u001b[0m\n\u001b[0;32m    609\u001b[0m       \u001b[1;31m# In this case we have created variables on the first call, so we run the\u001b[0m\u001b[1;33m\u001b[0m\u001b[1;33m\u001b[0m\u001b[1;33m\u001b[0m\u001b[0m\n\u001b[0;32m    610\u001b[0m       \u001b[1;31m# defunned version which is guaranteed to never create variables.\u001b[0m\u001b[1;33m\u001b[0m\u001b[1;33m\u001b[0m\u001b[1;33m\u001b[0m\u001b[0m\n\u001b[1;32m--> 611\u001b[1;33m       \u001b[1;32mreturn\u001b[0m \u001b[0mself\u001b[0m\u001b[1;33m.\u001b[0m\u001b[0m_stateless_fn\u001b[0m\u001b[1;33m(\u001b[0m\u001b[1;33m*\u001b[0m\u001b[0margs\u001b[0m\u001b[1;33m,\u001b[0m \u001b[1;33m**\u001b[0m\u001b[0mkwds\u001b[0m\u001b[1;33m)\u001b[0m  \u001b[1;31m# pylint: disable=not-callable\u001b[0m\u001b[1;33m\u001b[0m\u001b[1;33m\u001b[0m\u001b[0m\n\u001b[0m\u001b[0;32m    612\u001b[0m     \u001b[1;32melif\u001b[0m \u001b[0mself\u001b[0m\u001b[1;33m.\u001b[0m\u001b[0m_stateful_fn\u001b[0m \u001b[1;32mis\u001b[0m \u001b[1;32mnot\u001b[0m \u001b[1;32mNone\u001b[0m\u001b[1;33m:\u001b[0m\u001b[1;33m\u001b[0m\u001b[1;33m\u001b[0m\u001b[0m\n\u001b[0;32m    613\u001b[0m       \u001b[1;31m# Release the lock early so that multiple threads can perform the call\u001b[0m\u001b[1;33m\u001b[0m\u001b[1;33m\u001b[0m\u001b[1;33m\u001b[0m\u001b[0m\n",
      "\u001b[1;32mc:\\users\\johan\\appdata\\local\\programs\\python\\python37\\lib\\site-packages\\tensorflow\\python\\eager\\function.py\u001b[0m in \u001b[0;36m__call__\u001b[1;34m(self, *args, **kwargs)\u001b[0m\n\u001b[0;32m   2418\u001b[0m     \u001b[1;32mwith\u001b[0m \u001b[0mself\u001b[0m\u001b[1;33m.\u001b[0m\u001b[0m_lock\u001b[0m\u001b[1;33m:\u001b[0m\u001b[1;33m\u001b[0m\u001b[1;33m\u001b[0m\u001b[0m\n\u001b[0;32m   2419\u001b[0m       \u001b[0mgraph_function\u001b[0m\u001b[1;33m,\u001b[0m \u001b[0margs\u001b[0m\u001b[1;33m,\u001b[0m \u001b[0mkwargs\u001b[0m \u001b[1;33m=\u001b[0m \u001b[0mself\u001b[0m\u001b[1;33m.\u001b[0m\u001b[0m_maybe_define_function\u001b[0m\u001b[1;33m(\u001b[0m\u001b[0margs\u001b[0m\u001b[1;33m,\u001b[0m \u001b[0mkwargs\u001b[0m\u001b[1;33m)\u001b[0m\u001b[1;33m\u001b[0m\u001b[1;33m\u001b[0m\u001b[0m\n\u001b[1;32m-> 2420\u001b[1;33m     \u001b[1;32mreturn\u001b[0m \u001b[0mgraph_function\u001b[0m\u001b[1;33m.\u001b[0m\u001b[0m_filtered_call\u001b[0m\u001b[1;33m(\u001b[0m\u001b[0margs\u001b[0m\u001b[1;33m,\u001b[0m \u001b[0mkwargs\u001b[0m\u001b[1;33m)\u001b[0m  \u001b[1;31m# pylint: disable=protected-access\u001b[0m\u001b[1;33m\u001b[0m\u001b[1;33m\u001b[0m\u001b[0m\n\u001b[0m\u001b[0;32m   2421\u001b[0m \u001b[1;33m\u001b[0m\u001b[0m\n\u001b[0;32m   2422\u001b[0m   \u001b[1;33m@\u001b[0m\u001b[0mproperty\u001b[0m\u001b[1;33m\u001b[0m\u001b[1;33m\u001b[0m\u001b[0m\n",
      "\u001b[1;32mc:\\users\\johan\\appdata\\local\\programs\\python\\python37\\lib\\site-packages\\tensorflow\\python\\eager\\function.py\u001b[0m in \u001b[0;36m_filtered_call\u001b[1;34m(self, args, kwargs)\u001b[0m\n\u001b[0;32m   1663\u001b[0m          if isinstance(t, (ops.Tensor,\n\u001b[0;32m   1664\u001b[0m                            resource_variable_ops.BaseResourceVariable))),\n\u001b[1;32m-> 1665\u001b[1;33m         self.captured_inputs)\n\u001b[0m\u001b[0;32m   1666\u001b[0m \u001b[1;33m\u001b[0m\u001b[0m\n\u001b[0;32m   1667\u001b[0m   \u001b[1;32mdef\u001b[0m \u001b[0m_call_flat\u001b[0m\u001b[1;33m(\u001b[0m\u001b[0mself\u001b[0m\u001b[1;33m,\u001b[0m \u001b[0margs\u001b[0m\u001b[1;33m,\u001b[0m \u001b[0mcaptured_inputs\u001b[0m\u001b[1;33m,\u001b[0m \u001b[0mcancellation_manager\u001b[0m\u001b[1;33m=\u001b[0m\u001b[1;32mNone\u001b[0m\u001b[1;33m)\u001b[0m\u001b[1;33m:\u001b[0m\u001b[1;33m\u001b[0m\u001b[1;33m\u001b[0m\u001b[0m\n",
      "\u001b[1;32mc:\\users\\johan\\appdata\\local\\programs\\python\\python37\\lib\\site-packages\\tensorflow\\python\\eager\\function.py\u001b[0m in \u001b[0;36m_call_flat\u001b[1;34m(self, args, captured_inputs, cancellation_manager)\u001b[0m\n\u001b[0;32m   1744\u001b[0m       \u001b[1;31m# No tape is watching; skip to running the function.\u001b[0m\u001b[1;33m\u001b[0m\u001b[1;33m\u001b[0m\u001b[1;33m\u001b[0m\u001b[0m\n\u001b[0;32m   1745\u001b[0m       return self._build_call_outputs(self._inference_function.call(\n\u001b[1;32m-> 1746\u001b[1;33m           ctx, args, cancellation_manager=cancellation_manager))\n\u001b[0m\u001b[0;32m   1747\u001b[0m     forward_backward = self._select_forward_and_backward_functions(\n\u001b[0;32m   1748\u001b[0m         \u001b[0margs\u001b[0m\u001b[1;33m,\u001b[0m\u001b[1;33m\u001b[0m\u001b[1;33m\u001b[0m\u001b[0m\n",
      "\u001b[1;32mc:\\users\\johan\\appdata\\local\\programs\\python\\python37\\lib\\site-packages\\tensorflow\\python\\eager\\function.py\u001b[0m in \u001b[0;36mcall\u001b[1;34m(self, ctx, args, cancellation_manager)\u001b[0m\n\u001b[0;32m    596\u001b[0m               \u001b[0minputs\u001b[0m\u001b[1;33m=\u001b[0m\u001b[0margs\u001b[0m\u001b[1;33m,\u001b[0m\u001b[1;33m\u001b[0m\u001b[1;33m\u001b[0m\u001b[0m\n\u001b[0;32m    597\u001b[0m               \u001b[0mattrs\u001b[0m\u001b[1;33m=\u001b[0m\u001b[0mattrs\u001b[0m\u001b[1;33m,\u001b[0m\u001b[1;33m\u001b[0m\u001b[1;33m\u001b[0m\u001b[0m\n\u001b[1;32m--> 598\u001b[1;33m               ctx=ctx)\n\u001b[0m\u001b[0;32m    599\u001b[0m         \u001b[1;32melse\u001b[0m\u001b[1;33m:\u001b[0m\u001b[1;33m\u001b[0m\u001b[1;33m\u001b[0m\u001b[0m\n\u001b[0;32m    600\u001b[0m           outputs = execute.execute_with_cancellation(\n",
      "\u001b[1;32mc:\\users\\johan\\appdata\\local\\programs\\python\\python37\\lib\\site-packages\\tensorflow\\python\\eager\\execute.py\u001b[0m in \u001b[0;36mquick_execute\u001b[1;34m(op_name, num_outputs, inputs, attrs, ctx, name)\u001b[0m\n\u001b[0;32m     58\u001b[0m     \u001b[0mctx\u001b[0m\u001b[1;33m.\u001b[0m\u001b[0mensure_initialized\u001b[0m\u001b[1;33m(\u001b[0m\u001b[1;33m)\u001b[0m\u001b[1;33m\u001b[0m\u001b[1;33m\u001b[0m\u001b[0m\n\u001b[0;32m     59\u001b[0m     tensors = pywrap_tfe.TFE_Py_Execute(ctx._handle, device_name, op_name,\n\u001b[1;32m---> 60\u001b[1;33m                                         inputs, attrs, num_outputs)\n\u001b[0m\u001b[0;32m     61\u001b[0m   \u001b[1;32mexcept\u001b[0m \u001b[0mcore\u001b[0m\u001b[1;33m.\u001b[0m\u001b[0m_NotOkStatusException\u001b[0m \u001b[1;32mas\u001b[0m \u001b[0me\u001b[0m\u001b[1;33m:\u001b[0m\u001b[1;33m\u001b[0m\u001b[1;33m\u001b[0m\u001b[0m\n\u001b[0;32m     62\u001b[0m     \u001b[1;32mif\u001b[0m \u001b[0mname\u001b[0m \u001b[1;32mis\u001b[0m \u001b[1;32mnot\u001b[0m \u001b[1;32mNone\u001b[0m\u001b[1;33m:\u001b[0m\u001b[1;33m\u001b[0m\u001b[1;33m\u001b[0m\u001b[0m\n",
      "\u001b[1;31mKeyboardInterrupt\u001b[0m: "
     ]
    }
   ],
   "source": [
    "epochs = 20\n",
    "batch_size = 32\n",
    "learning_rates = [0.001, 0.01, 0.1]\n",
    "accuracies_dict = {}\n",
    "for l_rate in learning_rate:\n",
    "    leNet_model = leNet_5_setup(activation_function = 'tanh', learning_rate = l_rate)\n",
    "    leNet_history = leNet_model.fit(X_train_4d, y_train_onehot, validation_data=(X_val_4d, y_val_onehot), shuffle=False, batch_size = batch_size, epochs = epochs, verbose = 1) \n",
    "    accuracies_dict[func +' train accuracy'] = leNet_history.history['accuracy'][0]\n",
    "    accuracies_dict[func + 'val accuracy'] = leNet_history.history['val_accuracy'][0]"
   ]
  },
  {
   "cell_type": "code",
   "execution_count": 92,
   "metadata": {},
   "outputs": [
    {
     "name": "stdout",
     "output_type": "stream",
     "text": [
      "Epoch 1/20\n",
      "1313/1313 [==============================] - 146s 111ms/step - loss: 0.5005 - accuracy: 0.8823 - val_loss: 0.2995 - val_accuracy: 0.9236\n",
      "Epoch 2/20\n",
      "1313/1313 [==============================] - 145s 110ms/step - loss: 0.2582 - accuracy: 0.9319 - val_loss: 0.2225 - val_accuracy: 0.9425\n",
      "Epoch 3/20\n",
      "1313/1313 [==============================] - 137s 104ms/step - loss: 0.1990 - accuracy: 0.9467 - val_loss: 0.1793 - val_accuracy: 0.9528\n",
      "Epoch 4/20\n",
      "1313/1313 [==============================] - 138s 105ms/step - loss: 0.1627 - accuracy: 0.9563 - val_loss: 0.1508 - val_accuracy: 0.9609\n",
      "Epoch 5/20\n",
      "1313/1313 [==============================] - 134s 102ms/step - loss: 0.1390 - accuracy: 0.9630 - val_loss: 0.1330 - val_accuracy: 0.9659\n",
      "Epoch 6/20\n",
      "1313/1313 [==============================] - 134s 102ms/step - loss: 0.1232 - accuracy: 0.9675 - val_loss: 0.1210 - val_accuracy: 0.9680\n",
      "Epoch 7/20\n",
      "1313/1313 [==============================] - 135s 103ms/step - loss: 0.1121 - accuracy: 0.9705 - val_loss: 0.1123 - val_accuracy: 0.9696\n",
      "Epoch 8/20\n",
      "1313/1313 [==============================] - 134s 102ms/step - loss: 0.1038 - accuracy: 0.9725 - val_loss: 0.1059 - val_accuracy: 0.9716\n",
      "Epoch 9/20\n",
      "1313/1313 [==============================] - 134s 102ms/step - loss: 0.0970 - accuracy: 0.9746 - val_loss: 0.1001 - val_accuracy: 0.9728\n",
      "Epoch 10/20\n",
      "1313/1313 [==============================] - 137s 105ms/step - loss: 0.0915 - accuracy: 0.9759 - val_loss: 0.0958 - val_accuracy: 0.9737\n",
      "Epoch 11/20\n",
      "1313/1313 [==============================] - 136s 103ms/step - loss: 0.0869 - accuracy: 0.9767 - val_loss: 0.0922 - val_accuracy: 0.9748\n",
      "Epoch 12/20\n",
      "1313/1313 [==============================] - 148s 113ms/step - loss: 0.0828 - accuracy: 0.9777 - val_loss: 0.0890 - val_accuracy: 0.9761\n",
      "Epoch 13/20\n",
      "1313/1313 [==============================] - 148s 113ms/step - loss: 0.0793 - accuracy: 0.9787 - val_loss: 0.0864 - val_accuracy: 0.9768\n",
      "Epoch 14/20\n",
      "1313/1313 [==============================] - 139s 106ms/step - loss: 0.0762 - accuracy: 0.9794 - val_loss: 0.0841 - val_accuracy: 0.9777\n",
      "Epoch 15/20\n",
      "1313/1313 [==============================] - 136s 103ms/step - loss: 0.0733 - accuracy: 0.9803 - val_loss: 0.0820 - val_accuracy: 0.9781\n",
      "Epoch 16/20\n",
      "1313/1313 [==============================] - 136s 104ms/step - loss: 0.0707 - accuracy: 0.9807 - val_loss: 0.0801 - val_accuracy: 0.9783\n",
      "Epoch 17/20\n",
      "1313/1313 [==============================] - 135s 103ms/step - loss: 0.0683 - accuracy: 0.9815 - val_loss: 0.0783 - val_accuracy: 0.9785\n",
      "Epoch 18/20\n",
      "1313/1313 [==============================] - 133s 101ms/step - loss: 0.0661 - accuracy: 0.9822 - val_loss: 0.0766 - val_accuracy: 0.9790\n",
      "Epoch 19/20\n",
      "1313/1313 [==============================] - 134s 102ms/step - loss: 0.0641 - accuracy: 0.9828 - val_loss: 0.0753 - val_accuracy: 0.9794\n",
      "Epoch 20/20\n",
      "1313/1313 [==============================] - 133s 101ms/step - loss: 0.0622 - accuracy: 0.9833 - val_loss: 0.0740 - val_accuracy: 0.97972 - accuracy: 0.\n",
      "Epoch 1/20\n",
      "1313/1313 [==============================] - 137s 104ms/step - loss: 0.0653 - accuracy: 0.9825 - val_loss: 0.0630 - val_accuracy: 0.9825\n",
      "Epoch 2/20\n",
      "1313/1313 [==============================] - 146s 111ms/step - loss: 0.0627 - accuracy: 0.9834 - val_loss: 0.0626 - val_accuracy: 0.9821\n",
      "Epoch 3/20\n",
      "1313/1313 [==============================] - 144s 109ms/step - loss: 0.0607 - accuracy: 0.9841 - val_loss: 0.0622 - val_accuracy: 0.9825\n",
      "Epoch 4/20\n",
      "1313/1313 [==============================] - 138s 105ms/step - loss: 0.0588 - accuracy: 0.9848 - val_loss: 0.0617 - val_accuracy: 0.9822\n",
      "Epoch 5/20\n",
      "1313/1313 [==============================] - 136s 103ms/step - loss: 0.0571 - accuracy: 0.9852 - val_loss: 0.0611 - val_accuracy: 0.9827\n",
      "Epoch 6/20\n",
      "1313/1313 [==============================] - 136s 104ms/step - loss: 0.0555 - accuracy: 0.9859 - val_loss: 0.0606 - val_accuracy: 0.9827\n",
      "Epoch 7/20\n",
      "1313/1313 [==============================] - 137s 104ms/step - loss: 0.0540 - accuracy: 0.9863 - val_loss: 0.0601 - val_accuracy: 0.9829\n",
      "Epoch 8/20\n",
      "1313/1313 [==============================] - 136s 104ms/step - loss: 0.0527 - accuracy: 0.9869 - val_loss: 0.0596 - val_accuracy: 0.9828\n",
      "Epoch 9/20\n",
      "1313/1313 [==============================] - 134s 102ms/step - loss: 0.0513 - accuracy: 0.9871 - val_loss: 0.0591 - val_accuracy: 0.9825\n",
      "Epoch 10/20\n",
      "1313/1313 [==============================] - 134s 102ms/step - loss: 0.0501 - accuracy: 0.9877 - val_loss: 0.0586 - val_accuracy: 0.9827\n",
      "Epoch 11/20\n",
      "1313/1313 [==============================] - 130s 99ms/step - loss: 0.0489 - accuracy: 0.9878 - val_loss: 0.0582 - val_accuracy: 0.9827\n",
      "Epoch 12/20\n",
      "1313/1313 [==============================] - 129s 99ms/step - loss: 0.0478 - accuracy: 0.9882 - val_loss: 0.0578 - val_accuracy: 0.9829\n",
      "Epoch 13/20\n",
      "1313/1313 [==============================] - 132s 101ms/step - loss: 0.0468 - accuracy: 0.9885 - val_loss: 0.0572 - val_accuracy: 0.9831\n",
      "Epoch 14/20\n",
      "1313/1313 [==============================] - 123s 94ms/step - loss: 0.0458 - accuracy: 0.9887 - val_loss: 0.0569 - val_accuracy: 0.9834\n",
      "Epoch 15/20\n",
      "1313/1313 [==============================] - 135s 103ms/step - loss: 0.0448 - accuracy: 0.9891 - val_loss: 0.0565 - val_accuracy: 0.9833\n",
      "Epoch 16/20\n",
      "1313/1313 [==============================] - 130s 99ms/step - loss: 0.0439 - accuracy: 0.9894 - val_loss: 0.0562 - val_accuracy: 0.9838\n",
      "Epoch 17/20\n",
      "1313/1313 [==============================] - 131s 99ms/step - loss: 0.0433 - accuracy: 0.9895 - val_loss: 0.0557 - val_accuracy: 0.9835\n",
      "Epoch 18/20\n",
      "1313/1313 [==============================] - 133s 101ms/step - loss: 0.0423 - accuracy: 0.9897 - val_loss: 0.0553 - val_accuracy: 0.9837\n",
      "Epoch 19/20\n",
      "1313/1313 [==============================] - 129s 98ms/step - loss: 0.0415 - accuracy: 0.9899 - val_loss: 0.0552 - val_accuracy: 0.9836\n",
      "Epoch 20/20\n",
      "1313/1313 [==============================] - 133s 102ms/step - loss: 0.0408 - accuracy: 0.9902 - val_loss: 0.0549 - val_accuracy: 0.9836\n",
      "Epoch 1/20\n",
      "1313/1313 [==============================] - 124s 94ms/step - loss: 0.0491 - accuracy: 0.9862 - val_loss: 0.0371 - val_accuracy: 0.9917\n",
      "Epoch 2/20\n",
      "1313/1313 [==============================] - 116s 88ms/step - loss: 0.0472 - accuracy: 0.9870 - val_loss: 0.0376 - val_accuracy: 0.9913\n",
      "Epoch 3/20\n",
      "1313/1313 [==============================] - 115s 87ms/step - loss: 0.0458 - accuracy: 0.9873 - val_loss: 0.0379 - val_accuracy: 0.9910\n",
      "Epoch 4/20\n",
      "1313/1313 [==============================] - 114s 87ms/step - loss: 0.0447 - accuracy: 0.9875 - val_loss: 0.0380 - val_accuracy: 0.9908\n",
      "Epoch 5/20\n",
      "1313/1313 [==============================] - 114s 87ms/step - loss: 0.0435 - accuracy: 0.9881 - val_loss: 0.0381 - val_accuracy: 0.9902\n",
      "Epoch 6/20\n",
      "1313/1313 [==============================] - 114s 87ms/step - loss: 0.0426 - accuracy: 0.9886 - val_loss: 0.0382 - val_accuracy: 0.9901\n",
      "Epoch 7/20\n",
      "1313/1313 [==============================] - 113s 86ms/step - loss: 0.0416 - accuracy: 0.9891 - val_loss: 0.0383 - val_accuracy: 0.9899\n",
      "Epoch 8/20\n",
      "1313/1313 [==============================] - 113s 86ms/step - loss: 0.0408 - accuracy: 0.9893 - val_loss: 0.0384 - val_accuracy: 0.9898\n",
      "Epoch 9/20\n",
      "1313/1313 [==============================] - 114s 87ms/step - loss: 0.0400 - accuracy: 0.9897 - val_loss: 0.0384 - val_accuracy: 0.9897\n",
      "Epoch 10/20\n",
      "1313/1313 [==============================] - 114s 87ms/step - loss: 0.0393 - accuracy: 0.9899 - val_loss: 0.0384 - val_accuracy: 0.9898\n",
      "Epoch 11/20\n",
      "1313/1313 [==============================] - 114s 87ms/step - loss: 0.0385 - accuracy: 0.9902 - val_loss: 0.0385 - val_accuracy: 0.9899\n",
      "Epoch 12/20\n",
      "1313/1313 [==============================] - 113s 86ms/step - loss: 0.0378 - accuracy: 0.9906 - val_loss: 0.0384 - val_accuracy: 0.9898\n",
      "Epoch 13/20\n",
      "1313/1313 [==============================] - 113s 86ms/step - loss: 0.0371 - accuracy: 0.9909 - val_loss: 0.0385 - val_accuracy: 0.9897\n",
      "Epoch 14/20\n",
      "1313/1313 [==============================] - 114s 87ms/step - loss: 0.0364 - accuracy: 0.9910 - val_loss: 0.0384 - val_accuracy: 0.9897\n",
      "Epoch 15/20\n",
      "1313/1313 [==============================] - 115s 88ms/step - loss: 0.0358 - accuracy: 0.9913 - val_loss: 0.0384 - val_accuracy: 0.9896\n",
      "Epoch 16/20\n",
      "1313/1313 [==============================] - 116s 88ms/step - loss: 0.0352 - accuracy: 0.9915 - val_loss: 0.0383 - val_accuracy: 0.9894\n",
      "Epoch 17/20\n",
      "1313/1313 [==============================] - 115s 88ms/step - loss: 0.0346 - accuracy: 0.9918 - val_loss: 0.0383 - val_accuracy: 0.9892\n",
      "Epoch 18/20\n",
      "1313/1313 [==============================] - 113s 86ms/step - loss: 0.0340 - accuracy: 0.9920 - val_loss: 0.0382 - val_accuracy: 0.9894\n",
      "Epoch 19/20\n",
      "1313/1313 [==============================] - 116s 88ms/step - loss: 0.0334 - accuracy: 0.9920 - val_loss: 0.0382 - val_accuracy: 0.9893\n",
      "Epoch 20/20\n",
      "1313/1313 [==============================] - 113s 86ms/step - loss: 0.0329 - accuracy: 0.9923 - val_loss: 0.0381 - val_accuracy: 0.9891\n",
      "Epoch 1/20\n",
      "1313/1313 [==============================] - 114s 87ms/step - loss: 0.2355 - accuracy: 0.9332 - val_loss: 0.1140 - val_accuracy: 0.9690\n",
      "Epoch 2/20\n",
      "1313/1313 [==============================] - 114s 87ms/step - loss: 0.0933 - accuracy: 0.9740 - val_loss: 0.0814 - val_accuracy: 0.9763\n",
      "Epoch 3/20\n",
      "1313/1313 [==============================] - 114s 87ms/step - loss: 0.0688 - accuracy: 0.9805 - val_loss: 0.0688 - val_accuracy: 0.9808\n",
      "Epoch 4/20\n",
      "1313/1313 [==============================] - 114s 87ms/step - loss: 0.0553 - accuracy: 0.9852 - val_loss: 0.0626 - val_accuracy: 0.9819\n",
      "Epoch 5/20\n",
      "1313/1313 [==============================] - 114s 87ms/step - loss: 0.0470 - accuracy: 0.9870 - val_loss: 0.0581 - val_accuracy: 0.9832\n",
      "Epoch 6/20\n",
      "1313/1313 [==============================] - 114s 87ms/step - loss: 0.0404 - accuracy: 0.9892 - val_loss: 0.0551 - val_accuracy: 0.9844\n",
      "Epoch 7/20\n",
      "1313/1313 [==============================] - 114s 87ms/step - loss: 0.0356 - accuracy: 0.9910 - val_loss: 0.0505 - val_accuracy: 0.9854\n",
      "Epoch 8/20\n",
      "1313/1313 [==============================] - 113s 86ms/step - loss: 0.0320 - accuracy: 0.9920 - val_loss: 0.0485 - val_accuracy: 0.9859\n",
      "Epoch 9/20\n",
      "1313/1313 [==============================] - 113s 86ms/step - loss: 0.0282 - accuracy: 0.9936 - val_loss: 0.0465 - val_accuracy: 0.9866\n",
      "Epoch 10/20\n",
      "1313/1313 [==============================] - 113s 86ms/step - loss: 0.0251 - accuracy: 0.9942 - val_loss: 0.0459 - val_accuracy: 0.9866\n",
      "Epoch 11/20\n",
      "1313/1313 [==============================] - 112s 86ms/step - loss: 0.0227 - accuracy: 0.9952 - val_loss: 0.0449 - val_accuracy: 0.9869\n",
      "Epoch 12/20\n",
      "1313/1313 [==============================] - 113s 86ms/step - loss: 0.0205 - accuracy: 0.9960 - val_loss: 0.0434 - val_accuracy: 0.9871\n",
      "Epoch 13/20\n",
      "1313/1313 [==============================] - 113s 86ms/step - loss: 0.0183 - accuracy: 0.9966 - val_loss: 0.0422 - val_accuracy: 0.9873\n",
      "Epoch 14/20\n",
      "1313/1313 [==============================] - 113s 86ms/step - loss: 0.0166 - accuracy: 0.9970 - val_loss: 0.0426 - val_accuracy: 0.9876\n",
      "Epoch 15/20\n",
      "1313/1313 [==============================] - 113s 86ms/step - loss: 0.0153 - accuracy: 0.9974 - val_loss: 0.0422 - val_accuracy: 0.9875\n",
      "Epoch 16/20\n",
      "1313/1313 [==============================] - 112s 86ms/step - loss: 0.0137 - accuracy: 0.9980 - val_loss: 0.0415 - val_accuracy: 0.9876\n",
      "Epoch 17/20\n",
      "1313/1313 [==============================] - 112s 86ms/step - loss: 0.0126 - accuracy: 0.9984 - val_loss: 0.0415 - val_accuracy: 0.9874\n",
      "Epoch 18/20\n",
      "1313/1313 [==============================] - 114s 87ms/step - loss: 0.0114 - accuracy: 0.9985 - val_loss: 0.0402 - val_accuracy: 0.9879\n",
      "Epoch 19/20\n",
      "1313/1313 [==============================] - 112s 86ms/step - loss: 0.0107 - accuracy: 0.9986 - val_loss: 0.0400 - val_accuracy: 0.9884\n",
      "Epoch 20/20\n",
      "1313/1313 [==============================] - 112s 85ms/step - loss: 0.0098 - accuracy: 0.9989 - val_loss: 0.0403 - val_accuracy: 0.9876\n",
      "Epoch 1/20\n",
      "1313/1313 [==============================] - 113s 86ms/step - loss: 0.0305 - accuracy: 0.9917 - val_loss: 0.0133 - val_accuracy: 0.9973\n",
      "Epoch 2/20\n",
      "1313/1313 [==============================] - 113s 86ms/step - loss: 0.0232 - accuracy: 0.9938 - val_loss: 0.0146 - val_accuracy: 0.9972\n",
      "Epoch 3/20\n",
      "1313/1313 [==============================] - 113s 86ms/step - loss: 0.0182 - accuracy: 0.9960 - val_loss: 0.0148 - val_accuracy: 0.9968\n",
      "Epoch 4/20\n",
      "1313/1313 [==============================] - 112s 85ms/step - loss: 0.0148 - accuracy: 0.9971 - val_loss: 0.0147 - val_accuracy: 0.9966\n",
      "Epoch 5/20\n",
      "1313/1313 [==============================] - 113s 86ms/step - loss: 0.0126 - accuracy: 0.9979 - val_loss: 0.0157 - val_accuracy: 0.9962\n",
      "Epoch 6/20\n",
      "1313/1313 [==============================] - 116s 88ms/step - loss: 0.0112 - accuracy: 0.9984 - val_loss: 0.0164 - val_accuracy: 0.9958\n",
      "Epoch 7/20\n",
      "1313/1313 [==============================] - 112s 86ms/step - loss: 0.0100 - accuracy: 0.9986 - val_loss: 0.0164 - val_accuracy: 0.9959\n",
      "Epoch 8/20\n",
      "1313/1313 [==============================] - 112s 85ms/step - loss: 0.0089 - accuracy: 0.9989 - val_loss: 0.0166 - val_accuracy: 0.9956\n",
      "Epoch 9/20\n",
      "1313/1313 [==============================] - 112s 86ms/step - loss: 0.0081 - accuracy: 0.9990 - val_loss: 0.0170 - val_accuracy: 0.9952\n",
      "Epoch 10/20\n",
      "1313/1313 [==============================] - 116s 89ms/step - loss: 0.0075 - accuracy: 0.9992 - val_loss: 0.0166 - val_accuracy: 0.9953\n",
      "Epoch 11/20\n",
      "1313/1313 [==============================] - 114s 87ms/step - loss: 0.0068 - accuracy: 0.9994 - val_loss: 0.0170 - val_accuracy: 0.9950\n",
      "Epoch 12/20\n",
      "1313/1313 [==============================] - 115s 88ms/step - loss: 0.0064 - accuracy: 0.9995 - val_loss: 0.0172 - val_accuracy: 0.9950\n",
      "Epoch 13/20\n",
      "1313/1313 [==============================] - 114s 87ms/step - loss: 0.0058 - accuracy: 0.9996 - val_loss: 0.0173 - val_accuracy: 0.9947\n",
      "Epoch 14/20\n",
      "1313/1313 [==============================] - 115s 87ms/step - loss: 0.0054 - accuracy: 0.9996 - val_loss: 0.0174 - val_accuracy: 0.9947\n",
      "Epoch 15/20\n",
      "1313/1313 [==============================] - 116s 88ms/step - loss: 0.0052 - accuracy: 0.9996 - val_loss: 0.0175 - val_accuracy: 0.9948\n",
      "Epoch 16/20\n",
      "1313/1313 [==============================] - 114s 87ms/step - loss: 0.0049 - accuracy: 0.9997 - val_loss: 0.0177 - val_accuracy: 0.9946\n",
      "Epoch 17/20\n",
      "1313/1313 [==============================] - 120s 91ms/step - loss: 0.0046 - accuracy: 0.9997 - val_loss: 0.0178 - val_accuracy: 0.9946\n",
      "Epoch 18/20\n",
      "1313/1313 [==============================] - 115s 87ms/step - loss: 0.0043 - accuracy: 0.9998 - val_loss: 0.0178 - val_accuracy: 0.9945\n",
      "Epoch 19/20\n",
      "1313/1313 [==============================] - 114s 87ms/step - loss: 0.0041 - accuracy: 0.9997 - val_loss: 0.0179 - val_accuracy: 0.9945\n",
      "Epoch 20/20\n",
      "1313/1313 [==============================] - 115s 88ms/step - loss: 0.0039 - accuracy: 0.9997 - val_loss: 0.0180 - val_accuracy: 0.9944\n",
      "Epoch 1/20\n",
      "1313/1313 [==============================] - 115s 87ms/step - loss: 0.0132 - accuracy: 0.9962 - val_loss: 0.0073 - val_accuracy: 0.9988\n",
      "Epoch 2/20\n",
      "1313/1313 [==============================] - 120s 91ms/step - loss: 0.0101 - accuracy: 0.9979 - val_loss: 0.0077 - val_accuracy: 0.9984\n",
      "Epoch 3/20\n",
      "1313/1313 [==============================] - 114s 87ms/step - loss: 0.0080 - accuracy: 0.9987 - val_loss: 0.0066 - val_accuracy: 0.9988\n",
      "Epoch 4/20\n",
      "1313/1313 [==============================] - 114s 87ms/step - loss: 0.0068 - accuracy: 0.9991 - val_loss: 0.0066 - val_accuracy: 0.9990\n",
      "Epoch 5/20\n",
      "1313/1313 [==============================] - 113s 86ms/step - loss: 0.0058 - accuracy: 0.9994 - val_loss: 0.0065 - val_accuracy: 0.9989\n",
      "Epoch 6/20\n",
      "1313/1313 [==============================] - 114s 87ms/step - loss: 0.0053 - accuracy: 0.9996 - val_loss: 0.0066 - val_accuracy: 0.9987\n",
      "Epoch 7/20\n",
      "1313/1313 [==============================] - 113s 86ms/step - loss: 0.0048 - accuracy: 0.9997 - val_loss: 0.0064 - val_accuracy: 0.9988\n",
      "Epoch 8/20\n",
      "1313/1313 [==============================] - 114s 87ms/step - loss: 0.0044 - accuracy: 0.9997 - val_loss: 0.0064 - val_accuracy: 0.9986\n",
      "Epoch 9/20\n",
      "1313/1313 [==============================] - 114s 87ms/step - loss: 0.0041 - accuracy: 0.9998 - val_loss: 0.0064 - val_accuracy: 0.9987\n",
      "Epoch 10/20\n",
      "1313/1313 [==============================] - 114s 87ms/step - loss: 0.0039 - accuracy: 0.9998 - val_loss: 0.0066 - val_accuracy: 0.9986\n",
      "Epoch 11/20\n",
      "1313/1313 [==============================] - 113s 86ms/step - loss: 0.0037 - accuracy: 0.9998 - val_loss: 0.0065 - val_accuracy: 0.9987\n",
      "Epoch 12/20\n",
      "1313/1313 [==============================] - 114s 87ms/step - loss: 0.0035 - accuracy: 0.9998 - val_loss: 0.0066 - val_accuracy: 0.9986\n",
      "Epoch 13/20\n",
      "1313/1313 [==============================] - 113s 86ms/step - loss: 0.0033 - accuracy: 0.9999 - val_loss: 0.0066 - val_accuracy: 0.9986\n",
      "Epoch 14/20\n",
      "1313/1313 [==============================] - 114s 87ms/step - loss: 0.0032 - accuracy: 0.9999 - val_loss: 0.0067 - val_accuracy: 0.9986\n",
      "Epoch 15/20\n",
      "1313/1313 [==============================] - 114s 87ms/step - loss: 0.0030 - accuracy: 0.9999 - val_loss: 0.0068 - val_accuracy: 0.9985\n",
      "Epoch 16/20\n",
      "1313/1313 [==============================] - 114s 87ms/step - loss: 0.0029 - accuracy: 0.9999 - val_loss: 0.0068 - val_accuracy: 0.9985\n",
      "Epoch 17/20\n",
      "1313/1313 [==============================] - 114s 86ms/step - loss: 0.0028 - accuracy: 0.9999 - val_loss: 0.0069 - val_accuracy: 0.9986\n",
      "Epoch 18/20\n",
      "1313/1313 [==============================] - 116s 89ms/step - loss: 0.0027 - accuracy: 0.9999 - val_loss: 0.0069 - val_accuracy: 0.9986\n",
      "Epoch 19/20\n",
      "1313/1313 [==============================] - 113s 86ms/step - loss: 0.0026 - accuracy: 0.9999 - val_loss: 0.0070 - val_accuracy: 0.9985\n",
      "Epoch 20/20\n",
      "1313/1313 [==============================] - 112s 86ms/step - loss: 0.0025 - accuracy: 0.9999 - val_loss: 0.0071 - val_accuracy: 0.9984\n",
      "Epoch 1/20\n",
      "1313/1313 [==============================] - 113s 86ms/step - loss: 0.1999 - accuracy: 0.9409 - val_loss: 0.1005 - val_accuracy: 0.9694\n",
      "Epoch 2/20\n",
      "1313/1313 [==============================] - 113s 86ms/step - loss: 0.0934 - accuracy: 0.9724 - val_loss: 0.0951 - val_accuracy: 0.9708\n",
      "Epoch 3/20\n",
      "1313/1313 [==============================] - 113s 86ms/step - loss: 0.0700 - accuracy: 0.9784 - val_loss: 0.0632 - val_accuracy: 0.9810\n",
      "Epoch 4/20\n",
      "1313/1313 [==============================] - 114s 87ms/step - loss: 0.0589 - accuracy: 0.9813 - val_loss: 0.0626 - val_accuracy: 0.9808\n",
      "Epoch 5/20\n",
      "1313/1313 [==============================] - 112s 85ms/step - loss: 0.0495 - accuracy: 0.9846 - val_loss: 0.0633 - val_accuracy: 0.9811\n",
      "Epoch 6/20\n",
      "1313/1313 [==============================] - 113s 86ms/step - loss: 0.0539 - accuracy: 0.9831 - val_loss: 0.0698 - val_accuracy: 0.9771\n",
      "Epoch 7/20\n",
      "1313/1313 [==============================] - 113s 86ms/step - loss: 0.0460 - accuracy: 0.9853 - val_loss: 0.0559 - val_accuracy: 0.9828\n",
      "Epoch 8/20\n",
      "1313/1313 [==============================] - 114s 87ms/step - loss: 0.0394 - accuracy: 0.9869 - val_loss: 0.0574 - val_accuracy: 0.9834\n",
      "Epoch 9/20\n",
      "1313/1313 [==============================] - 113s 86ms/step - loss: 0.0356 - accuracy: 0.9885 - val_loss: 0.0532 - val_accuracy: 0.9842\n",
      "Epoch 10/20\n",
      "1313/1313 [==============================] - 114s 87ms/step - loss: 0.0360 - accuracy: 0.9883 - val_loss: 0.0653 - val_accuracy: 0.9798\n",
      "Epoch 11/20\n",
      "1313/1313 [==============================] - 115s 88ms/step - loss: 0.0353 - accuracy: 0.9881 - val_loss: 0.0633 - val_accuracy: 0.9811\n",
      "Epoch 12/20\n",
      "1313/1313 [==============================] - 112s 85ms/step - loss: 0.0351 - accuracy: 0.9884 - val_loss: 0.0690 - val_accuracy: 0.9784\n",
      "Epoch 13/20\n",
      "1313/1313 [==============================] - 112s 85ms/step - loss: 0.0344 - accuracy: 0.9887 - val_loss: 0.0630 - val_accuracy: 0.9809\n",
      "Epoch 14/20\n",
      "1313/1313 [==============================] - 113s 86ms/step - loss: 0.0338 - accuracy: 0.9890 - val_loss: 0.0665 - val_accuracy: 0.9796\n",
      "Epoch 15/20\n",
      "1313/1313 [==============================] - 113s 86ms/step - loss: 0.0434 - accuracy: 0.9857 - val_loss: 0.0688 - val_accuracy: 0.9803\n",
      "Epoch 16/20\n",
      "1313/1313 [==============================] - 113s 86ms/step - loss: 0.0370 - accuracy: 0.9884 - val_loss: 0.0566 - val_accuracy: 0.9832\n",
      "Epoch 17/20\n",
      "1313/1313 [==============================] - 112s 85ms/step - loss: 0.0366 - accuracy: 0.9879 - val_loss: 0.0700 - val_accuracy: 0.9798\n",
      "Epoch 18/20\n",
      "1313/1313 [==============================] - 112s 85ms/step - loss: 0.0357 - accuracy: 0.9879 - val_loss: 0.0629 - val_accuracy: 0.9817\n",
      "Epoch 19/20\n",
      "1313/1313 [==============================] - 112s 85ms/step - loss: 0.0378 - accuracy: 0.9878 - val_loss: 0.0732 - val_accuracy: 0.9774\n",
      "Epoch 20/20\n",
      "1313/1313 [==============================] - 111s 85ms/step - loss: 0.0323 - accuracy: 0.9891 - val_loss: 0.0684 - val_accuracy: 0.9798\n",
      "Epoch 1/20\n",
      "1313/1313 [==============================] - 113s 86ms/step - loss: 0.0568 - accuracy: 0.9825 - val_loss: 0.0401 - val_accuracy: 0.9867\n",
      "Epoch 2/20\n",
      "1313/1313 [==============================] - 113s 86ms/step - loss: 0.0629 - accuracy: 0.9803 - val_loss: 0.0592 - val_accuracy: 0.9821\n",
      "Epoch 3/20\n",
      "1313/1313 [==============================] - 113s 86ms/step - loss: 0.0553 - accuracy: 0.9824 - val_loss: 0.0516 - val_accuracy: 0.9829\n",
      "Epoch 4/20\n",
      "1313/1313 [==============================] - 113s 86ms/step - loss: 0.0588 - accuracy: 0.9812 - val_loss: 0.0570 - val_accuracy: 0.9812\n",
      "Epoch 5/20\n",
      "1313/1313 [==============================] - 112s 85ms/step - loss: 0.0572 - accuracy: 0.9814 - val_loss: 0.0602 - val_accuracy: 0.9811\n",
      "Epoch 6/20\n",
      "1313/1313 [==============================] - 111s 85ms/step - loss: 0.0582 - accuracy: 0.9810 - val_loss: 0.0606 - val_accuracy: 0.9809\n",
      "Epoch 7/20\n",
      "1313/1313 [==============================] - 112s 85ms/step - loss: 0.0574 - accuracy: 0.9808 - val_loss: 0.0610 - val_accuracy: 0.9805\n",
      "Epoch 8/20\n",
      "1313/1313 [==============================] - 112s 85ms/step - loss: 0.0500 - accuracy: 0.9840 - val_loss: 0.0522 - val_accuracy: 0.9841\n",
      "Epoch 9/20\n",
      "1313/1313 [==============================] - 112s 86ms/step - loss: 0.0493 - accuracy: 0.9842 - val_loss: 0.0537 - val_accuracy: 0.9820\n",
      "Epoch 10/20\n",
      "1313/1313 [==============================] - 113s 86ms/step - loss: 0.0497 - accuracy: 0.9841 - val_loss: 0.0555 - val_accuracy: 0.9829\n",
      "Epoch 11/20\n",
      "1313/1313 [==============================] - 113s 86ms/step - loss: 0.0486 - accuracy: 0.9845 - val_loss: 0.0796 - val_accuracy: 0.9753\n",
      "Epoch 12/20\n",
      "1313/1313 [==============================] - 112s 85ms/step - loss: 0.0507 - accuracy: 0.9838 - val_loss: 0.0657 - val_accuracy: 0.9794\n",
      "Epoch 13/20\n",
      "1313/1313 [==============================] - 111s 85ms/step - loss: 0.0469 - accuracy: 0.9854 - val_loss: 0.0593 - val_accuracy: 0.9818\n",
      "Epoch 14/20\n",
      "1313/1313 [==============================] - 111s 85ms/step - loss: 0.0495 - accuracy: 0.9836 - val_loss: 0.0718 - val_accuracy: 0.9776\n",
      "Epoch 15/20\n",
      "1313/1313 [==============================] - 111s 84ms/step - loss: 0.0524 - accuracy: 0.9826 - val_loss: 0.0584 - val_accuracy: 0.9819\n",
      "Epoch 16/20\n",
      "1313/1313 [==============================] - 113s 86ms/step - loss: 0.0459 - accuracy: 0.9847 - val_loss: 0.0623 - val_accuracy: 0.9809\n",
      "Epoch 17/20\n",
      "1313/1313 [==============================] - 112s 85ms/step - loss: 0.0500 - accuracy: 0.9831 - val_loss: 0.0594 - val_accuracy: 0.9806\n",
      "Epoch 18/20\n",
      "1313/1313 [==============================] - 111s 85ms/step - loss: 0.0500 - accuracy: 0.9839 - val_loss: 0.0689 - val_accuracy: 0.9791\n",
      "Epoch 19/20\n",
      "1313/1313 [==============================] - 112s 85ms/step - loss: 0.0492 - accuracy: 0.9838 - val_loss: 0.0763 - val_accuracy: 0.9772\n",
      "Epoch 20/20\n",
      "1313/1313 [==============================] - 111s 85ms/step - loss: 0.0479 - accuracy: 0.9837 - val_loss: 0.0595 - val_accuracy: 0.9817\n",
      "Epoch 1/20\n",
      "1313/1313 [==============================] - 112s 85ms/step - loss: 0.0714 - accuracy: 0.9774 - val_loss: 0.0887 - val_accuracy: 0.9709\n",
      "Epoch 2/20\n",
      "1313/1313 [==============================] - 111s 84ms/step - loss: 0.0825 - accuracy: 0.9738 - val_loss: 0.0568 - val_accuracy: 0.9802\n",
      "Epoch 3/20\n",
      "1313/1313 [==============================] - 111s 84ms/step - loss: 0.0795 - accuracy: 0.9763 - val_loss: 0.0844 - val_accuracy: 0.9729\n",
      "Epoch 4/20\n",
      "1313/1313 [==============================] - 111s 85ms/step - loss: 0.0738 - accuracy: 0.9760 - val_loss: 0.0695 - val_accuracy: 0.9776\n",
      "Epoch 5/20\n",
      "1313/1313 [==============================] - 112s 85ms/step - loss: 0.0700 - accuracy: 0.9777 - val_loss: 0.0761 - val_accuracy: 0.9753\n",
      "Epoch 6/20\n",
      "1313/1313 [==============================] - 113s 86ms/step - loss: 0.0615 - accuracy: 0.9801 - val_loss: 0.0517 - val_accuracy: 0.9832\n",
      "Epoch 7/20\n",
      "1313/1313 [==============================] - 114s 87ms/step - loss: 0.0628 - accuracy: 0.9802 - val_loss: 0.0536 - val_accuracy: 0.9828\n",
      "Epoch 8/20\n",
      "1313/1313 [==============================] - 112s 85ms/step - loss: 0.0603 - accuracy: 0.9808 - val_loss: 0.0496 - val_accuracy: 0.9843\n",
      "Epoch 9/20\n",
      "1313/1313 [==============================] - 112s 85ms/step - loss: 0.0578 - accuracy: 0.9819 - val_loss: 0.0536 - val_accuracy: 0.9830\n",
      "Epoch 10/20\n",
      "1313/1313 [==============================] - 111s 84ms/step - loss: 0.0638 - accuracy: 0.9797 - val_loss: 0.0557 - val_accuracy: 0.9817\n",
      "Epoch 11/20\n",
      "1313/1313 [==============================] - 109s 83ms/step - loss: 0.0705 - accuracy: 0.9782 - val_loss: 0.0659 - val_accuracy: 0.9780\n",
      "Epoch 12/20\n",
      "1313/1313 [==============================] - 111s 84ms/step - loss: 0.0677 - accuracy: 0.9789 - val_loss: 0.0656 - val_accuracy: 0.9786\n",
      "Epoch 13/20\n",
      "1313/1313 [==============================] - 109s 83ms/step - loss: 0.0624 - accuracy: 0.9802 - val_loss: 0.0483 - val_accuracy: 0.9847\n",
      "Epoch 14/20\n",
      "1313/1313 [==============================] - 111s 84ms/step - loss: 0.0578 - accuracy: 0.9818 - val_loss: 0.1017 - val_accuracy: 0.9680\n",
      "Epoch 15/20\n",
      "1313/1313 [==============================] - 112s 85ms/step - loss: 0.0624 - accuracy: 0.9804 - val_loss: 0.0569 - val_accuracy: 0.9818\n",
      "Epoch 16/20\n",
      "1313/1313 [==============================] - 110s 84ms/step - loss: 0.0601 - accuracy: 0.9800 - val_loss: 0.0586 - val_accuracy: 0.9818\n",
      "Epoch 17/20\n",
      "1313/1313 [==============================] - 110s 84ms/step - loss: 0.0661 - accuracy: 0.9785 - val_loss: 0.0498 - val_accuracy: 0.9833\n",
      "Epoch 18/20\n",
      "1313/1313 [==============================] - 110s 84ms/step - loss: 0.0565 - accuracy: 0.9815 - val_loss: 0.0571 - val_accuracy: 0.9819\n",
      "Epoch 19/20\n",
      "1313/1313 [==============================] - 110s 84ms/step - loss: 0.0585 - accuracy: 0.9809 - val_loss: 0.0606 - val_accuracy: 0.9803\n",
      "Epoch 20/20\n",
      "1313/1313 [==============================] - 110s 84ms/step - loss: 0.0627 - accuracy: 0.9800 - val_loss: 0.0660 - val_accuracy: 0.9784\n"
     ]
    }
   ],
   "source": [
    "epochs = 20\n",
    "batch_size = 32\n",
    "learning_rates = [0.001, 0.01, 0.1]\n",
    "accuracies_dict = {}\n",
    "\n",
    "kfold = KFold(n_splits=3)\n",
    "acc_dict = {}\n",
    "train_acc_per_fold = []\n",
    "val_acc_per_fold = []\n",
    "for l_rate in learning_rates:\n",
    "    leNet_model = leNet_5_setup(activation_function = 'tanh', learning_rate = l_rate)\n",
    "    for train_indices, test_indices in kfold.split(X_train_val_4d, y_train_val_onehot):\n",
    "        X_train_set = X_train_val_4d[train_indices]\n",
    "        y_train_set = y_train_val_onehot[train_indices]\n",
    "        X_test_set = X_train_val_4d[test_indices]\n",
    "        y_test_set = y_train_val_onehot[test_indices]\n",
    "        leNet_history = leNet_model.fit(X_train_set, y_train_set, validation_data=(X_test_set, y_test_set), shuffle=False, batch_size = batch_size, epochs = epochs, verbose = 1) \n",
    "        train_acc_per_fold.append(leNet_history.history['accuracy'][-1])\n",
    "        val_acc_per_fold.append(leNet_history.history['val_accuracy'][-1])\n",
    "    accuracies_dict[\"L-rate \" + str(l_rate) +' train accuracy'] = np.mean(train_acc_per_fold)\n",
    "    accuracies_dict[\"L-rate \" + str(l_rate) + ' val accuracy'] = np.mean(val_acc_per_fold)"
   ]
  },
  {
   "cell_type": "code",
   "execution_count": 95,
   "metadata": {},
   "outputs": [
    {
     "data": {
      "image/png": "[encoded data removed]",
      "text/plain": [
       "<Figure size 1080x360 with 1 Axes>"
      ]
     },
     "metadata": {
      "needs_background": "light"
     },
     "output_type": "display_data"
    }
   ],
   "source": [
    "# Histogram\n",
    "names = list(accuracies_dict.keys())\n",
    "values = list(accuracies_dict.values())\n",
    "fig = plt.figure(figsize=(15,5))\n",
    "plt.ylim(bottom=0.97, top = 1)\n",
    "plt.bar(names, values)\n",
    "#plt.xticks(np.arange(0, 10))\n",
    "plt.ylabel('Accuracy')\n",
    "plt.xlabel('Label')\n",
    "plt.title(\"Train and val accuracy for learning rate\");"
   ]
  },
  {
   "cell_type": "code",
   "execution_count": 85,
   "metadata": {},
   "outputs": [
    {
     "data": {
      "image/png": "[encoded data removed]",
      "text/plain": [
       "<Figure size 1080x360 with 1 Axes>"
      ]
     },
     "metadata": {
      "needs_background": "light"
     },
     "output_type": "display_data"
    }
   ],
   "source": [
    "train_one = np.mean(train_acc_per_fold[:3])\n",
    "train_two = np.mean(train_acc_per_fold[3:6])\n",
    "train_three = np.mean(train_acc_per_fold[6:9])\n",
    "val_one = np.mean(val_acc_per_fold[:3])\n",
    "val_two = np.mean(val_acc_per_fold[3:6])\n",
    "val_three = np.mean(val_acc_per_fold[6:9])\n",
    "names = ['t1 0.001', 'v1', 't2 0.01', 'v2', 't3 0.1', 'v3']\n",
    "values = [train_one, val_one, train_two, val_two, train_three, val_three]\n",
    "fig = plt.figure(figsize=(15,5))\n",
    "plt.ylim(bottom=0.90, top = 1)\n",
    "plt.bar(names, values)\n",
    "#plt.xticks(np.arange(0, 10))\n",
    "plt.ylabel('Accuracy')\n",
    "plt.xlabel('Label')\n",
    "plt.title(\"Train and val accuracy for learning rate\");"
   ]
  },
  {
   "cell_type": "code",
   "execution_count": 88,
   "metadata": {},
   "outputs": [
    {
     "name": "stdout",
     "output_type": "stream",
     "text": [
      "[0.8735476136207581, 0.979285717010498, 0.9862381219863892, 0.9474523663520813, 0.9915000200271606, 0.9955000281333923, 0.9316666722297668, 0.9732857346534729, 0.9799761772155762]\n"
     ]
    },
    {
     "data": {
      "text/plain": [
       "{'loss': [0.06520476937294006,\n",
       "  0.07260619848966599,\n",
       "  0.06144088879227638,\n",
       "  0.06643263250589371,\n",
       "  0.06105950474739075,\n",
       "  0.05467630550265312,\n",
       "  0.056033045053482056,\n",
       "  0.05432874709367752,\n",
       "  0.0543149895966053,\n",
       "  0.05524847283959389,\n",
       "  0.05491894111037254,\n",
       "  0.058999430388212204,\n",
       "  0.06173287704586983,\n",
       "  0.05775759741663933,\n",
       "  0.05400490760803223,\n",
       "  0.05494597554206848,\n",
       "  0.05870978534221649,\n",
       "  0.053301628679037094,\n",
       "  0.05928324908018112,\n",
       "  0.05117126926779747],\n",
       " 'accuracy': [0.9799761772155762,\n",
       "  0.9764285683631897,\n",
       "  0.9806666374206543,\n",
       "  0.9785714149475098,\n",
       "  0.9806904792785645,\n",
       "  0.9828571677207947,\n",
       "  0.9815714359283447,\n",
       "  0.9826666712760925,\n",
       "  0.9827619194984436,\n",
       "  0.9821904897689819,\n",
       "  0.9826904535293579,\n",
       "  0.9806190729141235,\n",
       "  0.9801428318023682,\n",
       "  0.9814285635948181,\n",
       "  0.9825476408004761,\n",
       "  0.9821190237998962,\n",
       "  0.9807142615318298,\n",
       "  0.9825476408004761,\n",
       "  0.9807618856430054,\n",
       "  0.9833809733390808],\n",
       " 'val_loss': [0.05313872545957565,\n",
       "  0.056762583553791046,\n",
       "  0.05594392493367195,\n",
       "  0.05876850336790085,\n",
       "  0.056589651852846146,\n",
       "  0.052854057401418686,\n",
       "  0.04994974657893181,\n",
       "  0.05583614110946655,\n",
       "  0.05284601077437401,\n",
       "  0.060560982674360275,\n",
       "  0.055556222796440125,\n",
       "  0.06662136316299438,\n",
       "  0.06361173838376999,\n",
       "  0.057289354503154755,\n",
       "  0.06743666529655457,\n",
       "  0.05442928522825241,\n",
       "  0.07104000449180603,\n",
       "  0.0559379868209362,\n",
       "  0.0544263981282711,\n",
       "  0.05361563712358475],\n",
       " 'val_accuracy': [0.9828571677207947,\n",
       "  0.981333315372467,\n",
       "  0.9823809266090393,\n",
       "  0.9822381138801575,\n",
       "  0.9814285635948181,\n",
       "  0.9825237989425659,\n",
       "  0.9837619066238403,\n",
       "  0.9810476303100586,\n",
       "  0.9835714101791382,\n",
       "  0.9807618856430054,\n",
       "  0.9823809266090393,\n",
       "  0.979285717010498,\n",
       "  0.9793333411216736,\n",
       "  0.9820952415466309,\n",
       "  0.9783809781074524,\n",
       "  0.982952356338501,\n",
       "  0.977238118648529,\n",
       "  0.9828095436096191,\n",
       "  0.9823809266090393,\n",
       "  0.9831904768943787]}"
      ]
     },
     "execution_count": 88,
     "metadata": {},
     "output_type": "execute_result"
    }
   ],
   "source": [
    "print(train_acc_per_fold)\n",
    "leNet_history.history"
   ]
  },
  {
   "cell_type": "code",
   "execution_count": null,
   "metadata": {},
   "outputs": [],
   "source": []
  }
 ],
 "metadata": {
  "kernelspec": {
   "display_name": "Python 3",
   "language": "python",
   "name": "python3"
  },
  "language_info": {
   "codemirror_mode": {
    "name": "ipython",
    "version": 3
   },
   "file_extension": ".py",
   "mimetype": "text/x-python",
   "name": "python",
   "nbconvert_exporter": "python",
   "pygments_lexer": "ipython3",
   "version": "3.7.7"
  }
 },
 "nbformat": 4,
 "nbformat_minor": 4
}
