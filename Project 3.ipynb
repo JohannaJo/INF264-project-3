{
 "cells": [
  {
   "cell_type": "markdown",
   "metadata": {},
   "source": [
    "# Project 3 INF264\n",
    "\n",
    "Author: Johanna Jøsang (fak006)"
   ]
  },
  {
   "cell_type": "code",
   "execution_count": 58,
   "metadata": {},
   "outputs": [],
   "source": [
    "# Imports\n",
    "import numpy as np\n",
    "import collections\n",
    "from pprint import pprint\n",
    "import matplotlib.pyplot as plt\n",
    "import seaborn as sn\n",
    "import pandas as pd\n",
    "import random\n",
    "import timeit\n",
    "from pprint import pprint\n",
    "from sklearn.model_selection import train_test_split, KFold, cross_val_score\n",
    "from sklearn.tree import DecisionTreeClassifier\n",
    "from sklearn.ensemble import RandomForestClassifier\n",
    "from sklearn.metrics import confusion_matrix\n",
    "from sklearn.metrics import plot_confusion_matrix\n",
    "from sklearn.model_selection import RandomizedSearchCV\n",
    "from sklearn.model_selection import GridSearchCV\n",
    "from sklearn.neighbors import KNeighborsClassifier\n",
    "\n",
    "# LeNet-5 imports\n",
    "from keras.layers.convolutional import Conv2D\n",
    "from keras.layers.convolutional import AveragePooling2D\n",
    "from keras.layers.core import Activation\n",
    "from keras.layers.core import Flatten\n",
    "from keras.layers.core import Dense\n",
    "from keras.models import Sequential\n",
    "from keras.optimizers import SGD\n",
    "from keras.utils import np_utils"
   ]
  },
  {
   "cell_type": "code",
   "execution_count": 2,
   "metadata": {},
   "outputs": [],
   "source": [
    "# Set seed for project in order to replicate results\n",
    "seed = 123"
   ]
  },
  {
   "cell_type": "code",
   "execution_count": 3,
   "metadata": {},
   "outputs": [],
   "source": [
    "# Load data\n",
    "label_data = np.genfromtxt('handwritten_digits_labels.csv', delimiter=',')\n",
    "image_data = np.genfromtxt('handwritten_digits_images.csv', delimiter=',')\n",
    "image_data = image_data.reshape(image_data.shape[0], 28, 28) # reshaping data"
   ]
  },
  {
   "cell_type": "markdown",
   "metadata": {},
   "source": [
    "## Visualisation and preprocessing\n",
    "\n",
    "In order to get a better understanding of the data I have been given, I start by gathering information about it.\n",
    "First I would like to get a look at the shape of the data."
   ]
  },
  {
   "cell_type": "code",
   "execution_count": 4,
   "metadata": {},
   "outputs": [
    {
     "name": "stdout",
     "output_type": "stream",
     "text": [
      "Label data shape: (70000,)\n",
      "Image data shape: (70000, 28, 28)\n"
     ]
    }
   ],
   "source": [
    "print(\"Label data shape:\", label_data.shape)\n",
    "print(\"Image data shape:\", image_data.shape)"
   ]
  },
  {
   "cell_type": "markdown",
   "metadata": {},
   "source": [
    "As expected, the label dataset is a simple array with 70000 values, while the image dataset has 70000 2d arrays represetning the digit image.\n",
    "\n",
    "Just to visalize the data for myself I print out a random image and its corresponding label."
   ]
  },
  {
   "cell_type": "code",
   "execution_count": 5,
   "metadata": {},
   "outputs": [
    {
     "name": "stdout",
     "output_type": "stream",
     "text": [
      "At index 38831 there is a 5.0\n"
     ]
    },
    {
     "data": {
      "image/png": "[encoded data removed]",
      "text/plain": [
       "<Figure size 432x288 with 1 Axes>"
      ]
     },
     "metadata": {
      "needs_background": "light"
     },
     "output_type": "display_data"
    }
   ],
   "source": [
    "data_index = random.randint(0, label_data.size)\n",
    "img = image_data[data_index]\n",
    "plt.imshow(img, cmap=\"Greys\")\n",
    "print(\"At index\", data_index, \"there is a\", label_data[data_index])"
   ]
  },
  {
   "cell_type": "markdown",
   "metadata": {},
   "source": [
    "### Digit distribution\n",
    "\n",
    "In order to find out how the data is distributed between the 10 digits, I print out the frequency, percentages and a histogram to see the distribution."
   ]
  },
  {
   "cell_type": "code",
   "execution_count": 6,
   "metadata": {},
   "outputs": [
    {
     "name": "stdout",
     "output_type": "stream",
     "text": [
      "Counter({1.0: 7877, 7.0: 7293, 3.0: 7141, 2.0: 6990, 9.0: 6958, 0.0: 6903, 6.0: 6876, 8.0: 6825, 4.0: 6824, 5.0: 6313})\n",
      "0 :  9.86 %\n",
      "1 :  11.25 %\n",
      "2 :  9.99 %\n",
      "3 :  10.20 %\n",
      "4 :  9.75 %\n",
      "5 :  9.02 %\n",
      "6 :  9.82 %\n",
      "7 :  10.42 %\n",
      "8 :  9.75 %\n",
      "9 :  9.94 %\n",
      "Min freq is 5 with 9.02 %\n",
      "Max freq is 1 with 11.25 %\n"
     ]
    }
   ],
   "source": [
    "# Count number of examples for each digit\n",
    "label_counter = collections.Counter(label_data)\n",
    "print(label_counter)\n",
    "\n",
    "# Print out the percentages for each digit\n",
    "label_data_size = label_data.size\n",
    "for i in range(10):\n",
    "    percentage = (label_counter[i] / label_data_size) * 100\n",
    "    print(i, \": \", \"%.2f\" % percentage, \"%\")\n",
    "    \n",
    "# Print min and max, which can easily be count ince label_counter is sorted by frequency\n",
    "print(\"Min freq is 5 with\", \"%.2f\" % ((label_counter[5] / label_data_size) * 100), \"%\")\n",
    "print(\"Max freq is 1 with\", \"%.2f\" % ((label_counter[1] / label_data_size) * 100), \"%\")"
   ]
  },
  {
   "cell_type": "code",
   "execution_count": 7,
   "metadata": {},
   "outputs": [
    {
     "data": {
      "image/png": "[encoded data removed]",
      "text/plain": [
       "<Figure size 1080x360 with 1 Axes>"
      ]
     },
     "metadata": {
      "needs_background": "light"
     },
     "output_type": "display_data"
    }
   ],
   "source": [
    "# Histogram\n",
    "names = list(label_counter.keys())\n",
    "values = list(label_counter.values())\n",
    "fig = plt.figure(figsize=(15,5))\n",
    "plt.bar(names, values, color=['red', 'grey', 'orange', 'green', 'purple', 'brown', 'blue', 'pink', 'olive', 'gold'])\n",
    "plt.xticks(np.arange(0, 10))\n",
    "plt.ylabel('Frequency')\n",
    "plt.xlabel('Label')\n",
    "plt.title(\"Digit frequency\");"
   ]
  },
  {
   "cell_type": "markdown",
   "metadata": {},
   "source": [
    "All digits have about 10% of the data, so it does not seem like the dataset needs to be balanced. The least frequent digit was 5 (9.02 %) and the most frequent was 1 (11.25 %). If our trained classifiers become much worse at categorizing 5s compared to 1s then we can perhaps go back and balance the data."
   ]
  },
  {
   "cell_type": "code",
   "execution_count": 8,
   "metadata": {},
   "outputs": [],
   "source": [
    "X_train_val, X_test, y_train_val, y_test = train_test_split(image_data, label_data, test_size=0.1, shuffle=True, random_state=seed)\n",
    "X_train, X_val, y_train, y_val = train_test_split(X_train_val, y_train_val, test_size=0.2, shuffle=True, random_state=seed)\n"
   ]
  },
  {
   "cell_type": "code",
   "execution_count": 9,
   "metadata": {},
   "outputs": [],
   "source": [
    "def reshape_3d_to_2d(data_3d):\n",
    "    '''\n",
    "    Reshape 3-dimensional data to 2-dimensional data, by combining the last two dimensions to a multiple of the two.\n",
    "    '''\n",
    "    number_of_samples, x_dim, y_dim = data_3d.shape\n",
    "    dataset_2d = data_3d.reshape((number_of_samples,x_dim*y_dim))\n",
    "    return dataset_2d\n",
    "\n",
    "X_train_2d = reshape_3d_to_2d(X_train)\n",
    "X_val_2d = reshape_3d_to_2d(X_val)\n",
    "X_train_val_2d = reshape_3d_to_2d(X_train_val)"
   ]
  },
  {
   "cell_type": "markdown",
   "metadata": {},
   "source": [
    "## Baseline and evaluation methods\n",
    "Since we are creating classifiers, the evaluation method will be classification accuracy. For a more representative accuracy value, k-fold cross validation will be used, with k = 3. We will be using a simple decision tree classifier as a baseline."
   ]
  },
  {
   "cell_type": "code",
   "execution_count": 10,
   "metadata": {},
   "outputs": [],
   "source": [
    "kfold = KFold(n_splits=3) # initialize the kfold splitter with 3 splits"
   ]
  },
  {
   "cell_type": "code",
   "execution_count": 11,
   "metadata": {},
   "outputs": [],
   "source": [
    "dTree_clf = DecisionTreeClassifier(random_state= seed)\n",
    "scores = cross_val_score(dTree_clf, X_train_val_2d, y_train_val, cv=3)"
   ]
  },
  {
   "cell_type": "code",
   "execution_count": 12,
   "metadata": {},
   "outputs": [
    {
     "name": "stdout",
     "output_type": "stream",
     "text": [
      "Cross validation score for decision tree classifier is: 0.8635396825396825\n"
     ]
    }
   ],
   "source": [
    "print(\"Cross validation score for decision tree classifier is:\", np.mean(scores))"
   ]
  },
  {
   "cell_type": "markdown",
   "metadata": {},
   "source": [
    "## Random forest classifier\n",
    "The classifier being used is sklearn's Random Forest Classifier: https://scikit-learn.org/stable/modules/generated/sklearn.ensemble.RandomForestClassifier.html"
   ]
  },
  {
   "cell_type": "code",
   "execution_count": 13,
   "metadata": {},
   "outputs": [
    {
     "name": "stdout",
     "output_type": "stream",
     "text": [
      "Precision at depth 1 is val: 0.5428571428571428 train 0.5477777777777778\n",
      "Precision at depth 2 is val: 0.6096031746031746 train 0.6145039682539682\n",
      "Precision at depth 3 is val: 0.7346825396825397 train 0.7337896825396826\n",
      "Precision at depth 4 is val: 0.812063492063492 train 0.814781746031746\n",
      "Precision at depth 5 is val: 0.8617460317460317 train 0.8671626984126984\n",
      "Precision at depth 6 is val: 0.8878571428571429 train 0.8945238095238095\n",
      "Precision at depth 7 is val: 0.9079365079365079 train 0.9172023809523809\n",
      "Precision at depth 8 is val: 0.9238095238095239 train 0.9354960317460318\n",
      "Precision at depth 9 is val: 0.9342857142857143 train 0.9518253968253968\n",
      "Precision at depth 10 is val: 0.9450793650793651 train 0.9675992063492064\n",
      "Precision at depth 11 is val: 0.9508730158730159 train 0.9793452380952381\n",
      "Precision at depth 12 is val: 0.9563492063492064 train 0.9883333333333333\n",
      "Precision at depth 13 is val: 0.9606349206349206 train 0.9935714285714285\n",
      "Precision at depth 14 is val: 0.962936507936508 train 0.9963293650793651\n",
      "Precision at depth 15 is val: 0.9636507936507936 train 0.9975793650793651\n",
      "Precision at depth 16 is val: 0.9647619047619047 train 0.9982936507936508\n",
      "Precision at depth 17 is val: 0.966984126984127 train 0.9985912698412699\n",
      "Precision at depth 18 is val: 0.9670634920634921 train 0.9989484126984127\n",
      "Precision at depth 19 is val: 0.9657936507936508 train 0.9991666666666666\n"
     ]
    }
   ],
   "source": [
    "val_acc_at_depth = {} # Dictionary for keeping track of depth vs accuracy\n",
    "train_acc_at_depth = {} # Dictionary for keeping track of depth vs accuracy\n",
    "for i in range(1, 20):\n",
    "    clf = RandomForestClassifier(max_depth = i)\n",
    "    #cross_val_scores = cross_val_score(clf, X_train_val_2d, y_train_val)\n",
    "    clf.fit(X_train_2d, y_train)\n",
    "    train_score = clf.score(X_train_2d, y_train)\n",
    "    val_score = clf.score(X_val_2d, y_val)\n",
    "    #mean_cross_val_score = np.mean(cross_val_scores)\n",
    "    print(\"Precision at depth\", i , \"is val:\", val_score, \"train\", train_score)\n",
    "    #acc_at_depth[i] = mean_cross_val_score \n",
    "    train_acc_at_depth[i] = train_score\n",
    "    val_acc_at_depth[i] = val_score"
   ]
  },
  {
   "cell_type": "code",
   "execution_count": 75,
   "metadata": {},
   "outputs": [
    {
     "data": {
      "image/png": "[encoded data removed]",
      "text/plain": [
       "<Figure size 720x360 with 1 Axes>"
      ]
     },
     "metadata": {
      "needs_background": "light"
     },
     "output_type": "display_data"
    }
   ],
   "source": [
    "x = train_acc_at_depth.keys()\n",
    "train_y = train_acc_at_depth.values()\n",
    "val_y = val_acc_at_depth.values()\n",
    "fig = plt.figure(figsize=(10,5))\n",
    "plt.plot(x,train_y, label = \"Training accuracy\")\n",
    "plt.plot(x,val_y, label = \"Validation accuracy\")\n",
    "plt.legend()\n",
    "plt.axvline(x=10, ymin=0, ymax=1, color = 'r', alpha = 0.4)\n",
    "plt.text(10.1, 0.9, \"Accuracy improvement after depth 10 is minimal\")\n",
    "plt.ylim(bottom=0.5, top = 1)\n",
    "plt.title(\"Depth vs accuracy\")\n",
    "plt.xticks(np.arange(0, 21, 5))\n",
    "plt.ylabel('Accuracy')\n",
    "plt.xlabel('Depth')\n",
    "plt.show()"
   ]
  },
  {
   "cell_type": "markdown",
   "metadata": {},
   "source": [
    "While the accuracy did seem increase as max_depth was increased, the improvement was so marginal it did not justify the increased runtime. Hence max_depth was simply set to 10."
   ]
  },
  {
   "cell_type": "code",
   "execution_count": 15,
   "metadata": {},
   "outputs": [
    {
     "name": "stdout",
     "output_type": "stream",
     "text": [
      "Possible parameters for random forest:\n",
      "{'bootstrap': True,\n",
      " 'ccp_alpha': 0.0,\n",
      " 'class_weight': None,\n",
      " 'criterion': 'gini',\n",
      " 'max_depth': None,\n",
      " 'max_features': 'auto',\n",
      " 'max_leaf_nodes': None,\n",
      " 'max_samples': None,\n",
      " 'min_impurity_decrease': 0.0,\n",
      " 'min_impurity_split': None,\n",
      " 'min_samples_leaf': 1,\n",
      " 'min_samples_split': 2,\n",
      " 'min_weight_fraction_leaf': 0.0,\n",
      " 'n_estimators': 100,\n",
      " 'n_jobs': None,\n",
      " 'oob_score': False,\n",
      " 'random_state': 123,\n",
      " 'verbose': 0,\n",
      " 'warm_start': False}\n"
     ]
    }
   ],
   "source": [
    "rf = RandomForestClassifier(random_state = seed)\n",
    "print('Possible parameters for random forest:')\n",
    "pprint(rf.get_params())"
   ]
  },
  {
   "cell_type": "markdown",
   "metadata": {},
   "source": [
    "After maually testing out a couple of different hyperparameters to get an idea of how they impacted to accuracy, it became clear that only a small subset of the combinations would be able to be tested. Number of estimators, max_features, min_samples_leaf, and min_samples_split were chosen as they seemed to have the most effect on the accuracy rate."
   ]
  },
  {
   "cell_type": "code",
   "execution_count": 16,
   "metadata": {},
   "outputs": [
    {
     "name": "stdout",
     "output_type": "stream",
     "text": [
      "{'criterion': ['gini', 'entropy'],\n",
      " 'max_features': ['auto', 'sqrt'],\n",
      " 'min_samples_leaf': [1, 2, 4],\n",
      " 'min_samples_split': [2, 5, 10],\n",
      " 'n_estimators': range(50, 400, 50)}\n"
     ]
    }
   ],
   "source": [
    "n_estimators = range(50, 400, 50)\n",
    "max_features = ['auto', 'sqrt']\n",
    "impurity_measures = ['gini', 'entropy']\n",
    "min_samples_split = [2, 5, 10]\n",
    "min_samples_leaf = [1, 2, 4]\n",
    "random_grid = {'n_estimators': n_estimators,\n",
    "               'criterion' : impurity_measures,\n",
    "               'max_features': max_features,\n",
    "               'min_samples_split': min_samples_split,\n",
    "               'min_samples_leaf': min_samples_leaf}\n",
    "pprint(random_grid)"
   ]
  },
  {
   "cell_type": "markdown",
   "metadata": {},
   "source": [
    "Due to runtime limitations we will be doing a random grid search, and not check absolutely all combinations. The search will check 50 different combinations."
   ]
  },
  {
   "cell_type": "code",
   "execution_count": 17,
   "metadata": {},
   "outputs": [
    {
     "name": "stdout",
     "output_type": "stream",
     "text": [
      "Fitting 3 folds for each of 50 candidates, totalling 150 fits\n"
     ]
    },
    {
     "name": "stderr",
     "output_type": "stream",
     "text": [
      "[Parallel(n_jobs=-1)]: Using backend LokyBackend with 8 concurrent workers.\n",
      "[Parallel(n_jobs=-1)]: Done  25 tasks      | elapsed: 22.3min\n",
      "[Parallel(n_jobs=-1)]: Done 150 out of 150 | elapsed: 98.2min finished\n"
     ]
    },
    {
     "name": "stdout",
     "output_type": "stream",
     "text": [
      "Runtime was: 102.07 minutes\n"
     ]
    }
   ],
   "source": [
    "rf = RandomForestClassifier(max_depth = 10)\n",
    "start = timeit.default_timer()\n",
    "rf_random = RandomizedSearchCV(estimator = rf, param_distributions = random_grid, n_iter = 50, cv = 3, verbose=2, random_state=seed, n_jobs = -1, return_train_score=True)\n",
    "rf_random.fit(X_train_val_2d, y_train_val)\n",
    "stop = timeit.default_timer()\n",
    "runtime = ((stop-start) / 60.0)\n",
    "print(\"Runtime was: %.2f\" %runtime, \"minutes\")    "
   ]
  },
  {
   "cell_type": "code",
   "execution_count": 18,
   "metadata": {},
   "outputs": [
    {
     "name": "stdout",
     "output_type": "stream",
     "text": [
      "The best hyperparameter values found are:\n"
     ]
    },
    {
     "data": {
      "text/plain": [
       "{'n_estimators': 350,\n",
       " 'min_samples_split': 2,\n",
       " 'min_samples_leaf': 1,\n",
       " 'max_features': 'auto',\n",
       " 'criterion': 'entropy'}"
      ]
     },
     "execution_count": 18,
     "metadata": {},
     "output_type": "execute_result"
    }
   ],
   "source": [
    "print(\"The best hyperparameter values found are:\")\n",
    "rf_random.best_params_"
   ]
  },
  {
   "cell_type": "code",
   "execution_count": 19,
   "metadata": {},
   "outputs": [
    {
     "name": "stdout",
     "output_type": "stream",
     "text": [
      "Accuracy for optimal random forest classifier is: 0.864\n"
     ]
    }
   ],
   "source": [
    "rf_clf = RandomForestClassifier(n_estimators =  300, max_depth = 30, min_samples_split = 2, min_samples_leaf = 1, max_features = 'auto')\n",
    "score = np.mean(cross_val_score(dTree_clf, X_train_val_2d, y_train_val, cv=3))\n",
    "print(\"Accuracy for optimal random forest classifier is: %.3f\" %score)"
   ]
  },
  {
   "cell_type": "markdown",
   "metadata": {},
   "source": [
    "## Convolutional Neural Network (LeNet-5)"
   ]
  },
  {
   "cell_type": "code",
   "execution_count": 20,
   "metadata": {},
   "outputs": [],
   "source": [
    "# Preprocessing\n",
    "\n",
    "# Make image data 4-dimensional\n",
    "X_train_val_4d = X_train_val.reshape(X_train_val.shape[0], 28, 28, 1)\n",
    "X_train_4d = X_train.reshape(X_train.shape[0], 28, 28, 1)\n",
    "X_val_4d = X_val.reshape(X_val.shape[0], 28, 28, 1)\n",
    "X_test_4d = X_test.reshape(X_test.shape[0], 28, 28, 1)\n",
    "\n",
    "# convert label data to one-hot encoding\n",
    "y_train_val_onehot = np_utils.to_categorical(y_train_val, 10)\n",
    "y_train_onehot = np_utils.to_categorical(y_train, 10)\n",
    "y_val_onehot = np_utils.to_categorical(y_val, 10)\n",
    "y_test_onehot = np_utils.to_categorical(y_test, 10)"
   ]
  },
  {
   "cell_type": "code",
   "execution_count": 21,
   "metadata": {},
   "outputs": [],
   "source": [
    "def leNet_5_setup(activation_function, learning_rate):    \n",
    "    # Initialize an empty sequential model\n",
    "    leNet_model = Sequential()\n",
    "    # Convolutional Layer\n",
    "    leNet_model.add(Conv2D(filters = 6, kernel_size=(3, 3), strides=(1, 1), activation= activation_function, input_shape=(28,28,1), padding= 'same'))\n",
    "    # Pooling\n",
    "    leNet_model.add(AveragePooling2D(pool_size=(2, 2), strides=(1, 1), padding= 'same'))\n",
    "    #Convolutional Layer\n",
    "    leNet_model.add(Conv2D(16, kernel_size=(3, 3), strides=(1, 1), activation= activation_function, padding= 'valid'))\n",
    "    # Pooling\n",
    "    leNet_model.add(AveragePooling2D(pool_size=(2, 2), strides=(1, 1), padding= 'valid'))\n",
    "    # Connected Convolutional Layer\n",
    "    leNet_model.add(Conv2D(120, kernel_size=(3, 3), strides=(1, 1), activation= activation_function, padding= 'valid'))\n",
    "    # Flattening\n",
    "    leNet_model.add(Flatten())\n",
    "    # Fully Connected Layer\n",
    "    leNet_model.add(Dense(84, activation= activation_function))\n",
    "    #Output layer\n",
    "    leNet_model.add(Dense(10, activation= 'softmax'))\n",
    "    # Compile the model\n",
    "    leNet_model.compile(loss= 'categorical_crossentropy', optimizer = SGD(lr = learning_rate), metrics=['accuracy']) \n",
    "\n",
    "    return leNet_model"
   ]
  },
  {
   "cell_type": "code",
   "execution_count": 62,
   "metadata": {},
   "outputs": [
    {
     "name": "stdout",
     "output_type": "stream",
     "text": [
      "Epoch 1/10\n",
      "1313/1313 [==============================] - 110s 84ms/step - loss: 0.5701 - accuracy: 0.8668 - val_loss: 0.3359 - val_accuracy: 0.9121\n",
      "Epoch 2/10\n",
      "1313/1313 [==============================] - 106s 81ms/step - loss: 0.2967 - accuracy: 0.9220 - val_loss: 0.2621 - val_accuracy: 0.9290\n",
      "Epoch 3/10\n",
      "1313/1313 [==============================] - 102s 78ms/step - loss: 0.2406 - accuracy: 0.9358 - val_loss: 0.2233 - val_accuracy: 0.9384\n",
      "Epoch 4/10\n",
      "1313/1313 [==============================] - 109s 83ms/step - loss: 0.2066 - accuracy: 0.9440 - val_loss: 0.1969 - val_accuracy: 0.9456\n",
      "Epoch 5/10\n",
      "1313/1313 [==============================] - 109s 83ms/step - loss: 0.1817 - accuracy: 0.9510 - val_loss: 0.1769 - val_accuracy: 0.9516\n",
      "Epoch 6/10\n",
      "1313/1313 [==============================] - 110s 84ms/step - loss: 0.1619 - accuracy: 0.9562 - val_loss: 0.1611 - val_accuracy: 0.9553\n",
      "Epoch 7/10\n",
      "1313/1313 [==============================] - 109s 83ms/step - loss: 0.1460 - accuracy: 0.9606 - val_loss: 0.1475 - val_accuracy: 0.9590\n",
      "Epoch 8/10\n",
      "1313/1313 [==============================] - 109s 83ms/step - loss: 0.1326 - accuracy: 0.9643 - val_loss: 0.1358 - val_accuracy: 0.9622\n",
      "Epoch 9/10\n",
      "1313/1313 [==============================] - 108s 82ms/step - loss: 0.1211 - accuracy: 0.9679 - val_loss: 0.1264 - val_accuracy: 0.9651\n",
      "Epoch 10/10\n",
      "1313/1313 [==============================] - 109s 83ms/step - loss: 0.1121 - accuracy: 0.9705 - val_loss: 0.1186 - val_accuracy: 0.9675\n",
      "Epoch 1/10\n",
      "1313/1313 [==============================] - 142s 108ms/step - loss: 0.1084 - accuracy: 0.9710 - val_loss: 0.1023 - val_accuracy: 0.9719\n",
      "Epoch 2/10\n",
      "1313/1313 [==============================] - 143s 109ms/step - loss: 0.1002 - accuracy: 0.9730 - val_loss: 0.0975 - val_accuracy: 0.9735\n",
      "Epoch 3/10\n",
      "1313/1313 [==============================] - 109s 83ms/step - loss: 0.0938 - accuracy: 0.9745 - val_loss: 0.0936 - val_accuracy: 0.9743\n",
      "Epoch 4/10\n",
      "1313/1313 [==============================] - 112s 85ms/step - loss: 0.0883 - accuracy: 0.9764 - val_loss: 0.0900 - val_accuracy: 0.9746\n",
      "Epoch 5/10\n",
      "1313/1313 [==============================] - 112s 85ms/step - loss: 0.0834 - accuracy: 0.9776 - val_loss: 0.0868 - val_accuracy: 0.9753\n",
      "Epoch 6/10\n",
      "1313/1313 [==============================] - 109s 83ms/step - loss: 0.0793 - accuracy: 0.9785 - val_loss: 0.0841 - val_accuracy: 0.9759\n",
      "Epoch 7/10\n",
      "1313/1313 [==============================] - 110s 83ms/step - loss: 0.0757 - accuracy: 0.9792 - val_loss: 0.0816 - val_accuracy: 0.9766\n",
      "Epoch 8/10\n",
      "1313/1313 [==============================] - 106s 81ms/step - loss: 0.0725 - accuracy: 0.9805 - val_loss: 0.0795 - val_accuracy: 0.9771\n",
      "Epoch 9/10\n",
      "1313/1313 [==============================] - 106s 81ms/step - loss: 0.0696 - accuracy: 0.9819 - val_loss: 0.0777 - val_accuracy: 0.9772\n",
      "Epoch 10/10\n",
      "1313/1313 [==============================] - 106s 80ms/step - loss: 0.0669 - accuracy: 0.9826 - val_loss: 0.0759 - val_accuracy: 0.9778\n",
      "Epoch 1/10\n",
      "1313/1313 [==============================] - 105s 80ms/step - loss: 0.0716 - accuracy: 0.9800 - val_loss: 0.0611 - val_accuracy: 0.9846\n",
      "Epoch 2/10\n",
      "1313/1313 [==============================] - 106s 81ms/step - loss: 0.0682 - accuracy: 0.9809 - val_loss: 0.0606 - val_accuracy: 0.9848\n",
      "Epoch 3/10\n",
      "1313/1313 [==============================] - 106s 81ms/step - loss: 0.0655 - accuracy: 0.9818 - val_loss: 0.0599 - val_accuracy: 0.9846\n",
      "Epoch 4/10\n",
      "1313/1313 [==============================] - 106s 81ms/step - loss: 0.0632 - accuracy: 0.9830 - val_loss: 0.0592 - val_accuracy: 0.9844\n",
      "Epoch 5/10\n",
      "1313/1313 [==============================] - 106s 80ms/step - loss: 0.0611 - accuracy: 0.9836 - val_loss: 0.0585 - val_accuracy: 0.9848\n",
      "Epoch 6/10\n",
      "1313/1313 [==============================] - 105s 80ms/step - loss: 0.0592 - accuracy: 0.9843 - val_loss: 0.0578 - val_accuracy: 0.9850\n",
      "Epoch 7/10\n",
      "1313/1313 [==============================] - 106s 80ms/step - loss: 0.0574 - accuracy: 0.9849 - val_loss: 0.0571 - val_accuracy: 0.9855\n",
      "Epoch 8/10\n",
      "1313/1313 [==============================] - 106s 80ms/step - loss: 0.0558 - accuracy: 0.9855 - val_loss: 0.0565 - val_accuracy: 0.9860\n",
      "Epoch 9/10\n",
      "1313/1313 [==============================] - 107s 82ms/step - loss: 0.0543 - accuracy: 0.9859 - val_loss: 0.0559 - val_accuracy: 0.9862\n",
      "Epoch 10/10\n",
      "1313/1313 [==============================] - 106s 81ms/step - loss: 0.0528 - accuracy: 0.9861 - val_loss: 0.0553 - val_accuracy: 0.9863\n",
      "Epoch 1/10\n",
      "1313/1313 [==============================] - 106s 81ms/step - loss: 0.2016 - accuracy: 0.9446 - val_loss: 0.1065 - val_accuracy: 0.9696\n",
      "Epoch 2/10\n",
      "1313/1313 [==============================] - 109s 83ms/step - loss: 0.0916 - accuracy: 0.9730 - val_loss: 0.0880 - val_accuracy: 0.9742\n",
      "Epoch 3/10\n",
      "1313/1313 [==============================] - 108s 83ms/step - loss: 0.0713 - accuracy: 0.9798 - val_loss: 0.0766 - val_accuracy: 0.9770\n",
      "Epoch 4/10\n",
      "1313/1313 [==============================] - 108s 83ms/step - loss: 0.0580 - accuracy: 0.9836 - val_loss: 0.0662 - val_accuracy: 0.9804\n",
      "Epoch 5/10\n",
      "1313/1313 [==============================] - 109s 83ms/step - loss: 0.0493 - accuracy: 0.9864 - val_loss: 0.0626 - val_accuracy: 0.9810\n",
      "Epoch 6/10\n",
      "1313/1313 [==============================] - 109s 83ms/step - loss: 0.0431 - accuracy: 0.9887 - val_loss: 0.0588 - val_accuracy: 0.9821\n",
      "Epoch 7/10\n",
      "1313/1313 [==============================] - 109s 83ms/step - loss: 0.0381 - accuracy: 0.9900 - val_loss: 0.0564 - val_accuracy: 0.9826\n",
      "Epoch 8/10\n",
      "1313/1313 [==============================] - 109s 83ms/step - loss: 0.0333 - accuracy: 0.9916 - val_loss: 0.0551 - val_accuracy: 0.9829\n",
      "Epoch 9/10\n",
      "1313/1313 [==============================] - 109s 83ms/step - loss: 0.0298 - accuracy: 0.9929 - val_loss: 0.0527 - val_accuracy: 0.9840\n",
      "Epoch 10/10\n",
      "1313/1313 [==============================] - 110s 83ms/step - loss: 0.0267 - accuracy: 0.9941 - val_loss: 0.0512 - val_accuracy: 0.9845\n",
      "Epoch 1/10\n",
      "1313/1313 [==============================] - 110s 84ms/step - loss: 0.0406 - accuracy: 0.9887 - val_loss: 0.0312 - val_accuracy: 0.9920\n",
      "Epoch 2/10\n",
      "1313/1313 [==============================] - 109s 83ms/step - loss: 0.0321 - accuracy: 0.9917 - val_loss: 0.0299 - val_accuracy: 0.9922\n",
      "Epoch 3/10\n",
      "1313/1313 [==============================] - 107s 81ms/step - loss: 0.0272 - accuracy: 0.9934 - val_loss: 0.0303 - val_accuracy: 0.9915\n",
      "Epoch 4/10\n",
      "1313/1313 [==============================] - 107s 81ms/step - loss: 0.0237 - accuracy: 0.9944 - val_loss: 0.0301 - val_accuracy: 0.9915\n",
      "Epoch 5/10\n",
      "1313/1313 [==============================] - 106s 81ms/step - loss: 0.0210 - accuracy: 0.9955 - val_loss: 0.0301 - val_accuracy: 0.9916\n",
      "Epoch 6/10\n",
      "1313/1313 [==============================] - 107s 81ms/step - loss: 0.0182 - accuracy: 0.9964 - val_loss: 0.0306 - val_accuracy: 0.9911\n",
      "Epoch 7/10\n",
      "1313/1313 [==============================] - 106s 80ms/step - loss: 0.0164 - accuracy: 0.9970 - val_loss: 0.0298 - val_accuracy: 0.9911\n",
      "Epoch 8/10\n",
      "1313/1313 [==============================] - 108s 82ms/step - loss: 0.0150 - accuracy: 0.9973 - val_loss: 0.0299 - val_accuracy: 0.9910\n",
      "Epoch 9/10\n",
      "1313/1313 [==============================] - 106s 80ms/step - loss: 0.0134 - accuracy: 0.9978 - val_loss: 0.0297 - val_accuracy: 0.9908\n",
      "Epoch 10/10\n",
      "1313/1313 [==============================] - 106s 81ms/step - loss: 0.0120 - accuracy: 0.9982 - val_loss: 0.0302 - val_accuracy: 0.9907\n",
      "Epoch 1/10\n",
      "1313/1313 [==============================] - 106s 81ms/step - loss: 0.0232 - accuracy: 0.9938 - val_loss: 0.0156 - val_accuracy: 0.9962\n",
      "Epoch 2/10\n",
      "1313/1313 [==============================] - 106s 81ms/step - loss: 0.0205 - accuracy: 0.9945 - val_loss: 0.0156 - val_accuracy: 0.9963\n",
      "Epoch 3/10\n",
      "1313/1313 [==============================] - 106s 81ms/step - loss: 0.0170 - accuracy: 0.9966 - val_loss: 0.0155 - val_accuracy: 0.9964\n",
      "Epoch 4/10\n",
      "1313/1313 [==============================] - 106s 81ms/step - loss: 0.0150 - accuracy: 0.9971 - val_loss: 0.0161 - val_accuracy: 0.9959\n",
      "Epoch 5/10\n",
      "1313/1313 [==============================] - 106s 80ms/step - loss: 0.0137 - accuracy: 0.9976 - val_loss: 0.0161 - val_accuracy: 0.9960\n",
      "Epoch 6/10\n",
      "1313/1313 [==============================] - 113s 86ms/step - loss: 0.0121 - accuracy: 0.9982 - val_loss: 0.0158 - val_accuracy: 0.9960\n",
      "Epoch 7/10\n",
      "1313/1313 [==============================] - 109s 83ms/step - loss: 0.0108 - accuracy: 0.9986 - val_loss: 0.0160 - val_accuracy: 0.9959\n",
      "Epoch 8/10\n",
      "1313/1313 [==============================] - 117s 89ms/step - loss: 0.0096 - accuracy: 0.9990 - val_loss: 0.0160 - val_accuracy: 0.9958\n",
      "Epoch 9/10\n",
      "1313/1313 [==============================] - 125s 95ms/step - loss: 0.0091 - accuracy: 0.9991 - val_loss: 0.0158 - val_accuracy: 0.9959\n",
      "Epoch 10/10\n",
      "1313/1313 [==============================] - 133s 102ms/step - loss: 0.0083 - accuracy: 0.9992 - val_loss: 0.0165 - val_accuracy: 0.9952\n",
      "Epoch 1/10\n",
      "1313/1313 [==============================] - 135s 103ms/step - loss: 0.1925 - accuracy: 0.9423 - val_loss: 0.1023 - val_accuracy: 0.9700\n",
      "Epoch 2/10\n",
      "1313/1313 [==============================] - 122s 93ms/step - loss: 0.0936 - accuracy: 0.9713 - val_loss: 0.0918 - val_accuracy: 0.9717\n",
      "Epoch 3/10\n",
      "1313/1313 [==============================] - 120s 91ms/step - loss: 0.0781 - accuracy: 0.9756 - val_loss: 0.0777 - val_accuracy: 0.9756\n",
      "Epoch 4/10\n",
      "1313/1313 [==============================] - 126s 96ms/step - loss: 0.0679 - accuracy: 0.9790 - val_loss: 0.0746 - val_accuracy: 0.9769\n",
      "Epoch 5/10\n",
      "1313/1313 [==============================] - 126s 96ms/step - loss: 0.0594 - accuracy: 0.9821 - val_loss: 0.0773 - val_accuracy: 0.9770\n",
      "Epoch 6/10\n",
      "1313/1313 [==============================] - 122s 93ms/step - loss: 0.0527 - accuracy: 0.9835 - val_loss: 0.0662 - val_accuracy: 0.9797\n",
      "Epoch 7/10\n",
      "1313/1313 [==============================] - 120s 91ms/step - loss: 0.0503 - accuracy: 0.9847 - val_loss: 0.0637 - val_accuracy: 0.9809\n",
      "Epoch 8/10\n",
      "1313/1313 [==============================] - 119s 91ms/step - loss: 0.0496 - accuracy: 0.9840 - val_loss: 0.0682 - val_accuracy: 0.9791\n",
      "Epoch 9/10\n",
      "1313/1313 [==============================] - 122s 93ms/step - loss: 0.0491 - accuracy: 0.9844 - val_loss: 0.0863 - val_accuracy: 0.9748\n",
      "Epoch 10/10\n",
      "1313/1313 [==============================] - 123s 94ms/step - loss: 0.0615 - accuracy: 0.9801 - val_loss: 0.0615 - val_accuracy: 0.9816\n",
      "Epoch 1/10\n",
      "1313/1313 [==============================] - 128s 98ms/step - loss: 0.0708 - accuracy: 0.9780 - val_loss: 0.0526 - val_accuracy: 0.9825\n",
      "Epoch 2/10\n",
      "1313/1313 [==============================] - 125s 95ms/step - loss: 0.0572 - accuracy: 0.9820 - val_loss: 0.0665 - val_accuracy: 0.9791\n",
      "Epoch 3/10\n",
      "1313/1313 [==============================] - 124s 95ms/step - loss: 0.0543 - accuracy: 0.9822 - val_loss: 0.0737 - val_accuracy: 0.9768\n",
      "Epoch 4/10\n",
      "1313/1313 [==============================] - 121s 92ms/step - loss: 0.0513 - accuracy: 0.9833 - val_loss: 0.0579 - val_accuracy: 0.9818\n",
      "Epoch 5/10\n",
      "1313/1313 [==============================] - 125s 95ms/step - loss: 0.0509 - accuracy: 0.9840 - val_loss: 0.0557 - val_accuracy: 0.9830\n",
      "Epoch 6/10\n",
      "1313/1313 [==============================] - 120s 92ms/step - loss: 0.0441 - accuracy: 0.9856 - val_loss: 0.0628 - val_accuracy: 0.9811\n",
      "Epoch 7/10\n",
      "1313/1313 [==============================] - 123s 93ms/step - loss: 0.0447 - accuracy: 0.9859 - val_loss: 0.0581 - val_accuracy: 0.9825\n",
      "Epoch 8/10\n",
      "1313/1313 [==============================] - 124s 94ms/step - loss: 0.0472 - accuracy: 0.9846 - val_loss: 0.0563 - val_accuracy: 0.9822\n",
      "Epoch 9/10\n",
      "1313/1313 [==============================] - 121s 92ms/step - loss: 0.0441 - accuracy: 0.9855 - val_loss: 0.0641 - val_accuracy: 0.9803\n",
      "Epoch 10/10\n",
      "1313/1313 [==============================] - 117s 89ms/step - loss: 0.0459 - accuracy: 0.9850 - val_loss: 0.0675 - val_accuracy: 0.9801\n",
      "Epoch 1/10\n",
      "1313/1313 [==============================] - 117s 89ms/step - loss: 0.0734 - accuracy: 0.9763 - val_loss: 0.0664 - val_accuracy: 0.9793\n",
      "Epoch 2/10\n",
      "1313/1313 [==============================] - 117s 89ms/step - loss: 0.0734 - accuracy: 0.9765 - val_loss: 0.0569 - val_accuracy: 0.9822\n",
      "Epoch 3/10\n",
      "1313/1313 [==============================] - 116s 89ms/step - loss: 0.0667 - accuracy: 0.9787 - val_loss: 0.0640 - val_accuracy: 0.9799\n",
      "Epoch 4/10\n",
      "1313/1313 [==============================] - 117s 89ms/step - loss: 0.0595 - accuracy: 0.9808 - val_loss: 0.0506 - val_accuracy: 0.9832\n",
      "Epoch 5/10\n",
      "1313/1313 [==============================] - 117s 89ms/step - loss: 0.0533 - accuracy: 0.9835 - val_loss: 0.0630 - val_accuracy: 0.9789\n",
      "Epoch 6/10\n",
      "1313/1313 [==============================] - 117s 89ms/step - loss: 0.0578 - accuracy: 0.9815 - val_loss: 0.0605 - val_accuracy: 0.9806\n",
      "Epoch 7/10\n",
      "1313/1313 [==============================] - 117s 89ms/step - loss: 0.0597 - accuracy: 0.9813 - val_loss: 0.0928 - val_accuracy: 0.9697\n",
      "Epoch 8/10\n",
      "1313/1313 [==============================] - 117s 89ms/step - loss: 0.0681 - accuracy: 0.9788 - val_loss: 0.0772 - val_accuracy: 0.9750\n",
      "Epoch 9/10\n",
      "1313/1313 [==============================] - 117s 89ms/step - loss: 0.0614 - accuracy: 0.9804 - val_loss: 0.0673 - val_accuracy: 0.9779\n",
      "Epoch 10/10\n",
      "1313/1313 [==============================] - 116s 89ms/step - loss: 0.0552 - accuracy: 0.9821 - val_loss: 0.0582 - val_accuracy: 0.9812\n",
      "Runtime was: 170.34 minutes\n"
     ]
    }
   ],
   "source": [
    "epochs = 10\n",
    "batch_size = 32\n",
    "learning_rates = [0.001, 0.01, 0.1]\n",
    "accuracies_dict = {}\n",
    "\n",
    "kfold = KFold(n_splits=3)\n",
    "acc_dict = {}\n",
    "start = timeit.default_timer()\n",
    "for l_rate in learning_rates:\n",
    "    leNet_model = leNet_5_setup(activation_function = 'tanh', learning_rate = l_rate)\n",
    "    train_acc_per_fold = []\n",
    "    val_acc_per_fold = []\n",
    "    for train_indices, test_indices in kfold.split(X_train_val_4d, y_train_val_onehot):\n",
    "        X_train_set = X_train_val_4d[train_indices]\n",
    "        y_train_set = y_train_val_onehot[train_indices]\n",
    "        X_test_set = X_train_val_4d[test_indices]\n",
    "        y_test_set = y_train_val_onehot[test_indices]\n",
    "        leNet_history = leNet_model.fit(X_train_set, y_train_set, validation_data=(X_test_set, y_test_set), shuffle=False, batch_size = batch_size, epochs = epochs, verbose = 1) \n",
    "        train_acc_per_fold.append(leNet_history.history['accuracy'][-1])\n",
    "        val_acc_per_fold.append(leNet_history.history['val_accuracy'][-1])\n",
    "    accuracies_dict[\"L-rate \" + str(l_rate) +' train acc'] = np.mean(train_acc_per_fold)\n",
    "    accuracies_dict[\"L-rate \" + str(l_rate) + ' val acc'] = np.mean(val_acc_per_fold)\n",
    "stop = timeit.default_timer()\n",
    "runtime = ((stop-start) / 60.0)\n",
    "print(\"Runtime was: %.2f\" %runtime, \"minutes\")    "
   ]
  },
  {
   "cell_type": "code",
   "execution_count": 63,
   "metadata": {},
   "outputs": [
    {
     "data": {
      "image/png": "[encoded data removed]",
      "text/plain": [
       "<Figure size 1008x360 with 1 Axes>"
      ]
     },
     "metadata": {
      "needs_background": "light"
     },
     "output_type": "display_data"
    }
   ],
   "source": [
    "# Histogram\n",
    "lr_names = list(accuracies_dict.keys())\n",
    "lr_values = list(accuracies_dict.values())\n",
    "fig = plt.figure(figsize=(14,5))\n",
    "plt.ylim(bottom=0.97, top = 1)\n",
    "plt.bar(lr_names, lr_values, width = 0.8, color=['lightcoral', 'red', 'cornflowerblue', 'blue', 'mediumseagreen', 'green'])\n",
    "#plt.xticks(np.arange(0, 10))\n",
    "plt.ylabel('Accuracy')\n",
    "plt.xlabel('Label')\n",
    "plt.title(\"Train and val accuracy for learning rate\");"
   ]
  },
  {
   "cell_type": "code",
   "execution_count": 64,
   "metadata": {},
   "outputs": [
    {
     "name": "stdout",
     "output_type": "stream",
     "text": [
      "Accuracy for optimal learning rate is: 0.990\n"
     ]
    }
   ],
   "source": [
    "print(\"Accuracy for optimal learning rate is: %.3f\" %accuracies_dict['L-rate 0.01 val acc'])"
   ]
  },
  {
   "cell_type": "markdown",
   "metadata": {},
   "source": [
    "## K-nearest neighbour\n",
    "The classifier being used is sklearn's KNeiboursClassifier: https://scikit-learn.org/stable/modules/generated/sklearn.neighbors.KNeighborsClassifier.html\n",
    "\n",
    "\n",
    "First we check an initial round of training and validation to see how much time is required. Based on these results we can determine how many hypterparameters it would be feasible to test."
   ]
  },
  {
   "cell_type": "code",
   "execution_count": null,
   "metadata": {},
   "outputs": [],
   "source": [
    "KNN_clf = KNeighborsClassifier(n_neighbors=3, n_jobs = -1)\n",
    "start = timeit.default_timer()\n",
    "KNN_clf.fit(X_train_2d, y_train)\n",
    "stop = timeit.default_timer()\n",
    "print(\"Train runtime for is: %.2f\" %(stop-start), \"seconds\")\n",
    "start = timeit.default_timer()\n",
    "val_score2 = KNN_clf.score(X_val_2d, y_val)\n",
    "stop = timeit.default_timer()\n",
    "print(\"Validation runtime  is: %.2f\" %(stop-start), \"seconds\")"
   ]
  },
  {
   "cell_type": "markdown",
   "metadata": {},
   "source": [
    "It takes about half a minute to train the classifier, and about 5 minutes to get an accuracy score. With k-fold, and k = 3, this would be about 30 (once for train accc and once for train acc) minutes per hyperparameter combination. Since this is quite time consuming, we will only check different values for the \"number of neighbours\" hyperparameter."
   ]
  },
  {
   "cell_type": "code",
   "execution_count": null,
   "metadata": {},
   "outputs": [],
   "source": [
    "print('Possible parameters for KNN:')\n",
    "pprint(KNN_clf.get_params())"
   ]
  },
  {
   "cell_type": "code",
   "execution_count": null,
   "metadata": {},
   "outputs": [],
   "source": [
    "n_neighbours = [5, 9, 15]\n",
    "KNN_acc_dict = {}\n",
    "\n",
    "start = timeit.default_timer()\n",
    "for n in n_neighbours:\n",
    "    print(\"Checking no. neighbours = \", n)\n",
    "    train_acc_per_fold = []\n",
    "    val_acc_per_fold = []\n",
    "    KNN_clf = KNeighborsClassifier(n_neighbors= n, n_jobs = -1)\n",
    "    fold_n = 1\n",
    "    for train_indices, test_indices in kfold.split(X_train_val_2d, y_train_val):\n",
    "        print(\"Fold number\", fold_n)\n",
    "        X_train_set = X_train_val_2d[train_indices]\n",
    "        y_train_set = y_train_val[train_indices]\n",
    "        X_test_set = X_train_val_2d[test_indices]\n",
    "        y_test_set = y_train_val[test_indices]\n",
    "        KNN_clf.fit(X_train_set, y_train_set)\n",
    "        train_acc = KNN_clf.score(X_train_set, y_train_set)\n",
    "        train_acc_per_fold.append(train_acc)\n",
    "        val_acc = KNN_clf.score(X_test_set, y_test_set)\n",
    "        val_acc_per_fold.append(val_acc)\n",
    "        fold_n += 1\n",
    "    KNN_acc_dict[\"No. neigh. \" + str(n) +' train acc'] = np.mean(train_acc_per_fold)\n",
    "    KNN_acc_dict[\"No. neigh. \" + str(n) + ' val acc'] = np.mean(val_acc_per_fold)\n",
    "    \n",
    "stop = timeit.default_timer()\n",
    "runtime = ((stop-start) / 60.0)\n",
    "print(\"Runtime was: %.2f\" %runtime, \"minutes\")"
   ]
  },
  {
   "cell_type": "code",
   "execution_count": null,
   "metadata": {},
   "outputs": [],
   "source": [
    "# Histogram\n",
    "KNN_names = list(KNN_acc_dict.keys())\n",
    "KNN_values = list(KNN_acc_dict.values())\n",
    "fig = plt.figure(figsize=(14,5))\n",
    "plt.ylim(bottom=0.95, top = 1)\n",
    "#plt.bar(names, values)\n",
    "plt.bar(KNN_names, KNN_values, width = 0.8, color=['lightcoral', 'red', 'cornflowerblue', 'blue', 'mediumseagreen', 'green'])\n",
    "#plt.xticks(np.arange(0, 10))\n",
    "plt.ylabel('Accuracy')\n",
    "plt.xlabel('Label')\n",
    "plt.title(\"Train and val accuracy number of neighbours\");"
   ]
  },
  {
   "cell_type": "code",
   "execution_count": null,
   "metadata": {},
   "outputs": [],
   "source": [
    "optimal_KNN_score = KNN_acc_dict['No. neigh. 5 val acc']\n",
    "print(\"Accuracy for optimal number of neigbours, 15, is: %.3f\" %optimal_KNN_score)"
   ]
  },
  {
   "cell_type": "markdown",
   "metadata": {},
   "source": [
    "Out of the ones tested, the optimal number of neighbours was 5. This may of course not be the true optimal number, and a point of improvement in this project would be to check more values."
   ]
  },
  {
   "cell_type": "markdown",
   "metadata": {},
   "source": [
    "## Selection Results"
   ]
  },
  {
   "cell_type": "code",
   "execution_count": 22,
   "metadata": {},
   "outputs": [
    {
     "name": "stdout",
     "output_type": "stream",
     "text": [
      "Epoch 1/10\n",
      "1575/1575 [==============================] - 133s 84ms/step - loss: 0.1884 - accuracy: 0.9465 - val_loss: 0.1164 - val_accuracy: 0.9674\n",
      "Epoch 2/10\n",
      "1575/1575 [==============================] - 134s 85ms/step - loss: 0.0905 - accuracy: 0.9738 - val_loss: 0.0964 - val_accuracy: 0.9731\n",
      "Epoch 3/10\n",
      "1575/1575 [==============================] - 138s 88ms/step - loss: 0.0699 - accuracy: 0.9806 - val_loss: 0.0884 - val_accuracy: 0.9763\n",
      "Epoch 4/10\n",
      "1575/1575 [==============================] - 150s 95ms/step - loss: 0.0569 - accuracy: 0.9848 - val_loss: 0.0781 - val_accuracy: 0.9760\n",
      "Epoch 5/10\n",
      "1575/1575 [==============================] - 144s 91ms/step - loss: 0.0481 - accuracy: 0.9873 - val_loss: 0.0715 - val_accuracy: 0.9784\n",
      "Epoch 6/10\n",
      "1575/1575 [==============================] - 134s 85ms/step - loss: 0.0417 - accuracy: 0.9894 - val_loss: 0.0680 - val_accuracy: 0.9799\n",
      "Epoch 7/10\n",
      "1575/1575 [==============================] - 134s 85ms/step - loss: 0.0365 - accuracy: 0.9904 - val_loss: 0.0673 - val_accuracy: 0.9794\n",
      "Epoch 8/10\n",
      "1575/1575 [==============================] - 134s 85ms/step - loss: 0.0318 - accuracy: 0.9921 - val_loss: 0.0666 - val_accuracy: 0.9801\n",
      "Epoch 9/10\n",
      "1575/1575 [==============================] - 144s 91ms/step - loss: 0.0285 - accuracy: 0.9927 - val_loss: 0.0643 - val_accuracy: 0.9796\n",
      "Epoch 10/10\n",
      "1575/1575 [==============================] - 125s 79ms/step - loss: 0.0255 - accuracy: 0.9938 - val_loss: 0.0614 - val_accuracy: 0.9824\n"
     ]
    }
   ],
   "source": [
    "epochs = 10\n",
    "batch_size = 32\n",
    "leNet_optimal_model = leNet_5_setup(activation_function = 'tanh', learning_rate = 0.01)\n",
    "leNet_opt_history = leNet_optimal_model.fit(X_train_4d, y_train_onehot, validation_data=(X_test_4d, y_test_onehot), shuffle=False, batch_size = batch_size, epochs = epochs, verbose = 1) \n",
    "train_acc = leNet_opt_history.history['accuracy'][-1]\n",
    "test_acc = leNet_opt_history.history['val_accuracy'][-1]"
   ]
  },
  {
   "cell_type": "code",
   "execution_count": 23,
   "metadata": {},
   "outputs": [
    {
     "name": "stdout",
     "output_type": "stream",
     "text": [
      "Accuracy of LeNet-5 model on new unseen test data: 0.9824285507202148\n"
     ]
    }
   ],
   "source": [
    "print(\"Accuracy of LeNet-5 model on new unseen test data:\", test_acc)"
   ]
  },
  {
   "cell_type": "code",
   "execution_count": 61,
   "metadata": {},
   "outputs": [
    {
     "data": {
      "image/png": "[encoded data removed]",
      "text/plain": [
       "<Figure size 720x504 with 2 Axes>"
      ]
     },
     "metadata": {
      "needs_background": "light"
     },
     "output_type": "display_data"
    }
   ],
   "source": [
    "# Preprocess y-values for confusion matrix creation\n",
    "y_pred = leNet_optimal_model.predict(X_test_4d) # Get predicted values\n",
    "y_pred = np.argmax(y_pred, axis=1) # Convert arrays to single predicted values\n",
    "y_true = np.argmax(y_test_onehot, axis=1)\n",
    "\n",
    "# Generate confusion matrix\n",
    "confusion_matrix_data = {'True': y_true, 'Predicted': y_pred}\n",
    "df = pd.DataFrame(confusion_matrix_data, columns=['True','Predicted'])\n",
    "confusion_matrix_dataframe = pd.crosstab(df['True'], df['Predicted'], rownames=['True'], colnames=['Predicted'])\n",
    "\n",
    "# Plot confusion matrix\n",
    "plt.figure(figsize = (10,7))\n",
    "sn.heatmap(confusion_matrix_dataframe, annot=True)\n",
    "plt.show()"
   ]
  },
  {
   "cell_type": "markdown",
   "metadata": {},
   "source": [
    "As we can see on the confusion matrix, only few digits are misclassified. We can see that our model struggled the most with distingushing 7s from 9s, 8's from 9s and 3s from 8s."
   ]
  },
  {
   "cell_type": "code",
   "execution_count": null,
   "metadata": {},
   "outputs": [],
   "source": []
  }
 ],
 "metadata": {
  "kernelspec": {
   "display_name": "Python 3",
   "language": "python",
   "name": "python3"
  },
  "language_info": {
   "codemirror_mode": {
    "name": "ipython",
    "version": 3
   },
   "file_extension": ".py",
   "mimetype": "text/x-python",
   "name": "python",
   "nbconvert_exporter": "python",
   "pygments_lexer": "ipython3",
   "version": "3.7.7"
  }
 },
 "nbformat": 4,
 "nbformat_minor": 4
}
